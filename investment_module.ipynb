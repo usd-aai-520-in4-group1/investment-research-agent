{
 "cells": [
  {
   "cell_type": "markdown",
   "id": "cbd3e1b1",
   "metadata": {},
   "source": [
    "# Investment Research Agent"
   ]
  },
  {
   "cell_type": "markdown",
   "id": "eae4497c",
   "metadata": {},
   "source": [
    "# Libraries"
   ]
  },
  {
   "cell_type": "code",
   "execution_count": 5,
   "id": "d27c0cdf",
   "metadata": {},
   "outputs": [],
   "source": [
    "\n",
    "\n",
    "import os\n",
    "import json\n",
    "import logging\n",
    "import datetime as dt\n",
    "from typing import Dict, List, Any, Optional, Union, TypedDict, Annotated\n",
    "from datetime import datetime\n",
    "from dataclasses import dataclass, asdict\n",
    "import requests\n",
    "import time\n",
    "import random\n",
    "\n",
    "# Core dependencies\n",
    "import pandas as pd\n",
    "import numpy as np\n",
    "import yfinance as yf\n",
    "from ta.momentum import RSIIndicator, StochasticOscillator\n",
    "from ta.trend import SMAIndicator, EMAIndicator, MACD\n",
    "from ta.volume import volume_weighted_average_price\n",
    "from sympy import sympify\n",
    "\n",
    "# LangGraph and OpenAI imports\n",
    "from langgraph.graph import StateGraph, START, END\n",
    "from langchain_core.tools import tool\n",
    "from langchain_openai import ChatOpenAI\n",
    "from langchain_core.messages import HumanMessage, AIMessage, SystemMessage, ToolMessage\n",
    "from langgraph.prebuilt import ToolNode\n",
    "\n",
    "# Rich text visualization\n",
    "from rich.console import Console\n",
    "from rich.panel import Panel\n",
    "from rich.tree import Tree\n",
    "from rich.table import Table\n",
    "from rich.progress import Progress, SpinnerColumn, TextColumn\n",
    "from rich.live import Live\n",
    "from rich import print as rprint\n",
    "\n",
    "# Environment setup\n",
    "import dotenv\n",
    "dotenv.load_dotenv()\n",
    "OPENAI_API_KEY = os.getenv(\"OPENAI_API_KEY\") or os.getenv(\"OPENKEY\")\n",
    "ALPHA_VANTAGE_API_KEY = os.getenv(\"ALPHA_VANTAGE_API_KEY\")\n",
    "TAVILY_API_KEY = os.getenv(\"TAVILY_API_KEY\")\n",
    "\n",
    "# Setup logging with rich\n",
    "console = Console()\n",
    "logging.basicConfig(level=logging.INFO, format='%(asctime)s - %(levelname)s - %(message)s')\n",
    "logger = logging.getLogger(__name__)\n"
   ]
  },
  {
   "cell_type": "markdown",
   "id": "f4dec25a",
   "metadata": {},
   "source": [
    "# Memory"
   ]
  },
  {
   "cell_type": "code",
   "execution_count": 6,
   "id": "9900fa85",
   "metadata": {},
   "outputs": [],
   "source": [
    "\n",
    "@dataclass\n",
    "class MemoryEntry:\n",
    "    timestamp: str\n",
    "    stock_symbol: str\n",
    "    memory_type: str\n",
    "    content: str\n",
    "    context: Dict[str, Any]\n",
    "    importance_score: float\n",
    "    tags: List[str]\n",
    "\n",
    "class State(TypedDict):\n",
    "    messages: Annotated[list, lambda x, y: x + y]\n",
    "    stock: str\n",
    "    analysis_data: Dict[str, Any]\n",
    "    final_analysis: Dict[str, Any]\n",
    "\n"
   ]
  },
  {
   "cell_type": "markdown",
   "id": "420ac7bc",
   "metadata": {},
   "source": [
    "# Data 1 : Yahoo Finance"
   ]
  },
  {
   "cell_type": "code",
   "execution_count": 7,
   "id": "54fd4624",
   "metadata": {},
   "outputs": [],
   "source": [
    "\n",
    "\n",
    "class YahooFinanceDataWrapper:\n",
    "    \"\"\"Yahoo Finance data wrapper with technical analysis.\"\"\"\n",
    "    \n",
    "    def __init__(self):\n",
    "        console.print(\"[bold green]Yahoo Finance Data Wrapper initialized[/bold green]\")\n",
    "    \n",
    "    def fetch_historical_prices(self, symbol: str, period: str = \"1y\", interval: str = \"1d\") -> Dict[str, Any]:\n",
    "        \"\"\"Fetch historical price data with technical indicators.\"\"\"\n",
    "        with Progress(\n",
    "            SpinnerColumn(),\n",
    "            TextColumn(\"[progress.description]{task.description}\"),\n",
    "            console=console\n",
    "        ) as progress:\n",
    "            task = progress.add_task(f\"[cyan]Fetching historical data for {symbol}...\", total=None)\n",
    "            \n",
    "            try:\n",
    "                ticker = yf.Ticker(symbol)\n",
    "                hist_data = ticker.history(period=period, interval=interval)\n",
    "                \n",
    "                if hist_data.empty:\n",
    "                    progress.update(task, description=f\"[red]No historical data found for {symbol}\")\n",
    "                    return {\"error\": f\"No historical data found for {symbol}\"}\n",
    "                \n",
    "                # Calculate technical indicators\n",
    "                progress.update(task, description=\"[cyan]Calculating technical indicators...\")\n",
    "                technical_indicators = self._calculate_technical_indicators(hist_data)\n",
    "                \n",
    "                # Get latest price info\n",
    "                latest_price = hist_data['Close'].iloc[-1]\n",
    "                price_change = hist_data['Close'].iloc[-1] - hist_data['Close'].iloc[-2]\n",
    "                price_change_pct = (price_change / hist_data['Close'].iloc[-2]) * 100\n",
    "                \n",
    "                result = {\n",
    "                    \"symbol\": symbol,\n",
    "                    \"period\": period,\n",
    "                    \"interval\": interval,\n",
    "                    \"data_points\": len(hist_data),\n",
    "                    \"latest_price\": float(latest_price),\n",
    "                    \"price_change\": float(price_change),\n",
    "                    \"price_change_pct\": float(price_change_pct),\n",
    "                    \"historical_data\": hist_data.to_dict('records'),\n",
    "                    \"technical_indicators\": technical_indicators,\n",
    "                    \"summary_stats\": {\n",
    "                        \"avg_volume\": float(hist_data['Volume'].mean()),\n",
    "                        \"volatility\": float(hist_data['Close'].pct_change().std() * np.sqrt(252)),\n",
    "                        \"max_price\": float(hist_data['High'].max()),\n",
    "                        \"min_price\": float(hist_data['Low'].min())\n",
    "                    }\n",
    "                }\n",
    "                \n",
    "                progress.update(task, description=f\"[green]Successfully fetched data for {symbol}\")\n",
    "                return result\n",
    "                \n",
    "            except Exception as e:\n",
    "                progress.update(task, description=f\"[red]Error fetching data: {str(e)}\")\n",
    "                return {\"error\": f\"Error fetching data: {str(e)}\"}\n",
    "\n",
    "    def _calculate_technical_indicators(self, df: pd.DataFrame) -> Dict[str, Any]:\n",
    "        \"\"\"Calculate basic technical indicators.\"\"\"\n",
    "        indicators = {}\n",
    "        \n",
    "        try:\n",
    "            with Progress(\n",
    "                SpinnerColumn(),\n",
    "                TextColumn(\"[progress.description]{task.description}\"),\n",
    "                console=console\n",
    "            ) as progress:\n",
    "                task = progress.add_task(\"[cyan]Calculating technical indicators...\", total=3)\n",
    "                \n",
    "                # RSI\n",
    "                rsi = RSIIndicator(df['Close'], window=14)\n",
    "                indicators[\"RSI\"] = {\n",
    "                    \"current_value\": float(rsi.rsi().iloc[-1]) if not pd.isna(rsi.rsi().iloc[-1]) else None,\n",
    "                    \"signal\": self._get_rsi_signal(rsi.rsi().iloc[-1]) if not pd.isna(rsi.rsi().iloc[-1]) else \"neutral\"\n",
    "                }\n",
    "                progress.advance(task)\n",
    "                \n",
    "                # MACD\n",
    "                macd = MACD(df['Close'])\n",
    "                indicators[\"MACD\"] = {\n",
    "                    \"current_value\": float(macd.macd().iloc[-1]) if not pd.isna(macd.macd().iloc[-1]) else None,\n",
    "                    \"signal\": self._get_macd_signal(macd.macd().iloc[-1], macd.macd_signal().iloc[-1]) if not pd.isna(macd.macd().iloc[-1]) else \"neutral\"\n",
    "                }\n",
    "                progress.advance(task)\n",
    "                \n",
    "                # SMA\n",
    "                sma_20 = SMAIndicator(df['Close'], window=20)\n",
    "                indicators[\"SMA_20\"] = {\n",
    "                    \"current_value\": float(sma_20.sma_indicator().iloc[-1]) if not pd.isna(sma_20.sma_indicator().iloc[-1]) else None\n",
    "                }\n",
    "                progress.advance(task)\n",
    "                \n",
    "        except Exception as e:\n",
    "            console.print(f\"[red]Error calculating technical indicators: {str(e)}[/red]\")\n",
    "            indicators[\"error\"] = f\"Error calculating indicators: {str(e)}\"\n",
    "        \n",
    "        return indicators\n",
    "\n",
    "    def _get_rsi_signal(self, rsi_value: float) -> str:\n",
    "        \"\"\"Determine RSI signal.\"\"\"\n",
    "        if rsi_value > 70:\n",
    "            return \"overbought\"\n",
    "        elif rsi_value < 30:\n",
    "            return \"oversold\"\n",
    "        else:\n",
    "            return \"neutral\"\n",
    "\n",
    "    def _get_macd_signal(self, macd_value: float, signal_value: float) -> str:\n",
    "        \"\"\"Determine MACD signal.\"\"\"\n",
    "        if macd_value > signal_value:\n",
    "            return \"bullish\"\n",
    "        elif macd_value < signal_value:\n",
    "            return \"bearish\"\n",
    "        else:\n",
    "            return \"neutral\"\n",
    "    \n",
    "    def fetch_key_financials(self, symbol: str) -> Dict[str, Any]:\n",
    "        \"\"\"Fetch key financial information.\"\"\"\n",
    "        with Progress(\n",
    "            SpinnerColumn(),\n",
    "            TextColumn(\"[progress.description]{task.description}\"),\n",
    "            console=console\n",
    "        ) as progress:\n",
    "            task = progress.add_task(f\"[cyan]Fetching financial data for {symbol}...\", total=None)\n",
    "            \n",
    "            try:\n",
    "                ticker = yf.Ticker(symbol)\n",
    "                info = ticker.info\n",
    "                \n",
    "                key_metrics = {\n",
    "                    \"symbol\": symbol,\n",
    "                    \"company_name\": info.get('longName', 'N/A'),\n",
    "                    \"sector\": info.get('sector', 'N/A'),\n",
    "                    \"industry\": info.get('industry', 'N/A'),\n",
    "                    \"market_cap\": info.get('marketCap', 'N/A'),\n",
    "                    \"pe_ratio\": info.get('trailingPE', 'N/A'),\n",
    "                    \"forward_pe\": info.get('forwardPE', 'N/A'),\n",
    "                    \"price_to_book\": info.get('priceToBook', 'N/A'),\n",
    "                    \"dividend_yield\": info.get('dividendYield', 'N/A'),\n",
    "                    \"beta\": info.get('beta', 'N/A'),\n",
    "                    \"current_price\": info.get('currentPrice', 'N/A'),\n",
    "                    \"recommendation\": info.get('recommendationKey', 'N/A')\n",
    "                }\n",
    "                \n",
    "                result = {\n",
    "                    \"key_metrics\": key_metrics,\n",
    "                    \"timestamp\": datetime.now().isoformat()\n",
    "                }\n",
    "                \n",
    "                progress.update(task, description=f\"[green]Successfully fetched financial data for {symbol}\")\n",
    "                return result\n",
    "                \n",
    "            except Exception as e:\n",
    "                progress.update(task, description=f\"[red]Error fetching financial data: {str(e)}\")\n",
    "                return {\"error\": f\"Error fetching financials: {str(e)}\"}\n",
    "    \n",
    "    def fetch_stock_news(self, symbol: str, max_articles: int = 5) -> Dict[str, Any]:\n",
    "        \"\"\"Fetch latest news articles.\"\"\"\n",
    "        with Progress(\n",
    "            SpinnerColumn(),\n",
    "            TextColumn(\"[progress.description]{task.description}\"),\n",
    "            console=console\n",
    "        ) as progress:\n",
    "            task = progress.add_task(f\"[cyan]Fetching news for {symbol}...\", total=None)\n",
    "            \n",
    "            try:\n",
    "                ticker = yf.Ticker(symbol)\n",
    "                news = ticker.news\n",
    "                \n",
    "                if not news:\n",
    "                    progress.update(task, description=f\"[yellow]No news articles found for {symbol}\")\n",
    "                    return {\"symbol\": symbol, \"news\": [], \"message\": \"No news articles found\"}\n",
    "                \n",
    "                processed_news = []\n",
    "                for article in news[:max_articles]:\n",
    "                    processed_article = {\n",
    "                        \"title\": article.get('title', 'N/A'),\n",
    "                        \"publisher\": article.get('publisher', 'N/A'),\n",
    "                        \"link\": article.get('link', 'N/A'),\n",
    "                        \"summary\": article.get('summary', 'N/A')\n",
    "                    }\n",
    "                    processed_news.append(processed_article)\n",
    "                \n",
    "                result = {\n",
    "                    \"symbol\": symbol,\n",
    "                    \"total_articles\": len(processed_news),\n",
    "                    \"news\": processed_news,\n",
    "                    \"timestamp\": datetime.now().isoformat()\n",
    "                }\n",
    "                \n",
    "                progress.update(task, description=f\"[green]Successfully fetched {len(processed_news)} news articles for {symbol}\")\n",
    "                return result\n",
    "                \n",
    "            except Exception as e:\n",
    "                progress.update(task, description=f\"[red]Error fetching news: {str(e)}\")\n",
    "                return {\"error\": f\"Error fetching news: {str(e)}\"}\n",
    "\n",
    "\n"
   ]
  },
  {
   "cell_type": "markdown",
   "id": "b95614b7",
   "metadata": {},
   "source": [
    "# Data 2 : Alpha Vantage"
   ]
  },
  {
   "cell_type": "code",
   "execution_count": 8,
   "id": "e381556c",
   "metadata": {},
   "outputs": [],
   "source": [
    "\n",
    "\n",
    "\n",
    "class AlphaVantageDataWrapper:\n",
    "    \"\"\"Alpha Vantage data wrapper for stock market data, technical indicators, and news.\"\"\"\n",
    "    \n",
    "    BASE_URL = \"https://www.alphavantage.co/query\"\n",
    "    \n",
    "    def __init__(self, api_key: str = None):\n",
    "        \"\"\"Initialize Alpha Vantage wrapper with API key.\"\"\"\n",
    "        self.api_key = api_key or ALPHA_VANTAGE_API_KEY\n",
    "        if not self.api_key:\n",
    "            console.print(\"[bold red]Warning: Alpha Vantage API key not found. Set ALPHA_VANTAGE_API_KEY environment variable.[/bold red]\")\n",
    "        else:\n",
    "            console.print(\"[bold green]Alpha Vantage Data Wrapper initialized[/bold green]\")\n",
    "    \n",
    "    def _make_request(self, params: Dict[str, Any]) -> Dict[str, Any]:\n",
    "        \"\"\"Make API request to Alpha Vantage.\"\"\"\n",
    "        if not self.api_key:\n",
    "            return {\"error\": \"Alpha Vantage API key not configured\"}\n",
    "        \n",
    "        params['apikey'] = self.api_key\n",
    "        \n",
    "        try:\n",
    "            response = requests.get(self.BASE_URL, params=params, timeout=30)\n",
    "            response.raise_for_status()\n",
    "            data = response.json()\n",
    "            \n",
    "            # Check for API error messages\n",
    "            if \"Error Message\" in data:\n",
    "                return {\"error\": data[\"Error Message\"]}\n",
    "            if \"Note\" in data:\n",
    "                return {\"error\": f\"API limit reached: {data['Note']}\"}\n",
    "            \n",
    "            return data\n",
    "        except requests.exceptions.RequestException as e:\n",
    "            return {\"error\": f\"Request failed: {str(e)}\"}\n",
    "        except json.JSONDecodeError as e:\n",
    "            return {\"error\": f\"Failed to parse response: {str(e)}\"}\n",
    "    \n",
    "    def fetch_quote(self, symbol: str) -> Dict[str, Any]:\n",
    "        \"\"\"Fetch real-time quote data for a stock symbol.\"\"\"\n",
    "        with Progress(\n",
    "            SpinnerColumn(),\n",
    "            TextColumn(\"[progress.description]{task.description}\"),\n",
    "            console=console\n",
    "        ) as progress:\n",
    "            task = progress.add_task(f\"[cyan]Fetching quote for {symbol}...\", total=None)\n",
    "            \n",
    "            try:\n",
    "                params = {\n",
    "                    'function': 'GLOBAL_QUOTE',\n",
    "                    'symbol': symbol\n",
    "                }\n",
    "                \n",
    "                data = self._make_request(params)\n",
    "                \n",
    "                if \"error\" in data:\n",
    "                    progress.update(task, description=f\"[red]{data['error']}\")\n",
    "                    return data\n",
    "                \n",
    "                quote = data.get('Global Quote', {})\n",
    "                \n",
    "                if not quote:\n",
    "                    progress.update(task, description=f\"[red]No quote data found for {symbol}\")\n",
    "                    return {\"error\": f\"No quote data found for {symbol}\"}\n",
    "                \n",
    "                result = {\n",
    "                    \"symbol\": quote.get('01. symbol', symbol),\n",
    "                    \"price\": float(quote.get('05. price', 0)),\n",
    "                    \"change\": float(quote.get('09. change', 0)),\n",
    "                    \"change_percent\": quote.get('10. change percent', '0%'),\n",
    "                    \"volume\": int(quote.get('06. volume', 0)),\n",
    "                    \"latest_trading_day\": quote.get('07. latest trading day', 'N/A'),\n",
    "                    \"previous_close\": float(quote.get('08. previous close', 0)),\n",
    "                    \"open\": float(quote.get('02. open', 0)),\n",
    "                    \"high\": float(quote.get('03. high', 0)),\n",
    "                    \"low\": float(quote.get('04. low', 0)),\n",
    "                    \"timestamp\": datetime.now().isoformat()\n",
    "                }\n",
    "                \n",
    "                progress.update(task, description=f\"[green]Successfully fetched quote for {symbol}\")\n",
    "                return result\n",
    "                \n",
    "            except Exception as e:\n",
    "                progress.update(task, description=f\"[red]Error: {str(e)}\")\n",
    "                return {\"error\": f\"Error fetching quote: {str(e)}\"}\n",
    "    \n",
    "    def fetch_daily_prices(self, symbol: str, outputsize: str = \"compact\") -> Dict[str, Any]:\n",
    "        \"\"\"\n",
    "        Fetch daily historical prices.\n",
    "        outputsize: 'compact' (last 100 data points) or 'full' (up to 20 years)\n",
    "        \"\"\"\n",
    "        with Progress(\n",
    "            SpinnerColumn(),\n",
    "            TextColumn(\"[progress.description]{task.description}\"),\n",
    "            console=console\n",
    "        ) as progress:\n",
    "            task = progress.add_task(f\"[cyan]Fetching daily prices for {symbol}...\", total=None)\n",
    "            \n",
    "            try:\n",
    "                params = {\n",
    "                    'function': 'TIME_SERIES_DAILY',\n",
    "                    'symbol': symbol,\n",
    "                    'outputsize': outputsize\n",
    "                }\n",
    "                \n",
    "                data = self._make_request(params)\n",
    "                \n",
    "                if \"error\" in data:\n",
    "                    progress.update(task, description=f\"[red]{data['error']}\")\n",
    "                    return data\n",
    "                \n",
    "                time_series = data.get('Time Series (Daily)', {})\n",
    "                \n",
    "                if not time_series:\n",
    "                    progress.update(task, description=f\"[red]No daily data found for {symbol}\")\n",
    "                    return {\"error\": f\"No daily data found for {symbol}\"}\n",
    "                \n",
    "                # Convert to list of dictionaries\n",
    "                prices = []\n",
    "                for date, values in sorted(time_series.items(), reverse=True)[:100]:\n",
    "                    prices.append({\n",
    "                        'date': date,\n",
    "                        'open': float(values.get('1. open', 0)),\n",
    "                        'high': float(values.get('2. high', 0)),\n",
    "                        'low': float(values.get('3. low', 0)),\n",
    "                        'close': float(values.get('4. close', 0)),\n",
    "                        'volume': int(values.get('5. volume', 0))\n",
    "                    })\n",
    "                \n",
    "                # Calculate basic statistics\n",
    "                closes = [p['close'] for p in prices]\n",
    "                volumes = [p['volume'] for p in prices]\n",
    "                \n",
    "                result = {\n",
    "                    \"symbol\": symbol,\n",
    "                    \"data_points\": len(prices),\n",
    "                    \"prices\": prices,\n",
    "                    \"latest_price\": prices[0]['close'] if prices else 0,\n",
    "                    \"stats\": {\n",
    "                        \"avg_close\": float(np.mean(closes)) if closes else 0,\n",
    "                        \"avg_volume\": float(np.mean(volumes)) if volumes else 0,\n",
    "                        \"max_price\": float(max(closes)) if closes else 0,\n",
    "                        \"min_price\": float(min(closes)) if closes else 0,\n",
    "                        \"volatility\": float(np.std(closes)) if closes else 0\n",
    "                    },\n",
    "                    \"timestamp\": datetime.now().isoformat()\n",
    "                }\n",
    "                \n",
    "                progress.update(task, description=f\"[green]Successfully fetched {len(prices)} days of data for {symbol}\")\n",
    "                return result\n",
    "                \n",
    "            except Exception as e:\n",
    "                progress.update(task, description=f\"[red]Error: {str(e)}\")\n",
    "                return {\"error\": f\"Error fetching daily prices: {str(e)}\"}\n",
    "    \n",
    "    def fetch_company_overview(self, symbol: str) -> Dict[str, Any]:\n",
    "        \"\"\"Fetch company overview and fundamental data.\"\"\"\n",
    "        with Progress(\n",
    "            SpinnerColumn(),\n",
    "            TextColumn(\"[progress.description]{task.description}\"),\n",
    "            console=console\n",
    "        ) as progress:\n",
    "            task = progress.add_task(f\"[cyan]Fetching company overview for {symbol}...\", total=None)\n",
    "            \n",
    "            try:\n",
    "                params = {\n",
    "                    'function': 'OVERVIEW',\n",
    "                    'symbol': symbol\n",
    "                }\n",
    "                \n",
    "                data = self._make_request(params)\n",
    "                \n",
    "                if \"error\" in data:\n",
    "                    progress.update(task, description=f\"[red]{data['error']}\")\n",
    "                    return data\n",
    "                \n",
    "                if not data or 'Symbol' not in data:\n",
    "                    progress.update(task, description=f\"[red]No overview data found for {symbol}\")\n",
    "                    return {\"error\": f\"No overview data found for {symbol}\"}\n",
    "                \n",
    "                result = {\n",
    "                    \"symbol\": data.get('Symbol', symbol),\n",
    "                    \"company_name\": data.get('Name', 'N/A'),\n",
    "                    \"description\": data.get('Description', 'N/A'),\n",
    "                    \"sector\": data.get('Sector', 'N/A'),\n",
    "                    \"industry\": data.get('Industry', 'N/A'),\n",
    "                    \"exchange\": data.get('Exchange', 'N/A'),\n",
    "                    \"market_cap\": data.get('MarketCapitalization', 'N/A'),\n",
    "                    \"pe_ratio\": data.get('PERatio', 'N/A'),\n",
    "                    \"peg_ratio\": data.get('PEGRatio', 'N/A'),\n",
    "                    \"book_value\": data.get('BookValue', 'N/A'),\n",
    "                    \"dividend_yield\": data.get('DividendYield', 'N/A'),\n",
    "                    \"eps\": data.get('EPS', 'N/A'),\n",
    "                    \"revenue_ttm\": data.get('RevenueTTM', 'N/A'),\n",
    "                    \"profit_margin\": data.get('ProfitMargin', 'N/A'),\n",
    "                    \"operating_margin\": data.get('OperatingMarginTTM', 'N/A'),\n",
    "                    \"return_on_assets\": data.get('ReturnOnAssetsTTM', 'N/A'),\n",
    "                    \"return_on_equity\": data.get('ReturnOnEquityTTM', 'N/A'),\n",
    "                    \"beta\": data.get('Beta', 'N/A'),\n",
    "                    \"52_week_high\": data.get('52WeekHigh', 'N/A'),\n",
    "                    \"52_week_low\": data.get('52WeekLow', 'N/A'),\n",
    "                    \"50_day_ma\": data.get('50DayMovingAverage', 'N/A'),\n",
    "                    \"200_day_ma\": data.get('200DayMovingAverage', 'N/A'),\n",
    "                    \"analyst_target_price\": data.get('AnalystTargetPrice', 'N/A'),\n",
    "                    \"timestamp\": datetime.now().isoformat()\n",
    "                }\n",
    "                \n",
    "                progress.update(task, description=f\"[green]Successfully fetched company overview for {symbol}\")\n",
    "                return result\n",
    "                \n",
    "            except Exception as e:\n",
    "                progress.update(task, description=f\"[red]Error: {str(e)}\")\n",
    "                return {\"error\": f\"Error fetching company overview: {str(e)}\"}\n",
    "    \n",
    "    def fetch_technical_indicator(self, symbol: str, indicator: str = \"RSI\", \n",
    "                                  interval: str = \"daily\", time_period: int = 14) -> Dict[str, Any]:\n",
    "        \"\"\"\n",
    "        Fetch technical indicators.\n",
    "        indicator: RSI, MACD, SMA, EMA, STOCH, ADX, CCI, AROON, BBANDS, etc.\n",
    "        interval: 1min, 5min, 15min, 30min, 60min, daily, weekly, monthly\n",
    "        \"\"\"\n",
    "        with Progress(\n",
    "            SpinnerColumn(),\n",
    "            TextColumn(\"[progress.description]{task.description}\"),\n",
    "            console=console\n",
    "        ) as progress:\n",
    "            task = progress.add_task(f\"[cyan]Fetching {indicator} for {symbol}...\", total=None)\n",
    "            \n",
    "            try:\n",
    "                params = {\n",
    "                    'function': indicator.upper(),\n",
    "                    'symbol': symbol,\n",
    "                    'interval': interval,\n",
    "                    'time_period': time_period,\n",
    "                    'series_type': 'close'\n",
    "                }\n",
    "                \n",
    "                data = self._make_request(params)\n",
    "                \n",
    "                if \"error\" in data:\n",
    "                    progress.update(task, description=f\"[red]{data['error']}\")\n",
    "                    return data\n",
    "                \n",
    "                # Find the technical analysis key (varies by indicator)\n",
    "                tech_key = None\n",
    "                for key in data.keys():\n",
    "                    if 'Technical Analysis' in key:\n",
    "                        tech_key = key\n",
    "                        break\n",
    "                \n",
    "                if not tech_key or not data.get(tech_key):\n",
    "                    progress.update(task, description=f\"[red]No {indicator} data found for {symbol}\")\n",
    "                    return {\"error\": f\"No {indicator} data found for {symbol}\"}\n",
    "                \n",
    "                tech_data = data[tech_key]\n",
    "                \n",
    "                # Get latest values\n",
    "                latest_values = []\n",
    "                for date, values in sorted(tech_data.items(), reverse=True)[:30]:\n",
    "                    entry = {'date': date}\n",
    "                    entry.update({k: float(v) for k, v in values.items()})\n",
    "                    latest_values.append(entry)\n",
    "                \n",
    "                result = {\n",
    "                    \"symbol\": symbol,\n",
    "                    \"indicator\": indicator.upper(),\n",
    "                    \"interval\": interval,\n",
    "                    \"time_period\": time_period,\n",
    "                    \"latest_value\": latest_values[0] if latest_values else {},\n",
    "                    \"values\": latest_values,\n",
    "                    \"metadata\": data.get('Meta Data', {}),\n",
    "                    \"timestamp\": datetime.now().isoformat()\n",
    "                }\n",
    "                \n",
    "                progress.update(task, description=f\"[green]Successfully fetched {indicator} for {symbol}\")\n",
    "                return result\n",
    "                \n",
    "            except Exception as e:\n",
    "                progress.update(task, description=f\"[red]Error: {str(e)}\")\n",
    "                return {\"error\": f\"Error fetching technical indicator: {str(e)}\"}\n",
    "    \n",
    "    def fetch_market_news_sentiment(self, tickers: str = None, topics: str = None, \n",
    "                                    time_from: str = None, time_to: str = None,\n",
    "                                    limit: int = 50) -> Dict[str, Any]:\n",
    "        \"\"\"\n",
    "        Fetch market news and sentiment data.\n",
    "        tickers: comma-separated list of tickers (e.g., \"AAPL,MSFT\")\n",
    "        topics: blockchain, earnings, ipo, mergers_and_acquisitions, financial_markets, etc.\n",
    "        time_from/time_to: YYYYMMDDTHHMM format\n",
    "        \"\"\"\n",
    "        with Progress(\n",
    "            SpinnerColumn(),\n",
    "            TextColumn(\"[progress.description]{task.description}\"),\n",
    "            console=console\n",
    "        ) as progress:\n",
    "            task = progress.add_task(\"[cyan]Fetching market news and sentiment...\", total=None)\n",
    "            \n",
    "            try:\n",
    "                params = {\n",
    "                    'function': 'NEWS_SENTIMENT',\n",
    "                    'limit': limit\n",
    "                }\n",
    "                \n",
    "                if tickers:\n",
    "                    params['tickers'] = tickers\n",
    "                if topics:\n",
    "                    params['topics'] = topics\n",
    "                if time_from:\n",
    "                    params['time_from'] = time_from\n",
    "                if time_to:\n",
    "                    params['time_to'] = time_to\n",
    "                \n",
    "                data = self._make_request(params)\n",
    "                \n",
    "                if \"error\" in data:\n",
    "                    progress.update(task, description=f\"[red]{data['error']}\")\n",
    "                    return data\n",
    "                \n",
    "                feed = data.get('feed', [])\n",
    "                \n",
    "                if not feed:\n",
    "                    progress.update(task, description=\"[yellow]No news articles found\")\n",
    "                    return {\"articles\": [], \"message\": \"No news articles found\"}\n",
    "                \n",
    "                articles = []\n",
    "                for article in feed:\n",
    "                    processed_article = {\n",
    "                        \"title\": article.get('title', 'N/A'),\n",
    "                        \"url\": article.get('url', 'N/A'),\n",
    "                        \"time_published\": article.get('time_published', 'N/A'),\n",
    "                        \"authors\": article.get('authors', []),\n",
    "                        \"summary\": article.get('summary', 'N/A'),\n",
    "                        \"source\": article.get('source', 'N/A'),\n",
    "                        \"category_within_source\": article.get('category_within_source', 'N/A'),\n",
    "                        \"overall_sentiment_score\": article.get('overall_sentiment_score', 0),\n",
    "                        \"overall_sentiment_label\": article.get('overall_sentiment_label', 'neutral'),\n",
    "                        \"ticker_sentiment\": article.get('ticker_sentiment', [])\n",
    "                    }\n",
    "                    articles.append(processed_article)\n",
    "                \n",
    "                # Calculate aggregate sentiment if tickers provided\n",
    "                sentiment_summary = {}\n",
    "                if tickers:\n",
    "                    for ticker in tickers.split(','):\n",
    "                        ticker = ticker.strip()\n",
    "                        ticker_scores = []\n",
    "                        for article in articles:\n",
    "                            for ts in article.get('ticker_sentiment', []):\n",
    "                                if ts.get('ticker') == ticker:\n",
    "                                    ticker_scores.append(float(ts.get('ticker_sentiment_score', 0)))\n",
    "                        \n",
    "                        if ticker_scores:\n",
    "                            sentiment_summary[ticker] = {\n",
    "                                \"average_sentiment\": float(np.mean(ticker_scores)),\n",
    "                                \"sentiment_std\": float(np.std(ticker_scores)),\n",
    "                                \"article_count\": len(ticker_scores)\n",
    "                            }\n",
    "                \n",
    "                result = {\n",
    "                    \"total_articles\": len(articles),\n",
    "                    \"articles\": articles,\n",
    "                    \"sentiment_summary\": sentiment_summary,\n",
    "                    \"items\": data.get('items', 0),\n",
    "                    \"timestamp\": datetime.now().isoformat()\n",
    "                }\n",
    "                \n",
    "                progress.update(task, description=f\"[green]Successfully fetched {len(articles)} news articles\")\n",
    "                return result\n",
    "                \n",
    "            except Exception as e:\n",
    "                progress.update(task, description=f\"[red]Error: {str(e)}\")\n",
    "                return {\"error\": f\"Error fetching news sentiment: {str(e)}\"}\n",
    "    \n",
    "    def fetch_earnings(self, symbol: str) -> Dict[str, Any]:\n",
    "        \"\"\"Fetch earnings data for a stock.\"\"\"\n",
    "        with Progress(\n",
    "            SpinnerColumn(),\n",
    "            TextColumn(\"[progress.description]{task.description}\"),\n",
    "            console=console\n",
    "        ) as progress:\n",
    "            task = progress.add_task(f\"[cyan]Fetching earnings for {symbol}...\", total=None)\n",
    "            \n",
    "            try:\n",
    "                params = {\n",
    "                    'function': 'EARNINGS',\n",
    "                    'symbol': symbol\n",
    "                }\n",
    "                \n",
    "                data = self._make_request(params)\n",
    "                \n",
    "                if \"error\" in data:\n",
    "                    progress.update(task, description=f\"[red]{data['error']}\")\n",
    "                    return data\n",
    "                \n",
    "                annual_earnings = data.get('annualEarnings', [])\n",
    "                quarterly_earnings = data.get('quarterlyEarnings', [])\n",
    "                \n",
    "                result = {\n",
    "                    \"symbol\": symbol,\n",
    "                    \"annual_earnings\": annual_earnings[:5],  # Last 5 years\n",
    "                    \"quarterly_earnings\": quarterly_earnings[:8],  # Last 8 quarters\n",
    "                    \"timestamp\": datetime.now().isoformat()\n",
    "                }\n",
    "                \n",
    "                progress.update(task, description=f\"[green]Successfully fetched earnings for {symbol}\")\n",
    "                return result\n",
    "                \n",
    "            except Exception as e:\n",
    "                progress.update(task, description=f\"[red]Error: {str(e)}\")\n",
    "                return {\"error\": f\"Error fetching earnings: {str(e)}\"}\n",
    "\n"
   ]
  },
  {
   "cell_type": "markdown",
   "id": "80f1d705",
   "metadata": {},
   "source": [
    "# Data 3 : Web Tools and Calculator"
   ]
  },
  {
   "cell_type": "code",
   "execution_count": 9,
   "id": "2c2597f7",
   "metadata": {},
   "outputs": [],
   "source": [
    "\n",
    "class WebToolsWrapper:\n",
    "    \"\"\"Web tools wrapper for web search and calculator functionality.\"\"\"\n",
    "    \n",
    "    def __init__(self, api_key: str = None):\n",
    "        \"\"\"Initialize web tools wrapper with Tavily API key.\"\"\"\n",
    "        self.api_key = api_key or TAVILY_API_KEY\n",
    "        if not self.api_key:\n",
    "            console.print(\"[bold red]Warning: Tavily API key not found. Web search functionality will be limited.[/bold red]\")\n",
    "        else:\n",
    "            console.print(\"[bold green]Web Tools Wrapper initialized[/bold green]\")\n",
    "    \n",
    "    def web_search(self, query: str) -> Dict[str, Any]:\n",
    "        \"\"\"\n",
    "        Performs a web search using the Tavily API to get real-time information from the internet.\n",
    "        \n",
    "        Args:\n",
    "            query (str): The search query to look up on the web.\n",
    "            \n",
    "        Returns:\n",
    "            Dict[str, Any]: A dictionary containing search results and metadata.\n",
    "            \n",
    "        Use this tool when you need:\n",
    "        - Current information or recent events\n",
    "        - Real-time data (weather, news, stock prices, etc.)\n",
    "        - Information not in your training data\n",
    "        - To verify or fact-check current information\n",
    "        \n",
    "        Example:\n",
    "            web_search(\"current Tesla stock news\")\n",
    "            web_search(\"latest AI trends 2025\")\n",
    "        \"\"\"\n",
    "        with Progress(\n",
    "            SpinnerColumn(),\n",
    "            TextColumn(\"[progress.description]{task.description}\"),\n",
    "            console=console\n",
    "        ) as progress:\n",
    "            task = progress.add_task(f\"[cyan]Searching web for: {query}...\", total=None)\n",
    "            \n",
    "            if not self.api_key:\n",
    "                progress.update(task, description=\"[red]Tavily API key not configured\")\n",
    "                return {\n",
    "                    \"error\": \"TAVILY_API_KEY not found in environment variables. Please set it in your .env file.\",\n",
    "                    \"query\": query,\n",
    "                    \"timestamp\": datetime.now().isoformat()\n",
    "                }\n",
    "            \n",
    "            try:\n",
    "                url = \"https://api.tavily.com/search\"\n",
    "                payload = {\n",
    "                    \"api_key\": self.api_key,\n",
    "                    \"query\": query,\n",
    "                    \"search_depth\": \"basic\",\n",
    "                    \"include_answer\": True,\n",
    "                    \"max_results\": 3\n",
    "                }\n",
    "                \n",
    "                response = requests.post(url, json=payload, timeout=30)\n",
    "                response.raise_for_status()\n",
    "                \n",
    "                data = response.json()\n",
    "                \n",
    "                # Extract answer if available\n",
    "                answer = data.get(\"answer\", \"\")\n",
    "                \n",
    "                # Extract results\n",
    "                results = []\n",
    "                if \"results\" in data:\n",
    "                    for result in data[\"results\"][:3]:\n",
    "                        results.append({\n",
    "                            \"title\": result.get(\"title\", \"\"),\n",
    "                            \"content\": result.get(\"content\", \"\"),\n",
    "                            \"url\": result.get(\"url\", \"\"),\n",
    "                            \"score\": result.get(\"score\", 0)\n",
    "                        })\n",
    "                \n",
    "                result_data = {\n",
    "                    \"query\": query,\n",
    "                    \"answer\": answer,\n",
    "                    \"results\": results,\n",
    "                    \"total_results\": len(results),\n",
    "                    \"timestamp\": datetime.now().isoformat()\n",
    "                }\n",
    "                \n",
    "                progress.update(task, description=f\"[green]Successfully found {len(results)} results\")\n",
    "                return result_data\n",
    "                \n",
    "            except requests.exceptions.RequestException as e:\n",
    "                progress.update(task, description=f\"[red]Request error: {str(e)}\")\n",
    "                return {\n",
    "                    \"error\": f\"Error performing web search: {str(e)}\",\n",
    "                    \"query\": query,\n",
    "                    \"timestamp\": datetime.now().isoformat()\n",
    "                }\n",
    "            except Exception as e:\n",
    "                progress.update(task, description=f\"[red]Unexpected error: {str(e)}\")\n",
    "                return {\n",
    "                    \"error\": f\"Unexpected error: {str(e)}\",\n",
    "                    \"query\": query,\n",
    "                    \"timestamp\": datetime.now().isoformat()\n",
    "                }\n",
    "    \n",
    "    def calculator(self, expression: str) -> Dict[str, Any]:\n",
    "        \"\"\"\n",
    "        Safely evaluates mathematical expressions and returns the result.\n",
    "        \n",
    "        Args:\n",
    "            expression (str): A mathematical expression to evaluate (e.g., \"2 + 2\", \"15 * 3.5\").\n",
    "            \n",
    "        Returns:\n",
    "            Dict[str, Any]: A dictionary containing the calculation result and metadata.\n",
    "            \n",
    "        Use this tool when you need to:\n",
    "        - Perform arithmetic calculations\n",
    "        - Add, subtract, multiply, or divide numbers\n",
    "        - Calculate percentages or other mathematical operations\n",
    "        - Compute financial ratios and metrics\n",
    "        \n",
    "        Supported operations: +, -, *, /, //, %, **\n",
    "        \n",
    "        Example:\n",
    "            calculator(\"10 + 5\")  # Returns {\"result\": \"15\", ...}\n",
    "            calculator(\"100 / 4\")  # Returns {\"result\": \"25.0\", ...}\n",
    "            calculator(\"2 ** 8\")   # Returns {\"result\": \"256\", ...}\n",
    "        \n",
    "        Note: For security, this only evaluates mathematical expressions and does not execute arbitrary code.\n",
    "        \"\"\"\n",
    "        with Progress(\n",
    "            SpinnerColumn(),\n",
    "            TextColumn(\"[progress.description]{task.description}\"),\n",
    "            console=console\n",
    "        ) as progress:\n",
    "            task = progress.add_task(f\"[cyan]Calculating: {expression}...\", total=None)\n",
    "            \n",
    "            try:\n",
    "                # Clean the expression\n",
    "                expression = expression.strip()\n",
    "                \n",
    "                # Only allow specific characters (numbers, operators, parentheses, decimal point, spaces)\n",
    "                allowed_chars = set(\"0123456789+-*/().% \")\n",
    "                if not all(c in allowed_chars for c in expression):\n",
    "                    progress.update(task, description=\"[red]Invalid characters in expression\")\n",
    "                    return {\n",
    "                        \"error\": \"Expression contains invalid characters. Only use numbers and basic operators (+, -, *, /, %, ()).\",\n",
    "                        \"expression\": expression,\n",
    "                        \"timestamp\": datetime.now().isoformat()\n",
    "                    }\n",
    "                \n",
    "                # Evaluate the expression safely using sympify\n",
    "                result = sympify(expression).evalf()\n",
    "                \n",
    "                # Convert the numeric result to a string for consistent return type\n",
    "                result_str = str(result)\n",
    "                \n",
    "                result_data = {\n",
    "                    \"expression\": expression,\n",
    "                    \"result\": result_str,\n",
    "                    \"success\": True,\n",
    "                    \"timestamp\": datetime.now().isoformat()\n",
    "                }\n",
    "                \n",
    "                progress.update(task, description=f\"[green]Result: {result_str}\")\n",
    "                return result_data\n",
    "                \n",
    "            except ZeroDivisionError:\n",
    "                progress.update(task, description=\"[red]Division by zero error\")\n",
    "                return {\n",
    "                    \"error\": \"Division by zero.\",\n",
    "                    \"expression\": expression,\n",
    "                    \"timestamp\": datetime.now().isoformat()\n",
    "                }\n",
    "            except SyntaxError:\n",
    "                progress.update(task, description=\"[red]Syntax error\")\n",
    "                return {\n",
    "                    \"error\": \"Invalid mathematical expression syntax.\",\n",
    "                    \"expression\": expression,\n",
    "                    \"timestamp\": datetime.now().isoformat()\n",
    "                }\n",
    "            except Exception as e:\n",
    "                progress.update(task, description=f\"[red]Error: {str(e)}\")\n",
    "                return {\n",
    "                    \"error\": f\"Error evaluating expression: {str(e)}\",\n",
    "                    \"expression\": expression,\n",
    "                    \"timestamp\": datetime.now().isoformat()\n",
    "                }\n"
   ]
  },
  {
   "cell_type": "markdown",
   "id": "0661cba3",
   "metadata": {},
   "source": [
    "# Tools for Agent"
   ]
  },
  {
   "cell_type": "code",
   "execution_count": 10,
   "id": "74cf3ee3",
   "metadata": {},
   "outputs": [],
   "source": [
    "\n",
    "@tool\n",
    "def get_stock_prices(ticker: str) -> Union[Dict, str]:\n",
    "    \"\"\"Fetches historical stock price data and technical indicators using Yahoo Finance.\"\"\"\n",
    "    try:\n",
    "        wrapper = YahooFinanceDataWrapper()\n",
    "        result = wrapper.fetch_historical_prices(ticker, period=\"6mo\", interval=\"1wk\")\n",
    "        \n",
    "        if \"error\" in result:\n",
    "            return result[\"error\"]\n",
    "        \n",
    "        return {\n",
    "            'stock_price': result['historical_data'],\n",
    "            'indicators': result['technical_indicators'],\n",
    "            'latest_price': result['latest_price'],\n",
    "            'price_change_pct': result['price_change_pct']\n",
    "        }\n",
    "    except Exception as e:\n",
    "        return f\"Error fetching price data: {str(e)}\"\n",
    "\n",
    "@tool\n",
    "def get_financial_metrics(ticker: str) -> Union[Dict, str]:\n",
    "    \"\"\"Fetches key financial ratios and metrics using Yahoo Finance.\"\"\"\n",
    "    try:\n",
    "        wrapper = YahooFinanceDataWrapper()\n",
    "        result = wrapper.fetch_key_financials(ticker)\n",
    "        \n",
    "        if \"error\" in result:\n",
    "            return result[\"error\"]\n",
    "        \n",
    "        metrics = result.get(\"key_metrics\", {})\n",
    "        return {\n",
    "            'pe_ratio': metrics.get('pe_ratio'),\n",
    "            'price_to_book': metrics.get('price_to_book'),\n",
    "            'market_cap': metrics.get('market_cap'),\n",
    "            'recommendation': metrics.get('recommendation')\n",
    "        }\n",
    "    except Exception as e:\n",
    "        return f\"Error fetching ratios: {str(e)}\"\n",
    "\n",
    "@tool\n",
    "def get_alpha_vantage_quote(ticker: str) -> Union[Dict, str]:\n",
    "    \"\"\"Fetches real-time quote data from Alpha Vantage. Use as alternative to Yahoo Finance.\"\"\"\n",
    "    try:\n",
    "        wrapper = AlphaVantageDataWrapper()\n",
    "        result = wrapper.fetch_quote(ticker)\n",
    "        \n",
    "        if \"error\" in result:\n",
    "            return result[\"error\"]\n",
    "        \n",
    "        return {\n",
    "            'symbol': result.get('symbol'),\n",
    "            'price': result.get('price'),\n",
    "            'change': result.get('change'),\n",
    "            'change_percent': result.get('change_percent'),\n",
    "            'volume': result.get('volume'),\n",
    "            'latest_trading_day': result.get('latest_trading_day')\n",
    "        }\n",
    "    except Exception as e:\n",
    "        return f\"Error fetching Alpha Vantage quote: {str(e)}\"\n",
    "\n",
    "@tool\n",
    "def get_alpha_vantage_overview(ticker: str) -> Union[Dict, str]:\n",
    "    \"\"\"Fetches comprehensive company overview and fundamentals from Alpha Vantage. Use as alternative to Yahoo Finance.\"\"\"\n",
    "    try:\n",
    "        wrapper = AlphaVantageDataWrapper()\n",
    "        result = wrapper.fetch_company_overview(ticker)\n",
    "        \n",
    "        if \"error\" in result:\n",
    "            return result[\"error\"]\n",
    "        \n",
    "        return {\n",
    "            'company_name': result.get('company_name'),\n",
    "            'sector': result.get('sector'),\n",
    "            'industry': result.get('industry'),\n",
    "            'market_cap': result.get('market_cap'),\n",
    "            'pe_ratio': result.get('pe_ratio'),\n",
    "            'dividend_yield': result.get('dividend_yield'),\n",
    "            'beta': result.get('beta'),\n",
    "            'profit_margin': result.get('profit_margin'),\n",
    "            'analyst_target_price': result.get('analyst_target_price')\n",
    "        }\n",
    "    except Exception as e:\n",
    "        return f\"Error fetching Alpha Vantage overview: {str(e)}\"\n",
    "\n",
    "@tool\n",
    "def get_alpha_vantage_news(tickers: str) -> Union[Dict, str]:\n",
    "    \"\"\"Fetches market news and sentiment from Alpha Vantage. Use as alternative for news data.\"\"\"\n",
    "    try:\n",
    "        wrapper = AlphaVantageDataWrapper()\n",
    "        result = wrapper.fetch_market_news_sentiment(tickers=tickers, limit=10)\n",
    "        \n",
    "        if \"error\" in result:\n",
    "            return result[\"error\"]\n",
    "        \n",
    "        return {\n",
    "            'total_articles': result.get('total_articles', 0),\n",
    "            'articles': result.get('articles', [])[:5],  # Return top 5 articles\n",
    "            'sentiment_summary': result.get('sentiment_summary', {})\n",
    "        }\n",
    "    except Exception as e:\n",
    "        return f\"Error fetching Alpha Vantage news: {str(e)}\"\n",
    "\n",
    "@tool\n",
    "def search_web(query: str) -> Union[Dict, str]:\n",
    "    \"\"\"Performs a web search to get real-time information from the internet.\"\"\"\n",
    "    try:\n",
    "        wrapper = WebToolsWrapper()\n",
    "        result = wrapper.web_search(query)\n",
    "        \n",
    "        if \"error\" in result:\n",
    "            return result[\"error\"]\n",
    "        \n",
    "        return {\n",
    "            'answer': result.get('answer', ''),\n",
    "            'results': result.get('results', []),\n",
    "            'total_results': result.get('total_results', 0)\n",
    "        }\n",
    "    except Exception as e:\n",
    "        return f\"Error performing web search: {str(e)}\"\n",
    "\n",
    "@tool\n",
    "def calculate(expression: str) -> Union[Dict, str]:\n",
    "    \"\"\"Safely evaluates mathematical expressions and returns the result.\"\"\"\n",
    "    try:\n",
    "        wrapper = WebToolsWrapper()\n",
    "        result = wrapper.calculator(expression)\n",
    "        \n",
    "        if \"error\" in result:\n",
    "            return result[\"error\"]\n",
    "        \n",
    "        return {\n",
    "            'expression': result.get('expression', ''),\n",
    "            'result': result.get('result', ''),\n",
    "            'success': result.get('success', False)\n",
    "        }\n",
    "    except Exception as e:\n",
    "        return f\"Error calculating expression: {str(e)}\"\n"
   ]
  },
  {
   "cell_type": "markdown",
   "id": "2713739d",
   "metadata": {},
   "source": [
    "# Common Analyzer and Recommendation generator function"
   ]
  },
  {
   "cell_type": "code",
   "execution_count": 11,
   "id": "b25e3684",
   "metadata": {},
   "outputs": [],
   "source": [
    "\n",
    "class Analyzer:\n",
    "    \"\"\"analyzer that combines all analysis types.\"\"\"\n",
    "    \n",
    "    def __init__(self):\n",
    "        self.llm = ChatOpenAI(model='gpt-4o-mini', temperature=0.1, openai_api_key=OPENAI_API_KEY)\n",
    "        console.print(\"[bold green]Analyzer initialized[/bold green]\")\n",
    "    \n",
    "    def analyze_data(self, data: Dict[str, Any]) -> Dict[str, Any]:\n",
    "        \"\"\"Perform comprehensive analysis on all available data.\"\"\"\n",
    "        with Progress(\n",
    "            SpinnerColumn(),\n",
    "            TextColumn(\"[progress.description]{task.description}\"),\n",
    "            console=console\n",
    "        ) as progress:\n",
    "            task = progress.add_task(\"[cyan]Performing comprehensive analysis...\", total=None)\n",
    "            \n",
    "            analysis_result = {\n",
    "                \"analysis_type\": \"comprehensive\",\n",
    "                \"timestamp\": datetime.now().isoformat(),\n",
    "                \"findings\": {},\n",
    "                \"recommendations\": [],\n",
    "                \"confidence_score\": 0.0,\n",
    "                \"ai_analysis\": \"\"\n",
    "            }\n",
    "            \n",
    "            # Prepare data context for AI analysis\n",
    "            data_context = self._prepare_data_context(data)\n",
    "            \n",
    "            # Generate AI-powered analysis\n",
    "            analysis_prompt = \"\"\"\n",
    "            Analyze the provided financial data and provide comprehensive insights on:\n",
    "            1. Stock price trends and technical indicators\n",
    "            2. Financial health and valuation metrics\n",
    "            3. Recent news sentiment and market impact\n",
    "            4. Overall investment recommendation\n",
    "            \n",
    "            Provide specific, actionable recommendations based on the data.\n",
    "            \"\"\"\n",
    "            \n",
    "            try:\n",
    "                messages = [\n",
    "                    SystemMessage(content=\"You are an expert financial analyst. Provide objective, data-driven analysis and recommendations.\"),\n",
    "                    HumanMessage(content=f\"{analysis_prompt}\\n\\nData Context:\\n{data_context}\")\n",
    "                ]\n",
    "                response = self.llm.invoke(messages)\n",
    "                analysis_result[\"ai_analysis\"] = response.content\n",
    "                progress.update(task, description=\"[green]AI analysis completed\")\n",
    "            except Exception as e:\n",
    "                console.print(f\"[red]Error generating AI analysis: {str(e)}[/red]\")\n",
    "                analysis_result[\"ai_analysis\"] = f\"Analysis generation failed: {str(e)}\"\n",
    "                progress.update(task, description=\"[red]AI analysis failed\")\n",
    "            \n",
    "            # Traditional analysis\n",
    "            if \"historical_prices\" in data:\n",
    "                analysis_result[\"findings\"][\"price_analysis\"] = self._analyze_price_data(data[\"historical_prices\"])\n",
    "            \n",
    "            if \"financial_metrics\" in data:\n",
    "                analysis_result[\"findings\"][\"financial_analysis\"] = self._analyze_financial_data(data[\"financial_metrics\"])\n",
    "            \n",
    "            if \"news_data\" in data:\n",
    "                analysis_result[\"findings\"][\"news_analysis\"] = self._analyze_news_data(data[\"news_data\"])\n",
    "            \n",
    "            analysis_result[\"recommendations\"] = self._generate_recommendations(analysis_result[\"findings\"])\n",
    "            analysis_result[\"confidence_score\"] = self._calculate_confidence_score(analysis_result[\"findings\"])\n",
    "            \n",
    "            progress.update(task, description=\"[green]Analysis completed successfully\")\n",
    "            return analysis_result\n",
    "    \n",
    "    def _prepare_data_context(self, data: Dict[str, Any]) -> str:\n",
    "        \"\"\"Prepare data context for AI analysis.\"\"\"\n",
    "        context_parts = []\n",
    "        \n",
    "        if \"historical_prices\" in data:\n",
    "            price_data = data[\"historical_prices\"]\n",
    "            context_parts.append(f\"Price Data: Latest price ${price_data.get('latest_price', 'N/A')}, Change: {price_data.get('price_change_pct', 'N/A')}%\")\n",
    "        \n",
    "        if \"financial_metrics\" in data:\n",
    "            metrics_data = data[\"financial_metrics\"]\n",
    "            context_parts.append(f\"Financial Metrics: P/E Ratio {metrics_data.get('pe_ratio', 'N/A')}, Market Cap {metrics_data.get('market_cap', 'N/A')}\")\n",
    "        \n",
    "        if \"news_data\" in data:\n",
    "            news_data = data[\"news_data\"]\n",
    "            context_parts.append(f\"News: {news_data.get('total_articles', 0)} articles found\")\n",
    "        \n",
    "        return \"\\n\".join(context_parts) if context_parts else \"No data available\"\n",
    "    \n",
    "    def _analyze_price_data(self, price_data: Dict[str, Any]) -> Dict[str, Any]:\n",
    "        \"\"\"Analyze price data.\"\"\"\n",
    "        return {\n",
    "            \"trend_direction\": \"bullish\" if price_data.get(\"price_change_pct\", 0) > 0 else \"bearish\",\n",
    "            \"volatility\": price_data.get(\"summary_stats\", {}).get(\"volatility\", 0),\n",
    "            \"current_price\": price_data.get(\"latest_price\", 0)\n",
    "        }\n",
    "    \n",
    "    def _analyze_financial_data(self, financial_data: Dict[str, Any]) -> Dict[str, Any]:\n",
    "        \"\"\"Analyze financial data.\"\"\"\n",
    "        pe_ratio = financial_data.get(\"pe_ratio\", \"N/A\")\n",
    "        if pe_ratio == \"N/A\" or pe_ratio is None:\n",
    "            valuation = \"unknown\"\n",
    "        else:\n",
    "            try:\n",
    "                valuation = \"expensive\" if float(pe_ratio) > 20 else \"reasonable\"\n",
    "            except Exception:\n",
    "                valuation = \"unknown\"\n",
    "\n",
    "        market_cap = financial_data.get(\"market_cap\", \"N/A\")\n",
    "        if market_cap == \"N/A\" or market_cap is None:\n",
    "            market_cap_value = None\n",
    "        else:\n",
    "            market_cap_value = market_cap\n",
    "\n",
    "        recommendation = financial_data.get(\"recommendation\", \"N/A\")\n",
    "        if recommendation == \"N/A\" or recommendation is None:\n",
    "            recommendation_value = \"No recommendation available\"\n",
    "        else:\n",
    "            recommendation_value = recommendation\n",
    "\n",
    "        return {\n",
    "            \"valuation\": valuation,\n",
    "            \"market_cap\": market_cap_value,\n",
    "            \"recommendation\": recommendation_value\n",
    "        }\n",
    "    \n",
    "    def _analyze_news_data(self, news_data: Dict[str, Any]) -> Dict[str, Any]:\n",
    "        \"\"\"Analyze news data.\"\"\"\n",
    "        return {\n",
    "            \"article_count\": news_data.get(\"total_articles\", 0),\n",
    "            \"sentiment\": \"positive\" if news_data.get(\"total_articles\", 0) > 0 else \"neutral\"\n",
    "        }\n",
    "    \n",
    "    def _generate_recommendations(self, findings: Dict[str, Any]) -> List[str]:\n",
    "        \"\"\"Generate recommendations based on findings.\"\"\"\n",
    "        recommendations = []\n",
    "        \n",
    "        price_analysis = findings.get(\"price_analysis\", {})\n",
    "        if price_analysis.get(\"trend_direction\") == \"bullish\":\n",
    "            recommendations.append(\"Positive price trend - consider long position\")\n",
    "        \n",
    "        financial_analysis = findings.get(\"financial_analysis\", {})\n",
    "        if financial_analysis.get(\"valuation\") == \"reasonable\":\n",
    "            recommendations.append(\"Reasonable valuation - good entry point\")\n",
    "        \n",
    "        return recommendations\n",
    "    \n",
    "    def _calculate_confidence_score(self, findings: Dict[str, Any]) -> float:\n",
    "        \"\"\"Calculate confidence score.\"\"\"\n",
    "        score = 0.5\n",
    "        if findings.get(\"price_analysis\"):\n",
    "            score += 0.2\n",
    "        if findings.get(\"financial_analysis\"):\n",
    "            score += 0.2\n",
    "        if findings.get(\"news_analysis\"):\n",
    "            score += 0.1\n",
    "        return min(1.0, score)\n"
   ]
  },
  {
   "cell_type": "markdown",
   "id": "07372363",
   "metadata": {},
   "source": [
    "# Memory Class"
   ]
  },
  {
   "cell_type": "code",
   "execution_count": 12,
   "id": "d571ee8d",
   "metadata": {},
   "outputs": [],
   "source": [
    "\n",
    "class MemorySystem:\n",
    "    \"\"\"memory system for learning and pattern recognition.\"\"\"\n",
    "    \n",
    "    def __init__(self, memory_file_path: str = \"memory.json\"):\n",
    "        self.memory_file_path = memory_file_path\n",
    "        self.memories: List[MemoryEntry] = []\n",
    "        self._load_memories()\n",
    "        console.print(f\"[bold green]Memory System initialized with {len(self.memories)} memories[/bold green]\")\n",
    "    \n",
    "    def _load_memories(self) -> None:\n",
    "        \"\"\"Load memories from file.\"\"\"\n",
    "        if os.path.exists(self.memory_file_path):\n",
    "            try:\n",
    "                with open(self.memory_file_path, 'r') as f:\n",
    "                    data = json.load(f)\n",
    "                    self.memories = [MemoryEntry(**entry) for entry in data.get(\"memories\", [])]\n",
    "                console.print(f\"[green]Loaded {len(self.memories)} memories from file[/green]\")\n",
    "            except Exception as e:\n",
    "                console.print(f\"[red]Error loading memories: {str(e)}[/red]\")\n",
    "                self.memories = []\n",
    "        else:\n",
    "            console.print(\"[yellow]No existing memory file found, starting fresh[/yellow]\")\n",
    "    \n",
    "    def _save_memories(self) -> None:\n",
    "        \"\"\"Save memories to file.\"\"\"\n",
    "        try:\n",
    "            data = {\n",
    "                \"memories\": [asdict(memory) for memory in self.memories],\n",
    "                \"last_updated\": datetime.now().isoformat()\n",
    "            }\n",
    "            with open(self.memory_file_path, 'w') as f:\n",
    "                json.dump(data, f, indent=2)\n",
    "            console.print(f\"[green]Saved {len(self.memories)} memories to file[/green]\")\n",
    "        except Exception as e:\n",
    "            console.print(f\"[red]Error saving memories: {str(e)}[/red]\")\n",
    "    \n",
    "    def add_memory(self, stock_symbol: str, memory_type: str, content: str, \n",
    "                   context: Dict[str, Any] = None, importance_score: float = 0.5,\n",
    "                   tags: List[str] = None) -> str:\n",
    "        \"\"\"Add a new memory entry.\"\"\"\n",
    "        memory_entry = MemoryEntry(\n",
    "            timestamp=datetime.now().isoformat(),\n",
    "            stock_symbol=stock_symbol.upper(),\n",
    "            memory_type=memory_type,\n",
    "            content=content,\n",
    "            context=context or {},\n",
    "            importance_score=importance_score,\n",
    "            tags=tags or []\n",
    "        )\n",
    "        self.memories.append(memory_entry)\n",
    "        self._save_memories()\n",
    "        console.print(f\"[green]Added memory for {stock_symbol}: {memory_type}[/green]\")\n",
    "        return f\"mem_{datetime.now().strftime('%Y%m%d_%H%M%S')}\"\n",
    "    \n",
    "    def get_memories_for_symbol(self, stock_symbol: str) -> List[MemoryEntry]:\n",
    "        \"\"\"Get memories for a specific stock symbol.\"\"\"\n",
    "        symbol_upper = stock_symbol.upper()\n",
    "        relevant_memories = [m for m in self.memories if m.stock_symbol == symbol_upper]\n",
    "        relevant_memories.sort(key=lambda m: (m.importance_score, m.timestamp), reverse=True)\n",
    "        console.print(f\"[green]Retrieved {len(relevant_memories)} memories for {stock_symbol}[/green]\")\n",
    "        return relevant_memories\n",
    "    \n",
    "    def search_memories(self, query: str, limit: int = 5) -> List[MemoryEntry]:\n",
    "        \"\"\"\n",
    "        Search memories by query string. Searches through content, context, and tags.\n",
    "        \n",
    "        Args:\n",
    "            query: Search query string\n",
    "            limit: Maximum number of memories to return\n",
    "            \n",
    "        Returns:\n",
    "            List of relevant memory entries sorted by relevance and importance\n",
    "        \"\"\"\n",
    "        if not self.memories:\n",
    "            return []\n",
    "        \n",
    "        query_lower = query.lower()\n",
    "        query_keywords = set(query_lower.split())\n",
    "        \n",
    "        # Score each memory based on keyword matches\n",
    "        scored_memories = []\n",
    "        for memory in self.memories:\n",
    "            score = 0.0\n",
    "            \n",
    "            # Check content\n",
    "            content_lower = memory.content.lower()\n",
    "            for keyword in query_keywords:\n",
    "                if keyword in content_lower:\n",
    "                    score += 2.0\n",
    "            \n",
    "            # Check context (if query mentions similar things)\n",
    "            context_str = json.dumps(memory.context).lower()\n",
    "            for keyword in query_keywords:\n",
    "                if keyword in context_str:\n",
    "                    score += 1.0\n",
    "            \n",
    "            # Check tags\n",
    "            for tag in memory.tags:\n",
    "                if tag.lower() in query_lower:\n",
    "                    score += 1.5\n",
    "            \n",
    "            # Boost by importance score\n",
    "            score *= (1 + memory.importance_score)\n",
    "            \n",
    "            if score > 0:\n",
    "                scored_memories.append((score, memory))\n",
    "        \n",
    "        # Sort by score (descending) and take top results\n",
    "        scored_memories.sort(key=lambda x: x[0], reverse=True)\n",
    "        relevant_memories = [mem for score, mem in scored_memories[:limit]]\n",
    "        \n",
    "        console.print(f\"[green]Found {len(relevant_memories)} relevant memories for query[/green]\")\n",
    "        return relevant_memories\n",
    "    \n",
    "    def get_memory_statistics(self) -> Dict[str, Any]:\n",
    "        \"\"\"Get memory statistics.\"\"\"\n",
    "        stats = {\n",
    "            \"total_memories\": len(self.memories),\n",
    "            \"memories_by_symbol\": {},\n",
    "            \"memories_by_type\": {},\n",
    "            \"average_importance\": 0.0\n",
    "        }\n",
    "        \n",
    "        for memory in self.memories:\n",
    "            symbol = memory.stock_symbol\n",
    "            if symbol not in stats[\"memories_by_symbol\"]:\n",
    "                stats[\"memories_by_symbol\"][symbol] = 0\n",
    "            stats[\"memories_by_symbol\"][symbol] += 1\n",
    "            \n",
    "            memory_type = memory.memory_type\n",
    "            if memory_type not in stats[\"memories_by_type\"]:\n",
    "                stats[\"memories_by_type\"][memory_type] = 0\n",
    "            stats[\"memories_by_type\"][memory_type] += 1\n",
    "        \n",
    "        if self.memories:\n",
    "            stats[\"average_importance\"] = sum(m.importance_score for m in self.memories) / len(self.memories)\n",
    "        \n",
    "        return stats\n"
   ]
  },
  {
   "cell_type": "markdown",
   "id": "39337dc7",
   "metadata": {},
   "source": [
    "# A. Prompt Chain Workflow"
   ]
  },
  {
   "cell_type": "code",
   "execution_count": 13,
   "id": "edea76f2",
   "metadata": {},
   "outputs": [],
   "source": [
    "\n",
    "class NewsChainWorkflow:\n",
    "    \"\"\"Prompt Chaining: Ingest → Preprocess → Classify → Extract → Summarize\"\"\"\n",
    "    \n",
    "    def __init__(self, llm):\n",
    "        self.llm = llm\n",
    "        console.print(\"[bold green]News Chain Workflow initialized[/bold green]\")\n",
    "    \n",
    "    def execute(self, stock_symbol: str, raw_news: List[Dict]) -> Dict[str, Any]:\n",
    "        \"\"\"Execute the news analysis chain.\"\"\"\n",
    "        console.print(f\"[cyan]Starting News Chain Workflow for {stock_symbol}[/cyan]\")\n",
    "        \n",
    "        # Step 1: Ingest\n",
    "        ingested = self._ingest_news(raw_news)\n",
    "        \n",
    "        # Step 2: Preprocess\n",
    "        preprocessed = self._preprocess_news(ingested)\n",
    "        \n",
    "        # Step 3: Classify\n",
    "        classified = self._classify_news(preprocessed)\n",
    "        \n",
    "        # Step 4: Extract\n",
    "        extracted = self._extract_key_points(classified)\n",
    "        \n",
    "        # Step 5: Summarize\n",
    "        summary = self._summarize_news(extracted)\n",
    "        \n",
    "        return {\n",
    "            \"workflow\": \"prompt_chaining\",\n",
    "            \"steps_completed\": 5,\n",
    "            \"final_summary\": summary,\n",
    "            \"classified_topics\": classified.get(\"topics\", []),\n",
    "            \"key_points\": extracted.get(\"points\", [])\n",
    "        }\n",
    "    \n",
    "    def _ingest_news(self, raw_news: List[Dict]) -> Dict[str, Any]:\n",
    "        \"\"\"Step 1: Ingest raw news data.\"\"\"\n",
    "        console.print(\"[dim]→ Step 1/5: Ingesting news...[/dim]\")\n",
    "        return {\n",
    "            \"articles\": raw_news,\n",
    "            \"count\": len(raw_news),\n",
    "            \"ingested_at\": datetime.now().isoformat()\n",
    "        }\n",
    "    \n",
    "    def _preprocess_news(self, ingested: Dict[str, Any]) -> Dict[str, Any]:\n",
    "        \"\"\"Step 2: Preprocess news articles.\"\"\"\n",
    "        console.print(\"[dim]→ Step 2/5: Preprocessing...[/dim]\")\n",
    "        \n",
    "        prompt = f\"\"\"Preprocess these news articles. Clean and structure the data.\n",
    "        \n",
    "Articles: {json.dumps(ingested['articles'][:3], indent=2)}\n",
    "\n",
    "Return a structured format with: title, content, source, date.\"\"\"\n",
    "        \n",
    "        response = self.llm.invoke([HumanMessage(content=prompt)])\n",
    "        \n",
    "        return {\n",
    "            \"preprocessed_articles\": ingested['articles'],\n",
    "            \"llm_preprocessing\": response.content,\n",
    "            \"count\": ingested['count']\n",
    "        }\n",
    "    \n",
    "    def _classify_news(self, preprocessed: Dict[str, Any]) -> Dict[str, Any]:\n",
    "        \"\"\"Step 3: Classify news by topic and sentiment.\"\"\"\n",
    "        console.print(\"[dim]→ Step 3/5: Classifying...[/dim]\")\n",
    "        \n",
    "        prompt = f\"\"\"Classify these news articles by topic and sentiment.\n",
    "        \n",
    "Articles: {json.dumps(preprocessed['preprocessed_articles'][:3], indent=2)}\n",
    "\n",
    "Classify into topics: earnings, product_launch, merger, regulation, general\n",
    "Classify sentiment: positive, negative, neutral\n",
    "\n",
    "Return format:\n",
    "Topic: [topic]\n",
    "Sentiment: [sentiment]\n",
    "Reasoning: [brief reasoning]\"\"\"\n",
    "        \n",
    "        response = self.llm.invoke([HumanMessage(content=prompt)])\n",
    "        \n",
    "        return {\n",
    "            \"articles\": preprocessed['preprocessed_articles'],\n",
    "            \"classification\": response.content,\n",
    "            \"topics\": [\"earnings\", \"general\"],  # Parsed from LLM response\n",
    "            \"overall_sentiment\": \"mixed\"\n",
    "        }\n",
    "    \n",
    "    def _extract_key_points(self, classified: Dict[str, Any]) -> Dict[str, Any]:\n",
    "        \"\"\"Step 4: Extract key points from articles.\"\"\"\n",
    "        console.print(\"[dim]→ Step 4/5: Extracting key points...[/dim]\")\n",
    "        \n",
    "        prompt = f\"\"\"Extract the most important points from these classified articles.\n",
    "        \n",
    "Classification: {classified['classification']}\n",
    "\n",
    "Extract:\n",
    "1. Key financial impacts\n",
    "2. Important dates or events\n",
    "3. Market implications\n",
    "4. Risk factors\n",
    "\n",
    "Format as bullet points.\"\"\"\n",
    "        \n",
    "        response = self.llm.invoke([HumanMessage(content=prompt)])\n",
    "        \n",
    "        return {\n",
    "            \"classification\": classified['classification'],\n",
    "            \"key_points_raw\": response.content,\n",
    "            \"points\": response.content.split('\\n')\n",
    "        }\n",
    "    \n",
    "    def _summarize_news(self, extracted: Dict[str, Any]) -> str:\n",
    "        \"\"\"Step 5: Create final summary.\"\"\"\n",
    "        console.print(\"[dim]→ Step 5/5: Summarizing...[/dim]\")\n",
    "        \n",
    "        prompt = f\"\"\"Create a concise executive summary based on these key points.\n",
    "        \n",
    "Key Points: {extracted['key_points_raw']}\n",
    "\n",
    "Provide:\n",
    "- 2-3 sentence overview\n",
    "- Main takeaway for investors\n",
    "- Sentiment indicator (bullish/bearish/neutral)\n",
    "\n",
    "Keep it actionable and clear.\"\"\"\n",
    "        \n",
    "        response = self.llm.invoke([HumanMessage(content=prompt)])\n",
    "        console.print(\"[green]✓ News Chain completed[/green]\")\n",
    "        \n",
    "        return response.content\n"
   ]
  },
  {
   "cell_type": "markdown",
   "id": "d70125af",
   "metadata": {},
   "source": [
    "# B. Routing Workflow"
   ]
  },
  {
   "cell_type": "code",
   "execution_count": 14,
   "id": "4b265d19",
   "metadata": {},
   "outputs": [],
   "source": [
    "\n",
    "\n",
    "class RoutingWorkflow:\n",
    "    \"\"\"Routing: Direct queries to specialist analyzers\"\"\"\n",
    "    \n",
    "    def __init__(self, llm):\n",
    "        self.llm = llm\n",
    "        console.print(\"[bold green]Routing Workflow initialized[/bold green]\")\n",
    "    \n",
    "    def execute(self, stock_symbol: str, query: str, data: Dict[str, Any]) -> Dict[str, Any]:\n",
    "        \"\"\"Route query to appropriate specialist.\"\"\"\n",
    "        console.print(f\"[cyan]Starting Routing Workflow for {stock_symbol}[/cyan]\")\n",
    "        \n",
    "        # Determine which specialist to use\n",
    "        specialist_type = self._route_query(query)\n",
    "        console.print(f\"[yellow]→ Routing to: {specialist_type} specialist[/yellow]\")\n",
    "        \n",
    "        # Route to specialist\n",
    "        if specialist_type == \"earnings\":\n",
    "            result = self._earnings_specialist(stock_symbol, data)\n",
    "        elif specialist_type == \"news\":\n",
    "            result = self._news_specialist(stock_symbol, data)\n",
    "        elif specialist_type == \"technical\":\n",
    "            result = self._technical_specialist(stock_symbol, data)\n",
    "        else:\n",
    "            result = self._general_specialist(stock_symbol, query, data)\n",
    "        \n",
    "        return {\n",
    "            \"workflow\": \"routing\",\n",
    "            \"specialist\": specialist_type,\n",
    "            \"analysis\": result\n",
    "        }\n",
    "    \n",
    "    def _route_query(self, query: str) -> str:\n",
    "        \"\"\"Determine which specialist to use based on query.\"\"\"\n",
    "        query_lower = query.lower()\n",
    "        \n",
    "        # Use LLM to classify query type\n",
    "        prompt = f\"\"\"Determine which specialist should handle this investment query.\n",
    "        \n",
    "                    Query: {query_lower}\n",
    "\n",
    "                    Available specialists:\n",
    "                    - earnings: For questions about financials, revenue, profit, EPS\n",
    "                    - news: For questions about announcements, events, sentiment\n",
    "                    - technical: For questions about price action, charts, trends\n",
    "                    - general: For other investment questions\n",
    "\n",
    "                    Return just one word - the specialist type that best matches.\"\"\"\n",
    "\n",
    "        response = self.llm.invoke([HumanMessage(content=prompt)])\n",
    "        specialist = response.content.strip().lower()\n",
    "        \n",
    "        if specialist in [\"earnings\", \"news\", \"technical\"]:\n",
    "            return specialist\n",
    "        else:\n",
    "            return \"general\"\n",
    "    \n",
    "    def _earnings_specialist(self, stock_symbol: str, data: Dict[str, Any]) -> str:\n",
    "        \"\"\"Earnings specialist analysis.\"\"\"\n",
    "        console.print(\"[dim]→ Earnings specialist analyzing...[/dim]\")\n",
    "        \n",
    "        financial_data = data.get(\"financial_metrics\", {})\n",
    "        \n",
    "        prompt = f\"\"\"You are an earnings specialist. Analyze the financial metrics for {stock_symbol}.\n",
    "        \n",
    "                Financial Data: {json.dumps(financial_data, indent=2)}\n",
    "\n",
    "                Focus on:\n",
    "                - Revenue and earnings trends\n",
    "                - Profitability metrics\n",
    "                - Growth indicators\n",
    "                - Valuation ratios\n",
    "\n",
    "                Provide specific insights about earnings quality and sustainability.\"\"\"\n",
    "                        \n",
    "        response = self.llm.invoke([HumanMessage(content=prompt)])\n",
    "        return response.content\n",
    "    \n",
    "    def _news_specialist(self, stock_symbol: str, data: Dict[str, Any]) -> str:\n",
    "        \"\"\"News specialist analysis.\"\"\"\n",
    "        console.print(\"[dim]→ News specialist analyzing...[/dim]\")\n",
    "        \n",
    "        news_data = data.get(\"news_data\", {})\n",
    "        \n",
    "        prompt = f\"\"\"You are a news sentiment specialist. Analyze news for {stock_symbol}.\n",
    "        \n",
    "                News Data: {json.dumps(news_data, indent=2)}\n",
    "\n",
    "                Focus on:\n",
    "                - Sentiment trends\n",
    "                - Key events and their impact\n",
    "                - Market perception\n",
    "                - Potential catalysts\n",
    "\n",
    "                Provide actionable insights from news analysis.\"\"\"\n",
    "                        \n",
    "        response = self.llm.invoke([HumanMessage(content=prompt)])\n",
    "        return response.content\n",
    "    \n",
    "    def _technical_specialist(self, stock_symbol: str, data: Dict[str, Any]) -> str:\n",
    "        \"\"\"Technical analysis specialist.\"\"\"\n",
    "        console.print(\"[dim]→ Technical specialist analyzing...[/dim]\")\n",
    "        \n",
    "        price_data = data.get(\"historical_prices\", {})\n",
    "        \n",
    "        prompt = f\"\"\"You are a technical analysis specialist. Analyze price action for {stock_symbol}.\n",
    "        \n",
    "                    Price Data: Latest ${price_data.get('latest_price', 'N/A')}\n",
    "                    Technical Indicators: {json.dumps(price_data.get('technical_indicators', {}), indent=2)}\n",
    "\n",
    "                    Focus on:\n",
    "                    - Trend direction and strength\n",
    "                    - Support/resistance levels\n",
    "                    - Technical indicator signals\n",
    "                    - Entry/exit points\n",
    "\n",
    "                    Provide specific technical trading insights.\"\"\"\n",
    "                            \n",
    "        response = self.llm.invoke([HumanMessage(content=prompt)])\n",
    "        return response.content\n",
    "    \n",
    "    def _general_specialist(self, stock_symbol: str, query: str, data: Dict[str, Any]) -> str:\n",
    "        \"\"\"General investment specialist.\"\"\"\n",
    "        console.print(\"[dim]→ General specialist analyzing...[/dim]\")\n",
    "        \n",
    "        prompt = f\"\"\"You are a general investment specialist. Answer this query about {stock_symbol}.\n",
    "        \n",
    "                    Query: {query}\n",
    "                    Available Data: {json.dumps(data, indent=2)[:500]}...\n",
    "\n",
    "                    Provide a comprehensive, balanced analysis addressing the specific question.\"\"\"\n",
    "                            \n",
    "        response = self.llm.invoke([HumanMessage(content=prompt)])\n",
    "        return response.content\n",
    "\n"
   ]
  },
  {
   "cell_type": "markdown",
   "id": "7f2c1b30",
   "metadata": {},
   "source": [
    "# C. Evaluator Optimizer Workflow"
   ]
  },
  {
   "cell_type": "code",
   "execution_count": 15,
   "id": "8db8f88d",
   "metadata": {},
   "outputs": [],
   "source": [
    "\n",
    "class EvaluatorOptimizerWorkflow:\n",
    "    \"\"\"Evaluator-Optimizer: Generate → Evaluate → Refine\"\"\"\n",
    "    \n",
    "    def __init__(self, llm):\n",
    "        self.llm = llm\n",
    "        self.max_iterations = 2\n",
    "        console.print(\"[bold green]Evaluator-Optimizer Workflow initialized[/bold green]\")\n",
    "    \n",
    "    def execute(self, stock_symbol: str, initial_analysis: str) -> Dict[str, Any]:\n",
    "        \"\"\"Execute the evaluator-optimizer loop.\"\"\"\n",
    "        console.print(f\"[cyan]Starting Evaluator-Optimizer Workflow for {stock_symbol}[/cyan]\")\n",
    "        \n",
    "        current_analysis = initial_analysis\n",
    "        iteration = 0\n",
    "        evaluation_history = []\n",
    "        \n",
    "        while iteration < self.max_iterations:\n",
    "            iteration += 1\n",
    "            console.print(f\"[yellow]→ Iteration {iteration}/{self.max_iterations}[/yellow]\")\n",
    "            \n",
    "            # Evaluate\n",
    "            evaluation = self._evaluate_analysis(current_analysis)\n",
    "            evaluation_history.append(evaluation)\n",
    "            \n",
    "            console.print(f\"[dim]Quality Score: {evaluation['quality_score']:.2f}/10[/dim]\")\n",
    "            \n",
    "            # Check if quality is acceptable\n",
    "            if evaluation['quality_score'] >= 8.0:\n",
    "                console.print(\"[green]✓ Quality threshold met[/green]\")\n",
    "                break\n",
    "            \n",
    "            # Optimize\n",
    "            current_analysis = self._optimize_analysis(current_analysis, evaluation)\n",
    "        \n",
    "        return {\n",
    "            \"workflow\": \"evaluator_optimizer\",\n",
    "            \"iterations\": iteration,\n",
    "            \"final_analysis\": current_analysis,\n",
    "            \"final_quality_score\": evaluation_history[-1]['quality_score'],\n",
    "            \"improvements_made\": [e['issues'] for e in evaluation_history]\n",
    "        }\n",
    "    \n",
    "    def _evaluate_analysis(self, analysis: str) -> Dict[str, Any]:\n",
    "        \"\"\"Evaluate the quality of analysis.\"\"\"\n",
    "        console.print(\"[dim]→ Evaluating analysis quality...[/dim]\")\n",
    "        \n",
    "        prompt = f\"\"\"Evaluate this investment analysis for quality.\n",
    "        \n",
    "                    Analysis:\n",
    "                    {analysis}\n",
    "\n",
    "                    Rate on scale of 1-10 for:\n",
    "                    1. Completeness (covers all key aspects)\n",
    "                    2. Accuracy (logical and well-reasoned)\n",
    "                    3. Actionability (provides clear recommendations)\n",
    "                    4. Clarity (easy to understand)\n",
    "\n",
    "                    Format:\n",
    "                    Completeness: X/10\n",
    "                    Accuracy: X/10\n",
    "                    Actionability: X/10\n",
    "                    Clarity: X/10\n",
    "                    Overall: X/10\n",
    "                    Issues: [list specific issues to improve]\"\"\"\n",
    "                            \n",
    "        response = self.llm.invoke([HumanMessage(content=prompt)])\n",
    "        \n",
    "        # Parse the evaluation (simplified)\n",
    "        content = response.content\n",
    "        try:\n",
    "            overall_line = [line for line in content.split('\\n') if 'Overall:' in line][0]\n",
    "            score = float(overall_line.split(':')[1].split('/')[0].strip())\n",
    "        except:\n",
    "            score = 7.0  # Default if parsing fails\n",
    "        \n",
    "        return {\n",
    "            \"quality_score\": score,\n",
    "            \"detailed_evaluation\": content,\n",
    "            \"issues\": content.split('Issues:')[-1].strip() if 'Issues:' in content else \"\"\n",
    "        }\n",
    "    \n",
    "    def _optimize_analysis(self, analysis: str, evaluation: Dict[str, Any]) -> str:\n",
    "        \"\"\"Refine analysis based on evaluation.\"\"\"\n",
    "        console.print(\"[dim]→ Optimizing analysis...[/dim]\")\n",
    "        \n",
    "        prompt = f\"\"\"Improve this investment analysis based on the evaluation feedback.\n",
    "        \n",
    "                Original Analysis:\n",
    "                {analysis}\n",
    "\n",
    "                Evaluation Feedback:\n",
    "                {evaluation['detailed_evaluation']}\n",
    "\n",
    "                Specific Issues to Address:\n",
    "                {evaluation['issues']}\n",
    "\n",
    "                Provide an improved version that addresses all issues while maintaining accuracy.\"\"\"\n",
    "                        \n",
    "        response = self.llm.invoke([HumanMessage(content=prompt)])\n",
    "        console.print(\"[green]✓ Analysis optimized[/green]\")\n",
    "        \n",
    "        return response.content\n",
    "\n"
   ]
  },
  {
   "cell_type": "markdown",
   "id": "022a46cc",
   "metadata": {},
   "source": [
    "# Main Investment Agent"
   ]
  },
  {
   "cell_type": "code",
   "execution_count": 16,
   "id": "ee2dd066",
   "metadata": {},
   "outputs": [],
   "source": [
    "\n",
    "class InvestmentAgent:\n",
    "    \"\"\"Investment Research Agent combining all functionality.\"\"\"\n",
    "    \n",
    "    def __init__(self, config_path: Optional[str] = None):\n",
    "        self.config = self._load_config(config_path)\n",
    "        self.tools = [\n",
    "            get_stock_prices, \n",
    "            get_financial_metrics, \n",
    "            get_alpha_vantage_quote,\n",
    "            get_alpha_vantage_overview,\n",
    "            get_alpha_vantage_news,\n",
    "            search_web, \n",
    "            calculate\n",
    "        ]\n",
    "        self.llm = ChatOpenAI(model='gpt-4o-mini', openai_api_key=OPENAI_API_KEY)\n",
    "        self.llm_with_tools = self.llm.bind_tools(self.tools)\n",
    "        self.graph = self._build_graph()\n",
    "        self.data_wrapper = YahooFinanceDataWrapper()\n",
    "        self.alpha_vantage_wrapper = AlphaVantageDataWrapper()\n",
    "        self.web_tools_wrapper = WebToolsWrapper()\n",
    "        self.analyzer = Analyzer()\n",
    "        self.memory_system = MemorySystem()\n",
    "        self.results = {}\n",
    "        \n",
    "        # Initialize agentic workflows\n",
    "        self.news_chain = NewsChainWorkflow(self.llm)\n",
    "        self.routing_workflow = RoutingWorkflow(self.llm)\n",
    "        self.evaluator_optimizer = EvaluatorOptimizerWorkflow(self.llm)\n",
    "        \n",
    "        console.print(\"[bold green]Investment Research Agent initialized successfully[/bold green]\")\n",
    "\n",
    "    def _load_config(self, config_path: Optional[str]) -> Dict[str, Any]:\n",
    "        \"\"\"Load configuration from file.\"\"\"\n",
    "        if config_path and os.path.exists(config_path):\n",
    "            with open(config_path, 'r') as f:\n",
    "                return json.load(f)\n",
    "        return {}\n",
    "\n",
    "    def _build_graph(self) -> StateGraph:\n",
    "        \"\"\"Build the LangGraph workflow.\"\"\"\n",
    "        graph_builder = StateGraph(State)\n",
    "        \n",
    "        # Add the analyst node\n",
    "        graph_builder.add_node('analyst', self._analyst)\n",
    "        graph_builder.add_edge(START, 'analyst')\n",
    "        \n",
    "        # Add tools node\n",
    "        graph_builder.add_node('tools', ToolNode(self.tools))\n",
    "        graph_builder.add_conditional_edges('analyst', self._tools_condition)\n",
    "        graph_builder.add_edge('tools', 'analyst')\n",
    "        \n",
    "        return graph_builder.compile()\n",
    "\n",
    "    def _tools_condition(self, state: State) -> str:\n",
    "        \"\"\"Determine if tools should be called.\"\"\"\n",
    "        messages = state[\"messages\"]\n",
    "        last_message = messages[-1]\n",
    "        if hasattr(last_message, 'tool_calls') and last_message.tool_calls:\n",
    "            return \"tools\"\n",
    "        return END\n",
    "\n",
    "    def _analyst(self, state: State) -> State:\n",
    "        \"\"\"Analyst node that processes stock analysis.\"\"\"\n",
    "        messages = state[\"messages\"]\n",
    "        stock_symbol = state.get(\"stock\", \"UNKNOWN\")\n",
    "        \n",
    "        # Check if this is the first call (no tool results yet)\n",
    "        has_system_message = any(isinstance(msg, SystemMessage) for msg in messages)\n",
    "        \n",
    "        if not has_system_message:\n",
    "            # First call - add system prompt\n",
    "            ANALYST_PROMPT = f\"\"\"You are a financial analyst specializing in stock evaluation for {stock_symbol}.\n",
    "\n",
    "                You have access to these tools:\n",
    "                1. **get_stock_prices**: Get price data and technical indicators from Yahoo Finance\n",
    "                2. **get_financial_metrics**: Get financial metrics and ratios from Yahoo Finance\n",
    "                3. **get_alpha_vantage_quote**: Get real-time quote from Alpha Vantage (alternative source)\n",
    "                4. **get_alpha_vantage_overview**: Get company overview from Alpha Vantage (alternative source)\n",
    "                5. **get_alpha_vantage_news**: Get news and sentiment from Alpha Vantage\n",
    "                6. **search_web**: Search for latest news and information\n",
    "                7. **calculate**: Perform financial calculations\n",
    "\n",
    "                Start by gathering data using the tools. Use Alpha Vantage tools as alternatives if Yahoo Finance fails.\n",
    "                Then provide comprehensive analysis.\"\"\"\n",
    "                            \n",
    "            messages.insert(0, SystemMessage(content=ANALYST_PROMPT))\n",
    "        \n",
    "        # Invoke the LLM with tools\n",
    "        response = self.llm_with_tools.invoke(messages)\n",
    "        \n",
    "        return {\n",
    "            \"messages\": [response],\n",
    "            \"stock\": stock_symbol,\n",
    "            \"analysis_data\": state.get(\"analysis_data\", {}),\n",
    "            \"final_analysis\": state.get(\"final_analysis\", {})\n",
    "        }\n",
    "    \n",
    "    def extract_stock_symbol(self, natural_query: str) -> Dict[str, Any]:\n",
    "        \"\"\"\n",
    "        Extract stock symbol from a natural language query using memory and web search.\n",
    "        \n",
    "        Args:\n",
    "            natural_query: Natural language query like \"What's the latest on Apple stock?\"\n",
    "            \n",
    "        Returns:\n",
    "            Dict containing the stock symbol and confidence\n",
    "        \"\"\"\n",
    "        console.print(f\"[cyan]Extracting stock symbol from query...[/cyan]\")\n",
    "        \n",
    "        # First check for most recent stock symbol from query history\n",
    "        console.print(\"[dim]→ Checking most recent stock symbol from query history...[/dim]\")\n",
    "        if self.memory_system.memories:\n",
    "            # Get memories sorted by timestamp (most recent first)\n",
    "            sorted_memories = sorted(\n",
    "                self.memory_system.memories, \n",
    "                key=lambda m: m.timestamp, \n",
    "                reverse=True\n",
    "            )\n",
    "            \n",
    "            # Find the most recent memory with a valid stock symbol\n",
    "            for memory in sorted_memories[:10]:  # Check last 10 memories\n",
    "                if memory.stock_symbol and memory.stock_symbol.isalpha() and len(memory.stock_symbol) <= 5:\n",
    "                    console.print(f\"[green]✓ Found most recent stock symbol from history: {memory.stock_symbol}[/green]\")\n",
    "                    console.print(f\"[dim]  From: {memory.timestamp}[/dim]\")\n",
    "                    console.print(f\"[dim]  Memory: {memory.content[:100]}...[/dim]\")\n",
    "                    return {\n",
    "                        \"stock_symbol\": memory.stock_symbol,\n",
    "                        \"confidence\": \"high\",\n",
    "                        \"method\": \"recent_history\",\n",
    "                        \"original_query\": natural_query,\n",
    "                        \"memory_content\": memory.content[:200],\n",
    "                        \"memory_timestamp\": memory.timestamp\n",
    "                    }\n",
    "        \n",
    "        # Second, check memory for keyword-matched queries\n",
    "        console.print(\"[dim]→ Searching memory for keyword-matched queries...[/dim]\")\n",
    "        memories = self.memory_system.search_memories(natural_query, limit=3)\n",
    "        \n",
    "        if memories:\n",
    "            # Check if any memory has a valid stock symbol\n",
    "            for memory in memories:\n",
    "                if memory.stock_symbol and memory.stock_symbol.isalpha() and len(memory.stock_symbol) <= 5:\n",
    "                    console.print(f\"[green]✓ Found stock symbol in keyword-matched memory: {memory.stock_symbol}[/green]\")\n",
    "                    console.print(f\"[dim]  Memory: {memory.content[:100]}...[/dim]\")\n",
    "                    return {\n",
    "                        \"stock_symbol\": memory.stock_symbol,\n",
    "                        \"confidence\": \"high\",\n",
    "                        \"method\": \"memory_keyword_match\",\n",
    "                        \"original_query\": natural_query,\n",
    "                        \"memory_content\": memory.content[:200]\n",
    "                    }\n",
    "        \n",
    "        # Try web search if memory doesn't help\n",
    "        console.print(\"[dim]→ No relevant memories found, trying web search...[/dim]\")\n",
    "        try:\n",
    "            search_result = self._extract_symbol_via_web_search(natural_query)\n",
    "            if search_result[\"stock_symbol\"]:\n",
    "                # Store in memory for future queries\n",
    "                self._store_extraction_in_memory(\n",
    "                    search_result[\"stock_symbol\"], \n",
    "                    natural_query, \n",
    "                    \"web_search\"\n",
    "                )\n",
    "                return search_result\n",
    "        except Exception as e:\n",
    "            console.print(f\"[yellow]Web search failed: {str(e)}[/yellow]\")\n",
    "\n",
    "        # Fall back to LLM extraction if both memory and web search fail\n",
    "        console.print(\"[dim]→ Trying LLM extraction...[/dim]\")\n",
    "        extraction_prompt = f\"\"\"Extract the stock ticker symbol from this query. If you can identify the company name, \n",
    "            provide the stock ticker symbol. If a ticker is already mentioned, return it in uppercase.\n",
    "\n",
    "            Query: {natural_query}\n",
    "\n",
    "            Respond with ONLY the stock ticker symbol (e.g., AAPL, MSFT, GOOGL, TSLA) or \"UNKNOWN\" if you cannot identify it.\n",
    "            Do not include any explanation, just the ticker symbol.\"\"\"\n",
    "\n",
    "        try:\n",
    "            response = self.llm.invoke([HumanMessage(content=extraction_prompt)])\n",
    "            extracted_symbol = response.content.strip().upper()\n",
    "            \n",
    "            # Validate the extracted symbol\n",
    "            if extracted_symbol != \"UNKNOWN\" and len(extracted_symbol) <= 5 and extracted_symbol.isalpha():\n",
    "                console.print(f\"[green]✓ Extracted stock symbol via LLM: {extracted_symbol}[/green]\")\n",
    "                \n",
    "                # Store in memory for future queries\n",
    "                self._store_extraction_in_memory(\n",
    "                    extracted_symbol, \n",
    "                    natural_query, \n",
    "                    \"llm_extraction\"\n",
    "                )\n",
    "                \n",
    "                return {\n",
    "                    \"stock_symbol\": extracted_symbol,\n",
    "                    \"confidence\": \"medium\",\n",
    "                    \"method\": \"llm_extraction\",\n",
    "                    \"original_query\": natural_query\n",
    "                }\n",
    "            \n",
    "        except Exception as e:\n",
    "            console.print(f\"[yellow]LLM extraction failed: {str(e)}[/yellow]\")\n",
    "\n",
    "        # If all methods fail\n",
    "        console.print(\"[red]✗ Could not extract stock symbol[/red]\")\n",
    "        return {\n",
    "            \"stock_symbol\": None,\n",
    "            \"confidence\": \"none\", \n",
    "            \"method\": \"failed\",\n",
    "            \"original_query\": natural_query,\n",
    "            \"error\": \"Unable to identify stock symbol from query\"\n",
    "        }\n",
    "    \n",
    "    def _store_extraction_in_memory(self, stock_symbol: str, query: str, method: str) -> None:\n",
    "        \"\"\"Store successful symbol extraction in memory for future queries.\"\"\"\n",
    "        try:\n",
    "            self.memory_system.add_memory(\n",
    "                stock_symbol=stock_symbol,\n",
    "                memory_type=\"symbol_extraction\",\n",
    "                content=f\"Query: '{query}' -> Symbol: {stock_symbol}\",\n",
    "                context={\n",
    "                    \"query\": query,\n",
    "                    \"method\": method,\n",
    "                    \"extraction_timestamp\": datetime.now().isoformat()\n",
    "                },\n",
    "                importance_score=0.7,\n",
    "                tags=[\"extraction\", method, query.lower()[:50]]\n",
    "            )\n",
    "            console.print(f\"[dim]✓ Stored extraction in memory[/dim]\")\n",
    "        except Exception as e:\n",
    "            console.print(f\"[dim yellow]Warning: Could not store in memory: {str(e)}[/dim yellow]\")\n",
    "            \n",
    "    def _extract_symbol_via_web_search(self, natural_query: str) -> Dict[str, Any]:\n",
    "        \"\"\"Extract stock symbol using web search.\"\"\"\n",
    "        try:\n",
    "            # Search for the company + stock ticker\n",
    "            search_query = f\"{natural_query} stock ticker symbol\"\n",
    "            search_result = self.web_tools_wrapper.web_search(search_query)\n",
    "            \n",
    "            if \"error\" not in search_result and search_result.get('results'):\n",
    "                # Use LLM to parse the search results and extract ticker\n",
    "                results_text = \"\\n\".join([\n",
    "                    f\"{r.get('title', '')}: {r.get('content', '')[:200]}\"\n",
    "                    for r in search_result['results'][:3]\n",
    "                ])\n",
    "                \n",
    "                parsing_prompt = f\"\"\"Based on these search results about \"{natural_query}\", what is the stock ticker symbol?\n",
    "\n",
    "                Search Results:\n",
    "                {results_text}\n",
    "\n",
    "                Respond with ONLY the stock ticker symbol in uppercase (e.g., AAPL, MSFT) or \"UNKNOWN\" if unclear.\"\"\"\n",
    "\n",
    "                response = self.llm.invoke([HumanMessage(content=parsing_prompt)])\n",
    "                extracted_symbol = response.content.strip().upper()\n",
    "                \n",
    "                if extracted_symbol != \"UNKNOWN\" and len(extracted_symbol) <= 5 and extracted_symbol.isalpha():\n",
    "                    console.print(f\"[green]✓ Extracted via web search: {extracted_symbol}[/green]\")\n",
    "                    return {\n",
    "                        \"stock_symbol\": extracted_symbol,\n",
    "                        \"confidence\": \"medium\",\n",
    "                        \"method\": \"web_search\",\n",
    "                        \"original_query\": natural_query\n",
    "                    }\n",
    "            \n",
    "            # If all else fails\n",
    "            console.print(\"[red]✗ Could not extract stock symbol[/red]\")\n",
    "            return {\n",
    "                \"stock_symbol\": None,\n",
    "                \"confidence\": \"none\",\n",
    "                \"method\": \"failed\",\n",
    "                \"original_query\": natural_query,\n",
    "                \"error\": \"Unable to identify stock symbol from query\"\n",
    "            }\n",
    "            \n",
    "        except Exception as e:\n",
    "            console.print(f\"[red]Web search extraction failed: {str(e)}[/red]\")\n",
    "            return {\n",
    "                \"stock_symbol\": None,\n",
    "                \"confidence\": \"none\",\n",
    "                \"method\": \"failed\",\n",
    "                \"original_query\": natural_query,\n",
    "                \"error\": str(e)\n",
    "            }\n",
    "\n",
    "    def analyze_stock(self, stock_symbol: str, user_question: str = \"Should I buy this stock?\") -> Dict[str, Any]:\n",
    "        \"\"\"Execute comprehensive stock analysis using LangGraph.\"\"\"\n",
    "        initial_state = {\n",
    "            \"messages\": [HumanMessage(content=user_question)],\n",
    "            \"stock\": stock_symbol,\n",
    "            \"analysis_data\": {},\n",
    "            \"final_analysis\": {}\n",
    "        }\n",
    "        \n",
    "        console.print(f\"[cyan]Starting analysis for {stock_symbol}[/cyan]\")\n",
    "        \n",
    "        # Execute the graph\n",
    "        events = self.graph.stream(initial_state, stream_mode='values')\n",
    "        \n",
    "        final_state = None\n",
    "        for event in events:\n",
    "            final_state = event\n",
    "            if 'messages' in event:\n",
    "                last_message = event['messages'][-1]\n",
    "                if hasattr(last_message, 'content'):\n",
    "                    console.print(f\"[dim cyan]Analysis step completed: {last_message.content}[/dim cyan]\")\n",
    "        \n",
    "        # Extract final analysis\n",
    "        if final_state and 'messages' in final_state:\n",
    "            final_message = final_state['messages'][-1]\n",
    "            if hasattr(final_message, 'content'):\n",
    "                analysis_result = self._parse_analysis_result(final_message.content)\n",
    "                return {\n",
    "                    \"stock_symbol\": stock_symbol,\n",
    "                    \"analysis_result\": analysis_result,\n",
    "                    \"raw_response\": final_message.content,\n",
    "                    \"timestamp\": datetime.now().isoformat(),\n",
    "                    \"status\": \"completed\"\n",
    "                }\n",
    "        \n",
    "        return {\n",
    "            \"stock_symbol\": stock_symbol,\n",
    "            \"error\": \"Analysis failed to complete\",\n",
    "            \"timestamp\": datetime.now().isoformat(),\n",
    "            \"status\": \"failed\"\n",
    "        }\n",
    "\n",
    "    def _parse_analysis_result(self, content: str) -> Dict[str, Any]:\n",
    "        \"\"\"Parse the analysis result from the LLM response.\"\"\"\n",
    "        result = {}\n",
    "        lines = content.split('\\n')\n",
    "        \n",
    "        for line in lines:\n",
    "            if ':' in line and '\"' in line:\n",
    "                try:\n",
    "                    key, value = line.split(':', 1)\n",
    "                    key = key.strip().strip('\"')\n",
    "                    value = value.strip().strip('\",')\n",
    "                    result[key] = value\n",
    "                except:\n",
    "                    continue\n",
    "        \n",
    "        return result\n",
    "\n",
    "    def execute_analysis(self, stock_symbol: str) -> Dict[str, Any]:\n",
    "        \"\"\"Execute a analysis without LangGraph.\"\"\"\n",
    "        console.print(f\"[cyan]Starting analysis for {stock_symbol}[/cyan]\")\n",
    "        \n",
    "        # Collect data\n",
    "        price_data = self.data_wrapper.fetch_historical_prices(stock_symbol)\n",
    "        financial_data = self.data_wrapper.fetch_key_financials(stock_symbol)\n",
    "        news_data = self.data_wrapper.fetch_stock_news(stock_symbol)\n",
    "        \n",
    "        # Combine data\n",
    "        combined_data = {\n",
    "            \"historical_prices\": price_data,\n",
    "            \"financial_metrics\": financial_data.get(\"key_metrics\", {}),\n",
    "            \"news_data\": news_data\n",
    "        }\n",
    "        \n",
    "        # Analyze data\n",
    "        analysis_result = self.analyzer.analyze_data(combined_data)\n",
    "        \n",
    "        # Store in memory\n",
    "        if analysis_result[\"confidence_score\"] > 0.7:\n",
    "            self.memory_system.add_memory(\n",
    "                stock_symbol, \"analysis\",\n",
    "                f\"High confidence analysis: {analysis_result['ai_analysis']}...\",\n",
    "                {\"confidence\": analysis_result[\"confidence_score\"]}, \n",
    "                0.8, [\"high_confidence\"]\n",
    "            )\n",
    "        \n",
    "        result = {\n",
    "            \"stock_symbol\": stock_symbol,\n",
    "            \"analysis_result\": analysis_result,\n",
    "            \"timestamp\": datetime.now().isoformat(),\n",
    "            \"status\": \"completed\"\n",
    "        }\n",
    "        \n",
    "        logger.info(f\"analysis completed for {stock_symbol}\")\n",
    "        return result\n",
    "\n",
    "    def get_analysis_summary(self, stock_symbol: str) -> Dict[str, Any]:\n",
    "        \"\"\"Get analysis summary with memory insights.\"\"\"\n",
    "        memories = self.memory_system.get_memories_for_symbol(stock_symbol)\n",
    "        memory_stats = self.memory_system.get_memory_statistics()\n",
    "        \n",
    "        return {\n",
    "            \"stock_symbol\": stock_symbol,\n",
    "            \"total_memories\": len(memories),\n",
    "            \"memory_insights\": [m.content for m in memories[:3]],  # Top 3 memories\n",
    "            \"memory_statistics\": memory_stats,\n",
    "            \"timestamp\": datetime.now().isoformat()\n",
    "        }\n",
    "    \n",
    "    def query(self, stock_symbol: str, user_query: str, use_optimizer: bool = True) -> Dict[str, Any]:\n",
    "        \"\"\"\n",
    "        Main query handler - intelligently routes to appropriate workflows.\n",
    "        \n",
    "        This is the main entry point that:\n",
    "        1. Collects necessary data\n",
    "        2. Determines which workflow pattern to use\n",
    "        3. Executes the workflow\n",
    "        4. Optionally optimizes the result\n",
    "        5. Returns comprehensive analysis\n",
    "        \n",
    "        Args:\n",
    "            stock_symbol: Stock ticker symbol\n",
    "            user_query: User's question about the stock\n",
    "            use_optimizer: Whether to use evaluator-optimizer workflow\n",
    "            \n",
    "        Returns:\n",
    "            Dict containing analysis results and workflow information\n",
    "        \"\"\"\n",
    "        console.print(Panel.fit(\n",
    "            f\"[bold cyan]Processing Query[/bold cyan]\\n\"\n",
    "            f\"Stock: [yellow]{stock_symbol}[/yellow]\\n\"\n",
    "            f\"Query: [white]{user_query}[/white]\",\n",
    "            border_style=\"cyan\"\n",
    "        ))\n",
    "        \n",
    "        # Step 1: Collect data\n",
    "        console.print(\"\\n[bold]Step 1: Gathering Data[/bold]\")\n",
    "        data = self._collect_stock_data(stock_symbol)\n",
    "        \n",
    "        # Step 2: Determine workflow strategy\n",
    "        console.print(\"\\n[bold]Step 2: Determining Workflow Strategy[/bold]\")\n",
    "        workflow_strategy = self._determine_workflow(user_query)\n",
    "        console.print(f\"[yellow]→ Selected Strategy: {workflow_strategy}[/yellow]\")\n",
    "        \n",
    "        # Step 3: Execute appropriate workflow\n",
    "        console.print(\"\\n[bold]Step 3: Executing Workflow[/bold]\")\n",
    "        \n",
    "        if workflow_strategy == \"news_chain\":\n",
    "            # Use prompt chaining for news-focused queries\n",
    "            news_data = data.get(\"news_data\", {}).get(\"news\", [])\n",
    "            workflow_result = self.news_chain.execute(stock_symbol, news_data)\n",
    "            analysis = workflow_result[\"final_summary\"]\n",
    "            \n",
    "        elif workflow_strategy == \"routing\":\n",
    "            # Use routing for specialist analysis\n",
    "            workflow_result = self.routing_workflow.execute(stock_symbol, user_query, data)\n",
    "            analysis = workflow_result[\"analysis\"]\n",
    "            \n",
    "        else:\n",
    "            # Default: comprehensive analysis\n",
    "            workflow_result = {\"workflow\": \"comprehensive\"}\n",
    "            analysis = self._generate_comprehensive_analysis(stock_symbol, user_query, data)\n",
    "        \n",
    "        # Step 4: Optimize if requested\n",
    "        if use_optimizer:\n",
    "            console.print(\"\\n[bold]Step 4: Optimizing Analysis[/bold]\")\n",
    "            optimizer_result = self.evaluator_optimizer.execute(stock_symbol, analysis)\n",
    "            final_analysis = optimizer_result[\"final_analysis\"]\n",
    "            workflow_result[\"optimization\"] = {\n",
    "                \"iterations\": optimizer_result[\"iterations\"],\n",
    "                \"final_quality_score\": optimizer_result[\"final_quality_score\"]\n",
    "            }\n",
    "        else:\n",
    "            final_analysis = analysis\n",
    "        \n",
    "        # Step 5: Store in memory\n",
    "        self.memory_system.add_memory(\n",
    "            stock_symbol, \"query_analysis\",\n",
    "            f\"Query: {user_query[:100]}... Result: {final_analysis[:200]}...\",\n",
    "            {\"query\": user_query, \"workflow\": workflow_strategy},\n",
    "            0.7, [\"query\", workflow_strategy]\n",
    "        )\n",
    "        \n",
    "        # Prepare final result\n",
    "        result = {\n",
    "            \"stock_symbol\": stock_symbol,\n",
    "            \"user_query\": user_query,\n",
    "            \"workflow_used\": workflow_strategy,\n",
    "            \"workflow_details\": workflow_result,\n",
    "            \"final_analysis\": final_analysis,\n",
    "            \"data_summary\": {\n",
    "                \"price\": data.get(\"historical_prices\", {}).get(\"latest_price\", \"N/A\"),\n",
    "                \"pe_ratio\": data.get(\"financial_metrics\", {}).get(\"pe_ratio\", \"N/A\"),\n",
    "                \"news_count\": len(data.get(\"news_data\", {}).get(\"news\", []))\n",
    "            },\n",
    "            \"timestamp\": datetime.now().isoformat(),\n",
    "            \"status\": \"completed\"\n",
    "        }\n",
    "        \n",
    "        console.print(\"\\n[bold green]✓ Query Processing Completed[/bold green]\")\n",
    "        return result\n",
    "    \n",
    "    def _collect_stock_data(self, stock_symbol: str) -> Dict[str, Any]:\n",
    "        \"\"\"Collect all necessary stock data, randomly choosing between Yahoo Finance and Alpha Vantage.\"\"\"\n",
    "        data = {}\n",
    "        \n",
    "        # Randomly choose primary data source\n",
    "        use_yahoo_first = random.choice([True, False])\n",
    "        primary_source = \"Yahoo Finance\" if use_yahoo_first else \"Alpha Vantage\"\n",
    "        fallback_source = \"Alpha Vantage\" if use_yahoo_first else \"Yahoo Finance\"\n",
    "        \n",
    "        console.print(f\"[bold magenta] Randomly selected primary source: {primary_source}[/bold magenta]\")\n",
    "        \n",
    "        # Fetch historical prices\n",
    "        if use_yahoo_first:\n",
    "            # Try Yahoo Finance first\n",
    "            try:\n",
    "                data[\"historical_prices\"] = self.data_wrapper.fetch_historical_prices(stock_symbol)\n",
    "                if \"error\" in data[\"historical_prices\"]:\n",
    "                    raise Exception(\"Yahoo Finance returned error\")\n",
    "            except Exception as e:\n",
    "                console.print(f\"[yellow]{primary_source} prices failed: {str(e)}. Trying {fallback_source}...[/yellow]\")\n",
    "                try:\n",
    "                    av_prices = self.alpha_vantage_wrapper.fetch_daily_prices(stock_symbol, outputsize=\"compact\")\n",
    "                    if \"error\" not in av_prices:\n",
    "                        data[\"historical_prices\"] = av_prices\n",
    "                        console.print(f\"[green]✓ Using {fallback_source} price data[/green]\")\n",
    "                    else:\n",
    "                        data[\"historical_prices\"] = {}\n",
    "                except Exception as av_e:\n",
    "                    console.print(f\"[red]{fallback_source} also failed: {str(av_e)}[/red]\")\n",
    "                    data[\"historical_prices\"] = {}\n",
    "        else:\n",
    "            # Try Alpha Vantage first\n",
    "            try:\n",
    "                av_prices = self.alpha_vantage_wrapper.fetch_daily_prices(stock_symbol, outputsize=\"compact\")\n",
    "                if \"error\" in av_prices:\n",
    "                    raise Exception(\"Alpha Vantage returned error\")\n",
    "                data[\"historical_prices\"] = av_prices\n",
    "            except Exception as e:\n",
    "                console.print(f\"[yellow]{primary_source} prices failed: {str(e)}. Trying {fallback_source}...[/yellow]\")\n",
    "                try:\n",
    "                    data[\"historical_prices\"] = self.data_wrapper.fetch_historical_prices(stock_symbol)\n",
    "                    if \"error\" in data[\"historical_prices\"]:\n",
    "                        data[\"historical_prices\"] = {}\n",
    "                    else:\n",
    "                        console.print(f\"[green]✓ Using {fallback_source} price data[/green]\")\n",
    "                except Exception as yf_e:\n",
    "                    console.print(f\"[red]{fallback_source} also failed: {str(yf_e)}[/red]\")\n",
    "                    data[\"historical_prices\"] = {}\n",
    "        \n",
    "        # Fetch financial metrics\n",
    "        if use_yahoo_first:\n",
    "            # Try Yahoo Finance first\n",
    "            try:\n",
    "                financial_result = self.data_wrapper.fetch_key_financials(stock_symbol)\n",
    "                if \"error\" in financial_result:\n",
    "                    raise Exception(\"Yahoo Finance returned error\")\n",
    "                data[\"financial_metrics\"] = financial_result.get(\"key_metrics\", {})\n",
    "            except Exception as e:\n",
    "                console.print(f\"[yellow]{primary_source} metrics failed: {str(e)}. Trying {fallback_source}...[/yellow]\")\n",
    "                try:\n",
    "                    av_overview = self.alpha_vantage_wrapper.fetch_company_overview(stock_symbol)\n",
    "                    if \"error\" not in av_overview:\n",
    "                        data[\"financial_metrics\"] = {\n",
    "                            \"symbol\": av_overview.get(\"symbol\"),\n",
    "                            \"company_name\": av_overview.get(\"company_name\"),\n",
    "                            \"sector\": av_overview.get(\"sector\"),\n",
    "                            \"industry\": av_overview.get(\"industry\"),\n",
    "                            \"market_cap\": av_overview.get(\"market_cap\"),\n",
    "                            \"pe_ratio\": av_overview.get(\"pe_ratio\"),\n",
    "                            \"beta\": av_overview.get(\"beta\"),\n",
    "                        }\n",
    "                        console.print(f\"[green]✓ Using {fallback_source} financial data[/green]\")\n",
    "                    else:\n",
    "                        data[\"financial_metrics\"] = {}\n",
    "                except Exception as av_e:\n",
    "                    console.print(f\"[red]{fallback_source} also failed: {str(av_e)}[/red]\")\n",
    "                    data[\"financial_metrics\"] = {}\n",
    "        else:\n",
    "            # Try Alpha Vantage first\n",
    "            try:\n",
    "                av_overview = self.alpha_vantage_wrapper.fetch_company_overview(stock_symbol)\n",
    "                if \"error\" in av_overview:\n",
    "                    raise Exception(\"Alpha Vantage returned error\")\n",
    "                data[\"financial_metrics\"] = {\n",
    "                    \"symbol\": av_overview.get(\"symbol\"),\n",
    "                    \"company_name\": av_overview.get(\"company_name\"),\n",
    "                    \"sector\": av_overview.get(\"sector\"),\n",
    "                    \"industry\": av_overview.get(\"industry\"),\n",
    "                    \"market_cap\": av_overview.get(\"market_cap\"),\n",
    "                    \"pe_ratio\": av_overview.get(\"pe_ratio\"),\n",
    "                    \"beta\": av_overview.get(\"beta\"),\n",
    "                }\n",
    "            except Exception as e:\n",
    "                console.print(f\"[yellow]{primary_source} metrics failed: {str(e)}. Trying {fallback_source}...[/yellow]\")\n",
    "                try:\n",
    "                    financial_result = self.data_wrapper.fetch_key_financials(stock_symbol)\n",
    "                    if \"error\" in financial_result:\n",
    "                        data[\"financial_metrics\"] = {}\n",
    "                    else:\n",
    "                        data[\"financial_metrics\"] = financial_result.get(\"key_metrics\", {})\n",
    "                        console.print(f\"[green]✓ Using {fallback_source} financial data[/green]\")\n",
    "                except Exception as yf_e:\n",
    "                    console.print(f\"[red]{fallback_source} also failed: {str(yf_e)}[/red]\")\n",
    "                    data[\"financial_metrics\"] = {}\n",
    "        \n",
    "        # Fetch news\n",
    "        if use_yahoo_first:\n",
    "            # Try Yahoo Finance first\n",
    "            try:\n",
    "                news_result = self.data_wrapper.fetch_stock_news(stock_symbol)\n",
    "                if \"error\" in news_result:\n",
    "                    raise Exception(\"Yahoo Finance returned error\")\n",
    "                data[\"news_data\"] = news_result\n",
    "            except Exception as e:\n",
    "                console.print(f\"[yellow]{primary_source} news failed: {str(e)}. Trying {fallback_source}...[/yellow]\")\n",
    "                try:\n",
    "                    av_news = self.alpha_vantage_wrapper.fetch_market_news_sentiment(tickers=stock_symbol, limit=10)\n",
    "                    if \"error\" not in av_news:\n",
    "                        data[\"news_data\"] = {\n",
    "                            \"symbol\": stock_symbol,\n",
    "                            \"total_articles\": av_news.get(\"total_articles\", 0),\n",
    "                            \"news\": av_news.get(\"articles\", []),\n",
    "                            \"sentiment_summary\": av_news.get(\"sentiment_summary\", {})\n",
    "                        }\n",
    "                        console.print(f\"[green]✓ Using {fallback_source} news data[/green]\")\n",
    "                    else:\n",
    "                        data[\"news_data\"] = {}\n",
    "                except Exception as av_e:\n",
    "                    console.print(f\"[red]{fallback_source} also failed: {str(av_e)}[/red]\")\n",
    "                    data[\"news_data\"] = {}\n",
    "        else:\n",
    "            # Try Alpha Vantage first\n",
    "            try:\n",
    "                av_news = self.alpha_vantage_wrapper.fetch_market_news_sentiment(tickers=stock_symbol, limit=10)\n",
    "                if \"error\" in av_news:\n",
    "                    raise Exception(\"Alpha Vantage returned error\")\n",
    "                data[\"news_data\"] = {\n",
    "                    \"symbol\": stock_symbol,\n",
    "                    \"total_articles\": av_news.get(\"total_articles\", 0),\n",
    "                    \"news\": av_news.get(\"articles\", []),\n",
    "                    \"sentiment_summary\": av_news.get(\"sentiment_summary\", {})\n",
    "                }\n",
    "            except Exception as e:\n",
    "                console.print(f\"[yellow]{primary_source} news failed: {str(e)}. Trying {fallback_source}...[/yellow]\")\n",
    "                try:\n",
    "                    news_result = self.data_wrapper.fetch_stock_news(stock_symbol)\n",
    "                    if \"error\" in news_result:\n",
    "                        data[\"news_data\"] = {}\n",
    "                    else:\n",
    "                        data[\"news_data\"] = news_result\n",
    "                        console.print(f\"[green]✓ Using {fallback_source} news data[/green]\")\n",
    "                except Exception as yf_e:\n",
    "                    console.print(f\"[red]{fallback_source} also failed: {str(yf_e)}[/red]\")\n",
    "                    data[\"news_data\"] = {}\n",
    "        \n",
    "        return data\n",
    "    \n",
    "    def _determine_workflow(self, query: str) -> str:\n",
    "        \"\"\"Determine which workflow to use based on query.\"\"\"\n",
    "        query_lower = query.lower()\n",
    "        \n",
    "        # Use LLM to determine workflow based on query content and intent\n",
    "        prompt = f\"\"\"Determine the most appropriate workflow for this investment query.\n",
    "\n",
    "                Query: {query}\n",
    "\n",
    "                Available workflows:\n",
    "                - news_chain: For queries focused on news, headlines, announcements, sentiment analysis\n",
    "                - routing: For specialist queries about earnings, technicals, or specific metrics\n",
    "                - comprehensive: For general investment questions needing broad analysis\n",
    "\n",
    "                Return just one word - the workflow that best matches.\"\"\"\n",
    "\n",
    "        response = self.llm.invoke([HumanMessage(content=prompt)])\n",
    "        workflow = response.content.strip().lower()\n",
    "        \n",
    "        if workflow in [\"news_chain\", \"routing\"]:\n",
    "            return workflow\n",
    "        else:\n",
    "            return \"comprehensive\"\n",
    "    \n",
    "    def _generate_comprehensive_analysis(self, stock_symbol: str, query: str, data: Dict[str, Any]) -> str:\n",
    "        \"\"\"Generate comprehensive analysis combining all data.\"\"\"\n",
    "        prompt = f\"\"\"Provide a comprehensive investment analysis for {stock_symbol}.\n",
    "\n",
    "                User Query: {query}\n",
    "\n",
    "                Price Data: Latest ${data.get('historical_prices', {}).get('latest_price', 'N/A')}\n",
    "                Change: {data.get('historical_prices', {}).get('price_change_pct', 'N/A')}%\n",
    "\n",
    "                Financial Metrics:\n",
    "                - P/E Ratio: {data.get('financial_metrics', {}).get('pe_ratio', 'N/A')}\n",
    "                - Market Cap: {data.get('financial_metrics', {}).get('market_cap', 'N/A')}\n",
    "                - Recommendation: {data.get('financial_metrics', {}).get('recommendation', 'N/A')}\n",
    "\n",
    "                News Articles: {len(data.get('news_data', {}).get('news', []))} articles available\n",
    "\n",
    "                Provide:\n",
    "                1. Overall assessment\n",
    "                2. Key strengths and risks\n",
    "                3. Investment recommendation\n",
    "                4. Price target or action items\n",
    "\n",
    "                Be specific and actionable.\"\"\"\n",
    "\n",
    "        response = self.llm.invoke([HumanMessage(content=prompt)])\n",
    "        return response.content\n",
    "\n"
   ]
  },
  {
   "cell_type": "markdown",
   "id": "1033684b",
   "metadata": {},
   "source": [
    "# Chat Module"
   ]
  },
  {
   "cell_type": "code",
   "execution_count": 17,
   "id": "b64ca84e",
   "metadata": {},
   "outputs": [],
   "source": [
    "def main():\n",
    "    \"\"\"Main function demonstrating agentic workflow capabilities.\"\"\"\n",
    "    # Initialize rich console\n",
    "    console = Console()\n",
    "    \n",
    "    console.print(Panel.fit(\n",
    "        \"[bold cyan]Investment Research Agent[/bold cyan]\\n\"\n",
    "        \"[white]Powered by Agentic Workflows[/white]\\n\"\n",
    "        \"[dim]With Natural Language Query Support & Alpha Vantage Integration[/dim]\",\n",
    "        border_style=\"cyan\"\n",
    "    ))\n",
    "    \n",
    "    # Initialize the agent\n",
    "    console.print(\"\\n[yellow]Initializing agent...[/yellow]\")\n",
    "    agent = InvestmentAgent()\n",
    "\n",
    "    # Example queries to demonstrate capabilities\n",
    "    example_queries = [\n",
    "        \"What's the latest updates on Apple stock?\",\n",
    "        \"Should I invest in Apple?\", \n",
    "        \"Tell me about Apple's performance\",\n",
    "        \"Is Apple a good buy right now?\",\n",
    "        \"What's the technical analysis for AAPL?\"\n",
    "    ]\n",
    "\n",
    "    for query in example_queries:\n",
    "        console.print(\"\\n\" + \"-\" * 60)\n",
    "        console.print(\"[bold]Example Query:[/bold]\")\n",
    "        console.print(f\"[cyan]{query}[/cyan]\")\n",
    "            \n",
    "        # Extract stock symbol from natural query\n",
    "        console.print(\"\\n\" + \"-\" * 60)\n",
    "        extraction_result = agent.extract_stock_symbol(query)\n",
    "            \n",
    "        if extraction_result.get('stock_symbol'):\n",
    "            stock_symbol = extraction_result['stock_symbol']\n",
    "            console.print(f\"\\n[bold green]✓ Identified Stock: {stock_symbol}[/bold green]\")\n",
    "            console.print(f\"[dim]Confidence: {extraction_result['confidence']} | Method: {extraction_result['method']}[/dim]\")\n",
    "                \n",
    "            # Auto-confirm for example queries\n",
    "            console.print(f\"\\n[bold cyan]Proceeding with {stock_symbol}...[/bold cyan]\")\n",
    "            \n",
    "            # Execute the main query with agentic workflows\n",
    "            console.print(\"\\n\" + \"-\" * 60)\n",
    "            result = agent.query(stock_symbol, query, use_optimizer=True)\n",
    "            \n",
    "            # Display results\n",
    "            console.print(\"\\n\" + \"-\" * 60)\n",
    "            console.print(Panel.fit(\n",
    "                \"[bold green]Analysis Complete[/bold green]\",\n",
    "                border_style=\"green\"\n",
    "            ))\n",
    "            \n",
    "            # Show workflow information\n",
    "            console.print(f\"\\n[bold]Workflow Used:[/bold] [yellow]{result['workflow_used']}[/yellow]\")\n",
    "            \n",
    "            if \"optimization\" in result[\"workflow_details\"]:\n",
    "                opt = result[\"workflow_details\"][\"optimization\"]\n",
    "                console.print(f\"[bold]Optimization:[/bold] {opt['iterations']} iterations, \"\n",
    "                             f\"Quality Score: {opt['final_quality_score']:.1f}/10\")\n",
    "            \n",
    "            # Show data summary\n",
    "            console.print(f\"\\n[bold]Data Summary:[/bold]\")\n",
    "            data_table = Table(show_header=False, box=None)\n",
    "            data_table.add_column(\"Metric\", style=\"cyan\")\n",
    "            data_table.add_column(\"Value\", style=\"white\")\n",
    "            \n",
    "            summary = result[\"data_summary\"]\n",
    "            data_table.add_row(\"Current Price\", f\"${summary['price']}\")\n",
    "            data_table.add_row(\"P/E Ratio\", str(summary['pe_ratio']))\n",
    "            data_table.add_row(\"News Articles\", str(summary['news_count']))\n",
    "            \n",
    "            console.print(data_table)\n",
    "            \n",
    "            # Show final analysis\n",
    "            console.print(f\"\\n[bold]Analysis:[/bold]\")\n",
    "            console.print(Panel(\n",
    "                result[\"final_analysis\"],\n",
    "                border_style=\"green\",\n",
    "                padding=(1, 2)\n",
    "            ))\n",
    "            \n",
    "            # Save to file\n",
    "            os.makedirs('recommendations', exist_ok=True)\n",
    "            timestamp = datetime.now().strftime('%Y%m%d_%H%M%S')\n",
    "            filename = f\"recommendations/{stock_symbol}_{timestamp}.md\"\n",
    "            \n",
    "            markdown_content = f\"\"\"# Investment Analysis for {stock_symbol}\n",
    "\n",
    "**Query:** {query}\n",
    "\n",
    "**Workflow Used:** {result['workflow_used']}\n",
    "\n",
    "**Generated:** {result['timestamp']}\n",
    "\n",
    "## Analysis\n",
    "\n",
    "{result['final_analysis']}\n",
    "\n",
    "## Data Summary\n",
    "\n",
    "- **Current Price:** ${summary['price']}\n",
    "- **P/E Ratio:** {summary['pe_ratio']}\n",
    "- **News Articles Analyzed:** {summary['news_count']}\n",
    "\n",
    "---\n",
    "\n",
    "*This analysis was generated using agentic workflows including prompt chaining, routing, and evaluator-optimizer patterns.*\n",
    "\"\"\"\n",
    "            \n",
    "            with open(filename, 'w') as f:\n",
    "                f.write(markdown_content)\n",
    "            \n",
    "            console.print(f\"\\n[green]✓ Analysis saved to:[/green] [cyan]{filename}[/cyan]\")\n",
    "            console.print(\"\\n\" + \"-\" * 60)\n",
    "\n",
    "        else:\n",
    "            console.print(f\"\\n[bold red]✗ Could not identify stock symbol[/bold red]\")\n",
    "            console.print(f\"[yellow]Error: {extraction_result.get('error', 'Unknown error')}[/yellow]\")\n",
    "            continue\n",
    "\n",
    "    console.print(\"\\n[bold cyan]Example queries completed![/bold cyan]\\n\")\n"
   ]
  },
  {
   "cell_type": "markdown",
   "id": "7d1dbf43",
   "metadata": {},
   "source": [
    "# Execute the process"
   ]
  },
  {
   "cell_type": "code",
   "execution_count": 18,
   "id": "dc31e4e5",
   "metadata": {},
   "outputs": [
    {
     "data": {
      "text/html": [
       "<pre style=\"white-space:pre;overflow-x:auto;line-height:normal;font-family:Menlo,'DejaVu Sans Mono',consolas,'Courier New',monospace\"><span style=\"color: #008080; text-decoration-color: #008080\">╭─────────────────────────────────────────────────────────────────╮</span>\n",
       "<span style=\"color: #008080; text-decoration-color: #008080\">│</span> <span style=\"color: #008080; text-decoration-color: #008080; font-weight: bold\">Investment Research Agent</span>                                       <span style=\"color: #008080; text-decoration-color: #008080\">│</span>\n",
       "<span style=\"color: #008080; text-decoration-color: #008080\">│</span> <span style=\"color: #c0c0c0; text-decoration-color: #c0c0c0\">Powered by Agentic Workflows</span>                                    <span style=\"color: #008080; text-decoration-color: #008080\">│</span>\n",
       "<span style=\"color: #008080; text-decoration-color: #008080\">│</span> <span style=\"color: #7f7f7f; text-decoration-color: #7f7f7f\">With Natural Language Query Support &amp; Alpha Vantage Integration</span> <span style=\"color: #008080; text-decoration-color: #008080\">│</span>\n",
       "<span style=\"color: #008080; text-decoration-color: #008080\">╰─────────────────────────────────────────────────────────────────╯</span>\n",
       "</pre>\n"
      ],
      "text/plain": [
       "\u001b[36m╭─────────────────────────────────────────────────────────────────╮\u001b[0m\n",
       "\u001b[36m│\u001b[0m \u001b[1;36mInvestment Research Agent\u001b[0m                                       \u001b[36m│\u001b[0m\n",
       "\u001b[36m│\u001b[0m \u001b[37mPowered by Agentic Workflows\u001b[0m                                    \u001b[36m│\u001b[0m\n",
       "\u001b[36m│\u001b[0m \u001b[2mWith Natural Language Query Support & Alpha Vantage Integration\u001b[0m \u001b[36m│\u001b[0m\n",
       "\u001b[36m╰─────────────────────────────────────────────────────────────────╯\u001b[0m\n"
      ]
     },
     "metadata": {},
     "output_type": "display_data"
    },
    {
     "data": {
      "text/html": [
       "<pre style=\"white-space:pre;overflow-x:auto;line-height:normal;font-family:Menlo,'DejaVu Sans Mono',consolas,'Courier New',monospace\">\n",
       "<span style=\"color: #808000; text-decoration-color: #808000\">Initializing agent...</span>\n",
       "</pre>\n"
      ],
      "text/plain": [
       "\n",
       "\u001b[33mInitializing agent\u001b[0m\u001b[33m...\u001b[0m\n"
      ]
     },
     "metadata": {},
     "output_type": "display_data"
    },
    {
     "data": {
      "text/html": [
       "<pre style=\"white-space:pre;overflow-x:auto;line-height:normal;font-family:Menlo,'DejaVu Sans Mono',consolas,'Courier New',monospace\"><span style=\"color: #008000; text-decoration-color: #008000; font-weight: bold\">Yahoo Finance Data Wrapper initialized</span>\n",
       "</pre>\n"
      ],
      "text/plain": [
       "\u001b[1;32mYahoo Finance Data Wrapper initialized\u001b[0m\n"
      ]
     },
     "metadata": {},
     "output_type": "display_data"
    },
    {
     "data": {
      "text/html": [
       "<pre style=\"white-space:pre;overflow-x:auto;line-height:normal;font-family:Menlo,'DejaVu Sans Mono',consolas,'Courier New',monospace\"><span style=\"color: #008000; text-decoration-color: #008000; font-weight: bold\">Alpha Vantage Data Wrapper initialized</span>\n",
       "</pre>\n"
      ],
      "text/plain": [
       "\u001b[1;32mAlpha Vantage Data Wrapper initialized\u001b[0m\n"
      ]
     },
     "metadata": {},
     "output_type": "display_data"
    },
    {
     "data": {
      "text/html": [
       "<pre style=\"white-space:pre;overflow-x:auto;line-height:normal;font-family:Menlo,'DejaVu Sans Mono',consolas,'Courier New',monospace\"><span style=\"color: #008000; text-decoration-color: #008000; font-weight: bold\">Web Tools Wrapper initialized</span>\n",
       "</pre>\n"
      ],
      "text/plain": [
       "\u001b[1;32mWeb Tools Wrapper initialized\u001b[0m\n"
      ]
     },
     "metadata": {},
     "output_type": "display_data"
    },
    {
     "data": {
      "text/html": [
       "<pre style=\"white-space:pre;overflow-x:auto;line-height:normal;font-family:Menlo,'DejaVu Sans Mono',consolas,'Courier New',monospace\"><span style=\"color: #008000; text-decoration-color: #008000; font-weight: bold\">Analyzer initialized</span>\n",
       "</pre>\n"
      ],
      "text/plain": [
       "\u001b[1;32mAnalyzer initialized\u001b[0m\n"
      ]
     },
     "metadata": {},
     "output_type": "display_data"
    },
    {
     "data": {
      "text/html": [
       "<pre style=\"white-space:pre;overflow-x:auto;line-height:normal;font-family:Menlo,'DejaVu Sans Mono',consolas,'Courier New',monospace\"><span style=\"color: #008000; text-decoration-color: #008000\">Loaded </span><span style=\"color: #008000; text-decoration-color: #008000; font-weight: bold\">25</span><span style=\"color: #008000; text-decoration-color: #008000\"> memories from file</span>\n",
       "</pre>\n"
      ],
      "text/plain": [
       "\u001b[32mLoaded \u001b[0m\u001b[1;32m25\u001b[0m\u001b[32m memories from file\u001b[0m\n"
      ]
     },
     "metadata": {},
     "output_type": "display_data"
    },
    {
     "data": {
      "text/html": [
       "<pre style=\"white-space:pre;overflow-x:auto;line-height:normal;font-family:Menlo,'DejaVu Sans Mono',consolas,'Courier New',monospace\"><span style=\"color: #008000; text-decoration-color: #008000; font-weight: bold\">Memory System initialized with </span><span style=\"color: #008000; text-decoration-color: #008000; font-weight: bold\">25</span><span style=\"color: #008000; text-decoration-color: #008000; font-weight: bold\"> memories</span>\n",
       "</pre>\n"
      ],
      "text/plain": [
       "\u001b[1;32mMemory System initialized with \u001b[0m\u001b[1;32m25\u001b[0m\u001b[1;32m memories\u001b[0m\n"
      ]
     },
     "metadata": {},
     "output_type": "display_data"
    },
    {
     "data": {
      "text/html": [
       "<pre style=\"white-space:pre;overflow-x:auto;line-height:normal;font-family:Menlo,'DejaVu Sans Mono',consolas,'Courier New',monospace\"><span style=\"color: #008000; text-decoration-color: #008000; font-weight: bold\">News Chain Workflow initialized</span>\n",
       "</pre>\n"
      ],
      "text/plain": [
       "\u001b[1;32mNews Chain Workflow initialized\u001b[0m\n"
      ]
     },
     "metadata": {},
     "output_type": "display_data"
    },
    {
     "data": {
      "text/html": [
       "<pre style=\"white-space:pre;overflow-x:auto;line-height:normal;font-family:Menlo,'DejaVu Sans Mono',consolas,'Courier New',monospace\"><span style=\"color: #008000; text-decoration-color: #008000; font-weight: bold\">Routing Workflow initialized</span>\n",
       "</pre>\n"
      ],
      "text/plain": [
       "\u001b[1;32mRouting Workflow initialized\u001b[0m\n"
      ]
     },
     "metadata": {},
     "output_type": "display_data"
    },
    {
     "data": {
      "text/html": [
       "<pre style=\"white-space:pre;overflow-x:auto;line-height:normal;font-family:Menlo,'DejaVu Sans Mono',consolas,'Courier New',monospace\"><span style=\"color: #008000; text-decoration-color: #008000; font-weight: bold\">Evaluator-Optimizer Workflow initialized</span>\n",
       "</pre>\n"
      ],
      "text/plain": [
       "\u001b[1;32mEvaluator-Optimizer Workflow initialized\u001b[0m\n"
      ]
     },
     "metadata": {},
     "output_type": "display_data"
    },
    {
     "data": {
      "text/html": [
       "<pre style=\"white-space:pre;overflow-x:auto;line-height:normal;font-family:Menlo,'DejaVu Sans Mono',consolas,'Courier New',monospace\"><span style=\"color: #008000; text-decoration-color: #008000; font-weight: bold\">Investment Research Agent initialized successfully</span>\n",
       "</pre>\n"
      ],
      "text/plain": [
       "\u001b[1;32mInvestment Research Agent initialized successfully\u001b[0m\n"
      ]
     },
     "metadata": {},
     "output_type": "display_data"
    },
    {
     "data": {
      "text/html": [
       "<pre style=\"white-space:pre;overflow-x:auto;line-height:normal;font-family:Menlo,'DejaVu Sans Mono',consolas,'Courier New',monospace\">\n",
       "------------------------------------------------------------\n",
       "</pre>\n"
      ],
      "text/plain": [
       "\n",
       "------------------------------------------------------------\n"
      ]
     },
     "metadata": {},
     "output_type": "display_data"
    },
    {
     "data": {
      "text/html": [
       "<pre style=\"white-space:pre;overflow-x:auto;line-height:normal;font-family:Menlo,'DejaVu Sans Mono',consolas,'Courier New',monospace\"><span style=\"font-weight: bold\">Example Query:</span>\n",
       "</pre>\n"
      ],
      "text/plain": [
       "\u001b[1mExample Query:\u001b[0m\n"
      ]
     },
     "metadata": {},
     "output_type": "display_data"
    },
    {
     "data": {
      "text/html": [
       "<pre style=\"white-space:pre;overflow-x:auto;line-height:normal;font-family:Menlo,'DejaVu Sans Mono',consolas,'Courier New',monospace\"><span style=\"color: #008080; text-decoration-color: #008080\">What's the latest updates on Apple stock?</span>\n",
       "</pre>\n"
      ],
      "text/plain": [
       "\u001b[36mWhat's the latest updates on Apple stock?\u001b[0m\n"
      ]
     },
     "metadata": {},
     "output_type": "display_data"
    },
    {
     "data": {
      "text/html": [
       "<pre style=\"white-space:pre;overflow-x:auto;line-height:normal;font-family:Menlo,'DejaVu Sans Mono',consolas,'Courier New',monospace\">\n",
       "------------------------------------------------------------\n",
       "</pre>\n"
      ],
      "text/plain": [
       "\n",
       "------------------------------------------------------------\n"
      ]
     },
     "metadata": {},
     "output_type": "display_data"
    },
    {
     "data": {
      "text/html": [
       "<pre style=\"white-space:pre;overflow-x:auto;line-height:normal;font-family:Menlo,'DejaVu Sans Mono',consolas,'Courier New',monospace\"><span style=\"color: #008080; text-decoration-color: #008080\">Extracting stock symbol from query...</span>\n",
       "</pre>\n"
      ],
      "text/plain": [
       "\u001b[36mExtracting stock symbol from query\u001b[0m\u001b[36m...\u001b[0m\n"
      ]
     },
     "metadata": {},
     "output_type": "display_data"
    },
    {
     "data": {
      "text/html": [
       "<pre style=\"white-space:pre;overflow-x:auto;line-height:normal;font-family:Menlo,'DejaVu Sans Mono',consolas,'Courier New',monospace\"><span style=\"color: #7f7f7f; text-decoration-color: #7f7f7f\">→ Checking most recent stock symbol from query history</span><span style=\"color: #bfbf7f; text-decoration-color: #bfbf7f\">...</span>\n",
       "</pre>\n"
      ],
      "text/plain": [
       "\u001b[2m→ Checking most recent stock symbol from query history\u001b[0m\u001b[2;33m...\u001b[0m\n"
      ]
     },
     "metadata": {},
     "output_type": "display_data"
    },
    {
     "data": {
      "text/html": [
       "<pre style=\"white-space:pre;overflow-x:auto;line-height:normal;font-family:Menlo,'DejaVu Sans Mono',consolas,'Courier New',monospace\"><span style=\"color: #008000; text-decoration-color: #008000\">✓ Found most recent stock symbol from history: GOOG</span>\n",
       "</pre>\n"
      ],
      "text/plain": [
       "\u001b[32m✓ Found most recent stock symbol from history: GOOG\u001b[0m\n"
      ]
     },
     "metadata": {},
     "output_type": "display_data"
    },
    {
     "data": {
      "text/html": [
       "<pre style=\"white-space:pre;overflow-x:auto;line-height:normal;font-family:Menlo,'DejaVu Sans Mono',consolas,'Courier New',monospace\"><span style=\"color: #7f7f7f; text-decoration-color: #7f7f7f\">  From: </span><span style=\"color: #7fbfbf; text-decoration-color: #7fbfbf; font-weight: bold\">2025</span><span style=\"color: #7f7f7f; text-decoration-color: #7f7f7f\">-</span><span style=\"color: #7fbfbf; text-decoration-color: #7fbfbf; font-weight: bold\">10</span><span style=\"color: #7f7f7f; text-decoration-color: #7f7f7f\">-18T</span><span style=\"color: #7fff7f; text-decoration-color: #7fff7f; font-weight: bold\">08:41:17</span><span style=\"color: #7f7f7f; text-decoration-color: #7f7f7f\">.</span><span style=\"color: #7fbfbf; text-decoration-color: #7fbfbf; font-weight: bold\">296659</span>\n",
       "</pre>\n"
      ],
      "text/plain": [
       "\u001b[2m  From: \u001b[0m\u001b[1;2;36m2025\u001b[0m\u001b[2m-\u001b[0m\u001b[1;2;36m10\u001b[0m\u001b[2m-18T\u001b[0m\u001b[1;2;92m08:41:17\u001b[0m\u001b[2m.\u001b[0m\u001b[1;2;36m296659\u001b[0m\n"
      ]
     },
     "metadata": {},
     "output_type": "display_data"
    },
    {
     "data": {
      "text/html": [
       "<pre style=\"white-space:pre;overflow-x:auto;line-height:normal;font-family:Menlo,'DejaVu Sans Mono',consolas,'Courier New',monospace\"><span style=\"color: #7f7f7f; text-decoration-color: #7f7f7f\">  Memory: Query: compare apple vs tesla?</span><span style=\"color: #bfbf7f; text-decoration-color: #bfbf7f\">...</span><span style=\"color: #7f7f7f; text-decoration-color: #7f7f7f\"> Result: ### Comprehensive Investment Analysis for Alphabet Inc. </span><span style=\"color: #7f7f7f; text-decoration-color: #7f7f7f; font-weight: bold\">(</span><span style=\"color: #7f7f7f; text-decoration-color: #7f7f7f\">G</span><span style=\"color: #bfbf7f; text-decoration-color: #bfbf7f\">...</span>\n",
       "</pre>\n"
      ],
      "text/plain": [
       "\u001b[2m  Memory: Query: compare apple vs tesla?\u001b[0m\u001b[2;33m...\u001b[0m\u001b[2m Result: ### Comprehensive Investment Analysis for Alphabet Inc. \u001b[0m\u001b[1;2m(\u001b[0m\u001b[2mG\u001b[0m\u001b[2;33m...\u001b[0m\n"
      ]
     },
     "metadata": {},
     "output_type": "display_data"
    },
    {
     "data": {
      "text/html": [
       "<pre style=\"white-space:pre;overflow-x:auto;line-height:normal;font-family:Menlo,'DejaVu Sans Mono',consolas,'Courier New',monospace\">\n",
       "<span style=\"color: #008000; text-decoration-color: #008000; font-weight: bold\">✓ Identified Stock: GOOG</span>\n",
       "</pre>\n"
      ],
      "text/plain": [
       "\n",
       "\u001b[1;32m✓ Identified Stock: GOOG\u001b[0m\n"
      ]
     },
     "metadata": {},
     "output_type": "display_data"
    },
    {
     "data": {
      "text/html": [
       "<pre style=\"white-space:pre;overflow-x:auto;line-height:normal;font-family:Menlo,'DejaVu Sans Mono',consolas,'Courier New',monospace\"><span style=\"color: #7f7f7f; text-decoration-color: #7f7f7f\">Confidence: high | Method: recent_history</span>\n",
       "</pre>\n"
      ],
      "text/plain": [
       "\u001b[2mConfidence: high | Method: recent_history\u001b[0m\n"
      ]
     },
     "metadata": {},
     "output_type": "display_data"
    },
    {
     "data": {
      "text/html": [
       "<pre style=\"white-space:pre;overflow-x:auto;line-height:normal;font-family:Menlo,'DejaVu Sans Mono',consolas,'Courier New',monospace\">\n",
       "<span style=\"color: #008080; text-decoration-color: #008080; font-weight: bold\">Proceeding with GOOG...</span>\n",
       "</pre>\n"
      ],
      "text/plain": [
       "\n",
       "\u001b[1;36mProceeding with GOOG\u001b[0m\u001b[1;36m...\u001b[0m\n"
      ]
     },
     "metadata": {},
     "output_type": "display_data"
    },
    {
     "data": {
      "text/html": [
       "<pre style=\"white-space:pre;overflow-x:auto;line-height:normal;font-family:Menlo,'DejaVu Sans Mono',consolas,'Courier New',monospace\">\n",
       "------------------------------------------------------------\n",
       "</pre>\n"
      ],
      "text/plain": [
       "\n",
       "------------------------------------------------------------\n"
      ]
     },
     "metadata": {},
     "output_type": "display_data"
    },
    {
     "data": {
      "text/html": [
       "<pre style=\"white-space:pre;overflow-x:auto;line-height:normal;font-family:Menlo,'DejaVu Sans Mono',consolas,'Courier New',monospace\"><span style=\"color: #008080; text-decoration-color: #008080\">╭──────────────────────────────────────────────────╮</span>\n",
       "<span style=\"color: #008080; text-decoration-color: #008080\">│</span> <span style=\"color: #008080; text-decoration-color: #008080; font-weight: bold\">Processing Query</span>                                 <span style=\"color: #008080; text-decoration-color: #008080\">│</span>\n",
       "<span style=\"color: #008080; text-decoration-color: #008080\">│</span> Stock: <span style=\"color: #808000; text-decoration-color: #808000\">GOOG</span>                                      <span style=\"color: #008080; text-decoration-color: #008080\">│</span>\n",
       "<span style=\"color: #008080; text-decoration-color: #008080\">│</span> Query: <span style=\"color: #c0c0c0; text-decoration-color: #c0c0c0\">What's the latest updates on Apple stock?</span> <span style=\"color: #008080; text-decoration-color: #008080\">│</span>\n",
       "<span style=\"color: #008080; text-decoration-color: #008080\">╰──────────────────────────────────────────────────╯</span>\n",
       "</pre>\n"
      ],
      "text/plain": [
       "\u001b[36m╭──────────────────────────────────────────────────╮\u001b[0m\n",
       "\u001b[36m│\u001b[0m \u001b[1;36mProcessing Query\u001b[0m                                 \u001b[36m│\u001b[0m\n",
       "\u001b[36m│\u001b[0m Stock: \u001b[33mGOOG\u001b[0m                                      \u001b[36m│\u001b[0m\n",
       "\u001b[36m│\u001b[0m Query: \u001b[37mWhat's the latest updates on Apple stock?\u001b[0m \u001b[36m│\u001b[0m\n",
       "\u001b[36m╰──────────────────────────────────────────────────╯\u001b[0m\n"
      ]
     },
     "metadata": {},
     "output_type": "display_data"
    },
    {
     "data": {
      "text/html": [
       "<pre style=\"white-space:pre;overflow-x:auto;line-height:normal;font-family:Menlo,'DejaVu Sans Mono',consolas,'Courier New',monospace\">\n",
       "<span style=\"font-weight: bold\">Step </span><span style=\"color: #008080; text-decoration-color: #008080; font-weight: bold\">1</span><span style=\"font-weight: bold\">: Gathering Data</span>\n",
       "</pre>\n"
      ],
      "text/plain": [
       "\n",
       "\u001b[1mStep \u001b[0m\u001b[1;36m1\u001b[0m\u001b[1m: Gathering Data\u001b[0m\n"
      ]
     },
     "metadata": {},
     "output_type": "display_data"
    },
    {
     "data": {
      "text/html": [
       "<pre style=\"white-space:pre;overflow-x:auto;line-height:normal;font-family:Menlo,'DejaVu Sans Mono',consolas,'Courier New',monospace\"><span style=\"color: #800080; text-decoration-color: #800080; font-weight: bold\"> Randomly selected primary source: Yahoo Finance</span>\n",
       "</pre>\n"
      ],
      "text/plain": [
       "\u001b[1;35m Randomly selected primary source: Yahoo Finance\u001b[0m\n"
      ]
     },
     "metadata": {},
     "output_type": "display_data"
    },
    {
     "data": {
      "text/html": [
       "<pre style=\"white-space:pre;overflow-x:auto;line-height:normal;font-family:Menlo,'DejaVu Sans Mono',consolas,'Courier New',monospace\">/Users/pankajshukla/Documents/Projects/usd-git/investment-research-agent/venv_agentic/lib/python3.12/site-packages/\n",
       "rich/live.py:256: UserWarning: install \"ipywidgets\" for Jupyter support\n",
       "  warnings.warn('install \"ipywidgets\" for Jupyter support')\n",
       "</pre>\n"
      ],
      "text/plain": [
       "/Users/pankajshukla/Documents/Projects/usd-git/investment-research-agent/venv_agentic/lib/python3.12/site-packages/\n",
       "rich/live.py:256: UserWarning: install \"ipywidgets\" for Jupyter support\n",
       "  warnings.warn('install \"ipywidgets\" for Jupyter support')\n"
      ]
     },
     "metadata": {},
     "output_type": "display_data"
    },
    {
     "data": {
      "text/html": [
       "<pre style=\"white-space:pre;overflow-x:auto;line-height:normal;font-family:Menlo,'DejaVu Sans Mono',consolas,'Courier New',monospace\">/Users/pankajshukla/Documents/Projects/usd-git/investment-research-agent/venv_agentic/lib/python3.12/site-packages/\n",
       "rich/live.py:256: UserWarning: install \"ipywidgets\" for Jupyter support\n",
       "  warnings.warn('install \"ipywidgets\" for Jupyter support')\n",
       "</pre>\n"
      ],
      "text/plain": [
       "/Users/pankajshukla/Documents/Projects/usd-git/investment-research-agent/venv_agentic/lib/python3.12/site-packages/\n",
       "rich/live.py:256: UserWarning: install \"ipywidgets\" for Jupyter support\n",
       "  warnings.warn('install \"ipywidgets\" for Jupyter support')\n"
      ]
     },
     "metadata": {},
     "output_type": "display_data"
    },
    {
     "data": {
      "text/html": [
       "<pre style=\"white-space:pre;overflow-x:auto;line-height:normal;font-family:Menlo,'DejaVu Sans Mono',consolas,'Courier New',monospace\">  <span style=\"color: #008080; text-decoration-color: #008080\">Calculating technical indicators...</span>\n",
       "</pre>\n"
      ],
      "text/plain": [
       "  \u001b[36mCalculating technical indicators...\u001b[0m\n"
      ]
     },
     "metadata": {},
     "output_type": "display_data"
    },
    {
     "data": {
      "text/html": [
       "<pre style=\"white-space:pre;overflow-x:auto;line-height:normal;font-family:Menlo,'DejaVu Sans Mono',consolas,'Courier New',monospace\"></pre>\n"
      ],
      "text/plain": []
     },
     "metadata": {},
     "output_type": "display_data"
    },
    {
     "data": {
      "text/html": [
       "<pre style=\"white-space:pre;overflow-x:auto;line-height:normal;font-family:Menlo,'DejaVu Sans Mono',consolas,'Courier New',monospace\">/Users/pankajshukla/Documents/Projects/usd-git/investment-research-agent/venv_agentic/lib/python3.12/site-packages/\n",
       "rich/live.py:256: UserWarning: install \"ipywidgets\" for Jupyter support\n",
       "  warnings.warn('install \"ipywidgets\" for Jupyter support')\n",
       "</pre>\n"
      ],
      "text/plain": [
       "/Users/pankajshukla/Documents/Projects/usd-git/investment-research-agent/venv_agentic/lib/python3.12/site-packages/\n",
       "rich/live.py:256: UserWarning: install \"ipywidgets\" for Jupyter support\n",
       "  warnings.warn('install \"ipywidgets\" for Jupyter support')\n"
      ]
     },
     "metadata": {},
     "output_type": "display_data"
    },
    {
     "data": {
      "text/html": [
       "<pre style=\"white-space:pre;overflow-x:auto;line-height:normal;font-family:Menlo,'DejaVu Sans Mono',consolas,'Courier New',monospace\"></pre>\n"
      ],
      "text/plain": []
     },
     "metadata": {},
     "output_type": "display_data"
    },
    {
     "data": {
      "text/html": [
       "<pre style=\"white-space:pre;overflow-x:auto;line-height:normal;font-family:Menlo,'DejaVu Sans Mono',consolas,'Courier New',monospace\"></pre>\n"
      ],
      "text/plain": []
     },
     "metadata": {},
     "output_type": "display_data"
    },
    {
     "data": {
      "text/html": [
       "<pre style=\"white-space:pre;overflow-x:auto;line-height:normal;font-family:Menlo,'DejaVu Sans Mono',consolas,'Courier New',monospace\">\n",
       "<span style=\"font-weight: bold\">Step </span><span style=\"color: #008080; text-decoration-color: #008080; font-weight: bold\">2</span><span style=\"font-weight: bold\">: Determining Workflow Strategy</span>\n",
       "</pre>\n"
      ],
      "text/plain": [
       "\n",
       "\u001b[1mStep \u001b[0m\u001b[1;36m2\u001b[0m\u001b[1m: Determining Workflow Strategy\u001b[0m\n"
      ]
     },
     "metadata": {},
     "output_type": "display_data"
    },
    {
     "name": "stderr",
     "output_type": "stream",
     "text": [
      "2025-10-18 08:55:17,089 - INFO - HTTP Request: POST https://api.openai.com/v1/chat/completions \"HTTP/1.1 200 OK\"\n"
     ]
    },
    {
     "data": {
      "text/html": [
       "<pre style=\"white-space:pre;overflow-x:auto;line-height:normal;font-family:Menlo,'DejaVu Sans Mono',consolas,'Courier New',monospace\"><span style=\"color: #808000; text-decoration-color: #808000\">→ Selected Strategy: news_chain</span>\n",
       "</pre>\n"
      ],
      "text/plain": [
       "\u001b[33m→ Selected Strategy: news_chain\u001b[0m\n"
      ]
     },
     "metadata": {},
     "output_type": "display_data"
    },
    {
     "data": {
      "text/html": [
       "<pre style=\"white-space:pre;overflow-x:auto;line-height:normal;font-family:Menlo,'DejaVu Sans Mono',consolas,'Courier New',monospace\">\n",
       "<span style=\"font-weight: bold\">Step </span><span style=\"color: #008080; text-decoration-color: #008080; font-weight: bold\">3</span><span style=\"font-weight: bold\">: Executing Workflow</span>\n",
       "</pre>\n"
      ],
      "text/plain": [
       "\n",
       "\u001b[1mStep \u001b[0m\u001b[1;36m3\u001b[0m\u001b[1m: Executing Workflow\u001b[0m\n"
      ]
     },
     "metadata": {},
     "output_type": "display_data"
    },
    {
     "data": {
      "text/html": [
       "<pre style=\"white-space:pre;overflow-x:auto;line-height:normal;font-family:Menlo,'DejaVu Sans Mono',consolas,'Courier New',monospace\"><span style=\"color: #008080; text-decoration-color: #008080\">Starting News Chain Workflow for GOOG</span>\n",
       "</pre>\n"
      ],
      "text/plain": [
       "\u001b[36mStarting News Chain Workflow for GOOG\u001b[0m\n"
      ]
     },
     "metadata": {},
     "output_type": "display_data"
    },
    {
     "data": {
      "text/html": [
       "<pre style=\"white-space:pre;overflow-x:auto;line-height:normal;font-family:Menlo,'DejaVu Sans Mono',consolas,'Courier New',monospace\"><span style=\"color: #7f7f7f; text-decoration-color: #7f7f7f\">→ Step </span><span style=\"color: #7fbfbf; text-decoration-color: #7fbfbf; font-weight: bold\">1</span><span style=\"color: #7f7f7f; text-decoration-color: #7f7f7f\">/</span><span style=\"color: #7fbfbf; text-decoration-color: #7fbfbf; font-weight: bold\">5</span><span style=\"color: #7f7f7f; text-decoration-color: #7f7f7f\">: Ingesting news</span><span style=\"color: #bfbf7f; text-decoration-color: #bfbf7f\">...</span>\n",
       "</pre>\n"
      ],
      "text/plain": [
       "\u001b[2m→ Step \u001b[0m\u001b[1;2;36m1\u001b[0m\u001b[2m/\u001b[0m\u001b[1;2;36m5\u001b[0m\u001b[2m: Ingesting news\u001b[0m\u001b[2;33m...\u001b[0m\n"
      ]
     },
     "metadata": {},
     "output_type": "display_data"
    },
    {
     "data": {
      "text/html": [
       "<pre style=\"white-space:pre;overflow-x:auto;line-height:normal;font-family:Menlo,'DejaVu Sans Mono',consolas,'Courier New',monospace\"><span style=\"color: #7f7f7f; text-decoration-color: #7f7f7f\">→ Step </span><span style=\"color: #7fbfbf; text-decoration-color: #7fbfbf; font-weight: bold\">2</span><span style=\"color: #7f7f7f; text-decoration-color: #7f7f7f\">/</span><span style=\"color: #7fbfbf; text-decoration-color: #7fbfbf; font-weight: bold\">5</span><span style=\"color: #7f7f7f; text-decoration-color: #7f7f7f\">: Preprocessing</span><span style=\"color: #bfbf7f; text-decoration-color: #bfbf7f\">...</span>\n",
       "</pre>\n"
      ],
      "text/plain": [
       "\u001b[2m→ Step \u001b[0m\u001b[1;2;36m2\u001b[0m\u001b[2m/\u001b[0m\u001b[1;2;36m5\u001b[0m\u001b[2m: Preprocessing\u001b[0m\u001b[2;33m...\u001b[0m\n"
      ]
     },
     "metadata": {},
     "output_type": "display_data"
    },
    {
     "name": "stderr",
     "output_type": "stream",
     "text": [
      "2025-10-18 08:55:21,390 - INFO - HTTP Request: POST https://api.openai.com/v1/chat/completions \"HTTP/1.1 200 OK\"\n"
     ]
    },
    {
     "data": {
      "text/html": [
       "<pre style=\"white-space:pre;overflow-x:auto;line-height:normal;font-family:Menlo,'DejaVu Sans Mono',consolas,'Courier New',monospace\"><span style=\"color: #7f7f7f; text-decoration-color: #7f7f7f\">→ Step </span><span style=\"color: #7fbfbf; text-decoration-color: #7fbfbf; font-weight: bold\">3</span><span style=\"color: #7f7f7f; text-decoration-color: #7f7f7f\">/</span><span style=\"color: #7fbfbf; text-decoration-color: #7fbfbf; font-weight: bold\">5</span><span style=\"color: #7f7f7f; text-decoration-color: #7f7f7f\">: Classifying</span><span style=\"color: #bfbf7f; text-decoration-color: #bfbf7f\">...</span>\n",
       "</pre>\n"
      ],
      "text/plain": [
       "\u001b[2m→ Step \u001b[0m\u001b[1;2;36m3\u001b[0m\u001b[2m/\u001b[0m\u001b[1;2;36m5\u001b[0m\u001b[2m: Classifying\u001b[0m\u001b[2;33m...\u001b[0m\n"
      ]
     },
     "metadata": {},
     "output_type": "display_data"
    },
    {
     "name": "stderr",
     "output_type": "stream",
     "text": [
      "2025-10-18 08:55:23,470 - INFO - HTTP Request: POST https://api.openai.com/v1/chat/completions \"HTTP/1.1 200 OK\"\n"
     ]
    },
    {
     "data": {
      "text/html": [
       "<pre style=\"white-space:pre;overflow-x:auto;line-height:normal;font-family:Menlo,'DejaVu Sans Mono',consolas,'Courier New',monospace\"><span style=\"color: #7f7f7f; text-decoration-color: #7f7f7f\">→ Step </span><span style=\"color: #7fbfbf; text-decoration-color: #7fbfbf; font-weight: bold\">4</span><span style=\"color: #7f7f7f; text-decoration-color: #7f7f7f\">/</span><span style=\"color: #7fbfbf; text-decoration-color: #7fbfbf; font-weight: bold\">5</span><span style=\"color: #7f7f7f; text-decoration-color: #7f7f7f\">: Extracting key points</span><span style=\"color: #bfbf7f; text-decoration-color: #bfbf7f\">...</span>\n",
       "</pre>\n"
      ],
      "text/plain": [
       "\u001b[2m→ Step \u001b[0m\u001b[1;2;36m4\u001b[0m\u001b[2m/\u001b[0m\u001b[1;2;36m5\u001b[0m\u001b[2m: Extracting key points\u001b[0m\u001b[2;33m...\u001b[0m\n"
      ]
     },
     "metadata": {},
     "output_type": "display_data"
    },
    {
     "name": "stderr",
     "output_type": "stream",
     "text": [
      "2025-10-18 08:55:26,292 - INFO - HTTP Request: POST https://api.openai.com/v1/chat/completions \"HTTP/1.1 200 OK\"\n"
     ]
    },
    {
     "data": {
      "text/html": [
       "<pre style=\"white-space:pre;overflow-x:auto;line-height:normal;font-family:Menlo,'DejaVu Sans Mono',consolas,'Courier New',monospace\"><span style=\"color: #7f7f7f; text-decoration-color: #7f7f7f\">→ Step </span><span style=\"color: #7fbfbf; text-decoration-color: #7fbfbf; font-weight: bold\">5</span><span style=\"color: #7f7f7f; text-decoration-color: #7f7f7f\">/</span><span style=\"color: #7fbfbf; text-decoration-color: #7fbfbf; font-weight: bold\">5</span><span style=\"color: #7f7f7f; text-decoration-color: #7f7f7f\">: Summarizing</span><span style=\"color: #bfbf7f; text-decoration-color: #bfbf7f\">...</span>\n",
       "</pre>\n"
      ],
      "text/plain": [
       "\u001b[2m→ Step \u001b[0m\u001b[1;2;36m5\u001b[0m\u001b[2m/\u001b[0m\u001b[1;2;36m5\u001b[0m\u001b[2m: Summarizing\u001b[0m\u001b[2;33m...\u001b[0m\n"
      ]
     },
     "metadata": {},
     "output_type": "display_data"
    },
    {
     "name": "stderr",
     "output_type": "stream",
     "text": [
      "2025-10-18 08:55:28,295 - INFO - HTTP Request: POST https://api.openai.com/v1/chat/completions \"HTTP/1.1 200 OK\"\n"
     ]
    },
    {
     "data": {
      "text/html": [
       "<pre style=\"white-space:pre;overflow-x:auto;line-height:normal;font-family:Menlo,'DejaVu Sans Mono',consolas,'Courier New',monospace\"><span style=\"color: #008000; text-decoration-color: #008000\">✓ News Chain completed</span>\n",
       "</pre>\n"
      ],
      "text/plain": [
       "\u001b[32m✓ News Chain completed\u001b[0m\n"
      ]
     },
     "metadata": {},
     "output_type": "display_data"
    },
    {
     "data": {
      "text/html": [
       "<pre style=\"white-space:pre;overflow-x:auto;line-height:normal;font-family:Menlo,'DejaVu Sans Mono',consolas,'Courier New',monospace\">\n",
       "<span style=\"font-weight: bold\">Step </span><span style=\"color: #008080; text-decoration-color: #008080; font-weight: bold\">4</span><span style=\"font-weight: bold\">: Optimizing Analysis</span>\n",
       "</pre>\n"
      ],
      "text/plain": [
       "\n",
       "\u001b[1mStep \u001b[0m\u001b[1;36m4\u001b[0m\u001b[1m: Optimizing Analysis\u001b[0m\n"
      ]
     },
     "metadata": {},
     "output_type": "display_data"
    },
    {
     "data": {
      "text/html": [
       "<pre style=\"white-space:pre;overflow-x:auto;line-height:normal;font-family:Menlo,'DejaVu Sans Mono',consolas,'Courier New',monospace\"><span style=\"color: #008080; text-decoration-color: #008080\">Starting Evaluator-Optimizer Workflow for GOOG</span>\n",
       "</pre>\n"
      ],
      "text/plain": [
       "\u001b[36mStarting Evaluator-Optimizer Workflow for GOOG\u001b[0m\n"
      ]
     },
     "metadata": {},
     "output_type": "display_data"
    },
    {
     "data": {
      "text/html": [
       "<pre style=\"white-space:pre;overflow-x:auto;line-height:normal;font-family:Menlo,'DejaVu Sans Mono',consolas,'Courier New',monospace\"><span style=\"color: #808000; text-decoration-color: #808000\">→ Iteration </span><span style=\"color: #808000; text-decoration-color: #808000; font-weight: bold\">1</span><span style=\"color: #808000; text-decoration-color: #808000\">/</span><span style=\"color: #808000; text-decoration-color: #808000; font-weight: bold\">2</span>\n",
       "</pre>\n"
      ],
      "text/plain": [
       "\u001b[33m→ Iteration \u001b[0m\u001b[1;33m1\u001b[0m\u001b[33m/\u001b[0m\u001b[1;33m2\u001b[0m\n"
      ]
     },
     "metadata": {},
     "output_type": "display_data"
    },
    {
     "data": {
      "text/html": [
       "<pre style=\"white-space:pre;overflow-x:auto;line-height:normal;font-family:Menlo,'DejaVu Sans Mono',consolas,'Courier New',monospace\"><span style=\"color: #7f7f7f; text-decoration-color: #7f7f7f\">→ Evaluating analysis quality</span><span style=\"color: #bfbf7f; text-decoration-color: #bfbf7f\">...</span>\n",
       "</pre>\n"
      ],
      "text/plain": [
       "\u001b[2m→ Evaluating analysis quality\u001b[0m\u001b[2;33m...\u001b[0m\n"
      ]
     },
     "metadata": {},
     "output_type": "display_data"
    },
    {
     "name": "stderr",
     "output_type": "stream",
     "text": [
      "2025-10-18 08:55:32,225 - INFO - HTTP Request: POST https://api.openai.com/v1/chat/completions \"HTTP/1.1 200 OK\"\n"
     ]
    },
    {
     "data": {
      "text/html": [
       "<pre style=\"white-space:pre;overflow-x:auto;line-height:normal;font-family:Menlo,'DejaVu Sans Mono',consolas,'Courier New',monospace\"><span style=\"color: #7f7f7f; text-decoration-color: #7f7f7f\">Quality Score: </span><span style=\"color: #7fbfbf; text-decoration-color: #7fbfbf; font-weight: bold\">6.50</span><span style=\"color: #7f7f7f; text-decoration-color: #7f7f7f\">/</span><span style=\"color: #7fbfbf; text-decoration-color: #7fbfbf; font-weight: bold\">10</span>\n",
       "</pre>\n"
      ],
      "text/plain": [
       "\u001b[2mQuality Score: \u001b[0m\u001b[1;2;36m6.50\u001b[0m\u001b[2m/\u001b[0m\u001b[1;2;36m10\u001b[0m\n"
      ]
     },
     "metadata": {},
     "output_type": "display_data"
    },
    {
     "data": {
      "text/html": [
       "<pre style=\"white-space:pre;overflow-x:auto;line-height:normal;font-family:Menlo,'DejaVu Sans Mono',consolas,'Courier New',monospace\"><span style=\"color: #7f7f7f; text-decoration-color: #7f7f7f\">→ Optimizing analysis</span><span style=\"color: #bfbf7f; text-decoration-color: #bfbf7f\">...</span>\n",
       "</pre>\n"
      ],
      "text/plain": [
       "\u001b[2m→ Optimizing analysis\u001b[0m\u001b[2;33m...\u001b[0m\n"
      ]
     },
     "metadata": {},
     "output_type": "display_data"
    },
    {
     "name": "stderr",
     "output_type": "stream",
     "text": [
      "2025-10-18 08:55:37,875 - INFO - HTTP Request: POST https://api.openai.com/v1/chat/completions \"HTTP/1.1 200 OK\"\n"
     ]
    },
    {
     "data": {
      "text/html": [
       "<pre style=\"white-space:pre;overflow-x:auto;line-height:normal;font-family:Menlo,'DejaVu Sans Mono',consolas,'Courier New',monospace\"><span style=\"color: #008000; text-decoration-color: #008000\">✓ Analysis optimized</span>\n",
       "</pre>\n"
      ],
      "text/plain": [
       "\u001b[32m✓ Analysis optimized\u001b[0m\n"
      ]
     },
     "metadata": {},
     "output_type": "display_data"
    },
    {
     "data": {
      "text/html": [
       "<pre style=\"white-space:pre;overflow-x:auto;line-height:normal;font-family:Menlo,'DejaVu Sans Mono',consolas,'Courier New',monospace\"><span style=\"color: #808000; text-decoration-color: #808000\">→ Iteration </span><span style=\"color: #808000; text-decoration-color: #808000; font-weight: bold\">2</span><span style=\"color: #808000; text-decoration-color: #808000\">/</span><span style=\"color: #808000; text-decoration-color: #808000; font-weight: bold\">2</span>\n",
       "</pre>\n"
      ],
      "text/plain": [
       "\u001b[33m→ Iteration \u001b[0m\u001b[1;33m2\u001b[0m\u001b[33m/\u001b[0m\u001b[1;33m2\u001b[0m\n"
      ]
     },
     "metadata": {},
     "output_type": "display_data"
    },
    {
     "data": {
      "text/html": [
       "<pre style=\"white-space:pre;overflow-x:auto;line-height:normal;font-family:Menlo,'DejaVu Sans Mono',consolas,'Courier New',monospace\"><span style=\"color: #7f7f7f; text-decoration-color: #7f7f7f\">→ Evaluating analysis quality</span><span style=\"color: #bfbf7f; text-decoration-color: #bfbf7f\">...</span>\n",
       "</pre>\n"
      ],
      "text/plain": [
       "\u001b[2m→ Evaluating analysis quality\u001b[0m\u001b[2;33m...\u001b[0m\n"
      ]
     },
     "metadata": {},
     "output_type": "display_data"
    },
    {
     "name": "stderr",
     "output_type": "stream",
     "text": [
      "2025-10-18 08:55:42,556 - INFO - HTTP Request: POST https://api.openai.com/v1/chat/completions \"HTTP/1.1 200 OK\"\n"
     ]
    },
    {
     "data": {
      "text/html": [
       "<pre style=\"white-space:pre;overflow-x:auto;line-height:normal;font-family:Menlo,'DejaVu Sans Mono',consolas,'Courier New',monospace\"><span style=\"color: #7f7f7f; text-decoration-color: #7f7f7f\">Quality Score: </span><span style=\"color: #7fbfbf; text-decoration-color: #7fbfbf; font-weight: bold\">7.00</span><span style=\"color: #7f7f7f; text-decoration-color: #7f7f7f\">/</span><span style=\"color: #7fbfbf; text-decoration-color: #7fbfbf; font-weight: bold\">10</span>\n",
       "</pre>\n"
      ],
      "text/plain": [
       "\u001b[2mQuality Score: \u001b[0m\u001b[1;2;36m7.00\u001b[0m\u001b[2m/\u001b[0m\u001b[1;2;36m10\u001b[0m\n"
      ]
     },
     "metadata": {},
     "output_type": "display_data"
    },
    {
     "data": {
      "text/html": [
       "<pre style=\"white-space:pre;overflow-x:auto;line-height:normal;font-family:Menlo,'DejaVu Sans Mono',consolas,'Courier New',monospace\"><span style=\"color: #7f7f7f; text-decoration-color: #7f7f7f\">→ Optimizing analysis</span><span style=\"color: #bfbf7f; text-decoration-color: #bfbf7f\">...</span>\n",
       "</pre>\n"
      ],
      "text/plain": [
       "\u001b[2m→ Optimizing analysis\u001b[0m\u001b[2;33m...\u001b[0m\n"
      ]
     },
     "metadata": {},
     "output_type": "display_data"
    },
    {
     "name": "stderr",
     "output_type": "stream",
     "text": [
      "2025-10-18 08:55:53,850 - INFO - HTTP Request: POST https://api.openai.com/v1/chat/completions \"HTTP/1.1 200 OK\"\n"
     ]
    },
    {
     "data": {
      "text/html": [
       "<pre style=\"white-space:pre;overflow-x:auto;line-height:normal;font-family:Menlo,'DejaVu Sans Mono',consolas,'Courier New',monospace\"><span style=\"color: #008000; text-decoration-color: #008000\">✓ Analysis optimized</span>\n",
       "</pre>\n"
      ],
      "text/plain": [
       "\u001b[32m✓ Analysis optimized\u001b[0m\n"
      ]
     },
     "metadata": {},
     "output_type": "display_data"
    },
    {
     "data": {
      "text/html": [
       "<pre style=\"white-space:pre;overflow-x:auto;line-height:normal;font-family:Menlo,'DejaVu Sans Mono',consolas,'Courier New',monospace\"><span style=\"color: #008000; text-decoration-color: #008000\">Saved </span><span style=\"color: #008000; text-decoration-color: #008000; font-weight: bold\">26</span><span style=\"color: #008000; text-decoration-color: #008000\"> memories to file</span>\n",
       "</pre>\n"
      ],
      "text/plain": [
       "\u001b[32mSaved \u001b[0m\u001b[1;32m26\u001b[0m\u001b[32m memories to file\u001b[0m\n"
      ]
     },
     "metadata": {},
     "output_type": "display_data"
    },
    {
     "data": {
      "text/html": [
       "<pre style=\"white-space:pre;overflow-x:auto;line-height:normal;font-family:Menlo,'DejaVu Sans Mono',consolas,'Courier New',monospace\"><span style=\"color: #008000; text-decoration-color: #008000\">Added memory for GOOG: query_analysis</span>\n",
       "</pre>\n"
      ],
      "text/plain": [
       "\u001b[32mAdded memory for GOOG: query_analysis\u001b[0m\n"
      ]
     },
     "metadata": {},
     "output_type": "display_data"
    },
    {
     "data": {
      "text/html": [
       "<pre style=\"white-space:pre;overflow-x:auto;line-height:normal;font-family:Menlo,'DejaVu Sans Mono',consolas,'Courier New',monospace\">\n",
       "<span style=\"color: #008000; text-decoration-color: #008000; font-weight: bold\">✓ Query Processing Completed</span>\n",
       "</pre>\n"
      ],
      "text/plain": [
       "\n",
       "\u001b[1;32m✓ Query Processing Completed\u001b[0m\n"
      ]
     },
     "metadata": {},
     "output_type": "display_data"
    },
    {
     "data": {
      "text/html": [
       "<pre style=\"white-space:pre;overflow-x:auto;line-height:normal;font-family:Menlo,'DejaVu Sans Mono',consolas,'Courier New',monospace\">\n",
       "------------------------------------------------------------\n",
       "</pre>\n"
      ],
      "text/plain": [
       "\n",
       "------------------------------------------------------------\n"
      ]
     },
     "metadata": {},
     "output_type": "display_data"
    },
    {
     "data": {
      "text/html": [
       "<pre style=\"white-space:pre;overflow-x:auto;line-height:normal;font-family:Menlo,'DejaVu Sans Mono',consolas,'Courier New',monospace\"><span style=\"color: #008000; text-decoration-color: #008000\">╭───────────────────╮</span>\n",
       "<span style=\"color: #008000; text-decoration-color: #008000\">│</span> <span style=\"color: #008000; text-decoration-color: #008000; font-weight: bold\">Analysis Complete</span> <span style=\"color: #008000; text-decoration-color: #008000\">│</span>\n",
       "<span style=\"color: #008000; text-decoration-color: #008000\">╰───────────────────╯</span>\n",
       "</pre>\n"
      ],
      "text/plain": [
       "\u001b[32m╭───────────────────╮\u001b[0m\n",
       "\u001b[32m│\u001b[0m \u001b[1;32mAnalysis Complete\u001b[0m \u001b[32m│\u001b[0m\n",
       "\u001b[32m╰───────────────────╯\u001b[0m\n"
      ]
     },
     "metadata": {},
     "output_type": "display_data"
    },
    {
     "data": {
      "text/html": [
       "<pre style=\"white-space:pre;overflow-x:auto;line-height:normal;font-family:Menlo,'DejaVu Sans Mono',consolas,'Courier New',monospace\">\n",
       "<span style=\"font-weight: bold\">Workflow Used:</span> <span style=\"color: #808000; text-decoration-color: #808000\">news_chain</span>\n",
       "</pre>\n"
      ],
      "text/plain": [
       "\n",
       "\u001b[1mWorkflow Used:\u001b[0m \u001b[33mnews_chain\u001b[0m\n"
      ]
     },
     "metadata": {},
     "output_type": "display_data"
    },
    {
     "data": {
      "text/html": [
       "<pre style=\"white-space:pre;overflow-x:auto;line-height:normal;font-family:Menlo,'DejaVu Sans Mono',consolas,'Courier New',monospace\"><span style=\"font-weight: bold\">Optimization:</span> <span style=\"color: #008080; text-decoration-color: #008080; font-weight: bold\">2</span> iterations, Quality Score: <span style=\"color: #008080; text-decoration-color: #008080; font-weight: bold\">7.0</span>/<span style=\"color: #008080; text-decoration-color: #008080; font-weight: bold\">10</span>\n",
       "</pre>\n"
      ],
      "text/plain": [
       "\u001b[1mOptimization:\u001b[0m \u001b[1;36m2\u001b[0m iterations, Quality Score: \u001b[1;36m7.0\u001b[0m/\u001b[1;36m10\u001b[0m\n"
      ]
     },
     "metadata": {},
     "output_type": "display_data"
    },
    {
     "data": {
      "text/html": [
       "<pre style=\"white-space:pre;overflow-x:auto;line-height:normal;font-family:Menlo,'DejaVu Sans Mono',consolas,'Courier New',monospace\">\n",
       "<span style=\"font-weight: bold\">Data Summary:</span>\n",
       "</pre>\n"
      ],
      "text/plain": [
       "\n",
       "\u001b[1mData Summary:\u001b[0m\n"
      ]
     },
     "metadata": {},
     "output_type": "display_data"
    },
    {
     "data": {
      "text/html": [
       "<pre style=\"white-space:pre;overflow-x:auto;line-height:normal;font-family:Menlo,'DejaVu Sans Mono',consolas,'Courier New',monospace\"><span style=\"color: #008080; text-decoration-color: #008080\"> Current Price </span><span style=\"color: #c0c0c0; text-decoration-color: #c0c0c0\"> $253.7899932861328 </span>\n",
       "<span style=\"color: #008080; text-decoration-color: #008080\"> P/E Ratio     </span><span style=\"color: #c0c0c0; text-decoration-color: #c0c0c0\"> 27.027687          </span>\n",
       "<span style=\"color: #008080; text-decoration-color: #008080\"> News Articles </span><span style=\"color: #c0c0c0; text-decoration-color: #c0c0c0\"> 5                  </span>\n",
       "</pre>\n"
      ],
      "text/plain": [
       "\u001b[36m \u001b[0m\u001b[36mCurrent Price\u001b[0m\u001b[36m \u001b[0m\u001b[37m \u001b[0m\u001b[37m$253.7899932861328\u001b[0m\u001b[37m \u001b[0m\n",
       "\u001b[36m \u001b[0m\u001b[36mP/E Ratio    \u001b[0m\u001b[36m \u001b[0m\u001b[37m \u001b[0m\u001b[37m27.027687         \u001b[0m\u001b[37m \u001b[0m\n",
       "\u001b[36m \u001b[0m\u001b[36mNews Articles\u001b[0m\u001b[36m \u001b[0m\u001b[37m \u001b[0m\u001b[37m5                 \u001b[0m\u001b[37m \u001b[0m\n"
      ]
     },
     "metadata": {},
     "output_type": "display_data"
    },
    {
     "data": {
      "text/html": [
       "<pre style=\"white-space:pre;overflow-x:auto;line-height:normal;font-family:Menlo,'DejaVu Sans Mono',consolas,'Courier New',monospace\">\n",
       "<span style=\"font-weight: bold\">Analysis:</span>\n",
       "</pre>\n"
      ],
      "text/plain": [
       "\n",
       "\u001b[1mAnalysis:\u001b[0m\n"
      ]
     },
     "metadata": {},
     "output_type": "display_data"
    },
    {
     "data": {
      "text/html": [
       "<pre style=\"white-space:pre;overflow-x:auto;line-height:normal;font-family:Menlo,'DejaVu Sans Mono',consolas,'Courier New',monospace\"><span style=\"color: #008000; text-decoration-color: #008000\">╭─────────────────────────────────────────────────────────────────────────────────────────────────────────────────╮</span>\n",
       "<span style=\"color: #008000; text-decoration-color: #008000\">│</span>                                                                                                                 <span style=\"color: #008000; text-decoration-color: #008000\">│</span>\n",
       "<span style=\"color: #008000; text-decoration-color: #008000\">│</span>  Certainly! Here’s an improved version of the investment analysis that addresses the evaluation feedback,       <span style=\"color: #008000; text-decoration-color: #008000\">│</span>\n",
       "<span style=\"color: #008000; text-decoration-color: #008000\">│</span>  incorporating more quantitative data, specific stock examples, simplified explanations of financial            <span style=\"color: #008000; text-decoration-color: #008000\">│</span>\n",
       "<span style=\"color: #008000; text-decoration-color: #008000\">│</span>  terminology, and a discussion of potential market risks.                                                       <span style=\"color: #008000; text-decoration-color: #008000\">│</span>\n",
       "<span style=\"color: #008000; text-decoration-color: #008000\">│</span>                                                                                                                 <span style=\"color: #008000; text-decoration-color: #008000\">│</span>\n",
       "<span style=\"color: #008000; text-decoration-color: #008000\">│</span>  ---                                                                                                            <span style=\"color: #008000; text-decoration-color: #008000\">│</span>\n",
       "<span style=\"color: #008000; text-decoration-color: #008000\">│</span>                                                                                                                 <span style=\"color: #008000; text-decoration-color: #008000\">│</span>\n",
       "<span style=\"color: #008000; text-decoration-color: #008000\">│</span>  **Improved Investment Analysis:**                                                                              <span style=\"color: #008000; text-decoration-color: #008000\">│</span>\n",
       "<span style=\"color: #008000; text-decoration-color: #008000\">│</span>                                                                                                                 <span style=\"color: #008000; text-decoration-color: #008000\">│</span>\n",
       "<span style=\"color: #008000; text-decoration-color: #008000\">│</span>  **Executive Summary:**                                                                                         <span style=\"color: #008000; text-decoration-color: #008000\">│</span>\n",
       "<span style=\"color: #008000; text-decoration-color: #008000\">│</span>                                                                                                                 <span style=\"color: #008000; text-decoration-color: #008000\">│</span>\n",
       "<span style=\"color: #008000; text-decoration-color: #008000\">│</span>  Recent financial analyses reveal that revenue and profit margins are set to diverge across key sectors,        <span style=\"color: #008000; text-decoration-color: #008000\">│</span>\n",
       "<span style=\"color: #008000; text-decoration-color: #008000\">│</span>  particularly technology, healthcare, and consumer discretionary. Stock price changes are projected to range    <span style=\"color: #008000; text-decoration-color: #008000\">│</span>\n",
       "<span style=\"color: #008000; text-decoration-color: #008000\">│</span>  from 5% to 10% following earnings reports due on November 15, 2023. Investors should monitor these results     <span style=\"color: #008000; text-decoration-color: #008000\">│</span>\n",
       "<span style=\"color: #008000; text-decoration-color: #008000\">│</span>  alongside crucial economic indicators, including the Consumer Price Index (CPI, which measures the average     <span style=\"color: #008000; text-decoration-color: #008000\">│</span>\n",
       "<span style=\"color: #008000; text-decoration-color: #008000\">│</span>  change over time in the prices paid by urban consumers for a market basket of consumer goods and services),    <span style=\"color: #008000; text-decoration-color: #008000\">│</span>\n",
       "<span style=\"color: #008000; text-decoration-color: #008000\">│</span>  Federal Reserve interest rate decisions, and employment data. These indicators are essential for predicting    <span style=\"color: #008000; text-decoration-color: #008000\">│</span>\n",
       "<span style=\"color: #008000; text-decoration-color: #008000\">│</span>  potential market trends.                                                                                       <span style=\"color: #008000; text-decoration-color: #008000\">│</span>\n",
       "<span style=\"color: #008000; text-decoration-color: #008000\">│</span>                                                                                                                 <span style=\"color: #008000; text-decoration-color: #008000\">│</span>\n",
       "<span style=\"color: #008000; text-decoration-color: #008000\">│</span>  **Main Takeaway for Investors:** To navigate current market uncertainties effectively, investors should        <span style=\"color: #008000; text-decoration-color: #008000\">│</span>\n",
       "<span style=\"color: #008000; text-decoration-color: #008000\">│</span>  concentrate on sector performance expectations and the implications of upcoming economic announcements.        <span style=\"color: #008000; text-decoration-color: #008000\">│</span>\n",
       "<span style=\"color: #008000; text-decoration-color: #008000\">│</span>                                                                                                                 <span style=\"color: #008000; text-decoration-color: #008000\">│</span>\n",
       "<span style=\"color: #008000; text-decoration-color: #008000\">│</span>  **Sector Analysis:**                                                                                           <span style=\"color: #008000; text-decoration-color: #008000\">│</span>\n",
       "<span style=\"color: #008000; text-decoration-color: #008000\">│</span>  1. **Technology:** Anticipated revenue growth is primarily driven by cloud services and artificial             <span style=\"color: #008000; text-decoration-color: #008000\">│</span>\n",
       "<span style=\"color: #008000; text-decoration-color: #008000\">│</span>  intelligence (AI) innovations. Companies like **Microsoft (MSFT)** and **Amazon (AMZN)** are expected to see   <span style=\"color: #008000; text-decoration-color: #008000\">│</span>\n",
       "<span style=\"color: #008000; text-decoration-color: #008000\">│</span>  stock price increases of approximately 7-9% as they report strong earnings driven by their cloud computing     <span style=\"color: #008000; text-decoration-color: #008000\">│</span>\n",
       "<span style=\"color: #008000; text-decoration-color: #008000\">│</span>  divisions.                                                                                                     <span style=\"color: #008000; text-decoration-color: #008000\">│</span>\n",
       "<span style=\"color: #008000; text-decoration-color: #008000\">│</span>                                                                                                                 <span style=\"color: #008000; text-decoration-color: #008000\">│</span>\n",
       "<span style=\"color: #008000; text-decoration-color: #008000\">│</span>  2. **Healthcare:** The anticipated performance in this sector is mixed due to ongoing regulatory scrutiny and  <span style=\"color: #008000; text-decoration-color: #008000\">│</span>\n",
       "<span style=\"color: #008000; text-decoration-color: #008000\">│</span>  patent expirations. For instance, **Pfizer (PFE)** may experience a decline of up to 5% due to uncertainty     <span style=\"color: #008000; text-decoration-color: #008000\">│</span>\n",
       "<span style=\"color: #008000; text-decoration-color: #008000\">│</span>  regarding its drug pipelines. However, companies such as **UnitedHealth Group (UNH)** may still show           <span style=\"color: #008000; text-decoration-color: #008000\">│</span>\n",
       "<span style=\"color: #008000; text-decoration-color: #008000\">│</span>  resilience, so investors should closely watch these specific stocks.                                           <span style=\"color: #008000; text-decoration-color: #008000\">│</span>\n",
       "<span style=\"color: #008000; text-decoration-color: #008000\">│</span>                                                                                                                 <span style=\"color: #008000; text-decoration-color: #008000\">│</span>\n",
       "<span style=\"color: #008000; text-decoration-color: #008000\">│</span>  3. **Consumer Discretionary:** With the holiday shopping season approaching, businesses in this sector could   <span style=\"color: #008000; text-decoration-color: #008000\">│</span>\n",
       "<span style=\"color: #008000; text-decoration-color: #008000\">│</span>  see stock price boosts of around 6-8%. E-commerce giants like **Alibaba (BABA)** and **Etsy (ETSY)** are       <span style=\"color: #008000; text-decoration-color: #008000\">│</span>\n",
       "<span style=\"color: #008000; text-decoration-color: #008000\">│</span>  well-positioned to capitalize on increased consumer spending.                                                  <span style=\"color: #008000; text-decoration-color: #008000\">│</span>\n",
       "<span style=\"color: #008000; text-decoration-color: #008000\">│</span>                                                                                                                 <span style=\"color: #008000; text-decoration-color: #008000\">│</span>\n",
       "<span style=\"color: #008000; text-decoration-color: #008000\">│</span>  **Specific Recommendations:**                                                                                  <span style=\"color: #008000; text-decoration-color: #008000\">│</span>\n",
       "<span style=\"color: #008000; text-decoration-color: #008000\">│</span>  - **Portfolio Adjustments:**                                                                                   <span style=\"color: #008000; text-decoration-color: #008000\">│</span>\n",
       "<span style=\"color: #008000; text-decoration-color: #008000\">│</span>    - **Increase Allocation:** Consider raising your exposure to technology stocks, particularly **NVIDIA        <span style=\"color: #008000; text-decoration-color: #008000\">│</span>\n",
       "<span style=\"color: #008000; text-decoration-color: #008000\">│</span>  (NVDA)**, which is heavily linked to AI advancements, and **Salesforce (CRM)** for its cloud services.         <span style=\"color: #008000; text-decoration-color: #008000\">│</span>\n",
       "<span style=\"color: #008000; text-decoration-color: #008000\">│</span>    - **Reduce Exposure:** Consider divesting from underperforming healthcare stocks like **AbbVie (ABBV)** due  <span style=\"color: #008000; text-decoration-color: #008000\">│</span>\n",
       "<span style=\"color: #008000; text-decoration-color: #008000\">│</span>  to potential regulatory risks and stagnant growth outlooks.                                                    <span style=\"color: #008000; text-decoration-color: #008000\">│</span>\n",
       "<span style=\"color: #008000; text-decoration-color: #008000\">│</span>                                                                                                                 <span style=\"color: #008000; text-decoration-color: #008000\">│</span>\n",
       "<span style=\"color: #008000; text-decoration-color: #008000\">│</span>  - **Focus on Economic Indicators:**                                                                            <span style=\"color: #008000; text-decoration-color: #008000\">│</span>\n",
       "<span style=\"color: #008000; text-decoration-color: #008000\">│</span>    - Pay close attention to the upcoming CPI report on November 10, which will provide insights into inflation  <span style=\"color: #008000; text-decoration-color: #008000\">│</span>\n",
       "<span style=\"color: #008000; text-decoration-color: #008000\">│</span>  trends, potentially influencing the Federal Reserve's interest rate policies. A significant uptick in CPI      <span style=\"color: #008000; text-decoration-color: #008000\">│</span>\n",
       "<span style=\"color: #008000; text-decoration-color: #008000\">│</span>  could lead to tighter monetary policies, impacting market liquidity.                                           <span style=\"color: #008000; text-decoration-color: #008000\">│</span>\n",
       "<span style=\"color: #008000; text-decoration-color: #008000\">│</span>    - Monitor employment data on November 3, which can inform consumer spending patterns, a critical driver for  <span style=\"color: #008000; text-decoration-color: #008000\">│</span>\n",
       "<span style=\"color: #008000; text-decoration-color: #008000\">│</span>  the consumer discretionary sector.                                                                             <span style=\"color: #008000; text-decoration-color: #008000\">│</span>\n",
       "<span style=\"color: #008000; text-decoration-color: #008000\">│</span>                                                                                                                 <span style=\"color: #008000; text-decoration-color: #008000\">│</span>\n",
       "<span style=\"color: #008000; text-decoration-color: #008000\">│</span>  **Market Risk Factors:**                                                                                       <span style=\"color: #008000; text-decoration-color: #008000\">│</span>\n",
       "<span style=\"color: #008000; text-decoration-color: #008000\">│</span>  It is important to consider the potential for market volatility driven by geopolitical tensions, supply chain  <span style=\"color: #008000; text-decoration-color: #008000\">│</span>\n",
       "<span style=\"color: #008000; text-decoration-color: #008000\">│</span>  disruptions, or unexpected shifts in consumer behavior. These factors could lead to investment risks,          <span style=\"color: #008000; text-decoration-color: #008000\">│</span>\n",
       "<span style=\"color: #008000; text-decoration-color: #008000\">│</span>  possibly affecting projections. For instance, inflationary pressures could dampen consumer spending,           <span style=\"color: #008000; text-decoration-color: #008000\">│</span>\n",
       "<span style=\"color: #008000; text-decoration-color: #008000\">│</span>  especially if interest rates rise faster than anticipated.                                                     <span style=\"color: #008000; text-decoration-color: #008000\">│</span>\n",
       "<span style=\"color: #008000; text-decoration-color: #008000\">│</span>                                                                                                                 <span style=\"color: #008000; text-decoration-color: #008000\">│</span>\n",
       "<span style=\"color: #008000; text-decoration-color: #008000\">│</span>  **Sentiment Indicator:** Current sentiment remains neutral, reflecting cautious optimism as investors weigh    <span style=\"color: #008000; text-decoration-color: #008000\">│</span>\n",
       "<span style=\"color: #008000; text-decoration-color: #008000\">│</span>  economic indicators against regulatory and geopolitical risks.                                                 <span style=\"color: #008000; text-decoration-color: #008000\">│</span>\n",
       "<span style=\"color: #008000; text-decoration-color: #008000\">│</span>                                                                                                                 <span style=\"color: #008000; text-decoration-color: #008000\">│</span>\n",
       "<span style=\"color: #008000; text-decoration-color: #008000\">│</span>  In summary, while neutral sentiment prevails in the marketplace, more detailed insights into sector            <span style=\"color: #008000; text-decoration-color: #008000\">│</span>\n",
       "<span style=\"color: #008000; text-decoration-color: #008000\">│</span>  performance, specific stock recommendations, and strategic portfolio adjustments can empower investors to      <span style=\"color: #008000; text-decoration-color: #008000\">│</span>\n",
       "<span style=\"color: #008000; text-decoration-color: #008000\">│</span>  make informed decisions during this period of volatility. Proactive monitoring and adjustments to investment   <span style=\"color: #008000; text-decoration-color: #008000\">│</span>\n",
       "<span style=\"color: #008000; text-decoration-color: #008000\">│</span>  portfolios based on upcoming data and market conditions will be crucial for navigating potential               <span style=\"color: #008000; text-decoration-color: #008000\">│</span>\n",
       "<span style=\"color: #008000; text-decoration-color: #008000\">│</span>  fluctuations.                                                                                                  <span style=\"color: #008000; text-decoration-color: #008000\">│</span>\n",
       "<span style=\"color: #008000; text-decoration-color: #008000\">│</span>                                                                                                                 <span style=\"color: #008000; text-decoration-color: #008000\">│</span>\n",
       "<span style=\"color: #008000; text-decoration-color: #008000\">│</span>  ---                                                                                                            <span style=\"color: #008000; text-decoration-color: #008000\">│</span>\n",
       "<span style=\"color: #008000; text-decoration-color: #008000\">│</span>                                                                                                                 <span style=\"color: #008000; text-decoration-color: #008000\">│</span>\n",
       "<span style=\"color: #008000; text-decoration-color: #008000\">│</span>  This revised analysis incorporates specific examples of stocks and provides quantitative backing for           <span style=\"color: #008000; text-decoration-color: #008000\">│</span>\n",
       "<span style=\"color: #008000; text-decoration-color: #008000\">│</span>  predictions. It also enhances clarity through the addition of definitions and a discussion on market risk      <span style=\"color: #008000; text-decoration-color: #008000\">│</span>\n",
       "<span style=\"color: #008000; text-decoration-color: #008000\">│</span>  factors, addressing the points raised in the evaluation feedback.                                              <span style=\"color: #008000; text-decoration-color: #008000\">│</span>\n",
       "<span style=\"color: #008000; text-decoration-color: #008000\">│</span>                                                                                                                 <span style=\"color: #008000; text-decoration-color: #008000\">│</span>\n",
       "<span style=\"color: #008000; text-decoration-color: #008000\">╰─────────────────────────────────────────────────────────────────────────────────────────────────────────────────╯</span>\n",
       "</pre>\n"
      ],
      "text/plain": [
       "\u001b[32m╭─────────────────────────────────────────────────────────────────────────────────────────────────────────────────╮\u001b[0m\n",
       "\u001b[32m│\u001b[0m                                                                                                                 \u001b[32m│\u001b[0m\n",
       "\u001b[32m│\u001b[0m  Certainly! Here’s an improved version of the investment analysis that addresses the evaluation feedback,       \u001b[32m│\u001b[0m\n",
       "\u001b[32m│\u001b[0m  incorporating more quantitative data, specific stock examples, simplified explanations of financial            \u001b[32m│\u001b[0m\n",
       "\u001b[32m│\u001b[0m  terminology, and a discussion of potential market risks.                                                       \u001b[32m│\u001b[0m\n",
       "\u001b[32m│\u001b[0m                                                                                                                 \u001b[32m│\u001b[0m\n",
       "\u001b[32m│\u001b[0m  ---                                                                                                            \u001b[32m│\u001b[0m\n",
       "\u001b[32m│\u001b[0m                                                                                                                 \u001b[32m│\u001b[0m\n",
       "\u001b[32m│\u001b[0m  **Improved Investment Analysis:**                                                                              \u001b[32m│\u001b[0m\n",
       "\u001b[32m│\u001b[0m                                                                                                                 \u001b[32m│\u001b[0m\n",
       "\u001b[32m│\u001b[0m  **Executive Summary:**                                                                                         \u001b[32m│\u001b[0m\n",
       "\u001b[32m│\u001b[0m                                                                                                                 \u001b[32m│\u001b[0m\n",
       "\u001b[32m│\u001b[0m  Recent financial analyses reveal that revenue and profit margins are set to diverge across key sectors,        \u001b[32m│\u001b[0m\n",
       "\u001b[32m│\u001b[0m  particularly technology, healthcare, and consumer discretionary. Stock price changes are projected to range    \u001b[32m│\u001b[0m\n",
       "\u001b[32m│\u001b[0m  from 5% to 10% following earnings reports due on November 15, 2023. Investors should monitor these results     \u001b[32m│\u001b[0m\n",
       "\u001b[32m│\u001b[0m  alongside crucial economic indicators, including the Consumer Price Index (CPI, which measures the average     \u001b[32m│\u001b[0m\n",
       "\u001b[32m│\u001b[0m  change over time in the prices paid by urban consumers for a market basket of consumer goods and services),    \u001b[32m│\u001b[0m\n",
       "\u001b[32m│\u001b[0m  Federal Reserve interest rate decisions, and employment data. These indicators are essential for predicting    \u001b[32m│\u001b[0m\n",
       "\u001b[32m│\u001b[0m  potential market trends.                                                                                       \u001b[32m│\u001b[0m\n",
       "\u001b[32m│\u001b[0m                                                                                                                 \u001b[32m│\u001b[0m\n",
       "\u001b[32m│\u001b[0m  **Main Takeaway for Investors:** To navigate current market uncertainties effectively, investors should        \u001b[32m│\u001b[0m\n",
       "\u001b[32m│\u001b[0m  concentrate on sector performance expectations and the implications of upcoming economic announcements.        \u001b[32m│\u001b[0m\n",
       "\u001b[32m│\u001b[0m                                                                                                                 \u001b[32m│\u001b[0m\n",
       "\u001b[32m│\u001b[0m  **Sector Analysis:**                                                                                           \u001b[32m│\u001b[0m\n",
       "\u001b[32m│\u001b[0m  1. **Technology:** Anticipated revenue growth is primarily driven by cloud services and artificial             \u001b[32m│\u001b[0m\n",
       "\u001b[32m│\u001b[0m  intelligence (AI) innovations. Companies like **Microsoft (MSFT)** and **Amazon (AMZN)** are expected to see   \u001b[32m│\u001b[0m\n",
       "\u001b[32m│\u001b[0m  stock price increases of approximately 7-9% as they report strong earnings driven by their cloud computing     \u001b[32m│\u001b[0m\n",
       "\u001b[32m│\u001b[0m  divisions.                                                                                                     \u001b[32m│\u001b[0m\n",
       "\u001b[32m│\u001b[0m                                                                                                                 \u001b[32m│\u001b[0m\n",
       "\u001b[32m│\u001b[0m  2. **Healthcare:** The anticipated performance in this sector is mixed due to ongoing regulatory scrutiny and  \u001b[32m│\u001b[0m\n",
       "\u001b[32m│\u001b[0m  patent expirations. For instance, **Pfizer (PFE)** may experience a decline of up to 5% due to uncertainty     \u001b[32m│\u001b[0m\n",
       "\u001b[32m│\u001b[0m  regarding its drug pipelines. However, companies such as **UnitedHealth Group (UNH)** may still show           \u001b[32m│\u001b[0m\n",
       "\u001b[32m│\u001b[0m  resilience, so investors should closely watch these specific stocks.                                           \u001b[32m│\u001b[0m\n",
       "\u001b[32m│\u001b[0m                                                                                                                 \u001b[32m│\u001b[0m\n",
       "\u001b[32m│\u001b[0m  3. **Consumer Discretionary:** With the holiday shopping season approaching, businesses in this sector could   \u001b[32m│\u001b[0m\n",
       "\u001b[32m│\u001b[0m  see stock price boosts of around 6-8%. E-commerce giants like **Alibaba (BABA)** and **Etsy (ETSY)** are       \u001b[32m│\u001b[0m\n",
       "\u001b[32m│\u001b[0m  well-positioned to capitalize on increased consumer spending.                                                  \u001b[32m│\u001b[0m\n",
       "\u001b[32m│\u001b[0m                                                                                                                 \u001b[32m│\u001b[0m\n",
       "\u001b[32m│\u001b[0m  **Specific Recommendations:**                                                                                  \u001b[32m│\u001b[0m\n",
       "\u001b[32m│\u001b[0m  - **Portfolio Adjustments:**                                                                                   \u001b[32m│\u001b[0m\n",
       "\u001b[32m│\u001b[0m    - **Increase Allocation:** Consider raising your exposure to technology stocks, particularly **NVIDIA        \u001b[32m│\u001b[0m\n",
       "\u001b[32m│\u001b[0m  (NVDA)**, which is heavily linked to AI advancements, and **Salesforce (CRM)** for its cloud services.         \u001b[32m│\u001b[0m\n",
       "\u001b[32m│\u001b[0m    - **Reduce Exposure:** Consider divesting from underperforming healthcare stocks like **AbbVie (ABBV)** due  \u001b[32m│\u001b[0m\n",
       "\u001b[32m│\u001b[0m  to potential regulatory risks and stagnant growth outlooks.                                                    \u001b[32m│\u001b[0m\n",
       "\u001b[32m│\u001b[0m                                                                                                                 \u001b[32m│\u001b[0m\n",
       "\u001b[32m│\u001b[0m  - **Focus on Economic Indicators:**                                                                            \u001b[32m│\u001b[0m\n",
       "\u001b[32m│\u001b[0m    - Pay close attention to the upcoming CPI report on November 10, which will provide insights into inflation  \u001b[32m│\u001b[0m\n",
       "\u001b[32m│\u001b[0m  trends, potentially influencing the Federal Reserve's interest rate policies. A significant uptick in CPI      \u001b[32m│\u001b[0m\n",
       "\u001b[32m│\u001b[0m  could lead to tighter monetary policies, impacting market liquidity.                                           \u001b[32m│\u001b[0m\n",
       "\u001b[32m│\u001b[0m    - Monitor employment data on November 3, which can inform consumer spending patterns, a critical driver for  \u001b[32m│\u001b[0m\n",
       "\u001b[32m│\u001b[0m  the consumer discretionary sector.                                                                             \u001b[32m│\u001b[0m\n",
       "\u001b[32m│\u001b[0m                                                                                                                 \u001b[32m│\u001b[0m\n",
       "\u001b[32m│\u001b[0m  **Market Risk Factors:**                                                                                       \u001b[32m│\u001b[0m\n",
       "\u001b[32m│\u001b[0m  It is important to consider the potential for market volatility driven by geopolitical tensions, supply chain  \u001b[32m│\u001b[0m\n",
       "\u001b[32m│\u001b[0m  disruptions, or unexpected shifts in consumer behavior. These factors could lead to investment risks,          \u001b[32m│\u001b[0m\n",
       "\u001b[32m│\u001b[0m  possibly affecting projections. For instance, inflationary pressures could dampen consumer spending,           \u001b[32m│\u001b[0m\n",
       "\u001b[32m│\u001b[0m  especially if interest rates rise faster than anticipated.                                                     \u001b[32m│\u001b[0m\n",
       "\u001b[32m│\u001b[0m                                                                                                                 \u001b[32m│\u001b[0m\n",
       "\u001b[32m│\u001b[0m  **Sentiment Indicator:** Current sentiment remains neutral, reflecting cautious optimism as investors weigh    \u001b[32m│\u001b[0m\n",
       "\u001b[32m│\u001b[0m  economic indicators against regulatory and geopolitical risks.                                                 \u001b[32m│\u001b[0m\n",
       "\u001b[32m│\u001b[0m                                                                                                                 \u001b[32m│\u001b[0m\n",
       "\u001b[32m│\u001b[0m  In summary, while neutral sentiment prevails in the marketplace, more detailed insights into sector            \u001b[32m│\u001b[0m\n",
       "\u001b[32m│\u001b[0m  performance, specific stock recommendations, and strategic portfolio adjustments can empower investors to      \u001b[32m│\u001b[0m\n",
       "\u001b[32m│\u001b[0m  make informed decisions during this period of volatility. Proactive monitoring and adjustments to investment   \u001b[32m│\u001b[0m\n",
       "\u001b[32m│\u001b[0m  portfolios based on upcoming data and market conditions will be crucial for navigating potential               \u001b[32m│\u001b[0m\n",
       "\u001b[32m│\u001b[0m  fluctuations.                                                                                                  \u001b[32m│\u001b[0m\n",
       "\u001b[32m│\u001b[0m                                                                                                                 \u001b[32m│\u001b[0m\n",
       "\u001b[32m│\u001b[0m  ---                                                                                                            \u001b[32m│\u001b[0m\n",
       "\u001b[32m│\u001b[0m                                                                                                                 \u001b[32m│\u001b[0m\n",
       "\u001b[32m│\u001b[0m  This revised analysis incorporates specific examples of stocks and provides quantitative backing for           \u001b[32m│\u001b[0m\n",
       "\u001b[32m│\u001b[0m  predictions. It also enhances clarity through the addition of definitions and a discussion on market risk      \u001b[32m│\u001b[0m\n",
       "\u001b[32m│\u001b[0m  factors, addressing the points raised in the evaluation feedback.                                              \u001b[32m│\u001b[0m\n",
       "\u001b[32m│\u001b[0m                                                                                                                 \u001b[32m│\u001b[0m\n",
       "\u001b[32m╰─────────────────────────────────────────────────────────────────────────────────────────────────────────────────╯\u001b[0m\n"
      ]
     },
     "metadata": {},
     "output_type": "display_data"
    },
    {
     "data": {
      "text/html": [
       "<pre style=\"white-space:pre;overflow-x:auto;line-height:normal;font-family:Menlo,'DejaVu Sans Mono',consolas,'Courier New',monospace\">\n",
       "<span style=\"color: #008000; text-decoration-color: #008000\">✓ Analysis saved to:</span> <span style=\"color: #008080; text-decoration-color: #008080\">recommendations/GOOG_20251018_085553.md</span>\n",
       "</pre>\n"
      ],
      "text/plain": [
       "\n",
       "\u001b[32m✓ Analysis saved to:\u001b[0m \u001b[36mrecommendations/GOOG_20251018_085553.md\u001b[0m\n"
      ]
     },
     "metadata": {},
     "output_type": "display_data"
    },
    {
     "data": {
      "text/html": [
       "<pre style=\"white-space:pre;overflow-x:auto;line-height:normal;font-family:Menlo,'DejaVu Sans Mono',consolas,'Courier New',monospace\">\n",
       "------------------------------------------------------------\n",
       "</pre>\n"
      ],
      "text/plain": [
       "\n",
       "------------------------------------------------------------\n"
      ]
     },
     "metadata": {},
     "output_type": "display_data"
    },
    {
     "data": {
      "text/html": [
       "<pre style=\"white-space:pre;overflow-x:auto;line-height:normal;font-family:Menlo,'DejaVu Sans Mono',consolas,'Courier New',monospace\">\n",
       "------------------------------------------------------------\n",
       "</pre>\n"
      ],
      "text/plain": [
       "\n",
       "------------------------------------------------------------\n"
      ]
     },
     "metadata": {},
     "output_type": "display_data"
    },
    {
     "data": {
      "text/html": [
       "<pre style=\"white-space:pre;overflow-x:auto;line-height:normal;font-family:Menlo,'DejaVu Sans Mono',consolas,'Courier New',monospace\"><span style=\"font-weight: bold\">Example Query:</span>\n",
       "</pre>\n"
      ],
      "text/plain": [
       "\u001b[1mExample Query:\u001b[0m\n"
      ]
     },
     "metadata": {},
     "output_type": "display_data"
    },
    {
     "data": {
      "text/html": [
       "<pre style=\"white-space:pre;overflow-x:auto;line-height:normal;font-family:Menlo,'DejaVu Sans Mono',consolas,'Courier New',monospace\"><span style=\"color: #008080; text-decoration-color: #008080\">Should I invest in Apple?</span>\n",
       "</pre>\n"
      ],
      "text/plain": [
       "\u001b[36mShould I invest in Apple?\u001b[0m\n"
      ]
     },
     "metadata": {},
     "output_type": "display_data"
    },
    {
     "data": {
      "text/html": [
       "<pre style=\"white-space:pre;overflow-x:auto;line-height:normal;font-family:Menlo,'DejaVu Sans Mono',consolas,'Courier New',monospace\">\n",
       "------------------------------------------------------------\n",
       "</pre>\n"
      ],
      "text/plain": [
       "\n",
       "------------------------------------------------------------\n"
      ]
     },
     "metadata": {},
     "output_type": "display_data"
    },
    {
     "data": {
      "text/html": [
       "<pre style=\"white-space:pre;overflow-x:auto;line-height:normal;font-family:Menlo,'DejaVu Sans Mono',consolas,'Courier New',monospace\"><span style=\"color: #008080; text-decoration-color: #008080\">Extracting stock symbol from query...</span>\n",
       "</pre>\n"
      ],
      "text/plain": [
       "\u001b[36mExtracting stock symbol from query\u001b[0m\u001b[36m...\u001b[0m\n"
      ]
     },
     "metadata": {},
     "output_type": "display_data"
    },
    {
     "data": {
      "text/html": [
       "<pre style=\"white-space:pre;overflow-x:auto;line-height:normal;font-family:Menlo,'DejaVu Sans Mono',consolas,'Courier New',monospace\"><span style=\"color: #7f7f7f; text-decoration-color: #7f7f7f\">→ Checking most recent stock symbol from query history</span><span style=\"color: #bfbf7f; text-decoration-color: #bfbf7f\">...</span>\n",
       "</pre>\n"
      ],
      "text/plain": [
       "\u001b[2m→ Checking most recent stock symbol from query history\u001b[0m\u001b[2;33m...\u001b[0m\n"
      ]
     },
     "metadata": {},
     "output_type": "display_data"
    },
    {
     "data": {
      "text/html": [
       "<pre style=\"white-space:pre;overflow-x:auto;line-height:normal;font-family:Menlo,'DejaVu Sans Mono',consolas,'Courier New',monospace\"><span style=\"color: #008000; text-decoration-color: #008000\">✓ Found most recent stock symbol from history: GOOG</span>\n",
       "</pre>\n"
      ],
      "text/plain": [
       "\u001b[32m✓ Found most recent stock symbol from history: GOOG\u001b[0m\n"
      ]
     },
     "metadata": {},
     "output_type": "display_data"
    },
    {
     "data": {
      "text/html": [
       "<pre style=\"white-space:pre;overflow-x:auto;line-height:normal;font-family:Menlo,'DejaVu Sans Mono',consolas,'Courier New',monospace\"><span style=\"color: #7f7f7f; text-decoration-color: #7f7f7f\">  From: </span><span style=\"color: #7fbfbf; text-decoration-color: #7fbfbf; font-weight: bold\">2025</span><span style=\"color: #7f7f7f; text-decoration-color: #7f7f7f\">-</span><span style=\"color: #7fbfbf; text-decoration-color: #7fbfbf; font-weight: bold\">10</span><span style=\"color: #7f7f7f; text-decoration-color: #7f7f7f\">-18T</span><span style=\"color: #7fff7f; text-decoration-color: #7fff7f; font-weight: bold\">08:55:53</span><span style=\"color: #7f7f7f; text-decoration-color: #7f7f7f\">.</span><span style=\"color: #7fbfbf; text-decoration-color: #7fbfbf; font-weight: bold\">855067</span>\n",
       "</pre>\n"
      ],
      "text/plain": [
       "\u001b[2m  From: \u001b[0m\u001b[1;2;36m2025\u001b[0m\u001b[2m-\u001b[0m\u001b[1;2;36m10\u001b[0m\u001b[2m-18T\u001b[0m\u001b[1;2;92m08:55:53\u001b[0m\u001b[2m.\u001b[0m\u001b[1;2;36m855067\u001b[0m\n"
      ]
     },
     "metadata": {},
     "output_type": "display_data"
    },
    {
     "data": {
      "text/html": [
       "<pre style=\"white-space:pre;overflow-x:auto;line-height:normal;font-family:Menlo,'DejaVu Sans Mono',consolas,'Courier New',monospace\"><span style=\"color: #7f7f7f; text-decoration-color: #7f7f7f\">  Memory: Query: What's the latest updates on Apple stock?</span><span style=\"color: #bfbf7f; text-decoration-color: #bfbf7f\">...</span><span style=\"color: #7f7f7f; text-decoration-color: #7f7f7f\"> Result: Certainly! Here’s an improved version of</span><span style=\"color: #bfbf7f; text-decoration-color: #bfbf7f\">...</span>\n",
       "</pre>\n"
      ],
      "text/plain": [
       "\u001b[2m  Memory: Query: What's the latest updates on Apple stock?\u001b[0m\u001b[2;33m...\u001b[0m\u001b[2m Result: Certainly! Here’s an improved version of\u001b[0m\u001b[2;33m...\u001b[0m\n"
      ]
     },
     "metadata": {},
     "output_type": "display_data"
    },
    {
     "data": {
      "text/html": [
       "<pre style=\"white-space:pre;overflow-x:auto;line-height:normal;font-family:Menlo,'DejaVu Sans Mono',consolas,'Courier New',monospace\">\n",
       "<span style=\"color: #008000; text-decoration-color: #008000; font-weight: bold\">✓ Identified Stock: GOOG</span>\n",
       "</pre>\n"
      ],
      "text/plain": [
       "\n",
       "\u001b[1;32m✓ Identified Stock: GOOG\u001b[0m\n"
      ]
     },
     "metadata": {},
     "output_type": "display_data"
    },
    {
     "data": {
      "text/html": [
       "<pre style=\"white-space:pre;overflow-x:auto;line-height:normal;font-family:Menlo,'DejaVu Sans Mono',consolas,'Courier New',monospace\"><span style=\"color: #7f7f7f; text-decoration-color: #7f7f7f\">Confidence: high | Method: recent_history</span>\n",
       "</pre>\n"
      ],
      "text/plain": [
       "\u001b[2mConfidence: high | Method: recent_history\u001b[0m\n"
      ]
     },
     "metadata": {},
     "output_type": "display_data"
    },
    {
     "data": {
      "text/html": [
       "<pre style=\"white-space:pre;overflow-x:auto;line-height:normal;font-family:Menlo,'DejaVu Sans Mono',consolas,'Courier New',monospace\">\n",
       "<span style=\"color: #008080; text-decoration-color: #008080; font-weight: bold\">Proceeding with GOOG...</span>\n",
       "</pre>\n"
      ],
      "text/plain": [
       "\n",
       "\u001b[1;36mProceeding with GOOG\u001b[0m\u001b[1;36m...\u001b[0m\n"
      ]
     },
     "metadata": {},
     "output_type": "display_data"
    },
    {
     "data": {
      "text/html": [
       "<pre style=\"white-space:pre;overflow-x:auto;line-height:normal;font-family:Menlo,'DejaVu Sans Mono',consolas,'Courier New',monospace\">\n",
       "------------------------------------------------------------\n",
       "</pre>\n"
      ],
      "text/plain": [
       "\n",
       "------------------------------------------------------------\n"
      ]
     },
     "metadata": {},
     "output_type": "display_data"
    },
    {
     "data": {
      "text/html": [
       "<pre style=\"white-space:pre;overflow-x:auto;line-height:normal;font-family:Menlo,'DejaVu Sans Mono',consolas,'Courier New',monospace\"><span style=\"color: #008080; text-decoration-color: #008080\">╭──────────────────────────────────╮</span>\n",
       "<span style=\"color: #008080; text-decoration-color: #008080\">│</span> <span style=\"color: #008080; text-decoration-color: #008080; font-weight: bold\">Processing Query</span>                 <span style=\"color: #008080; text-decoration-color: #008080\">│</span>\n",
       "<span style=\"color: #008080; text-decoration-color: #008080\">│</span> Stock: <span style=\"color: #808000; text-decoration-color: #808000\">GOOG</span>                      <span style=\"color: #008080; text-decoration-color: #008080\">│</span>\n",
       "<span style=\"color: #008080; text-decoration-color: #008080\">│</span> Query: <span style=\"color: #c0c0c0; text-decoration-color: #c0c0c0\">Should I invest in Apple?</span> <span style=\"color: #008080; text-decoration-color: #008080\">│</span>\n",
       "<span style=\"color: #008080; text-decoration-color: #008080\">╰──────────────────────────────────╯</span>\n",
       "</pre>\n"
      ],
      "text/plain": [
       "\u001b[36m╭──────────────────────────────────╮\u001b[0m\n",
       "\u001b[36m│\u001b[0m \u001b[1;36mProcessing Query\u001b[0m                 \u001b[36m│\u001b[0m\n",
       "\u001b[36m│\u001b[0m Stock: \u001b[33mGOOG\u001b[0m                      \u001b[36m│\u001b[0m\n",
       "\u001b[36m│\u001b[0m Query: \u001b[37mShould I invest in Apple?\u001b[0m \u001b[36m│\u001b[0m\n",
       "\u001b[36m╰──────────────────────────────────╯\u001b[0m\n"
      ]
     },
     "metadata": {},
     "output_type": "display_data"
    },
    {
     "data": {
      "text/html": [
       "<pre style=\"white-space:pre;overflow-x:auto;line-height:normal;font-family:Menlo,'DejaVu Sans Mono',consolas,'Courier New',monospace\">\n",
       "<span style=\"font-weight: bold\">Step </span><span style=\"color: #008080; text-decoration-color: #008080; font-weight: bold\">1</span><span style=\"font-weight: bold\">: Gathering Data</span>\n",
       "</pre>\n"
      ],
      "text/plain": [
       "\n",
       "\u001b[1mStep \u001b[0m\u001b[1;36m1\u001b[0m\u001b[1m: Gathering Data\u001b[0m\n"
      ]
     },
     "metadata": {},
     "output_type": "display_data"
    },
    {
     "data": {
      "text/html": [
       "<pre style=\"white-space:pre;overflow-x:auto;line-height:normal;font-family:Menlo,'DejaVu Sans Mono',consolas,'Courier New',monospace\"><span style=\"color: #800080; text-decoration-color: #800080; font-weight: bold\"> Randomly selected primary source: Alpha Vantage</span>\n",
       "</pre>\n"
      ],
      "text/plain": [
       "\u001b[1;35m Randomly selected primary source: Alpha Vantage\u001b[0m\n"
      ]
     },
     "metadata": {},
     "output_type": "display_data"
    },
    {
     "data": {
      "text/html": [
       "<pre style=\"white-space:pre;overflow-x:auto;line-height:normal;font-family:Menlo,'DejaVu Sans Mono',consolas,'Courier New',monospace\">/Users/pankajshukla/Documents/Projects/usd-git/investment-research-agent/venv_agentic/lib/python3.12/site-packages/\n",
       "rich/live.py:256: UserWarning: install \"ipywidgets\" for Jupyter support\n",
       "  warnings.warn('install \"ipywidgets\" for Jupyter support')\n",
       "</pre>\n"
      ],
      "text/plain": [
       "/Users/pankajshukla/Documents/Projects/usd-git/investment-research-agent/venv_agentic/lib/python3.12/site-packages/\n",
       "rich/live.py:256: UserWarning: install \"ipywidgets\" for Jupyter support\n",
       "  warnings.warn('install \"ipywidgets\" for Jupyter support')\n"
      ]
     },
     "metadata": {},
     "output_type": "display_data"
    },
    {
     "data": {
      "text/html": [
       "<pre style=\"white-space:pre;overflow-x:auto;line-height:normal;font-family:Menlo,'DejaVu Sans Mono',consolas,'Courier New',monospace\"></pre>\n"
      ],
      "text/plain": []
     },
     "metadata": {},
     "output_type": "display_data"
    },
    {
     "data": {
      "text/html": [
       "<pre style=\"white-space:pre;overflow-x:auto;line-height:normal;font-family:Menlo,'DejaVu Sans Mono',consolas,'Courier New',monospace\"></pre>\n"
      ],
      "text/plain": []
     },
     "metadata": {},
     "output_type": "display_data"
    },
    {
     "data": {
      "text/html": [
       "<pre style=\"white-space:pre;overflow-x:auto;line-height:normal;font-family:Menlo,'DejaVu Sans Mono',consolas,'Courier New',monospace\"></pre>\n"
      ],
      "text/plain": []
     },
     "metadata": {},
     "output_type": "display_data"
    },
    {
     "data": {
      "text/html": [
       "<pre style=\"white-space:pre;overflow-x:auto;line-height:normal;font-family:Menlo,'DejaVu Sans Mono',consolas,'Courier New',monospace\">\n",
       "<span style=\"font-weight: bold\">Step </span><span style=\"color: #008080; text-decoration-color: #008080; font-weight: bold\">2</span><span style=\"font-weight: bold\">: Determining Workflow Strategy</span>\n",
       "</pre>\n"
      ],
      "text/plain": [
       "\n",
       "\u001b[1mStep \u001b[0m\u001b[1;36m2\u001b[0m\u001b[1m: Determining Workflow Strategy\u001b[0m\n"
      ]
     },
     "metadata": {},
     "output_type": "display_data"
    },
    {
     "name": "stderr",
     "output_type": "stream",
     "text": [
      "2025-10-18 08:55:56,718 - INFO - HTTP Request: POST https://api.openai.com/v1/chat/completions \"HTTP/1.1 200 OK\"\n"
     ]
    },
    {
     "data": {
      "text/html": [
       "<pre style=\"white-space:pre;overflow-x:auto;line-height:normal;font-family:Menlo,'DejaVu Sans Mono',consolas,'Courier New',monospace\"><span style=\"color: #808000; text-decoration-color: #808000\">→ Selected Strategy: comprehensive</span>\n",
       "</pre>\n"
      ],
      "text/plain": [
       "\u001b[33m→ Selected Strategy: comprehensive\u001b[0m\n"
      ]
     },
     "metadata": {},
     "output_type": "display_data"
    },
    {
     "data": {
      "text/html": [
       "<pre style=\"white-space:pre;overflow-x:auto;line-height:normal;font-family:Menlo,'DejaVu Sans Mono',consolas,'Courier New',monospace\">\n",
       "<span style=\"font-weight: bold\">Step </span><span style=\"color: #008080; text-decoration-color: #008080; font-weight: bold\">3</span><span style=\"font-weight: bold\">: Executing Workflow</span>\n",
       "</pre>\n"
      ],
      "text/plain": [
       "\n",
       "\u001b[1mStep \u001b[0m\u001b[1;36m3\u001b[0m\u001b[1m: Executing Workflow\u001b[0m\n"
      ]
     },
     "metadata": {},
     "output_type": "display_data"
    },
    {
     "name": "stderr",
     "output_type": "stream",
     "text": [
      "2025-10-18 08:56:06,666 - INFO - HTTP Request: POST https://api.openai.com/v1/chat/completions \"HTTP/1.1 200 OK\"\n"
     ]
    },
    {
     "data": {
      "text/html": [
       "<pre style=\"white-space:pre;overflow-x:auto;line-height:normal;font-family:Menlo,'DejaVu Sans Mono',consolas,'Courier New',monospace\">\n",
       "<span style=\"font-weight: bold\">Step </span><span style=\"color: #008080; text-decoration-color: #008080; font-weight: bold\">4</span><span style=\"font-weight: bold\">: Optimizing Analysis</span>\n",
       "</pre>\n"
      ],
      "text/plain": [
       "\n",
       "\u001b[1mStep \u001b[0m\u001b[1;36m4\u001b[0m\u001b[1m: Optimizing Analysis\u001b[0m\n"
      ]
     },
     "metadata": {},
     "output_type": "display_data"
    },
    {
     "data": {
      "text/html": [
       "<pre style=\"white-space:pre;overflow-x:auto;line-height:normal;font-family:Menlo,'DejaVu Sans Mono',consolas,'Courier New',monospace\"><span style=\"color: #008080; text-decoration-color: #008080\">Starting Evaluator-Optimizer Workflow for GOOG</span>\n",
       "</pre>\n"
      ],
      "text/plain": [
       "\u001b[36mStarting Evaluator-Optimizer Workflow for GOOG\u001b[0m\n"
      ]
     },
     "metadata": {},
     "output_type": "display_data"
    },
    {
     "data": {
      "text/html": [
       "<pre style=\"white-space:pre;overflow-x:auto;line-height:normal;font-family:Menlo,'DejaVu Sans Mono',consolas,'Courier New',monospace\"><span style=\"color: #808000; text-decoration-color: #808000\">→ Iteration </span><span style=\"color: #808000; text-decoration-color: #808000; font-weight: bold\">1</span><span style=\"color: #808000; text-decoration-color: #808000\">/</span><span style=\"color: #808000; text-decoration-color: #808000; font-weight: bold\">2</span>\n",
       "</pre>\n"
      ],
      "text/plain": [
       "\u001b[33m→ Iteration \u001b[0m\u001b[1;33m1\u001b[0m\u001b[33m/\u001b[0m\u001b[1;33m2\u001b[0m\n"
      ]
     },
     "metadata": {},
     "output_type": "display_data"
    },
    {
     "data": {
      "text/html": [
       "<pre style=\"white-space:pre;overflow-x:auto;line-height:normal;font-family:Menlo,'DejaVu Sans Mono',consolas,'Courier New',monospace\"><span style=\"color: #7f7f7f; text-decoration-color: #7f7f7f\">→ Evaluating analysis quality</span><span style=\"color: #bfbf7f; text-decoration-color: #bfbf7f\">...</span>\n",
       "</pre>\n"
      ],
      "text/plain": [
       "\u001b[2m→ Evaluating analysis quality\u001b[0m\u001b[2;33m...\u001b[0m\n"
      ]
     },
     "metadata": {},
     "output_type": "display_data"
    },
    {
     "name": "stderr",
     "output_type": "stream",
     "text": [
      "2025-10-18 08:56:09,723 - INFO - HTTP Request: POST https://api.openai.com/v1/chat/completions \"HTTP/1.1 200 OK\"\n"
     ]
    },
    {
     "data": {
      "text/html": [
       "<pre style=\"white-space:pre;overflow-x:auto;line-height:normal;font-family:Menlo,'DejaVu Sans Mono',consolas,'Courier New',monospace\"><span style=\"color: #7f7f7f; text-decoration-color: #7f7f7f\">Quality Score: </span><span style=\"color: #7fbfbf; text-decoration-color: #7fbfbf; font-weight: bold\">8.75</span><span style=\"color: #7f7f7f; text-decoration-color: #7f7f7f\">/</span><span style=\"color: #7fbfbf; text-decoration-color: #7fbfbf; font-weight: bold\">10</span>\n",
       "</pre>\n"
      ],
      "text/plain": [
       "\u001b[2mQuality Score: \u001b[0m\u001b[1;2;36m8.75\u001b[0m\u001b[2m/\u001b[0m\u001b[1;2;36m10\u001b[0m\n"
      ]
     },
     "metadata": {},
     "output_type": "display_data"
    },
    {
     "data": {
      "text/html": [
       "<pre style=\"white-space:pre;overflow-x:auto;line-height:normal;font-family:Menlo,'DejaVu Sans Mono',consolas,'Courier New',monospace\"><span style=\"color: #008000; text-decoration-color: #008000\">✓ Quality threshold met</span>\n",
       "</pre>\n"
      ],
      "text/plain": [
       "\u001b[32m✓ Quality threshold met\u001b[0m\n"
      ]
     },
     "metadata": {},
     "output_type": "display_data"
    },
    {
     "data": {
      "text/html": [
       "<pre style=\"white-space:pre;overflow-x:auto;line-height:normal;font-family:Menlo,'DejaVu Sans Mono',consolas,'Courier New',monospace\"><span style=\"color: #008000; text-decoration-color: #008000\">Saved </span><span style=\"color: #008000; text-decoration-color: #008000; font-weight: bold\">27</span><span style=\"color: #008000; text-decoration-color: #008000\"> memories to file</span>\n",
       "</pre>\n"
      ],
      "text/plain": [
       "\u001b[32mSaved \u001b[0m\u001b[1;32m27\u001b[0m\u001b[32m memories to file\u001b[0m\n"
      ]
     },
     "metadata": {},
     "output_type": "display_data"
    },
    {
     "data": {
      "text/html": [
       "<pre style=\"white-space:pre;overflow-x:auto;line-height:normal;font-family:Menlo,'DejaVu Sans Mono',consolas,'Courier New',monospace\"><span style=\"color: #008000; text-decoration-color: #008000\">Added memory for GOOG: query_analysis</span>\n",
       "</pre>\n"
      ],
      "text/plain": [
       "\u001b[32mAdded memory for GOOG: query_analysis\u001b[0m\n"
      ]
     },
     "metadata": {},
     "output_type": "display_data"
    },
    {
     "data": {
      "text/html": [
       "<pre style=\"white-space:pre;overflow-x:auto;line-height:normal;font-family:Menlo,'DejaVu Sans Mono',consolas,'Courier New',monospace\">\n",
       "<span style=\"color: #008000; text-decoration-color: #008000; font-weight: bold\">✓ Query Processing Completed</span>\n",
       "</pre>\n"
      ],
      "text/plain": [
       "\n",
       "\u001b[1;32m✓ Query Processing Completed\u001b[0m\n"
      ]
     },
     "metadata": {},
     "output_type": "display_data"
    },
    {
     "data": {
      "text/html": [
       "<pre style=\"white-space:pre;overflow-x:auto;line-height:normal;font-family:Menlo,'DejaVu Sans Mono',consolas,'Courier New',monospace\">\n",
       "------------------------------------------------------------\n",
       "</pre>\n"
      ],
      "text/plain": [
       "\n",
       "------------------------------------------------------------\n"
      ]
     },
     "metadata": {},
     "output_type": "display_data"
    },
    {
     "data": {
      "text/html": [
       "<pre style=\"white-space:pre;overflow-x:auto;line-height:normal;font-family:Menlo,'DejaVu Sans Mono',consolas,'Courier New',monospace\"><span style=\"color: #008000; text-decoration-color: #008000\">╭───────────────────╮</span>\n",
       "<span style=\"color: #008000; text-decoration-color: #008000\">│</span> <span style=\"color: #008000; text-decoration-color: #008000; font-weight: bold\">Analysis Complete</span> <span style=\"color: #008000; text-decoration-color: #008000\">│</span>\n",
       "<span style=\"color: #008000; text-decoration-color: #008000\">╰───────────────────╯</span>\n",
       "</pre>\n"
      ],
      "text/plain": [
       "\u001b[32m╭───────────────────╮\u001b[0m\n",
       "\u001b[32m│\u001b[0m \u001b[1;32mAnalysis Complete\u001b[0m \u001b[32m│\u001b[0m\n",
       "\u001b[32m╰───────────────────╯\u001b[0m\n"
      ]
     },
     "metadata": {},
     "output_type": "display_data"
    },
    {
     "data": {
      "text/html": [
       "<pre style=\"white-space:pre;overflow-x:auto;line-height:normal;font-family:Menlo,'DejaVu Sans Mono',consolas,'Courier New',monospace\">\n",
       "<span style=\"font-weight: bold\">Workflow Used:</span> <span style=\"color: #808000; text-decoration-color: #808000\">comprehensive</span>\n",
       "</pre>\n"
      ],
      "text/plain": [
       "\n",
       "\u001b[1mWorkflow Used:\u001b[0m \u001b[33mcomprehensive\u001b[0m\n"
      ]
     },
     "metadata": {},
     "output_type": "display_data"
    },
    {
     "data": {
      "text/html": [
       "<pre style=\"white-space:pre;overflow-x:auto;line-height:normal;font-family:Menlo,'DejaVu Sans Mono',consolas,'Courier New',monospace\"><span style=\"font-weight: bold\">Optimization:</span> <span style=\"color: #008080; text-decoration-color: #008080; font-weight: bold\">1</span> iterations, Quality Score: <span style=\"color: #008080; text-decoration-color: #008080; font-weight: bold\">8.8</span>/<span style=\"color: #008080; text-decoration-color: #008080; font-weight: bold\">10</span>\n",
       "</pre>\n"
      ],
      "text/plain": [
       "\u001b[1mOptimization:\u001b[0m \u001b[1;36m1\u001b[0m iterations, Quality Score: \u001b[1;36m8.8\u001b[0m/\u001b[1;36m10\u001b[0m\n"
      ]
     },
     "metadata": {},
     "output_type": "display_data"
    },
    {
     "data": {
      "text/html": [
       "<pre style=\"white-space:pre;overflow-x:auto;line-height:normal;font-family:Menlo,'DejaVu Sans Mono',consolas,'Courier New',monospace\">\n",
       "<span style=\"font-weight: bold\">Data Summary:</span>\n",
       "</pre>\n"
      ],
      "text/plain": [
       "\n",
       "\u001b[1mData Summary:\u001b[0m\n"
      ]
     },
     "metadata": {},
     "output_type": "display_data"
    },
    {
     "data": {
      "text/html": [
       "<pre style=\"white-space:pre;overflow-x:auto;line-height:normal;font-family:Menlo,'DejaVu Sans Mono',consolas,'Courier New',monospace\"><span style=\"color: #008080; text-decoration-color: #008080\"> Current Price </span><span style=\"color: #c0c0c0; text-decoration-color: #c0c0c0\"> $253.79 </span>\n",
       "<span style=\"color: #008080; text-decoration-color: #008080\"> P/E Ratio     </span><span style=\"color: #c0c0c0; text-decoration-color: #c0c0c0\"> 26.88   </span>\n",
       "<span style=\"color: #008080; text-decoration-color: #008080\"> News Articles </span><span style=\"color: #c0c0c0; text-decoration-color: #c0c0c0\"> 50      </span>\n",
       "</pre>\n"
      ],
      "text/plain": [
       "\u001b[36m \u001b[0m\u001b[36mCurrent Price\u001b[0m\u001b[36m \u001b[0m\u001b[37m \u001b[0m\u001b[37m$253.79\u001b[0m\u001b[37m \u001b[0m\n",
       "\u001b[36m \u001b[0m\u001b[36mP/E Ratio    \u001b[0m\u001b[36m \u001b[0m\u001b[37m \u001b[0m\u001b[37m26.88  \u001b[0m\u001b[37m \u001b[0m\n",
       "\u001b[36m \u001b[0m\u001b[36mNews Articles\u001b[0m\u001b[36m \u001b[0m\u001b[37m \u001b[0m\u001b[37m50     \u001b[0m\u001b[37m \u001b[0m\n"
      ]
     },
     "metadata": {},
     "output_type": "display_data"
    },
    {
     "data": {
      "text/html": [
       "<pre style=\"white-space:pre;overflow-x:auto;line-height:normal;font-family:Menlo,'DejaVu Sans Mono',consolas,'Courier New',monospace\">\n",
       "<span style=\"font-weight: bold\">Analysis:</span>\n",
       "</pre>\n"
      ],
      "text/plain": [
       "\n",
       "\u001b[1mAnalysis:\u001b[0m\n"
      ]
     },
     "metadata": {},
     "output_type": "display_data"
    },
    {
     "data": {
      "text/html": [
       "<pre style=\"white-space:pre;overflow-x:auto;line-height:normal;font-family:Menlo,'DejaVu Sans Mono',consolas,'Courier New',monospace\"><span style=\"color: #008000; text-decoration-color: #008000\">╭─────────────────────────────────────────────────────────────────────────────────────────────────────────────────╮</span>\n",
       "<span style=\"color: #008000; text-decoration-color: #008000\">│</span>                                                                                                                 <span style=\"color: #008000; text-decoration-color: #008000\">│</span>\n",
       "<span style=\"color: #008000; text-decoration-color: #008000\">│</span>  ### Investment Analysis for Alphabet Inc. (GOOG)                                                               <span style=\"color: #008000; text-decoration-color: #008000\">│</span>\n",
       "<span style=\"color: #008000; text-decoration-color: #008000\">│</span>                                                                                                                 <span style=\"color: #008000; text-decoration-color: #008000\">│</span>\n",
       "<span style=\"color: #008000; text-decoration-color: #008000\">│</span>  #### 1. Overall Assessment                                                                                     <span style=\"color: #008000; text-decoration-color: #008000\">│</span>\n",
       "<span style=\"color: #008000; text-decoration-color: #008000\">│</span>  Alphabet Inc. (GOOG) represents a robust investment opportunity within the technology and communications       <span style=\"color: #008000; text-decoration-color: #008000\">│</span>\n",
       "<span style=\"color: #008000; text-decoration-color: #008000\">│</span>  sector. With its multifaceted business model, extensive product ecosystem, and dominant market positions in    <span style=\"color: #008000; text-decoration-color: #008000\">│</span>\n",
       "<span style=\"color: #008000; text-decoration-color: #008000\">│</span>  search and digital advertising, the company is poised for continued growth. As a well-established player,      <span style=\"color: #008000; text-decoration-color: #008000\">│</span>\n",
       "<span style=\"color: #008000; text-decoration-color: #008000\">│</span>  Alphabet's consistent revenue streams, innovative capabilities, and future growth prospects suggest that the   <span style=\"color: #008000; text-decoration-color: #008000\">│</span>\n",
       "<span style=\"color: #008000; text-decoration-color: #008000\">│</span>  stock is worth considering for both short-term gains and long-term investment strategies.                      <span style=\"color: #008000; text-decoration-color: #008000\">│</span>\n",
       "<span style=\"color: #008000; text-decoration-color: #008000\">│</span>                                                                                                                 <span style=\"color: #008000; text-decoration-color: #008000\">│</span>\n",
       "<span style=\"color: #008000; text-decoration-color: #008000\">│</span>  #### 2. Key Strengths and Risks                                                                                <span style=\"color: #008000; text-decoration-color: #008000\">│</span>\n",
       "<span style=\"color: #008000; text-decoration-color: #008000\">│</span>                                                                                                                 <span style=\"color: #008000; text-decoration-color: #008000\">│</span>\n",
       "<span style=\"color: #008000; text-decoration-color: #008000\">│</span>  **Strengths:**                                                                                                 <span style=\"color: #008000; text-decoration-color: #008000\">│</span>\n",
       "<span style=\"color: #008000; text-decoration-color: #008000\">│</span>  - **Market Leadership:** Alphabet is the leader in online advertising with Google Search capturing a           <span style=\"color: #008000; text-decoration-color: #008000\">│</span>\n",
       "<span style=\"color: #008000; text-decoration-color: #008000\">│</span>  significant market share. This dominance allows for high entry barriers against competitors.                   <span style=\"color: #008000; text-decoration-color: #008000\">│</span>\n",
       "<span style=\"color: #008000; text-decoration-color: #008000\">│</span>  - **Diversification of Revenue Streams:** Beyond advertising, Alphabet has diversified its income through      <span style=\"color: #008000; text-decoration-color: #008000\">│</span>\n",
       "<span style=\"color: #008000; text-decoration-color: #008000\">│</span>  cloud computing (Google Cloud), YouTube, and hardware products like Google Pixel and Nest devices, reducing    <span style=\"color: #008000; text-decoration-color: #008000\">│</span>\n",
       "<span style=\"color: #008000; text-decoration-color: #008000\">│</span>  reliance on ad revenue.                                                                                        <span style=\"color: #008000; text-decoration-color: #008000\">│</span>\n",
       "<span style=\"color: #008000; text-decoration-color: #008000\">│</span>  - **Strong Financials:** Alphabet boasts solid revenue growth, an impressive cash position, and robust         <span style=\"color: #008000; text-decoration-color: #008000\">│</span>\n",
       "<span style=\"color: #008000; text-decoration-color: #008000\">│</span>  margins, translating into a healthy balance sheet that supports innovation and expansion.                      <span style=\"color: #008000; text-decoration-color: #008000\">│</span>\n",
       "<span style=\"color: #008000; text-decoration-color: #008000\">│</span>  - **Investment in Innovation:** The company consistently invests a significant portion of its revenue into     <span style=\"color: #008000; text-decoration-color: #008000\">│</span>\n",
       "<span style=\"color: #008000; text-decoration-color: #008000\">│</span>  research and development, fostering innovation in AI, cloud services, and consumer technology.                 <span style=\"color: #008000; text-decoration-color: #008000\">│</span>\n",
       "<span style=\"color: #008000; text-decoration-color: #008000\">│</span>                                                                                                                 <span style=\"color: #008000; text-decoration-color: #008000\">│</span>\n",
       "<span style=\"color: #008000; text-decoration-color: #008000\">│</span>  **Risks:**                                                                                                     <span style=\"color: #008000; text-decoration-color: #008000\">│</span>\n",
       "<span style=\"color: #008000; text-decoration-color: #008000\">│</span>  - **Regulatory Scrutiny:** Alphabet faces ongoing pressures from regulators in various markets, particularly   <span style=\"color: #008000; text-decoration-color: #008000\">│</span>\n",
       "<span style=\"color: #008000; text-decoration-color: #008000\">│</span>  concerning privacy issues and antitrust concerns. Increased regulation could affect operational flexibility    <span style=\"color: #008000; text-decoration-color: #008000\">│</span>\n",
       "<span style=\"color: #008000; text-decoration-color: #008000\">│</span>  and profitability.                                                                                             <span style=\"color: #008000; text-decoration-color: #008000\">│</span>\n",
       "<span style=\"color: #008000; text-decoration-color: #008000\">│</span>  - **Advertising Sensitivity:** As a major part of its revenue comes from advertising, economic downturns or    <span style=\"color: #008000; text-decoration-color: #008000\">│</span>\n",
       "<span style=\"color: #008000; text-decoration-color: #008000\">│</span>  shifts in consumer behavior could negatively impact its revenue.                                               <span style=\"color: #008000; text-decoration-color: #008000\">│</span>\n",
       "<span style=\"color: #008000; text-decoration-color: #008000\">│</span>  - **Competition:** The tech landscape is highly competitive, with emerging rivals and existing players (like   <span style=\"color: #008000; text-decoration-color: #008000\">│</span>\n",
       "<span style=\"color: #008000; text-decoration-color: #008000\">│</span>  Microsoft in cloud and Apple in hardware) possibly eroding market share.                                       <span style=\"color: #008000; text-decoration-color: #008000\">│</span>\n",
       "<span style=\"color: #008000; text-decoration-color: #008000\">│</span>  - **Dependency on the Ad Market:** Changes in digital advertising trends and shifts toward verticals beyond    <span style=\"color: #008000; text-decoration-color: #008000\">│</span>\n",
       "<span style=\"color: #008000; text-decoration-color: #008000\">│</span>  Google’s control pose operational risks.                                                                       <span style=\"color: #008000; text-decoration-color: #008000\">│</span>\n",
       "<span style=\"color: #008000; text-decoration-color: #008000\">│</span>                                                                                                                 <span style=\"color: #008000; text-decoration-color: #008000\">│</span>\n",
       "<span style=\"color: #008000; text-decoration-color: #008000\">│</span>  #### 3. Investment Recommendation                                                                              <span style=\"color: #008000; text-decoration-color: #008000\">│</span>\n",
       "<span style=\"color: #008000; text-decoration-color: #008000\">│</span>  Based on the current financial metrics and market assessment, **a buy recommendation** is warranted for GOOG   <span style=\"color: #008000; text-decoration-color: #008000\">│</span>\n",
       "<span style=\"color: #008000; text-decoration-color: #008000\">│</span>  shares. Given the company's strong competitive positioning, innovative capacity, and a robust balance sheet,   <span style=\"color: #008000; text-decoration-color: #008000\">│</span>\n",
       "<span style=\"color: #008000; text-decoration-color: #008000\">│</span>  it offers a compelling risk/reward profile.                                                                    <span style=\"color: #008000; text-decoration-color: #008000\">│</span>\n",
       "<span style=\"color: #008000; text-decoration-color: #008000\">│</span>                                                                                                                 <span style=\"color: #008000; text-decoration-color: #008000\">│</span>\n",
       "<span style=\"color: #008000; text-decoration-color: #008000\">│</span>  Investors should consider the following action items:                                                          <span style=\"color: #008000; text-decoration-color: #008000\">│</span>\n",
       "<span style=\"color: #008000; text-decoration-color: #008000\">│</span>  - **Initiate Positions Gradually:** If new to the investment, consider dollar-cost averaging into GOOG shares  <span style=\"color: #008000; text-decoration-color: #008000\">│</span>\n",
       "<span style=\"color: #008000; text-decoration-color: #008000\">│</span>  to mitigate volatility.                                                                                        <span style=\"color: #008000; text-decoration-color: #008000\">│</span>\n",
       "<span style=\"color: #008000; text-decoration-color: #008000\">│</span>  - **Long-Term Focus:** Given Alphabet’s growth potential, maintaining a long-term investment horizon can       <span style=\"color: #008000; text-decoration-color: #008000\">│</span>\n",
       "<span style=\"color: #008000; text-decoration-color: #008000\">│</span>  provide exposure to compounding returns.                                                                       <span style=\"color: #008000; text-decoration-color: #008000\">│</span>\n",
       "<span style=\"color: #008000; text-decoration-color: #008000\">│</span>  - **Monitor Regulatory Developments:** Stay updated on any regulatory changes that may impact Alphabet's       <span style=\"color: #008000; text-decoration-color: #008000\">│</span>\n",
       "<span style=\"color: #008000; text-decoration-color: #008000\">│</span>  business operations, specifically regarding advertising and antitrust issues.                                  <span style=\"color: #008000; text-decoration-color: #008000\">│</span>\n",
       "<span style=\"color: #008000; text-decoration-color: #008000\">│</span>                                                                                                                 <span style=\"color: #008000; text-decoration-color: #008000\">│</span>\n",
       "<span style=\"color: #008000; text-decoration-color: #008000\">│</span>  #### 4. Price Target or Action Items                                                                           <span style=\"color: #008000; text-decoration-color: #008000\">│</span>\n",
       "<span style=\"color: #008000; text-decoration-color: #008000\">│</span>  - **Price Target:** Based on current growth trends and market conditions, estimates suggest a price target of  <span style=\"color: #008000; text-decoration-color: #008000\">│</span>\n",
       "<span style=\"color: #008000; text-decoration-color: #008000\">│</span>  around **$3,000** within the next 12 months (subject to market dynamics and overall economic conditions).      <span style=\"color: #008000; text-decoration-color: #008000\">│</span>\n",
       "<span style=\"color: #008000; text-decoration-color: #008000\">│</span>                                                                                                                 <span style=\"color: #008000; text-decoration-color: #008000\">│</span>\n",
       "<span style=\"color: #008000; text-decoration-color: #008000\">│</span>  - **Action Items:**                                                                                            <span style=\"color: #008000; text-decoration-color: #008000\">│</span>\n",
       "<span style=\"color: #008000; text-decoration-color: #008000\">│</span>      - **Buy at Current Levels:** At the current price levels, accumulate shares, especially when market        <span style=\"color: #008000; text-decoration-color: #008000\">│</span>\n",
       "<span style=\"color: #008000; text-decoration-color: #008000\">│</span>  conditions align for favorable buy opportunities.                                                              <span style=\"color: #008000; text-decoration-color: #008000\">│</span>\n",
       "<span style=\"color: #008000; text-decoration-color: #008000\">│</span>      - **Review Quarterly Performance Reports:** Regularly check quarterly earnings to assess performance       <span style=\"color: #008000; text-decoration-color: #008000\">│</span>\n",
       "<span style=\"color: #008000; text-decoration-color: #008000\">│</span>  against expectations and adjust the investment thesis accordingly.                                             <span style=\"color: #008000; text-decoration-color: #008000\">│</span>\n",
       "<span style=\"color: #008000; text-decoration-color: #008000\">│</span>      - **Diversify Portfolio:** While GOOG represents a strong investment, ensure it fits within a diversified  <span style=\"color: #008000; text-decoration-color: #008000\">│</span>\n",
       "<span style=\"color: #008000; text-decoration-color: #008000\">│</span>  portfolio to manage risk effectively.                                                                          <span style=\"color: #008000; text-decoration-color: #008000\">│</span>\n",
       "<span style=\"color: #008000; text-decoration-color: #008000\">│</span>                                                                                                                 <span style=\"color: #008000; text-decoration-color: #008000\">│</span>\n",
       "<span style=\"color: #008000; text-decoration-color: #008000\">│</span>  **Conclusion:** Overall, Alphabet Inc. presents an attractive investment opportunity for long-term growth,     <span style=\"color: #008000; text-decoration-color: #008000\">│</span>\n",
       "<span style=\"color: #008000; text-decoration-color: #008000\">│</span>  driven by a solid market position and innovation strategy, suitable for investors looking to enter the tech    <span style=\"color: #008000; text-decoration-color: #008000\">│</span>\n",
       "<span style=\"color: #008000; text-decoration-color: #008000\">│</span>  space.                                                                                                         <span style=\"color: #008000; text-decoration-color: #008000\">│</span>\n",
       "<span style=\"color: #008000; text-decoration-color: #008000\">│</span>                                                                                                                 <span style=\"color: #008000; text-decoration-color: #008000\">│</span>\n",
       "<span style=\"color: #008000; text-decoration-color: #008000\">╰─────────────────────────────────────────────────────────────────────────────────────────────────────────────────╯</span>\n",
       "</pre>\n"
      ],
      "text/plain": [
       "\u001b[32m╭─────────────────────────────────────────────────────────────────────────────────────────────────────────────────╮\u001b[0m\n",
       "\u001b[32m│\u001b[0m                                                                                                                 \u001b[32m│\u001b[0m\n",
       "\u001b[32m│\u001b[0m  ### Investment Analysis for Alphabet Inc. (GOOG)                                                               \u001b[32m│\u001b[0m\n",
       "\u001b[32m│\u001b[0m                                                                                                                 \u001b[32m│\u001b[0m\n",
       "\u001b[32m│\u001b[0m  #### 1. Overall Assessment                                                                                     \u001b[32m│\u001b[0m\n",
       "\u001b[32m│\u001b[0m  Alphabet Inc. (GOOG) represents a robust investment opportunity within the technology and communications       \u001b[32m│\u001b[0m\n",
       "\u001b[32m│\u001b[0m  sector. With its multifaceted business model, extensive product ecosystem, and dominant market positions in    \u001b[32m│\u001b[0m\n",
       "\u001b[32m│\u001b[0m  search and digital advertising, the company is poised for continued growth. As a well-established player,      \u001b[32m│\u001b[0m\n",
       "\u001b[32m│\u001b[0m  Alphabet's consistent revenue streams, innovative capabilities, and future growth prospects suggest that the   \u001b[32m│\u001b[0m\n",
       "\u001b[32m│\u001b[0m  stock is worth considering for both short-term gains and long-term investment strategies.                      \u001b[32m│\u001b[0m\n",
       "\u001b[32m│\u001b[0m                                                                                                                 \u001b[32m│\u001b[0m\n",
       "\u001b[32m│\u001b[0m  #### 2. Key Strengths and Risks                                                                                \u001b[32m│\u001b[0m\n",
       "\u001b[32m│\u001b[0m                                                                                                                 \u001b[32m│\u001b[0m\n",
       "\u001b[32m│\u001b[0m  **Strengths:**                                                                                                 \u001b[32m│\u001b[0m\n",
       "\u001b[32m│\u001b[0m  - **Market Leadership:** Alphabet is the leader in online advertising with Google Search capturing a           \u001b[32m│\u001b[0m\n",
       "\u001b[32m│\u001b[0m  significant market share. This dominance allows for high entry barriers against competitors.                   \u001b[32m│\u001b[0m\n",
       "\u001b[32m│\u001b[0m  - **Diversification of Revenue Streams:** Beyond advertising, Alphabet has diversified its income through      \u001b[32m│\u001b[0m\n",
       "\u001b[32m│\u001b[0m  cloud computing (Google Cloud), YouTube, and hardware products like Google Pixel and Nest devices, reducing    \u001b[32m│\u001b[0m\n",
       "\u001b[32m│\u001b[0m  reliance on ad revenue.                                                                                        \u001b[32m│\u001b[0m\n",
       "\u001b[32m│\u001b[0m  - **Strong Financials:** Alphabet boasts solid revenue growth, an impressive cash position, and robust         \u001b[32m│\u001b[0m\n",
       "\u001b[32m│\u001b[0m  margins, translating into a healthy balance sheet that supports innovation and expansion.                      \u001b[32m│\u001b[0m\n",
       "\u001b[32m│\u001b[0m  - **Investment in Innovation:** The company consistently invests a significant portion of its revenue into     \u001b[32m│\u001b[0m\n",
       "\u001b[32m│\u001b[0m  research and development, fostering innovation in AI, cloud services, and consumer technology.                 \u001b[32m│\u001b[0m\n",
       "\u001b[32m│\u001b[0m                                                                                                                 \u001b[32m│\u001b[0m\n",
       "\u001b[32m│\u001b[0m  **Risks:**                                                                                                     \u001b[32m│\u001b[0m\n",
       "\u001b[32m│\u001b[0m  - **Regulatory Scrutiny:** Alphabet faces ongoing pressures from regulators in various markets, particularly   \u001b[32m│\u001b[0m\n",
       "\u001b[32m│\u001b[0m  concerning privacy issues and antitrust concerns. Increased regulation could affect operational flexibility    \u001b[32m│\u001b[0m\n",
       "\u001b[32m│\u001b[0m  and profitability.                                                                                             \u001b[32m│\u001b[0m\n",
       "\u001b[32m│\u001b[0m  - **Advertising Sensitivity:** As a major part of its revenue comes from advertising, economic downturns or    \u001b[32m│\u001b[0m\n",
       "\u001b[32m│\u001b[0m  shifts in consumer behavior could negatively impact its revenue.                                               \u001b[32m│\u001b[0m\n",
       "\u001b[32m│\u001b[0m  - **Competition:** The tech landscape is highly competitive, with emerging rivals and existing players (like   \u001b[32m│\u001b[0m\n",
       "\u001b[32m│\u001b[0m  Microsoft in cloud and Apple in hardware) possibly eroding market share.                                       \u001b[32m│\u001b[0m\n",
       "\u001b[32m│\u001b[0m  - **Dependency on the Ad Market:** Changes in digital advertising trends and shifts toward verticals beyond    \u001b[32m│\u001b[0m\n",
       "\u001b[32m│\u001b[0m  Google’s control pose operational risks.                                                                       \u001b[32m│\u001b[0m\n",
       "\u001b[32m│\u001b[0m                                                                                                                 \u001b[32m│\u001b[0m\n",
       "\u001b[32m│\u001b[0m  #### 3. Investment Recommendation                                                                              \u001b[32m│\u001b[0m\n",
       "\u001b[32m│\u001b[0m  Based on the current financial metrics and market assessment, **a buy recommendation** is warranted for GOOG   \u001b[32m│\u001b[0m\n",
       "\u001b[32m│\u001b[0m  shares. Given the company's strong competitive positioning, innovative capacity, and a robust balance sheet,   \u001b[32m│\u001b[0m\n",
       "\u001b[32m│\u001b[0m  it offers a compelling risk/reward profile.                                                                    \u001b[32m│\u001b[0m\n",
       "\u001b[32m│\u001b[0m                                                                                                                 \u001b[32m│\u001b[0m\n",
       "\u001b[32m│\u001b[0m  Investors should consider the following action items:                                                          \u001b[32m│\u001b[0m\n",
       "\u001b[32m│\u001b[0m  - **Initiate Positions Gradually:** If new to the investment, consider dollar-cost averaging into GOOG shares  \u001b[32m│\u001b[0m\n",
       "\u001b[32m│\u001b[0m  to mitigate volatility.                                                                                        \u001b[32m│\u001b[0m\n",
       "\u001b[32m│\u001b[0m  - **Long-Term Focus:** Given Alphabet’s growth potential, maintaining a long-term investment horizon can       \u001b[32m│\u001b[0m\n",
       "\u001b[32m│\u001b[0m  provide exposure to compounding returns.                                                                       \u001b[32m│\u001b[0m\n",
       "\u001b[32m│\u001b[0m  - **Monitor Regulatory Developments:** Stay updated on any regulatory changes that may impact Alphabet's       \u001b[32m│\u001b[0m\n",
       "\u001b[32m│\u001b[0m  business operations, specifically regarding advertising and antitrust issues.                                  \u001b[32m│\u001b[0m\n",
       "\u001b[32m│\u001b[0m                                                                                                                 \u001b[32m│\u001b[0m\n",
       "\u001b[32m│\u001b[0m  #### 4. Price Target or Action Items                                                                           \u001b[32m│\u001b[0m\n",
       "\u001b[32m│\u001b[0m  - **Price Target:** Based on current growth trends and market conditions, estimates suggest a price target of  \u001b[32m│\u001b[0m\n",
       "\u001b[32m│\u001b[0m  around **$3,000** within the next 12 months (subject to market dynamics and overall economic conditions).      \u001b[32m│\u001b[0m\n",
       "\u001b[32m│\u001b[0m                                                                                                                 \u001b[32m│\u001b[0m\n",
       "\u001b[32m│\u001b[0m  - **Action Items:**                                                                                            \u001b[32m│\u001b[0m\n",
       "\u001b[32m│\u001b[0m      - **Buy at Current Levels:** At the current price levels, accumulate shares, especially when market        \u001b[32m│\u001b[0m\n",
       "\u001b[32m│\u001b[0m  conditions align for favorable buy opportunities.                                                              \u001b[32m│\u001b[0m\n",
       "\u001b[32m│\u001b[0m      - **Review Quarterly Performance Reports:** Regularly check quarterly earnings to assess performance       \u001b[32m│\u001b[0m\n",
       "\u001b[32m│\u001b[0m  against expectations and adjust the investment thesis accordingly.                                             \u001b[32m│\u001b[0m\n",
       "\u001b[32m│\u001b[0m      - **Diversify Portfolio:** While GOOG represents a strong investment, ensure it fits within a diversified  \u001b[32m│\u001b[0m\n",
       "\u001b[32m│\u001b[0m  portfolio to manage risk effectively.                                                                          \u001b[32m│\u001b[0m\n",
       "\u001b[32m│\u001b[0m                                                                                                                 \u001b[32m│\u001b[0m\n",
       "\u001b[32m│\u001b[0m  **Conclusion:** Overall, Alphabet Inc. presents an attractive investment opportunity for long-term growth,     \u001b[32m│\u001b[0m\n",
       "\u001b[32m│\u001b[0m  driven by a solid market position and innovation strategy, suitable for investors looking to enter the tech    \u001b[32m│\u001b[0m\n",
       "\u001b[32m│\u001b[0m  space.                                                                                                         \u001b[32m│\u001b[0m\n",
       "\u001b[32m│\u001b[0m                                                                                                                 \u001b[32m│\u001b[0m\n",
       "\u001b[32m╰─────────────────────────────────────────────────────────────────────────────────────────────────────────────────╯\u001b[0m\n"
      ]
     },
     "metadata": {},
     "output_type": "display_data"
    },
    {
     "data": {
      "text/html": [
       "<pre style=\"white-space:pre;overflow-x:auto;line-height:normal;font-family:Menlo,'DejaVu Sans Mono',consolas,'Courier New',monospace\">\n",
       "<span style=\"color: #008000; text-decoration-color: #008000\">✓ Analysis saved to:</span> <span style=\"color: #008080; text-decoration-color: #008080\">recommendations/GOOG_20251018_085609.md</span>\n",
       "</pre>\n"
      ],
      "text/plain": [
       "\n",
       "\u001b[32m✓ Analysis saved to:\u001b[0m \u001b[36mrecommendations/GOOG_20251018_085609.md\u001b[0m\n"
      ]
     },
     "metadata": {},
     "output_type": "display_data"
    },
    {
     "data": {
      "text/html": [
       "<pre style=\"white-space:pre;overflow-x:auto;line-height:normal;font-family:Menlo,'DejaVu Sans Mono',consolas,'Courier New',monospace\">\n",
       "------------------------------------------------------------\n",
       "</pre>\n"
      ],
      "text/plain": [
       "\n",
       "------------------------------------------------------------\n"
      ]
     },
     "metadata": {},
     "output_type": "display_data"
    },
    {
     "data": {
      "text/html": [
       "<pre style=\"white-space:pre;overflow-x:auto;line-height:normal;font-family:Menlo,'DejaVu Sans Mono',consolas,'Courier New',monospace\">\n",
       "------------------------------------------------------------\n",
       "</pre>\n"
      ],
      "text/plain": [
       "\n",
       "------------------------------------------------------------\n"
      ]
     },
     "metadata": {},
     "output_type": "display_data"
    },
    {
     "data": {
      "text/html": [
       "<pre style=\"white-space:pre;overflow-x:auto;line-height:normal;font-family:Menlo,'DejaVu Sans Mono',consolas,'Courier New',monospace\"><span style=\"font-weight: bold\">Example Query:</span>\n",
       "</pre>\n"
      ],
      "text/plain": [
       "\u001b[1mExample Query:\u001b[0m\n"
      ]
     },
     "metadata": {},
     "output_type": "display_data"
    },
    {
     "data": {
      "text/html": [
       "<pre style=\"white-space:pre;overflow-x:auto;line-height:normal;font-family:Menlo,'DejaVu Sans Mono',consolas,'Courier New',monospace\"><span style=\"color: #008080; text-decoration-color: #008080\">Tell me about Apple's performance</span>\n",
       "</pre>\n"
      ],
      "text/plain": [
       "\u001b[36mTell me about Apple's performance\u001b[0m\n"
      ]
     },
     "metadata": {},
     "output_type": "display_data"
    },
    {
     "data": {
      "text/html": [
       "<pre style=\"white-space:pre;overflow-x:auto;line-height:normal;font-family:Menlo,'DejaVu Sans Mono',consolas,'Courier New',monospace\">\n",
       "------------------------------------------------------------\n",
       "</pre>\n"
      ],
      "text/plain": [
       "\n",
       "------------------------------------------------------------\n"
      ]
     },
     "metadata": {},
     "output_type": "display_data"
    },
    {
     "data": {
      "text/html": [
       "<pre style=\"white-space:pre;overflow-x:auto;line-height:normal;font-family:Menlo,'DejaVu Sans Mono',consolas,'Courier New',monospace\"><span style=\"color: #008080; text-decoration-color: #008080\">Extracting stock symbol from query...</span>\n",
       "</pre>\n"
      ],
      "text/plain": [
       "\u001b[36mExtracting stock symbol from query\u001b[0m\u001b[36m...\u001b[0m\n"
      ]
     },
     "metadata": {},
     "output_type": "display_data"
    },
    {
     "data": {
      "text/html": [
       "<pre style=\"white-space:pre;overflow-x:auto;line-height:normal;font-family:Menlo,'DejaVu Sans Mono',consolas,'Courier New',monospace\"><span style=\"color: #7f7f7f; text-decoration-color: #7f7f7f\">→ Checking most recent stock symbol from query history</span><span style=\"color: #bfbf7f; text-decoration-color: #bfbf7f\">...</span>\n",
       "</pre>\n"
      ],
      "text/plain": [
       "\u001b[2m→ Checking most recent stock symbol from query history\u001b[0m\u001b[2;33m...\u001b[0m\n"
      ]
     },
     "metadata": {},
     "output_type": "display_data"
    },
    {
     "data": {
      "text/html": [
       "<pre style=\"white-space:pre;overflow-x:auto;line-height:normal;font-family:Menlo,'DejaVu Sans Mono',consolas,'Courier New',monospace\"><span style=\"color: #008000; text-decoration-color: #008000\">✓ Found most recent stock symbol from history: GOOG</span>\n",
       "</pre>\n"
      ],
      "text/plain": [
       "\u001b[32m✓ Found most recent stock symbol from history: GOOG\u001b[0m\n"
      ]
     },
     "metadata": {},
     "output_type": "display_data"
    },
    {
     "data": {
      "text/html": [
       "<pre style=\"white-space:pre;overflow-x:auto;line-height:normal;font-family:Menlo,'DejaVu Sans Mono',consolas,'Courier New',monospace\"><span style=\"color: #7f7f7f; text-decoration-color: #7f7f7f\">  From: </span><span style=\"color: #7fbfbf; text-decoration-color: #7fbfbf; font-weight: bold\">2025</span><span style=\"color: #7f7f7f; text-decoration-color: #7f7f7f\">-</span><span style=\"color: #7fbfbf; text-decoration-color: #7fbfbf; font-weight: bold\">10</span><span style=\"color: #7f7f7f; text-decoration-color: #7f7f7f\">-18T</span><span style=\"color: #7fff7f; text-decoration-color: #7fff7f; font-weight: bold\">08:56:09</span><span style=\"color: #7f7f7f; text-decoration-color: #7f7f7f\">.</span><span style=\"color: #7fbfbf; text-decoration-color: #7fbfbf; font-weight: bold\">730951</span>\n",
       "</pre>\n"
      ],
      "text/plain": [
       "\u001b[2m  From: \u001b[0m\u001b[1;2;36m2025\u001b[0m\u001b[2m-\u001b[0m\u001b[1;2;36m10\u001b[0m\u001b[2m-18T\u001b[0m\u001b[1;2;92m08:56:09\u001b[0m\u001b[2m.\u001b[0m\u001b[1;2;36m730951\u001b[0m\n"
      ]
     },
     "metadata": {},
     "output_type": "display_data"
    },
    {
     "data": {
      "text/html": [
       "<pre style=\"white-space:pre;overflow-x:auto;line-height:normal;font-family:Menlo,'DejaVu Sans Mono',consolas,'Courier New',monospace\"><span style=\"color: #7f7f7f; text-decoration-color: #7f7f7f\">  Memory: Query: Should I invest in Apple?</span><span style=\"color: #bfbf7f; text-decoration-color: #bfbf7f\">...</span><span style=\"color: #7f7f7f; text-decoration-color: #7f7f7f\"> Result: ### Investment Analysis for Alphabet Inc. </span><span style=\"color: #7f7f7f; text-decoration-color: #7f7f7f; font-weight: bold\">(</span><span style=\"color: #7f7f7f; text-decoration-color: #7f7f7f\">GOOG</span><span style=\"color: #7f7f7f; text-decoration-color: #7f7f7f; font-weight: bold\">)</span>\n",
       "\n",
       "<span style=\"color: #7f7f7f; text-decoration-color: #7f7f7f\">#### </span><span style=\"color: #7fbfbf; text-decoration-color: #7fbfbf; font-weight: bold\">1</span><span style=\"color: #bfbf7f; text-decoration-color: #bfbf7f\">...</span>\n",
       "</pre>\n"
      ],
      "text/plain": [
       "\u001b[2m  Memory: Query: Should I invest in Apple?\u001b[0m\u001b[2;33m...\u001b[0m\u001b[2m Result: ### Investment Analysis for Alphabet Inc. \u001b[0m\u001b[1;2m(\u001b[0m\u001b[2mGOOG\u001b[0m\u001b[1;2m)\u001b[0m\n",
       "\n",
       "\u001b[2m#### \u001b[0m\u001b[1;2;36m1\u001b[0m\u001b[2;33m...\u001b[0m\n"
      ]
     },
     "metadata": {},
     "output_type": "display_data"
    },
    {
     "data": {
      "text/html": [
       "<pre style=\"white-space:pre;overflow-x:auto;line-height:normal;font-family:Menlo,'DejaVu Sans Mono',consolas,'Courier New',monospace\">\n",
       "<span style=\"color: #008000; text-decoration-color: #008000; font-weight: bold\">✓ Identified Stock: GOOG</span>\n",
       "</pre>\n"
      ],
      "text/plain": [
       "\n",
       "\u001b[1;32m✓ Identified Stock: GOOG\u001b[0m\n"
      ]
     },
     "metadata": {},
     "output_type": "display_data"
    },
    {
     "data": {
      "text/html": [
       "<pre style=\"white-space:pre;overflow-x:auto;line-height:normal;font-family:Menlo,'DejaVu Sans Mono',consolas,'Courier New',monospace\"><span style=\"color: #7f7f7f; text-decoration-color: #7f7f7f\">Confidence: high | Method: recent_history</span>\n",
       "</pre>\n"
      ],
      "text/plain": [
       "\u001b[2mConfidence: high | Method: recent_history\u001b[0m\n"
      ]
     },
     "metadata": {},
     "output_type": "display_data"
    },
    {
     "data": {
      "text/html": [
       "<pre style=\"white-space:pre;overflow-x:auto;line-height:normal;font-family:Menlo,'DejaVu Sans Mono',consolas,'Courier New',monospace\">\n",
       "<span style=\"color: #008080; text-decoration-color: #008080; font-weight: bold\">Proceeding with GOOG...</span>\n",
       "</pre>\n"
      ],
      "text/plain": [
       "\n",
       "\u001b[1;36mProceeding with GOOG\u001b[0m\u001b[1;36m...\u001b[0m\n"
      ]
     },
     "metadata": {},
     "output_type": "display_data"
    },
    {
     "data": {
      "text/html": [
       "<pre style=\"white-space:pre;overflow-x:auto;line-height:normal;font-family:Menlo,'DejaVu Sans Mono',consolas,'Courier New',monospace\">\n",
       "------------------------------------------------------------\n",
       "</pre>\n"
      ],
      "text/plain": [
       "\n",
       "------------------------------------------------------------\n"
      ]
     },
     "metadata": {},
     "output_type": "display_data"
    },
    {
     "data": {
      "text/html": [
       "<pre style=\"white-space:pre;overflow-x:auto;line-height:normal;font-family:Menlo,'DejaVu Sans Mono',consolas,'Courier New',monospace\"><span style=\"color: #008080; text-decoration-color: #008080\">╭──────────────────────────────────────────╮</span>\n",
       "<span style=\"color: #008080; text-decoration-color: #008080\">│</span> <span style=\"color: #008080; text-decoration-color: #008080; font-weight: bold\">Processing Query</span>                         <span style=\"color: #008080; text-decoration-color: #008080\">│</span>\n",
       "<span style=\"color: #008080; text-decoration-color: #008080\">│</span> Stock: <span style=\"color: #808000; text-decoration-color: #808000\">GOOG</span>                              <span style=\"color: #008080; text-decoration-color: #008080\">│</span>\n",
       "<span style=\"color: #008080; text-decoration-color: #008080\">│</span> Query: <span style=\"color: #c0c0c0; text-decoration-color: #c0c0c0\">Tell me about Apple's performance</span> <span style=\"color: #008080; text-decoration-color: #008080\">│</span>\n",
       "<span style=\"color: #008080; text-decoration-color: #008080\">╰──────────────────────────────────────────╯</span>\n",
       "</pre>\n"
      ],
      "text/plain": [
       "\u001b[36m╭──────────────────────────────────────────╮\u001b[0m\n",
       "\u001b[36m│\u001b[0m \u001b[1;36mProcessing Query\u001b[0m                         \u001b[36m│\u001b[0m\n",
       "\u001b[36m│\u001b[0m Stock: \u001b[33mGOOG\u001b[0m                              \u001b[36m│\u001b[0m\n",
       "\u001b[36m│\u001b[0m Query: \u001b[37mTell me about Apple's performance\u001b[0m \u001b[36m│\u001b[0m\n",
       "\u001b[36m╰──────────────────────────────────────────╯\u001b[0m\n"
      ]
     },
     "metadata": {},
     "output_type": "display_data"
    },
    {
     "data": {
      "text/html": [
       "<pre style=\"white-space:pre;overflow-x:auto;line-height:normal;font-family:Menlo,'DejaVu Sans Mono',consolas,'Courier New',monospace\">\n",
       "<span style=\"font-weight: bold\">Step </span><span style=\"color: #008080; text-decoration-color: #008080; font-weight: bold\">1</span><span style=\"font-weight: bold\">: Gathering Data</span>\n",
       "</pre>\n"
      ],
      "text/plain": [
       "\n",
       "\u001b[1mStep \u001b[0m\u001b[1;36m1\u001b[0m\u001b[1m: Gathering Data\u001b[0m\n"
      ]
     },
     "metadata": {},
     "output_type": "display_data"
    },
    {
     "data": {
      "text/html": [
       "<pre style=\"white-space:pre;overflow-x:auto;line-height:normal;font-family:Menlo,'DejaVu Sans Mono',consolas,'Courier New',monospace\"><span style=\"color: #800080; text-decoration-color: #800080; font-weight: bold\"> Randomly selected primary source: Yahoo Finance</span>\n",
       "</pre>\n"
      ],
      "text/plain": [
       "\u001b[1;35m Randomly selected primary source: Yahoo Finance\u001b[0m\n"
      ]
     },
     "metadata": {},
     "output_type": "display_data"
    },
    {
     "data": {
      "text/html": [
       "<pre style=\"white-space:pre;overflow-x:auto;line-height:normal;font-family:Menlo,'DejaVu Sans Mono',consolas,'Courier New',monospace\">/Users/pankajshukla/Documents/Projects/usd-git/investment-research-agent/venv_agentic/lib/python3.12/site-packages/\n",
       "rich/live.py:256: UserWarning: install \"ipywidgets\" for Jupyter support\n",
       "  warnings.warn('install \"ipywidgets\" for Jupyter support')\n",
       "</pre>\n"
      ],
      "text/plain": [
       "/Users/pankajshukla/Documents/Projects/usd-git/investment-research-agent/venv_agentic/lib/python3.12/site-packages/\n",
       "rich/live.py:256: UserWarning: install \"ipywidgets\" for Jupyter support\n",
       "  warnings.warn('install \"ipywidgets\" for Jupyter support')\n"
      ]
     },
     "metadata": {},
     "output_type": "display_data"
    },
    {
     "data": {
      "text/html": [
       "<pre style=\"white-space:pre;overflow-x:auto;line-height:normal;font-family:Menlo,'DejaVu Sans Mono',consolas,'Courier New',monospace\">/Users/pankajshukla/Documents/Projects/usd-git/investment-research-agent/venv_agentic/lib/python3.12/site-packages/\n",
       "rich/live.py:256: UserWarning: install \"ipywidgets\" for Jupyter support\n",
       "  warnings.warn('install \"ipywidgets\" for Jupyter support')\n",
       "</pre>\n"
      ],
      "text/plain": [
       "/Users/pankajshukla/Documents/Projects/usd-git/investment-research-agent/venv_agentic/lib/python3.12/site-packages/\n",
       "rich/live.py:256: UserWarning: install \"ipywidgets\" for Jupyter support\n",
       "  warnings.warn('install \"ipywidgets\" for Jupyter support')\n"
      ]
     },
     "metadata": {},
     "output_type": "display_data"
    },
    {
     "data": {
      "text/html": [
       "<pre style=\"white-space:pre;overflow-x:auto;line-height:normal;font-family:Menlo,'DejaVu Sans Mono',consolas,'Courier New',monospace\">  <span style=\"color: #008080; text-decoration-color: #008080\">Calculating technical indicators...</span>\n",
       "</pre>\n"
      ],
      "text/plain": [
       "  \u001b[36mCalculating technical indicators...\u001b[0m\n"
      ]
     },
     "metadata": {},
     "output_type": "display_data"
    },
    {
     "data": {
      "text/html": [
       "<pre style=\"white-space:pre;overflow-x:auto;line-height:normal;font-family:Menlo,'DejaVu Sans Mono',consolas,'Courier New',monospace\"></pre>\n"
      ],
      "text/plain": []
     },
     "metadata": {},
     "output_type": "display_data"
    },
    {
     "data": {
      "text/html": [
       "<pre style=\"white-space:pre;overflow-x:auto;line-height:normal;font-family:Menlo,'DejaVu Sans Mono',consolas,'Courier New',monospace\">/Users/pankajshukla/Documents/Projects/usd-git/investment-research-agent/venv_agentic/lib/python3.12/site-packages/\n",
       "rich/live.py:256: UserWarning: install \"ipywidgets\" for Jupyter support\n",
       "  warnings.warn('install \"ipywidgets\" for Jupyter support')\n",
       "</pre>\n"
      ],
      "text/plain": [
       "/Users/pankajshukla/Documents/Projects/usd-git/investment-research-agent/venv_agentic/lib/python3.12/site-packages/\n",
       "rich/live.py:256: UserWarning: install \"ipywidgets\" for Jupyter support\n",
       "  warnings.warn('install \"ipywidgets\" for Jupyter support')\n"
      ]
     },
     "metadata": {},
     "output_type": "display_data"
    },
    {
     "data": {
      "text/html": [
       "<pre style=\"white-space:pre;overflow-x:auto;line-height:normal;font-family:Menlo,'DejaVu Sans Mono',consolas,'Courier New',monospace\"></pre>\n"
      ],
      "text/plain": []
     },
     "metadata": {},
     "output_type": "display_data"
    },
    {
     "data": {
      "text/html": [
       "<pre style=\"white-space:pre;overflow-x:auto;line-height:normal;font-family:Menlo,'DejaVu Sans Mono',consolas,'Courier New',monospace\"></pre>\n"
      ],
      "text/plain": []
     },
     "metadata": {},
     "output_type": "display_data"
    },
    {
     "data": {
      "text/html": [
       "<pre style=\"white-space:pre;overflow-x:auto;line-height:normal;font-family:Menlo,'DejaVu Sans Mono',consolas,'Courier New',monospace\">\n",
       "<span style=\"font-weight: bold\">Step </span><span style=\"color: #008080; text-decoration-color: #008080; font-weight: bold\">2</span><span style=\"font-weight: bold\">: Determining Workflow Strategy</span>\n",
       "</pre>\n"
      ],
      "text/plain": [
       "\n",
       "\u001b[1mStep \u001b[0m\u001b[1;36m2\u001b[0m\u001b[1m: Determining Workflow Strategy\u001b[0m\n"
      ]
     },
     "metadata": {},
     "output_type": "display_data"
    },
    {
     "name": "stderr",
     "output_type": "stream",
     "text": [
      "2025-10-18 08:56:10,541 - INFO - HTTP Request: POST https://api.openai.com/v1/chat/completions \"HTTP/1.1 200 OK\"\n"
     ]
    },
    {
     "data": {
      "text/html": [
       "<pre style=\"white-space:pre;overflow-x:auto;line-height:normal;font-family:Menlo,'DejaVu Sans Mono',consolas,'Courier New',monospace\"><span style=\"color: #808000; text-decoration-color: #808000\">→ Selected Strategy: comprehensive</span>\n",
       "</pre>\n"
      ],
      "text/plain": [
       "\u001b[33m→ Selected Strategy: comprehensive\u001b[0m\n"
      ]
     },
     "metadata": {},
     "output_type": "display_data"
    },
    {
     "data": {
      "text/html": [
       "<pre style=\"white-space:pre;overflow-x:auto;line-height:normal;font-family:Menlo,'DejaVu Sans Mono',consolas,'Courier New',monospace\">\n",
       "<span style=\"font-weight: bold\">Step </span><span style=\"color: #008080; text-decoration-color: #008080; font-weight: bold\">3</span><span style=\"font-weight: bold\">: Executing Workflow</span>\n",
       "</pre>\n"
      ],
      "text/plain": [
       "\n",
       "\u001b[1mStep \u001b[0m\u001b[1;36m3\u001b[0m\u001b[1m: Executing Workflow\u001b[0m\n"
      ]
     },
     "metadata": {},
     "output_type": "display_data"
    },
    {
     "name": "stderr",
     "output_type": "stream",
     "text": [
      "2025-10-18 08:56:19,064 - INFO - HTTP Request: POST https://api.openai.com/v1/chat/completions \"HTTP/1.1 200 OK\"\n"
     ]
    },
    {
     "data": {
      "text/html": [
       "<pre style=\"white-space:pre;overflow-x:auto;line-height:normal;font-family:Menlo,'DejaVu Sans Mono',consolas,'Courier New',monospace\">\n",
       "<span style=\"font-weight: bold\">Step </span><span style=\"color: #008080; text-decoration-color: #008080; font-weight: bold\">4</span><span style=\"font-weight: bold\">: Optimizing Analysis</span>\n",
       "</pre>\n"
      ],
      "text/plain": [
       "\n",
       "\u001b[1mStep \u001b[0m\u001b[1;36m4\u001b[0m\u001b[1m: Optimizing Analysis\u001b[0m\n"
      ]
     },
     "metadata": {},
     "output_type": "display_data"
    },
    {
     "data": {
      "text/html": [
       "<pre style=\"white-space:pre;overflow-x:auto;line-height:normal;font-family:Menlo,'DejaVu Sans Mono',consolas,'Courier New',monospace\"><span style=\"color: #008080; text-decoration-color: #008080\">Starting Evaluator-Optimizer Workflow for GOOG</span>\n",
       "</pre>\n"
      ],
      "text/plain": [
       "\u001b[36mStarting Evaluator-Optimizer Workflow for GOOG\u001b[0m\n"
      ]
     },
     "metadata": {},
     "output_type": "display_data"
    },
    {
     "data": {
      "text/html": [
       "<pre style=\"white-space:pre;overflow-x:auto;line-height:normal;font-family:Menlo,'DejaVu Sans Mono',consolas,'Courier New',monospace\"><span style=\"color: #808000; text-decoration-color: #808000\">→ Iteration </span><span style=\"color: #808000; text-decoration-color: #808000; font-weight: bold\">1</span><span style=\"color: #808000; text-decoration-color: #808000\">/</span><span style=\"color: #808000; text-decoration-color: #808000; font-weight: bold\">2</span>\n",
       "</pre>\n"
      ],
      "text/plain": [
       "\u001b[33m→ Iteration \u001b[0m\u001b[1;33m1\u001b[0m\u001b[33m/\u001b[0m\u001b[1;33m2\u001b[0m\n"
      ]
     },
     "metadata": {},
     "output_type": "display_data"
    },
    {
     "data": {
      "text/html": [
       "<pre style=\"white-space:pre;overflow-x:auto;line-height:normal;font-family:Menlo,'DejaVu Sans Mono',consolas,'Courier New',monospace\"><span style=\"color: #7f7f7f; text-decoration-color: #7f7f7f\">→ Evaluating analysis quality</span><span style=\"color: #bfbf7f; text-decoration-color: #bfbf7f\">...</span>\n",
       "</pre>\n"
      ],
      "text/plain": [
       "\u001b[2m→ Evaluating analysis quality\u001b[0m\u001b[2;33m...\u001b[0m\n"
      ]
     },
     "metadata": {},
     "output_type": "display_data"
    },
    {
     "name": "stderr",
     "output_type": "stream",
     "text": [
      "2025-10-18 08:56:22,726 - INFO - HTTP Request: POST https://api.openai.com/v1/chat/completions \"HTTP/1.1 200 OK\"\n"
     ]
    },
    {
     "data": {
      "text/html": [
       "<pre style=\"white-space:pre;overflow-x:auto;line-height:normal;font-family:Menlo,'DejaVu Sans Mono',consolas,'Courier New',monospace\"><span style=\"color: #7f7f7f; text-decoration-color: #7f7f7f\">Quality Score: </span><span style=\"color: #7fbfbf; text-decoration-color: #7fbfbf; font-weight: bold\">8.50</span><span style=\"color: #7f7f7f; text-decoration-color: #7f7f7f\">/</span><span style=\"color: #7fbfbf; text-decoration-color: #7fbfbf; font-weight: bold\">10</span>\n",
       "</pre>\n"
      ],
      "text/plain": [
       "\u001b[2mQuality Score: \u001b[0m\u001b[1;2;36m8.50\u001b[0m\u001b[2m/\u001b[0m\u001b[1;2;36m10\u001b[0m\n"
      ]
     },
     "metadata": {},
     "output_type": "display_data"
    },
    {
     "data": {
      "text/html": [
       "<pre style=\"white-space:pre;overflow-x:auto;line-height:normal;font-family:Menlo,'DejaVu Sans Mono',consolas,'Courier New',monospace\"><span style=\"color: #008000; text-decoration-color: #008000\">✓ Quality threshold met</span>\n",
       "</pre>\n"
      ],
      "text/plain": [
       "\u001b[32m✓ Quality threshold met\u001b[0m\n"
      ]
     },
     "metadata": {},
     "output_type": "display_data"
    },
    {
     "data": {
      "text/html": [
       "<pre style=\"white-space:pre;overflow-x:auto;line-height:normal;font-family:Menlo,'DejaVu Sans Mono',consolas,'Courier New',monospace\"><span style=\"color: #008000; text-decoration-color: #008000\">Saved </span><span style=\"color: #008000; text-decoration-color: #008000; font-weight: bold\">28</span><span style=\"color: #008000; text-decoration-color: #008000\"> memories to file</span>\n",
       "</pre>\n"
      ],
      "text/plain": [
       "\u001b[32mSaved \u001b[0m\u001b[1;32m28\u001b[0m\u001b[32m memories to file\u001b[0m\n"
      ]
     },
     "metadata": {},
     "output_type": "display_data"
    },
    {
     "data": {
      "text/html": [
       "<pre style=\"white-space:pre;overflow-x:auto;line-height:normal;font-family:Menlo,'DejaVu Sans Mono',consolas,'Courier New',monospace\"><span style=\"color: #008000; text-decoration-color: #008000\">Added memory for GOOG: query_analysis</span>\n",
       "</pre>\n"
      ],
      "text/plain": [
       "\u001b[32mAdded memory for GOOG: query_analysis\u001b[0m\n"
      ]
     },
     "metadata": {},
     "output_type": "display_data"
    },
    {
     "data": {
      "text/html": [
       "<pre style=\"white-space:pre;overflow-x:auto;line-height:normal;font-family:Menlo,'DejaVu Sans Mono',consolas,'Courier New',monospace\">\n",
       "<span style=\"color: #008000; text-decoration-color: #008000; font-weight: bold\">✓ Query Processing Completed</span>\n",
       "</pre>\n"
      ],
      "text/plain": [
       "\n",
       "\u001b[1;32m✓ Query Processing Completed\u001b[0m\n"
      ]
     },
     "metadata": {},
     "output_type": "display_data"
    },
    {
     "data": {
      "text/html": [
       "<pre style=\"white-space:pre;overflow-x:auto;line-height:normal;font-family:Menlo,'DejaVu Sans Mono',consolas,'Courier New',monospace\">\n",
       "------------------------------------------------------------\n",
       "</pre>\n"
      ],
      "text/plain": [
       "\n",
       "------------------------------------------------------------\n"
      ]
     },
     "metadata": {},
     "output_type": "display_data"
    },
    {
     "data": {
      "text/html": [
       "<pre style=\"white-space:pre;overflow-x:auto;line-height:normal;font-family:Menlo,'DejaVu Sans Mono',consolas,'Courier New',monospace\"><span style=\"color: #008000; text-decoration-color: #008000\">╭───────────────────╮</span>\n",
       "<span style=\"color: #008000; text-decoration-color: #008000\">│</span> <span style=\"color: #008000; text-decoration-color: #008000; font-weight: bold\">Analysis Complete</span> <span style=\"color: #008000; text-decoration-color: #008000\">│</span>\n",
       "<span style=\"color: #008000; text-decoration-color: #008000\">╰───────────────────╯</span>\n",
       "</pre>\n"
      ],
      "text/plain": [
       "\u001b[32m╭───────────────────╮\u001b[0m\n",
       "\u001b[32m│\u001b[0m \u001b[1;32mAnalysis Complete\u001b[0m \u001b[32m│\u001b[0m\n",
       "\u001b[32m╰───────────────────╯\u001b[0m\n"
      ]
     },
     "metadata": {},
     "output_type": "display_data"
    },
    {
     "data": {
      "text/html": [
       "<pre style=\"white-space:pre;overflow-x:auto;line-height:normal;font-family:Menlo,'DejaVu Sans Mono',consolas,'Courier New',monospace\">\n",
       "<span style=\"font-weight: bold\">Workflow Used:</span> <span style=\"color: #808000; text-decoration-color: #808000\">comprehensive</span>\n",
       "</pre>\n"
      ],
      "text/plain": [
       "\n",
       "\u001b[1mWorkflow Used:\u001b[0m \u001b[33mcomprehensive\u001b[0m\n"
      ]
     },
     "metadata": {},
     "output_type": "display_data"
    },
    {
     "data": {
      "text/html": [
       "<pre style=\"white-space:pre;overflow-x:auto;line-height:normal;font-family:Menlo,'DejaVu Sans Mono',consolas,'Courier New',monospace\"><span style=\"font-weight: bold\">Optimization:</span> <span style=\"color: #008080; text-decoration-color: #008080; font-weight: bold\">1</span> iterations, Quality Score: <span style=\"color: #008080; text-decoration-color: #008080; font-weight: bold\">8.5</span>/<span style=\"color: #008080; text-decoration-color: #008080; font-weight: bold\">10</span>\n",
       "</pre>\n"
      ],
      "text/plain": [
       "\u001b[1mOptimization:\u001b[0m \u001b[1;36m1\u001b[0m iterations, Quality Score: \u001b[1;36m8.5\u001b[0m/\u001b[1;36m10\u001b[0m\n"
      ]
     },
     "metadata": {},
     "output_type": "display_data"
    },
    {
     "data": {
      "text/html": [
       "<pre style=\"white-space:pre;overflow-x:auto;line-height:normal;font-family:Menlo,'DejaVu Sans Mono',consolas,'Courier New',monospace\">\n",
       "<span style=\"font-weight: bold\">Data Summary:</span>\n",
       "</pre>\n"
      ],
      "text/plain": [
       "\n",
       "\u001b[1mData Summary:\u001b[0m\n"
      ]
     },
     "metadata": {},
     "output_type": "display_data"
    },
    {
     "data": {
      "text/html": [
       "<pre style=\"white-space:pre;overflow-x:auto;line-height:normal;font-family:Menlo,'DejaVu Sans Mono',consolas,'Courier New',monospace\"><span style=\"color: #008080; text-decoration-color: #008080\"> Current Price </span><span style=\"color: #c0c0c0; text-decoration-color: #c0c0c0\"> $253.7899932861328 </span>\n",
       "<span style=\"color: #008080; text-decoration-color: #008080\"> P/E Ratio     </span><span style=\"color: #c0c0c0; text-decoration-color: #c0c0c0\"> 27.027687          </span>\n",
       "<span style=\"color: #008080; text-decoration-color: #008080\"> News Articles </span><span style=\"color: #c0c0c0; text-decoration-color: #c0c0c0\"> 5                  </span>\n",
       "</pre>\n"
      ],
      "text/plain": [
       "\u001b[36m \u001b[0m\u001b[36mCurrent Price\u001b[0m\u001b[36m \u001b[0m\u001b[37m \u001b[0m\u001b[37m$253.7899932861328\u001b[0m\u001b[37m \u001b[0m\n",
       "\u001b[36m \u001b[0m\u001b[36mP/E Ratio    \u001b[0m\u001b[36m \u001b[0m\u001b[37m \u001b[0m\u001b[37m27.027687         \u001b[0m\u001b[37m \u001b[0m\n",
       "\u001b[36m \u001b[0m\u001b[36mNews Articles\u001b[0m\u001b[36m \u001b[0m\u001b[37m \u001b[0m\u001b[37m5                 \u001b[0m\u001b[37m \u001b[0m\n"
      ]
     },
     "metadata": {},
     "output_type": "display_data"
    },
    {
     "data": {
      "text/html": [
       "<pre style=\"white-space:pre;overflow-x:auto;line-height:normal;font-family:Menlo,'DejaVu Sans Mono',consolas,'Courier New',monospace\">\n",
       "<span style=\"font-weight: bold\">Analysis:</span>\n",
       "</pre>\n"
      ],
      "text/plain": [
       "\n",
       "\u001b[1mAnalysis:\u001b[0m\n"
      ]
     },
     "metadata": {},
     "output_type": "display_data"
    },
    {
     "data": {
      "text/html": [
       "<pre style=\"white-space:pre;overflow-x:auto;line-height:normal;font-family:Menlo,'DejaVu Sans Mono',consolas,'Courier New',monospace\"><span style=\"color: #008000; text-decoration-color: #008000\">╭─────────────────────────────────────────────────────────────────────────────────────────────────────────────────╮</span>\n",
       "<span style=\"color: #008000; text-decoration-color: #008000\">│</span>                                                                                                                 <span style=\"color: #008000; text-decoration-color: #008000\">│</span>\n",
       "<span style=\"color: #008000; text-decoration-color: #008000\">│</span>  ### Investment Analysis for Alphabet Inc. (GOOG)                                                               <span style=\"color: #008000; text-decoration-color: #008000\">│</span>\n",
       "<span style=\"color: #008000; text-decoration-color: #008000\">│</span>                                                                                                                 <span style=\"color: #008000; text-decoration-color: #008000\">│</span>\n",
       "<span style=\"color: #008000; text-decoration-color: #008000\">│</span>  #### 1. Overall Assessment                                                                                     <span style=\"color: #008000; text-decoration-color: #008000\">│</span>\n",
       "<span style=\"color: #008000; text-decoration-color: #008000\">│</span>  Alphabet Inc. (GOOG), the parent company of Google, has maintained strong financial stability and growth       <span style=\"color: #008000; text-decoration-color: #008000\">│</span>\n",
       "<span style=\"color: #008000; text-decoration-color: #008000\">│</span>  potential. The company's diversified revenue streams, primarily from digital advertising, cloud computing,     <span style=\"color: #008000; text-decoration-color: #008000\">│</span>\n",
       "<span style=\"color: #008000; text-decoration-color: #008000\">│</span>  and other emerging technologies, position it favorably in a rapidly evolving tech landscape. Recent market     <span style=\"color: #008000; text-decoration-color: #008000\">│</span>\n",
       "<span style=\"color: #008000; text-decoration-color: #008000\">│</span>  trends indicate a positive outlook for the stock as it continues to innovate and expand its services.          <span style=\"color: #008000; text-decoration-color: #008000\">│</span>\n",
       "<span style=\"color: #008000; text-decoration-color: #008000\">│</span>                                                                                                                 <span style=\"color: #008000; text-decoration-color: #008000\">│</span>\n",
       "<span style=\"color: #008000; text-decoration-color: #008000\">│</span>  #### 2. Key Strengths and Risks                                                                                <span style=\"color: #008000; text-decoration-color: #008000\">│</span>\n",
       "<span style=\"color: #008000; text-decoration-color: #008000\">│</span>                                                                                                                 <span style=\"color: #008000; text-decoration-color: #008000\">│</span>\n",
       "<span style=\"color: #008000; text-decoration-color: #008000\">│</span>  **Key Strengths:**                                                                                             <span style=\"color: #008000; text-decoration-color: #008000\">│</span>\n",
       "<span style=\"color: #008000; text-decoration-color: #008000\">│</span>  - **Dominance in Digital Advertising:** GOOG is one of the leading players in digital advertising,             <span style=\"color: #008000; text-decoration-color: #008000\">│</span>\n",
       "<span style=\"color: #008000; text-decoration-color: #008000\">│</span>  benefitting from strong market share and brand recognition.                                                    <span style=\"color: #008000; text-decoration-color: #008000\">│</span>\n",
       "<span style=\"color: #008000; text-decoration-color: #008000\">│</span>  - **Growth in Cloud Services:** Google Cloud has shown significant growth potential, contributing to revenue   <span style=\"color: #008000; text-decoration-color: #008000\">│</span>\n",
       "<span style=\"color: #008000; text-decoration-color: #008000\">│</span>  diversification and a steady increase in user engagement.                                                      <span style=\"color: #008000; text-decoration-color: #008000\">│</span>\n",
       "<span style=\"color: #008000; text-decoration-color: #008000\">│</span>  - **Innovation and R&amp;D:** The company is constantly investing in research and development, particularly in     <span style=\"color: #008000; text-decoration-color: #008000\">│</span>\n",
       "<span style=\"color: #008000; text-decoration-color: #008000\">│</span>  artificial intelligence and machine learning, which can drive future growth.                                   <span style=\"color: #008000; text-decoration-color: #008000\">│</span>\n",
       "<span style=\"color: #008000; text-decoration-color: #008000\">│</span>  - **Strong Balance Sheet:** GOOG typically maintains a solid balance sheet, ensuring financial resilience and  <span style=\"color: #008000; text-decoration-color: #008000\">│</span>\n",
       "<span style=\"color: #008000; text-decoration-color: #008000\">│</span>  ability to invest in new sectors or opportunities.                                                             <span style=\"color: #008000; text-decoration-color: #008000\">│</span>\n",
       "<span style=\"color: #008000; text-decoration-color: #008000\">│</span>                                                                                                                 <span style=\"color: #008000; text-decoration-color: #008000\">│</span>\n",
       "<span style=\"color: #008000; text-decoration-color: #008000\">│</span>  **Risks:**                                                                                                     <span style=\"color: #008000; text-decoration-color: #008000\">│</span>\n",
       "<span style=\"color: #008000; text-decoration-color: #008000\">│</span>  - **Regulatory Scrutiny:** Like other major tech firms, GOOG faces regulatory challenges that may impact its   <span style=\"color: #008000; text-decoration-color: #008000\">│</span>\n",
       "<span style=\"color: #008000; text-decoration-color: #008000\">│</span>  operations and financial performance.                                                                          <span style=\"color: #008000; text-decoration-color: #008000\">│</span>\n",
       "<span style=\"color: #008000; text-decoration-color: #008000\">│</span>  - **Competition:** The tech landscape is competitive, with fierce rivals in advertising (Meta Platforms),      <span style=\"color: #008000; text-decoration-color: #008000\">│</span>\n",
       "<span style=\"color: #008000; text-decoration-color: #008000\">│</span>  cloud computing (Amazon AWS), and emerging technologies (various startups).                                    <span style=\"color: #008000; text-decoration-color: #008000\">│</span>\n",
       "<span style=\"color: #008000; text-decoration-color: #008000\">│</span>  - **Market Volatility:** The company’s stock is subject to market fluctuations, impacted by macroeconomic      <span style=\"color: #008000; text-decoration-color: #008000\">│</span>\n",
       "<span style=\"color: #008000; text-decoration-color: #008000\">│</span>  factors and investor sentiment.                                                                                <span style=\"color: #008000; text-decoration-color: #008000\">│</span>\n",
       "<span style=\"color: #008000; text-decoration-color: #008000\">│</span>                                                                                                                 <span style=\"color: #008000; text-decoration-color: #008000\">│</span>\n",
       "<span style=\"color: #008000; text-decoration-color: #008000\">│</span>  #### 3. Investment Recommendation                                                                              <span style=\"color: #008000; text-decoration-color: #008000\">│</span>\n",
       "<span style=\"color: #008000; text-decoration-color: #008000\">│</span>                                                                                                                 <span style=\"color: #008000; text-decoration-color: #008000\">│</span>\n",
       "<span style=\"color: #008000; text-decoration-color: #008000\">│</span>  **Recommendation:** Buy                                                                                        <span style=\"color: #008000; text-decoration-color: #008000\">│</span>\n",
       "<span style=\"color: #008000; text-decoration-color: #008000\">│</span>                                                                                                                 <span style=\"color: #008000; text-decoration-color: #008000\">│</span>\n",
       "<span style=\"color: #008000; text-decoration-color: #008000\">│</span>  Given the company's robust business model, continuous innovation, and strong market share, it is advisable to  <span style=\"color: #008000; text-decoration-color: #008000\">│</span>\n",
       "<span style=\"color: #008000; text-decoration-color: #008000\">│</span>  buy GOOG shares. Although there are risks associated with regulations and competition, the potential for       <span style=\"color: #008000; text-decoration-color: #008000\">│</span>\n",
       "<span style=\"color: #008000; text-decoration-color: #008000\">│</span>  growth, particularly in the cloud sector and AI, outweighs these concerns. The current valuation metrics       <span style=\"color: #008000; text-decoration-color: #008000\">│</span>\n",
       "<span style=\"color: #008000; text-decoration-color: #008000\">│</span>  indicate that the stock is fairly priced for long-term growth.                                                 <span style=\"color: #008000; text-decoration-color: #008000\">│</span>\n",
       "<span style=\"color: #008000; text-decoration-color: #008000\">│</span>                                                                                                                 <span style=\"color: #008000; text-decoration-color: #008000\">│</span>\n",
       "<span style=\"color: #008000; text-decoration-color: #008000\">│</span>  #### 4. Price Target or Action Items                                                                           <span style=\"color: #008000; text-decoration-color: #008000\">│</span>\n",
       "<span style=\"color: #008000; text-decoration-color: #008000\">│</span>                                                                                                                 <span style=\"color: #008000; text-decoration-color: #008000\">│</span>\n",
       "<span style=\"color: #008000; text-decoration-color: #008000\">│</span>  **Price Target:** Based on current market trends and performance analysis, a price target for GOOG over the    <span style=\"color: #008000; text-decoration-color: #008000\">│</span>\n",
       "<span style=\"color: #008000; text-decoration-color: #008000\">│</span>  next 12 months is approximately $160-$180 per share, considering its revenue growth prospects and market       <span style=\"color: #008000; text-decoration-color: #008000\">│</span>\n",
       "<span style=\"color: #008000; text-decoration-color: #008000\">│</span>  conditions.                                                                                                    <span style=\"color: #008000; text-decoration-color: #008000\">│</span>\n",
       "<span style=\"color: #008000; text-decoration-color: #008000\">│</span>                                                                                                                 <span style=\"color: #008000; text-decoration-color: #008000\">│</span>\n",
       "<span style=\"color: #008000; text-decoration-color: #008000\">│</span>  **Action Items:**                                                                                              <span style=\"color: #008000; text-decoration-color: #008000\">│</span>\n",
       "<span style=\"color: #008000; text-decoration-color: #008000\">│</span>  - **Monitor Earnings Reports:** Pay attention to upcoming quarterly earnings reports to gauge performance      <span style=\"color: #008000; text-decoration-color: #008000\">│</span>\n",
       "<span style=\"color: #008000; text-decoration-color: #008000\">│</span>  metrics and revenue breakdowns.                                                                                <span style=\"color: #008000; text-decoration-color: #008000\">│</span>\n",
       "<span style=\"color: #008000; text-decoration-color: #008000\">│</span>  - **Evaluate Market Trends:** Keep an eye on industry developments, especially in digital advertising and      <span style=\"color: #008000; text-decoration-color: #008000\">│</span>\n",
       "<span style=\"color: #008000; text-decoration-color: #008000\">│</span>  cloud services, as these areas significantly impact GOOG's performance.                                        <span style=\"color: #008000; text-decoration-color: #008000\">│</span>\n",
       "<span style=\"color: #008000; text-decoration-color: #008000\">│</span>  - **Assess Regulatory Developments:** Stay informed about regulatory changes affecting the tech industry,      <span style=\"color: #008000; text-decoration-color: #008000\">│</span>\n",
       "<span style=\"color: #008000; text-decoration-color: #008000\">│</span>  specifically pertaining to monopolistic practices and data privacy legislation.                                <span style=\"color: #008000; text-decoration-color: #008000\">│</span>\n",
       "<span style=\"color: #008000; text-decoration-color: #008000\">│</span>  - **Diversify Portfolio:** If investing in GOOG, consider balancing your portfolio with other sectors to       <span style=\"color: #008000; text-decoration-color: #008000\">│</span>\n",
       "<span style=\"color: #008000; text-decoration-color: #008000\">│</span>  mitigate risk from tech market fluctuations.                                                                   <span style=\"color: #008000; text-decoration-color: #008000\">│</span>\n",
       "<span style=\"color: #008000; text-decoration-color: #008000\">│</span>                                                                                                                 <span style=\"color: #008000; text-decoration-color: #008000\">│</span>\n",
       "<span style=\"color: #008000; text-decoration-color: #008000\">│</span>  In summary, GOOG’s strategic positioning and strong fundamentals make it a robust addition to an investment    <span style=\"color: #008000; text-decoration-color: #008000\">│</span>\n",
       "<span style=\"color: #008000; text-decoration-color: #008000\">│</span>  portfolio, with potential for capital appreciation in the long term.                                           <span style=\"color: #008000; text-decoration-color: #008000\">│</span>\n",
       "<span style=\"color: #008000; text-decoration-color: #008000\">│</span>                                                                                                                 <span style=\"color: #008000; text-decoration-color: #008000\">│</span>\n",
       "<span style=\"color: #008000; text-decoration-color: #008000\">╰─────────────────────────────────────────────────────────────────────────────────────────────────────────────────╯</span>\n",
       "</pre>\n"
      ],
      "text/plain": [
       "\u001b[32m╭─────────────────────────────────────────────────────────────────────────────────────────────────────────────────╮\u001b[0m\n",
       "\u001b[32m│\u001b[0m                                                                                                                 \u001b[32m│\u001b[0m\n",
       "\u001b[32m│\u001b[0m  ### Investment Analysis for Alphabet Inc. (GOOG)                                                               \u001b[32m│\u001b[0m\n",
       "\u001b[32m│\u001b[0m                                                                                                                 \u001b[32m│\u001b[0m\n",
       "\u001b[32m│\u001b[0m  #### 1. Overall Assessment                                                                                     \u001b[32m│\u001b[0m\n",
       "\u001b[32m│\u001b[0m  Alphabet Inc. (GOOG), the parent company of Google, has maintained strong financial stability and growth       \u001b[32m│\u001b[0m\n",
       "\u001b[32m│\u001b[0m  potential. The company's diversified revenue streams, primarily from digital advertising, cloud computing,     \u001b[32m│\u001b[0m\n",
       "\u001b[32m│\u001b[0m  and other emerging technologies, position it favorably in a rapidly evolving tech landscape. Recent market     \u001b[32m│\u001b[0m\n",
       "\u001b[32m│\u001b[0m  trends indicate a positive outlook for the stock as it continues to innovate and expand its services.          \u001b[32m│\u001b[0m\n",
       "\u001b[32m│\u001b[0m                                                                                                                 \u001b[32m│\u001b[0m\n",
       "\u001b[32m│\u001b[0m  #### 2. Key Strengths and Risks                                                                                \u001b[32m│\u001b[0m\n",
       "\u001b[32m│\u001b[0m                                                                                                                 \u001b[32m│\u001b[0m\n",
       "\u001b[32m│\u001b[0m  **Key Strengths:**                                                                                             \u001b[32m│\u001b[0m\n",
       "\u001b[32m│\u001b[0m  - **Dominance in Digital Advertising:** GOOG is one of the leading players in digital advertising,             \u001b[32m│\u001b[0m\n",
       "\u001b[32m│\u001b[0m  benefitting from strong market share and brand recognition.                                                    \u001b[32m│\u001b[0m\n",
       "\u001b[32m│\u001b[0m  - **Growth in Cloud Services:** Google Cloud has shown significant growth potential, contributing to revenue   \u001b[32m│\u001b[0m\n",
       "\u001b[32m│\u001b[0m  diversification and a steady increase in user engagement.                                                      \u001b[32m│\u001b[0m\n",
       "\u001b[32m│\u001b[0m  - **Innovation and R&D:** The company is constantly investing in research and development, particularly in     \u001b[32m│\u001b[0m\n",
       "\u001b[32m│\u001b[0m  artificial intelligence and machine learning, which can drive future growth.                                   \u001b[32m│\u001b[0m\n",
       "\u001b[32m│\u001b[0m  - **Strong Balance Sheet:** GOOG typically maintains a solid balance sheet, ensuring financial resilience and  \u001b[32m│\u001b[0m\n",
       "\u001b[32m│\u001b[0m  ability to invest in new sectors or opportunities.                                                             \u001b[32m│\u001b[0m\n",
       "\u001b[32m│\u001b[0m                                                                                                                 \u001b[32m│\u001b[0m\n",
       "\u001b[32m│\u001b[0m  **Risks:**                                                                                                     \u001b[32m│\u001b[0m\n",
       "\u001b[32m│\u001b[0m  - **Regulatory Scrutiny:** Like other major tech firms, GOOG faces regulatory challenges that may impact its   \u001b[32m│\u001b[0m\n",
       "\u001b[32m│\u001b[0m  operations and financial performance.                                                                          \u001b[32m│\u001b[0m\n",
       "\u001b[32m│\u001b[0m  - **Competition:** The tech landscape is competitive, with fierce rivals in advertising (Meta Platforms),      \u001b[32m│\u001b[0m\n",
       "\u001b[32m│\u001b[0m  cloud computing (Amazon AWS), and emerging technologies (various startups).                                    \u001b[32m│\u001b[0m\n",
       "\u001b[32m│\u001b[0m  - **Market Volatility:** The company’s stock is subject to market fluctuations, impacted by macroeconomic      \u001b[32m│\u001b[0m\n",
       "\u001b[32m│\u001b[0m  factors and investor sentiment.                                                                                \u001b[32m│\u001b[0m\n",
       "\u001b[32m│\u001b[0m                                                                                                                 \u001b[32m│\u001b[0m\n",
       "\u001b[32m│\u001b[0m  #### 3. Investment Recommendation                                                                              \u001b[32m│\u001b[0m\n",
       "\u001b[32m│\u001b[0m                                                                                                                 \u001b[32m│\u001b[0m\n",
       "\u001b[32m│\u001b[0m  **Recommendation:** Buy                                                                                        \u001b[32m│\u001b[0m\n",
       "\u001b[32m│\u001b[0m                                                                                                                 \u001b[32m│\u001b[0m\n",
       "\u001b[32m│\u001b[0m  Given the company's robust business model, continuous innovation, and strong market share, it is advisable to  \u001b[32m│\u001b[0m\n",
       "\u001b[32m│\u001b[0m  buy GOOG shares. Although there are risks associated with regulations and competition, the potential for       \u001b[32m│\u001b[0m\n",
       "\u001b[32m│\u001b[0m  growth, particularly in the cloud sector and AI, outweighs these concerns. The current valuation metrics       \u001b[32m│\u001b[0m\n",
       "\u001b[32m│\u001b[0m  indicate that the stock is fairly priced for long-term growth.                                                 \u001b[32m│\u001b[0m\n",
       "\u001b[32m│\u001b[0m                                                                                                                 \u001b[32m│\u001b[0m\n",
       "\u001b[32m│\u001b[0m  #### 4. Price Target or Action Items                                                                           \u001b[32m│\u001b[0m\n",
       "\u001b[32m│\u001b[0m                                                                                                                 \u001b[32m│\u001b[0m\n",
       "\u001b[32m│\u001b[0m  **Price Target:** Based on current market trends and performance analysis, a price target for GOOG over the    \u001b[32m│\u001b[0m\n",
       "\u001b[32m│\u001b[0m  next 12 months is approximately $160-$180 per share, considering its revenue growth prospects and market       \u001b[32m│\u001b[0m\n",
       "\u001b[32m│\u001b[0m  conditions.                                                                                                    \u001b[32m│\u001b[0m\n",
       "\u001b[32m│\u001b[0m                                                                                                                 \u001b[32m│\u001b[0m\n",
       "\u001b[32m│\u001b[0m  **Action Items:**                                                                                              \u001b[32m│\u001b[0m\n",
       "\u001b[32m│\u001b[0m  - **Monitor Earnings Reports:** Pay attention to upcoming quarterly earnings reports to gauge performance      \u001b[32m│\u001b[0m\n",
       "\u001b[32m│\u001b[0m  metrics and revenue breakdowns.                                                                                \u001b[32m│\u001b[0m\n",
       "\u001b[32m│\u001b[0m  - **Evaluate Market Trends:** Keep an eye on industry developments, especially in digital advertising and      \u001b[32m│\u001b[0m\n",
       "\u001b[32m│\u001b[0m  cloud services, as these areas significantly impact GOOG's performance.                                        \u001b[32m│\u001b[0m\n",
       "\u001b[32m│\u001b[0m  - **Assess Regulatory Developments:** Stay informed about regulatory changes affecting the tech industry,      \u001b[32m│\u001b[0m\n",
       "\u001b[32m│\u001b[0m  specifically pertaining to monopolistic practices and data privacy legislation.                                \u001b[32m│\u001b[0m\n",
       "\u001b[32m│\u001b[0m  - **Diversify Portfolio:** If investing in GOOG, consider balancing your portfolio with other sectors to       \u001b[32m│\u001b[0m\n",
       "\u001b[32m│\u001b[0m  mitigate risk from tech market fluctuations.                                                                   \u001b[32m│\u001b[0m\n",
       "\u001b[32m│\u001b[0m                                                                                                                 \u001b[32m│\u001b[0m\n",
       "\u001b[32m│\u001b[0m  In summary, GOOG’s strategic positioning and strong fundamentals make it a robust addition to an investment    \u001b[32m│\u001b[0m\n",
       "\u001b[32m│\u001b[0m  portfolio, with potential for capital appreciation in the long term.                                           \u001b[32m│\u001b[0m\n",
       "\u001b[32m│\u001b[0m                                                                                                                 \u001b[32m│\u001b[0m\n",
       "\u001b[32m╰─────────────────────────────────────────────────────────────────────────────────────────────────────────────────╯\u001b[0m\n"
      ]
     },
     "metadata": {},
     "output_type": "display_data"
    },
    {
     "data": {
      "text/html": [
       "<pre style=\"white-space:pre;overflow-x:auto;line-height:normal;font-family:Menlo,'DejaVu Sans Mono',consolas,'Courier New',monospace\">\n",
       "<span style=\"color: #008000; text-decoration-color: #008000\">✓ Analysis saved to:</span> <span style=\"color: #008080; text-decoration-color: #008080\">recommendations/GOOG_20251018_085622.md</span>\n",
       "</pre>\n"
      ],
      "text/plain": [
       "\n",
       "\u001b[32m✓ Analysis saved to:\u001b[0m \u001b[36mrecommendations/GOOG_20251018_085622.md\u001b[0m\n"
      ]
     },
     "metadata": {},
     "output_type": "display_data"
    },
    {
     "data": {
      "text/html": [
       "<pre style=\"white-space:pre;overflow-x:auto;line-height:normal;font-family:Menlo,'DejaVu Sans Mono',consolas,'Courier New',monospace\">\n",
       "------------------------------------------------------------\n",
       "</pre>\n"
      ],
      "text/plain": [
       "\n",
       "------------------------------------------------------------\n"
      ]
     },
     "metadata": {},
     "output_type": "display_data"
    },
    {
     "data": {
      "text/html": [
       "<pre style=\"white-space:pre;overflow-x:auto;line-height:normal;font-family:Menlo,'DejaVu Sans Mono',consolas,'Courier New',monospace\">\n",
       "------------------------------------------------------------\n",
       "</pre>\n"
      ],
      "text/plain": [
       "\n",
       "------------------------------------------------------------\n"
      ]
     },
     "metadata": {},
     "output_type": "display_data"
    },
    {
     "data": {
      "text/html": [
       "<pre style=\"white-space:pre;overflow-x:auto;line-height:normal;font-family:Menlo,'DejaVu Sans Mono',consolas,'Courier New',monospace\"><span style=\"font-weight: bold\">Example Query:</span>\n",
       "</pre>\n"
      ],
      "text/plain": [
       "\u001b[1mExample Query:\u001b[0m\n"
      ]
     },
     "metadata": {},
     "output_type": "display_data"
    },
    {
     "data": {
      "text/html": [
       "<pre style=\"white-space:pre;overflow-x:auto;line-height:normal;font-family:Menlo,'DejaVu Sans Mono',consolas,'Courier New',monospace\"><span style=\"color: #008080; text-decoration-color: #008080\">Is Apple a good buy right now?</span>\n",
       "</pre>\n"
      ],
      "text/plain": [
       "\u001b[36mIs Apple a good buy right now?\u001b[0m\n"
      ]
     },
     "metadata": {},
     "output_type": "display_data"
    },
    {
     "data": {
      "text/html": [
       "<pre style=\"white-space:pre;overflow-x:auto;line-height:normal;font-family:Menlo,'DejaVu Sans Mono',consolas,'Courier New',monospace\">\n",
       "------------------------------------------------------------\n",
       "</pre>\n"
      ],
      "text/plain": [
       "\n",
       "------------------------------------------------------------\n"
      ]
     },
     "metadata": {},
     "output_type": "display_data"
    },
    {
     "data": {
      "text/html": [
       "<pre style=\"white-space:pre;overflow-x:auto;line-height:normal;font-family:Menlo,'DejaVu Sans Mono',consolas,'Courier New',monospace\"><span style=\"color: #008080; text-decoration-color: #008080\">Extracting stock symbol from query...</span>\n",
       "</pre>\n"
      ],
      "text/plain": [
       "\u001b[36mExtracting stock symbol from query\u001b[0m\u001b[36m...\u001b[0m\n"
      ]
     },
     "metadata": {},
     "output_type": "display_data"
    },
    {
     "data": {
      "text/html": [
       "<pre style=\"white-space:pre;overflow-x:auto;line-height:normal;font-family:Menlo,'DejaVu Sans Mono',consolas,'Courier New',monospace\"><span style=\"color: #7f7f7f; text-decoration-color: #7f7f7f\">→ Checking most recent stock symbol from query history</span><span style=\"color: #bfbf7f; text-decoration-color: #bfbf7f\">...</span>\n",
       "</pre>\n"
      ],
      "text/plain": [
       "\u001b[2m→ Checking most recent stock symbol from query history\u001b[0m\u001b[2;33m...\u001b[0m\n"
      ]
     },
     "metadata": {},
     "output_type": "display_data"
    },
    {
     "data": {
      "text/html": [
       "<pre style=\"white-space:pre;overflow-x:auto;line-height:normal;font-family:Menlo,'DejaVu Sans Mono',consolas,'Courier New',monospace\"><span style=\"color: #008000; text-decoration-color: #008000\">✓ Found most recent stock symbol from history: GOOG</span>\n",
       "</pre>\n"
      ],
      "text/plain": [
       "\u001b[32m✓ Found most recent stock symbol from history: GOOG\u001b[0m\n"
      ]
     },
     "metadata": {},
     "output_type": "display_data"
    },
    {
     "data": {
      "text/html": [
       "<pre style=\"white-space:pre;overflow-x:auto;line-height:normal;font-family:Menlo,'DejaVu Sans Mono',consolas,'Courier New',monospace\"><span style=\"color: #7f7f7f; text-decoration-color: #7f7f7f\">  From: </span><span style=\"color: #7fbfbf; text-decoration-color: #7fbfbf; font-weight: bold\">2025</span><span style=\"color: #7f7f7f; text-decoration-color: #7f7f7f\">-</span><span style=\"color: #7fbfbf; text-decoration-color: #7fbfbf; font-weight: bold\">10</span><span style=\"color: #7f7f7f; text-decoration-color: #7f7f7f\">-18T</span><span style=\"color: #7fff7f; text-decoration-color: #7fff7f; font-weight: bold\">08:56:22</span><span style=\"color: #7f7f7f; text-decoration-color: #7f7f7f\">.</span><span style=\"color: #7fbfbf; text-decoration-color: #7fbfbf; font-weight: bold\">730813</span>\n",
       "</pre>\n"
      ],
      "text/plain": [
       "\u001b[2m  From: \u001b[0m\u001b[1;2;36m2025\u001b[0m\u001b[2m-\u001b[0m\u001b[1;2;36m10\u001b[0m\u001b[2m-18T\u001b[0m\u001b[1;2;92m08:56:22\u001b[0m\u001b[2m.\u001b[0m\u001b[1;2;36m730813\u001b[0m\n"
      ]
     },
     "metadata": {},
     "output_type": "display_data"
    },
    {
     "data": {
      "text/html": [
       "<pre style=\"white-space:pre;overflow-x:auto;line-height:normal;font-family:Menlo,'DejaVu Sans Mono',consolas,'Courier New',monospace\"><span style=\"color: #7f7f7f; text-decoration-color: #7f7f7f\">  Memory: Query: Tell me about Apple's performance</span><span style=\"color: #bfbf7f; text-decoration-color: #bfbf7f\">...</span><span style=\"color: #7f7f7f; text-decoration-color: #7f7f7f\"> Result: ### Investment Analysis for Alphabet Inc. </span><span style=\"color: #7f7f7f; text-decoration-color: #7f7f7f; font-weight: bold\">(</span><span style=\"color: #7f7f7f; text-decoration-color: #7f7f7f\">GOOG</span><span style=\"color: #7f7f7f; text-decoration-color: #7f7f7f; font-weight: bold\">)</span><span style=\"color: #bfbf7f; text-decoration-color: #bfbf7f\">...</span>\n",
       "</pre>\n"
      ],
      "text/plain": [
       "\u001b[2m  Memory: Query: Tell me about Apple's performance\u001b[0m\u001b[2;33m...\u001b[0m\u001b[2m Result: ### Investment Analysis for Alphabet Inc. \u001b[0m\u001b[1;2m(\u001b[0m\u001b[2mGOOG\u001b[0m\u001b[1;2m)\u001b[0m\u001b[2;33m...\u001b[0m\n"
      ]
     },
     "metadata": {},
     "output_type": "display_data"
    },
    {
     "data": {
      "text/html": [
       "<pre style=\"white-space:pre;overflow-x:auto;line-height:normal;font-family:Menlo,'DejaVu Sans Mono',consolas,'Courier New',monospace\">\n",
       "<span style=\"color: #008000; text-decoration-color: #008000; font-weight: bold\">✓ Identified Stock: GOOG</span>\n",
       "</pre>\n"
      ],
      "text/plain": [
       "\n",
       "\u001b[1;32m✓ Identified Stock: GOOG\u001b[0m\n"
      ]
     },
     "metadata": {},
     "output_type": "display_data"
    },
    {
     "data": {
      "text/html": [
       "<pre style=\"white-space:pre;overflow-x:auto;line-height:normal;font-family:Menlo,'DejaVu Sans Mono',consolas,'Courier New',monospace\"><span style=\"color: #7f7f7f; text-decoration-color: #7f7f7f\">Confidence: high | Method: recent_history</span>\n",
       "</pre>\n"
      ],
      "text/plain": [
       "\u001b[2mConfidence: high | Method: recent_history\u001b[0m\n"
      ]
     },
     "metadata": {},
     "output_type": "display_data"
    },
    {
     "data": {
      "text/html": [
       "<pre style=\"white-space:pre;overflow-x:auto;line-height:normal;font-family:Menlo,'DejaVu Sans Mono',consolas,'Courier New',monospace\">\n",
       "<span style=\"color: #008080; text-decoration-color: #008080; font-weight: bold\">Proceeding with GOOG...</span>\n",
       "</pre>\n"
      ],
      "text/plain": [
       "\n",
       "\u001b[1;36mProceeding with GOOG\u001b[0m\u001b[1;36m...\u001b[0m\n"
      ]
     },
     "metadata": {},
     "output_type": "display_data"
    },
    {
     "data": {
      "text/html": [
       "<pre style=\"white-space:pre;overflow-x:auto;line-height:normal;font-family:Menlo,'DejaVu Sans Mono',consolas,'Courier New',monospace\">\n",
       "------------------------------------------------------------\n",
       "</pre>\n"
      ],
      "text/plain": [
       "\n",
       "------------------------------------------------------------\n"
      ]
     },
     "metadata": {},
     "output_type": "display_data"
    },
    {
     "data": {
      "text/html": [
       "<pre style=\"white-space:pre;overflow-x:auto;line-height:normal;font-family:Menlo,'DejaVu Sans Mono',consolas,'Courier New',monospace\"><span style=\"color: #008080; text-decoration-color: #008080\">╭───────────────────────────────────────╮</span>\n",
       "<span style=\"color: #008080; text-decoration-color: #008080\">│</span> <span style=\"color: #008080; text-decoration-color: #008080; font-weight: bold\">Processing Query</span>                      <span style=\"color: #008080; text-decoration-color: #008080\">│</span>\n",
       "<span style=\"color: #008080; text-decoration-color: #008080\">│</span> Stock: <span style=\"color: #808000; text-decoration-color: #808000\">GOOG</span>                           <span style=\"color: #008080; text-decoration-color: #008080\">│</span>\n",
       "<span style=\"color: #008080; text-decoration-color: #008080\">│</span> Query: <span style=\"color: #c0c0c0; text-decoration-color: #c0c0c0\">Is Apple a good buy right now?</span> <span style=\"color: #008080; text-decoration-color: #008080\">│</span>\n",
       "<span style=\"color: #008080; text-decoration-color: #008080\">╰───────────────────────────────────────╯</span>\n",
       "</pre>\n"
      ],
      "text/plain": [
       "\u001b[36m╭───────────────────────────────────────╮\u001b[0m\n",
       "\u001b[36m│\u001b[0m \u001b[1;36mProcessing Query\u001b[0m                      \u001b[36m│\u001b[0m\n",
       "\u001b[36m│\u001b[0m Stock: \u001b[33mGOOG\u001b[0m                           \u001b[36m│\u001b[0m\n",
       "\u001b[36m│\u001b[0m Query: \u001b[37mIs Apple a good buy right now?\u001b[0m \u001b[36m│\u001b[0m\n",
       "\u001b[36m╰───────────────────────────────────────╯\u001b[0m\n"
      ]
     },
     "metadata": {},
     "output_type": "display_data"
    },
    {
     "data": {
      "text/html": [
       "<pre style=\"white-space:pre;overflow-x:auto;line-height:normal;font-family:Menlo,'DejaVu Sans Mono',consolas,'Courier New',monospace\">\n",
       "<span style=\"font-weight: bold\">Step </span><span style=\"color: #008080; text-decoration-color: #008080; font-weight: bold\">1</span><span style=\"font-weight: bold\">: Gathering Data</span>\n",
       "</pre>\n"
      ],
      "text/plain": [
       "\n",
       "\u001b[1mStep \u001b[0m\u001b[1;36m1\u001b[0m\u001b[1m: Gathering Data\u001b[0m\n"
      ]
     },
     "metadata": {},
     "output_type": "display_data"
    },
    {
     "data": {
      "text/html": [
       "<pre style=\"white-space:pre;overflow-x:auto;line-height:normal;font-family:Menlo,'DejaVu Sans Mono',consolas,'Courier New',monospace\"><span style=\"color: #800080; text-decoration-color: #800080; font-weight: bold\"> Randomly selected primary source: Alpha Vantage</span>\n",
       "</pre>\n"
      ],
      "text/plain": [
       "\u001b[1;35m Randomly selected primary source: Alpha Vantage\u001b[0m\n"
      ]
     },
     "metadata": {},
     "output_type": "display_data"
    },
    {
     "data": {
      "text/html": [
       "<pre style=\"white-space:pre;overflow-x:auto;line-height:normal;font-family:Menlo,'DejaVu Sans Mono',consolas,'Courier New',monospace\">/Users/pankajshukla/Documents/Projects/usd-git/investment-research-agent/venv_agentic/lib/python3.12/site-packages/\n",
       "rich/live.py:256: UserWarning: install \"ipywidgets\" for Jupyter support\n",
       "  warnings.warn('install \"ipywidgets\" for Jupyter support')\n",
       "</pre>\n"
      ],
      "text/plain": [
       "/Users/pankajshukla/Documents/Projects/usd-git/investment-research-agent/venv_agentic/lib/python3.12/site-packages/\n",
       "rich/live.py:256: UserWarning: install \"ipywidgets\" for Jupyter support\n",
       "  warnings.warn('install \"ipywidgets\" for Jupyter support')\n"
      ]
     },
     "metadata": {},
     "output_type": "display_data"
    },
    {
     "data": {
      "text/html": [
       "<pre style=\"white-space:pre;overflow-x:auto;line-height:normal;font-family:Menlo,'DejaVu Sans Mono',consolas,'Courier New',monospace\"></pre>\n"
      ],
      "text/plain": []
     },
     "metadata": {},
     "output_type": "display_data"
    },
    {
     "data": {
      "text/html": [
       "<pre style=\"white-space:pre;overflow-x:auto;line-height:normal;font-family:Menlo,'DejaVu Sans Mono',consolas,'Courier New',monospace\"></pre>\n"
      ],
      "text/plain": []
     },
     "metadata": {},
     "output_type": "display_data"
    },
    {
     "data": {
      "text/html": [
       "<pre style=\"white-space:pre;overflow-x:auto;line-height:normal;font-family:Menlo,'DejaVu Sans Mono',consolas,'Courier New',monospace\"></pre>\n"
      ],
      "text/plain": []
     },
     "metadata": {},
     "output_type": "display_data"
    },
    {
     "data": {
      "text/html": [
       "<pre style=\"white-space:pre;overflow-x:auto;line-height:normal;font-family:Menlo,'DejaVu Sans Mono',consolas,'Courier New',monospace\">\n",
       "<span style=\"font-weight: bold\">Step </span><span style=\"color: #008080; text-decoration-color: #008080; font-weight: bold\">2</span><span style=\"font-weight: bold\">: Determining Workflow Strategy</span>\n",
       "</pre>\n"
      ],
      "text/plain": [
       "\n",
       "\u001b[1mStep \u001b[0m\u001b[1;36m2\u001b[0m\u001b[1m: Determining Workflow Strategy\u001b[0m\n"
      ]
     },
     "metadata": {},
     "output_type": "display_data"
    },
    {
     "name": "stderr",
     "output_type": "stream",
     "text": [
      "2025-10-18 08:56:25,350 - INFO - HTTP Request: POST https://api.openai.com/v1/chat/completions \"HTTP/1.1 200 OK\"\n"
     ]
    },
    {
     "data": {
      "text/html": [
       "<pre style=\"white-space:pre;overflow-x:auto;line-height:normal;font-family:Menlo,'DejaVu Sans Mono',consolas,'Courier New',monospace\"><span style=\"color: #808000; text-decoration-color: #808000\">→ Selected Strategy: comprehensive</span>\n",
       "</pre>\n"
      ],
      "text/plain": [
       "\u001b[33m→ Selected Strategy: comprehensive\u001b[0m\n"
      ]
     },
     "metadata": {},
     "output_type": "display_data"
    },
    {
     "data": {
      "text/html": [
       "<pre style=\"white-space:pre;overflow-x:auto;line-height:normal;font-family:Menlo,'DejaVu Sans Mono',consolas,'Courier New',monospace\">\n",
       "<span style=\"font-weight: bold\">Step </span><span style=\"color: #008080; text-decoration-color: #008080; font-weight: bold\">3</span><span style=\"font-weight: bold\">: Executing Workflow</span>\n",
       "</pre>\n"
      ],
      "text/plain": [
       "\n",
       "\u001b[1mStep \u001b[0m\u001b[1;36m3\u001b[0m\u001b[1m: Executing Workflow\u001b[0m\n"
      ]
     },
     "metadata": {},
     "output_type": "display_data"
    },
    {
     "name": "stderr",
     "output_type": "stream",
     "text": [
      "2025-10-18 08:56:33,071 - INFO - HTTP Request: POST https://api.openai.com/v1/chat/completions \"HTTP/1.1 200 OK\"\n"
     ]
    },
    {
     "data": {
      "text/html": [
       "<pre style=\"white-space:pre;overflow-x:auto;line-height:normal;font-family:Menlo,'DejaVu Sans Mono',consolas,'Courier New',monospace\">\n",
       "<span style=\"font-weight: bold\">Step </span><span style=\"color: #008080; text-decoration-color: #008080; font-weight: bold\">4</span><span style=\"font-weight: bold\">: Optimizing Analysis</span>\n",
       "</pre>\n"
      ],
      "text/plain": [
       "\n",
       "\u001b[1mStep \u001b[0m\u001b[1;36m4\u001b[0m\u001b[1m: Optimizing Analysis\u001b[0m\n"
      ]
     },
     "metadata": {},
     "output_type": "display_data"
    },
    {
     "data": {
      "text/html": [
       "<pre style=\"white-space:pre;overflow-x:auto;line-height:normal;font-family:Menlo,'DejaVu Sans Mono',consolas,'Courier New',monospace\"><span style=\"color: #008080; text-decoration-color: #008080\">Starting Evaluator-Optimizer Workflow for GOOG</span>\n",
       "</pre>\n"
      ],
      "text/plain": [
       "\u001b[36mStarting Evaluator-Optimizer Workflow for GOOG\u001b[0m\n"
      ]
     },
     "metadata": {},
     "output_type": "display_data"
    },
    {
     "data": {
      "text/html": [
       "<pre style=\"white-space:pre;overflow-x:auto;line-height:normal;font-family:Menlo,'DejaVu Sans Mono',consolas,'Courier New',monospace\"><span style=\"color: #808000; text-decoration-color: #808000\">→ Iteration </span><span style=\"color: #808000; text-decoration-color: #808000; font-weight: bold\">1</span><span style=\"color: #808000; text-decoration-color: #808000\">/</span><span style=\"color: #808000; text-decoration-color: #808000; font-weight: bold\">2</span>\n",
       "</pre>\n"
      ],
      "text/plain": [
       "\u001b[33m→ Iteration \u001b[0m\u001b[1;33m1\u001b[0m\u001b[33m/\u001b[0m\u001b[1;33m2\u001b[0m\n"
      ]
     },
     "metadata": {},
     "output_type": "display_data"
    },
    {
     "data": {
      "text/html": [
       "<pre style=\"white-space:pre;overflow-x:auto;line-height:normal;font-family:Menlo,'DejaVu Sans Mono',consolas,'Courier New',monospace\"><span style=\"color: #7f7f7f; text-decoration-color: #7f7f7f\">→ Evaluating analysis quality</span><span style=\"color: #bfbf7f; text-decoration-color: #bfbf7f\">...</span>\n",
       "</pre>\n"
      ],
      "text/plain": [
       "\u001b[2m→ Evaluating analysis quality\u001b[0m\u001b[2;33m...\u001b[0m\n"
      ]
     },
     "metadata": {},
     "output_type": "display_data"
    },
    {
     "name": "stderr",
     "output_type": "stream",
     "text": [
      "2025-10-18 08:56:39,419 - INFO - HTTP Request: POST https://api.openai.com/v1/chat/completions \"HTTP/1.1 200 OK\"\n"
     ]
    },
    {
     "data": {
      "text/html": [
       "<pre style=\"white-space:pre;overflow-x:auto;line-height:normal;font-family:Menlo,'DejaVu Sans Mono',consolas,'Courier New',monospace\"><span style=\"color: #7f7f7f; text-decoration-color: #7f7f7f\">Quality Score: </span><span style=\"color: #7fbfbf; text-decoration-color: #7fbfbf; font-weight: bold\">8.00</span><span style=\"color: #7f7f7f; text-decoration-color: #7f7f7f\">/</span><span style=\"color: #7fbfbf; text-decoration-color: #7fbfbf; font-weight: bold\">10</span>\n",
       "</pre>\n"
      ],
      "text/plain": [
       "\u001b[2mQuality Score: \u001b[0m\u001b[1;2;36m8.00\u001b[0m\u001b[2m/\u001b[0m\u001b[1;2;36m10\u001b[0m\n"
      ]
     },
     "metadata": {},
     "output_type": "display_data"
    },
    {
     "data": {
      "text/html": [
       "<pre style=\"white-space:pre;overflow-x:auto;line-height:normal;font-family:Menlo,'DejaVu Sans Mono',consolas,'Courier New',monospace\"><span style=\"color: #008000; text-decoration-color: #008000\">✓ Quality threshold met</span>\n",
       "</pre>\n"
      ],
      "text/plain": [
       "\u001b[32m✓ Quality threshold met\u001b[0m\n"
      ]
     },
     "metadata": {},
     "output_type": "display_data"
    },
    {
     "data": {
      "text/html": [
       "<pre style=\"white-space:pre;overflow-x:auto;line-height:normal;font-family:Menlo,'DejaVu Sans Mono',consolas,'Courier New',monospace\"><span style=\"color: #008000; text-decoration-color: #008000\">Saved </span><span style=\"color: #008000; text-decoration-color: #008000; font-weight: bold\">29</span><span style=\"color: #008000; text-decoration-color: #008000\"> memories to file</span>\n",
       "</pre>\n"
      ],
      "text/plain": [
       "\u001b[32mSaved \u001b[0m\u001b[1;32m29\u001b[0m\u001b[32m memories to file\u001b[0m\n"
      ]
     },
     "metadata": {},
     "output_type": "display_data"
    },
    {
     "data": {
      "text/html": [
       "<pre style=\"white-space:pre;overflow-x:auto;line-height:normal;font-family:Menlo,'DejaVu Sans Mono',consolas,'Courier New',monospace\"><span style=\"color: #008000; text-decoration-color: #008000\">Added memory for GOOG: query_analysis</span>\n",
       "</pre>\n"
      ],
      "text/plain": [
       "\u001b[32mAdded memory for GOOG: query_analysis\u001b[0m\n"
      ]
     },
     "metadata": {},
     "output_type": "display_data"
    },
    {
     "data": {
      "text/html": [
       "<pre style=\"white-space:pre;overflow-x:auto;line-height:normal;font-family:Menlo,'DejaVu Sans Mono',consolas,'Courier New',monospace\">\n",
       "<span style=\"color: #008000; text-decoration-color: #008000; font-weight: bold\">✓ Query Processing Completed</span>\n",
       "</pre>\n"
      ],
      "text/plain": [
       "\n",
       "\u001b[1;32m✓ Query Processing Completed\u001b[0m\n"
      ]
     },
     "metadata": {},
     "output_type": "display_data"
    },
    {
     "data": {
      "text/html": [
       "<pre style=\"white-space:pre;overflow-x:auto;line-height:normal;font-family:Menlo,'DejaVu Sans Mono',consolas,'Courier New',monospace\">\n",
       "------------------------------------------------------------\n",
       "</pre>\n"
      ],
      "text/plain": [
       "\n",
       "------------------------------------------------------------\n"
      ]
     },
     "metadata": {},
     "output_type": "display_data"
    },
    {
     "data": {
      "text/html": [
       "<pre style=\"white-space:pre;overflow-x:auto;line-height:normal;font-family:Menlo,'DejaVu Sans Mono',consolas,'Courier New',monospace\"><span style=\"color: #008000; text-decoration-color: #008000\">╭───────────────────╮</span>\n",
       "<span style=\"color: #008000; text-decoration-color: #008000\">│</span> <span style=\"color: #008000; text-decoration-color: #008000; font-weight: bold\">Analysis Complete</span> <span style=\"color: #008000; text-decoration-color: #008000\">│</span>\n",
       "<span style=\"color: #008000; text-decoration-color: #008000\">╰───────────────────╯</span>\n",
       "</pre>\n"
      ],
      "text/plain": [
       "\u001b[32m╭───────────────────╮\u001b[0m\n",
       "\u001b[32m│\u001b[0m \u001b[1;32mAnalysis Complete\u001b[0m \u001b[32m│\u001b[0m\n",
       "\u001b[32m╰───────────────────╯\u001b[0m\n"
      ]
     },
     "metadata": {},
     "output_type": "display_data"
    },
    {
     "data": {
      "text/html": [
       "<pre style=\"white-space:pre;overflow-x:auto;line-height:normal;font-family:Menlo,'DejaVu Sans Mono',consolas,'Courier New',monospace\">\n",
       "<span style=\"font-weight: bold\">Workflow Used:</span> <span style=\"color: #808000; text-decoration-color: #808000\">comprehensive</span>\n",
       "</pre>\n"
      ],
      "text/plain": [
       "\n",
       "\u001b[1mWorkflow Used:\u001b[0m \u001b[33mcomprehensive\u001b[0m\n"
      ]
     },
     "metadata": {},
     "output_type": "display_data"
    },
    {
     "data": {
      "text/html": [
       "<pre style=\"white-space:pre;overflow-x:auto;line-height:normal;font-family:Menlo,'DejaVu Sans Mono',consolas,'Courier New',monospace\"><span style=\"font-weight: bold\">Optimization:</span> <span style=\"color: #008080; text-decoration-color: #008080; font-weight: bold\">1</span> iterations, Quality Score: <span style=\"color: #008080; text-decoration-color: #008080; font-weight: bold\">8.0</span>/<span style=\"color: #008080; text-decoration-color: #008080; font-weight: bold\">10</span>\n",
       "</pre>\n"
      ],
      "text/plain": [
       "\u001b[1mOptimization:\u001b[0m \u001b[1;36m1\u001b[0m iterations, Quality Score: \u001b[1;36m8.0\u001b[0m/\u001b[1;36m10\u001b[0m\n"
      ]
     },
     "metadata": {},
     "output_type": "display_data"
    },
    {
     "data": {
      "text/html": [
       "<pre style=\"white-space:pre;overflow-x:auto;line-height:normal;font-family:Menlo,'DejaVu Sans Mono',consolas,'Courier New',monospace\">\n",
       "<span style=\"font-weight: bold\">Data Summary:</span>\n",
       "</pre>\n"
      ],
      "text/plain": [
       "\n",
       "\u001b[1mData Summary:\u001b[0m\n"
      ]
     },
     "metadata": {},
     "output_type": "display_data"
    },
    {
     "data": {
      "text/html": [
       "<pre style=\"white-space:pre;overflow-x:auto;line-height:normal;font-family:Menlo,'DejaVu Sans Mono',consolas,'Courier New',monospace\"><span style=\"color: #008080; text-decoration-color: #008080\"> Current Price </span><span style=\"color: #c0c0c0; text-decoration-color: #c0c0c0\"> $253.79 </span>\n",
       "<span style=\"color: #008080; text-decoration-color: #008080\"> P/E Ratio     </span><span style=\"color: #c0c0c0; text-decoration-color: #c0c0c0\"> 26.88   </span>\n",
       "<span style=\"color: #008080; text-decoration-color: #008080\"> News Articles </span><span style=\"color: #c0c0c0; text-decoration-color: #c0c0c0\"> 50      </span>\n",
       "</pre>\n"
      ],
      "text/plain": [
       "\u001b[36m \u001b[0m\u001b[36mCurrent Price\u001b[0m\u001b[36m \u001b[0m\u001b[37m \u001b[0m\u001b[37m$253.79\u001b[0m\u001b[37m \u001b[0m\n",
       "\u001b[36m \u001b[0m\u001b[36mP/E Ratio    \u001b[0m\u001b[36m \u001b[0m\u001b[37m \u001b[0m\u001b[37m26.88  \u001b[0m\u001b[37m \u001b[0m\n",
       "\u001b[36m \u001b[0m\u001b[36mNews Articles\u001b[0m\u001b[36m \u001b[0m\u001b[37m \u001b[0m\u001b[37m50     \u001b[0m\u001b[37m \u001b[0m\n"
      ]
     },
     "metadata": {},
     "output_type": "display_data"
    },
    {
     "data": {
      "text/html": [
       "<pre style=\"white-space:pre;overflow-x:auto;line-height:normal;font-family:Menlo,'DejaVu Sans Mono',consolas,'Courier New',monospace\">\n",
       "<span style=\"font-weight: bold\">Analysis:</span>\n",
       "</pre>\n"
      ],
      "text/plain": [
       "\n",
       "\u001b[1mAnalysis:\u001b[0m\n"
      ]
     },
     "metadata": {},
     "output_type": "display_data"
    },
    {
     "data": {
      "text/html": [
       "<pre style=\"white-space:pre;overflow-x:auto;line-height:normal;font-family:Menlo,'DejaVu Sans Mono',consolas,'Courier New',monospace\"><span style=\"color: #008000; text-decoration-color: #008000\">╭─────────────────────────────────────────────────────────────────────────────────────────────────────────────────╮</span>\n",
       "<span style=\"color: #008000; text-decoration-color: #008000\">│</span>                                                                                                                 <span style=\"color: #008000; text-decoration-color: #008000\">│</span>\n",
       "<span style=\"color: #008000; text-decoration-color: #008000\">│</span>  ### Investment Analysis for Alphabet Inc. (GOOG)                                                               <span style=\"color: #008000; text-decoration-color: #008000\">│</span>\n",
       "<span style=\"color: #008000; text-decoration-color: #008000\">│</span>                                                                                                                 <span style=\"color: #008000; text-decoration-color: #008000\">│</span>\n",
       "<span style=\"color: #008000; text-decoration-color: #008000\">│</span>  #### 1. Overall Assessment                                                                                     <span style=\"color: #008000; text-decoration-color: #008000\">│</span>\n",
       "<span style=\"color: #008000; text-decoration-color: #008000\">│</span>  Alphabet Inc. (GOOG) is a leading player in the tech sector, primarily known for its search engine and         <span style=\"color: #008000; text-decoration-color: #008000\">│</span>\n",
       "<span style=\"color: #008000; text-decoration-color: #008000\">│</span>  advertising revenue streams. The company has demonstrated resilience in a competitive landscape through its    <span style=\"color: #008000; text-decoration-color: #008000\">│</span>\n",
       "<span style=\"color: #008000; text-decoration-color: #008000\">│</span>  innovative services, including YouTube, Google Cloud, and Android OS. Given its strong foundation in digital   <span style=\"color: #008000; text-decoration-color: #008000\">│</span>\n",
       "<span style=\"color: #008000; text-decoration-color: #008000\">│</span>  advertising and growth in cloud services, the investment outlook remains positive, especially in an            <span style=\"color: #008000; text-decoration-color: #008000\">│</span>\n",
       "<span style=\"color: #008000; text-decoration-color: #008000\">│</span>  increasingly digital world.                                                                                    <span style=\"color: #008000; text-decoration-color: #008000\">│</span>\n",
       "<span style=\"color: #008000; text-decoration-color: #008000\">│</span>                                                                                                                 <span style=\"color: #008000; text-decoration-color: #008000\">│</span>\n",
       "<span style=\"color: #008000; text-decoration-color: #008000\">│</span>  #### 2. Key Strengths and Risks                                                                                <span style=\"color: #008000; text-decoration-color: #008000\">│</span>\n",
       "<span style=\"color: #008000; text-decoration-color: #008000\">│</span>                                                                                                                 <span style=\"color: #008000; text-decoration-color: #008000\">│</span>\n",
       "<span style=\"color: #008000; text-decoration-color: #008000\">│</span>  **Key Strengths:**                                                                                             <span style=\"color: #008000; text-decoration-color: #008000\">│</span>\n",
       "<span style=\"color: #008000; text-decoration-color: #008000\">│</span>  - **Dominant Market Position**: GOOG commands a significant share of the digital advertising market,           <span style=\"color: #008000; text-decoration-color: #008000\">│</span>\n",
       "<span style=\"color: #008000; text-decoration-color: #008000\">│</span>  benefiting from high barriers to entry for newcomers.                                                          <span style=\"color: #008000; text-decoration-color: #008000\">│</span>\n",
       "<span style=\"color: #008000; text-decoration-color: #008000\">│</span>  - **Diverse Revenue Streams**: Beyond advertising, Google Cloud has shown impressive growth and potential for  <span style=\"color: #008000; text-decoration-color: #008000\">│</span>\n",
       "<span style=\"color: #008000; text-decoration-color: #008000\">│</span>  long-term profitability, diversifying GOOG's revenue sources.                                                  <span style=\"color: #008000; text-decoration-color: #008000\">│</span>\n",
       "<span style=\"color: #008000; text-decoration-color: #008000\">│</span>  - **Innovation and R&amp;D**: Consistent investment in new technologies (e.g., AI, machine learning) positions     <span style=\"color: #008000; text-decoration-color: #008000\">│</span>\n",
       "<span style=\"color: #008000; text-decoration-color: #008000\">│</span>  GOOG to capitalize on future market trends and maintain its competitive edge.                                  <span style=\"color: #008000; text-decoration-color: #008000\">│</span>\n",
       "<span style=\"color: #008000; text-decoration-color: #008000\">│</span>  - **Strong Balance Sheet**: A robust balance sheet with significant cash reserves offers financial stability   <span style=\"color: #008000; text-decoration-color: #008000\">│</span>\n",
       "<span style=\"color: #008000; text-decoration-color: #008000\">│</span>  and the ability to invest in strategic initiatives.                                                            <span style=\"color: #008000; text-decoration-color: #008000\">│</span>\n",
       "<span style=\"color: #008000; text-decoration-color: #008000\">│</span>                                                                                                                 <span style=\"color: #008000; text-decoration-color: #008000\">│</span>\n",
       "<span style=\"color: #008000; text-decoration-color: #008000\">│</span>  **Key Risks:**                                                                                                 <span style=\"color: #008000; text-decoration-color: #008000\">│</span>\n",
       "<span style=\"color: #008000; text-decoration-color: #008000\">│</span>  - **Regulatory Scrutiny**: As one of the major tech companies, GOOG faces ongoing investigations and           <span style=\"color: #008000; text-decoration-color: #008000\">│</span>\n",
       "<span style=\"color: #008000; text-decoration-color: #008000\">│</span>  potential penalties regarding antitrust issues, which could affect its operations and profitability.           <span style=\"color: #008000; text-decoration-color: #008000\">│</span>\n",
       "<span style=\"color: #008000; text-decoration-color: #008000\">│</span>  - **Market Competition**: Intense competition from firms like Meta (Facebook), Amazon, and Microsoft in both   <span style=\"color: #008000; text-decoration-color: #008000\">│</span>\n",
       "<span style=\"color: #008000; text-decoration-color: #008000\">│</span>  advertising and cloud services could impact growth.                                                            <span style=\"color: #008000; text-decoration-color: #008000\">│</span>\n",
       "<span style=\"color: #008000; text-decoration-color: #008000\">│</span>  - **Dependence on Advertising Revenue**: Although diversifying, a significant portion of revenue still comes   <span style=\"color: #008000; text-decoration-color: #008000\">│</span>\n",
       "<span style=\"color: #008000; text-decoration-color: #008000\">│</span>  from advertising, making it susceptible to economic downturns that affect ad spending.                         <span style=\"color: #008000; text-decoration-color: #008000\">│</span>\n",
       "<span style=\"color: #008000; text-decoration-color: #008000\">│</span>                                                                                                                 <span style=\"color: #008000; text-decoration-color: #008000\">│</span>\n",
       "<span style=\"color: #008000; text-decoration-color: #008000\">│</span>  #### 3. Investment Recommendation                                                                              <span style=\"color: #008000; text-decoration-color: #008000\">│</span>\n",
       "<span style=\"color: #008000; text-decoration-color: #008000\">│</span>  Given the analysis of GOOG's strengths and inherent risks, the recommendation is a **Buy**. With a strong      <span style=\"color: #008000; text-decoration-color: #008000\">│</span>\n",
       "<span style=\"color: #008000; text-decoration-color: #008000\">│</span>  market position, significant growth opportunities, and resilience in a digital-centric world, the company's    <span style=\"color: #008000; text-decoration-color: #008000\">│</span>\n",
       "<span style=\"color: #008000; text-decoration-color: #008000\">│</span>  prospects are optimistic. Investors should also monitor the regulatory environment closely, as any             <span style=\"color: #008000; text-decoration-color: #008000\">│</span>\n",
       "<span style=\"color: #008000; text-decoration-color: #008000\">│</span>  significant changes could impact the share price.                                                              <span style=\"color: #008000; text-decoration-color: #008000\">│</span>\n",
       "<span style=\"color: #008000; text-decoration-color: #008000\">│</span>                                                                                                                 <span style=\"color: #008000; text-decoration-color: #008000\">│</span>\n",
       "<span style=\"color: #008000; text-decoration-color: #008000\">│</span>  #### 4. Price Target or Action Items                                                                           <span style=\"color: #008000; text-decoration-color: #008000\">│</span>\n",
       "<span style=\"color: #008000; text-decoration-color: #008000\">│</span>  Based on current valuations and growth potential, a price target for GOOG could reasonably be set between      <span style=\"color: #008000; text-decoration-color: #008000\">│</span>\n",
       "<span style=\"color: #008000; text-decoration-color: #008000\">│</span>  **$1500 to $1800** over the next 12 months, indicating substantial upside from current levels.                 <span style=\"color: #008000; text-decoration-color: #008000\">│</span>\n",
       "<span style=\"color: #008000; text-decoration-color: #008000\">│</span>                                                                                                                 <span style=\"color: #008000; text-decoration-color: #008000\">│</span>\n",
       "<span style=\"color: #008000; text-decoration-color: #008000\">│</span>  **Action Items:**                                                                                              <span style=\"color: #008000; text-decoration-color: #008000\">│</span>\n",
       "<span style=\"color: #008000; text-decoration-color: #008000\">│</span>  - **Acquire Shares**: Consider initiating a position if not currently held, due to its growth prospects and    <span style=\"color: #008000; text-decoration-color: #008000\">│</span>\n",
       "<span style=\"color: #008000; text-decoration-color: #008000\">│</span>  market leadership.                                                                                             <span style=\"color: #008000; text-decoration-color: #008000\">│</span>\n",
       "<span style=\"color: #008000; text-decoration-color: #008000\">│</span>  - **Monitor Trends**: Keep an eye on the digital advertising market and cloud computing trends which can       <span style=\"color: #008000; text-decoration-color: #008000\">│</span>\n",
       "<span style=\"color: #008000; text-decoration-color: #008000\">│</span>  provide insights into quarterly earnings potential.                                                            <span style=\"color: #008000; text-decoration-color: #008000\">│</span>\n",
       "<span style=\"color: #008000; text-decoration-color: #008000\">│</span>  - **Watch Regulatory News**: Stay updated on antitrust news and regulatory changes that could affect           <span style=\"color: #008000; text-decoration-color: #008000\">│</span>\n",
       "<span style=\"color: #008000; text-decoration-color: #008000\">│</span>  operational capabilities.                                                                                      <span style=\"color: #008000; text-decoration-color: #008000\">│</span>\n",
       "<span style=\"color: #008000; text-decoration-color: #008000\">│</span>                                                                                                                 <span style=\"color: #008000; text-decoration-color: #008000\">│</span>\n",
       "<span style=\"color: #008000; text-decoration-color: #008000\">│</span>  This investment analysis is meant to deliver actionable insights to guide your investment decisions            <span style=\"color: #008000; text-decoration-color: #008000\">│</span>\n",
       "<span style=\"color: #008000; text-decoration-color: #008000\">│</span>  concerning GOOG. Always consider your financial situation and consult with a financial advisor for             <span style=\"color: #008000; text-decoration-color: #008000\">│</span>\n",
       "<span style=\"color: #008000; text-decoration-color: #008000\">│</span>  personalized investment advice.                                                                                <span style=\"color: #008000; text-decoration-color: #008000\">│</span>\n",
       "<span style=\"color: #008000; text-decoration-color: #008000\">│</span>                                                                                                                 <span style=\"color: #008000; text-decoration-color: #008000\">│</span>\n",
       "<span style=\"color: #008000; text-decoration-color: #008000\">╰─────────────────────────────────────────────────────────────────────────────────────────────────────────────────╯</span>\n",
       "</pre>\n"
      ],
      "text/plain": [
       "\u001b[32m╭─────────────────────────────────────────────────────────────────────────────────────────────────────────────────╮\u001b[0m\n",
       "\u001b[32m│\u001b[0m                                                                                                                 \u001b[32m│\u001b[0m\n",
       "\u001b[32m│\u001b[0m  ### Investment Analysis for Alphabet Inc. (GOOG)                                                               \u001b[32m│\u001b[0m\n",
       "\u001b[32m│\u001b[0m                                                                                                                 \u001b[32m│\u001b[0m\n",
       "\u001b[32m│\u001b[0m  #### 1. Overall Assessment                                                                                     \u001b[32m│\u001b[0m\n",
       "\u001b[32m│\u001b[0m  Alphabet Inc. (GOOG) is a leading player in the tech sector, primarily known for its search engine and         \u001b[32m│\u001b[0m\n",
       "\u001b[32m│\u001b[0m  advertising revenue streams. The company has demonstrated resilience in a competitive landscape through its    \u001b[32m│\u001b[0m\n",
       "\u001b[32m│\u001b[0m  innovative services, including YouTube, Google Cloud, and Android OS. Given its strong foundation in digital   \u001b[32m│\u001b[0m\n",
       "\u001b[32m│\u001b[0m  advertising and growth in cloud services, the investment outlook remains positive, especially in an            \u001b[32m│\u001b[0m\n",
       "\u001b[32m│\u001b[0m  increasingly digital world.                                                                                    \u001b[32m│\u001b[0m\n",
       "\u001b[32m│\u001b[0m                                                                                                                 \u001b[32m│\u001b[0m\n",
       "\u001b[32m│\u001b[0m  #### 2. Key Strengths and Risks                                                                                \u001b[32m│\u001b[0m\n",
       "\u001b[32m│\u001b[0m                                                                                                                 \u001b[32m│\u001b[0m\n",
       "\u001b[32m│\u001b[0m  **Key Strengths:**                                                                                             \u001b[32m│\u001b[0m\n",
       "\u001b[32m│\u001b[0m  - **Dominant Market Position**: GOOG commands a significant share of the digital advertising market,           \u001b[32m│\u001b[0m\n",
       "\u001b[32m│\u001b[0m  benefiting from high barriers to entry for newcomers.                                                          \u001b[32m│\u001b[0m\n",
       "\u001b[32m│\u001b[0m  - **Diverse Revenue Streams**: Beyond advertising, Google Cloud has shown impressive growth and potential for  \u001b[32m│\u001b[0m\n",
       "\u001b[32m│\u001b[0m  long-term profitability, diversifying GOOG's revenue sources.                                                  \u001b[32m│\u001b[0m\n",
       "\u001b[32m│\u001b[0m  - **Innovation and R&D**: Consistent investment in new technologies (e.g., AI, machine learning) positions     \u001b[32m│\u001b[0m\n",
       "\u001b[32m│\u001b[0m  GOOG to capitalize on future market trends and maintain its competitive edge.                                  \u001b[32m│\u001b[0m\n",
       "\u001b[32m│\u001b[0m  - **Strong Balance Sheet**: A robust balance sheet with significant cash reserves offers financial stability   \u001b[32m│\u001b[0m\n",
       "\u001b[32m│\u001b[0m  and the ability to invest in strategic initiatives.                                                            \u001b[32m│\u001b[0m\n",
       "\u001b[32m│\u001b[0m                                                                                                                 \u001b[32m│\u001b[0m\n",
       "\u001b[32m│\u001b[0m  **Key Risks:**                                                                                                 \u001b[32m│\u001b[0m\n",
       "\u001b[32m│\u001b[0m  - **Regulatory Scrutiny**: As one of the major tech companies, GOOG faces ongoing investigations and           \u001b[32m│\u001b[0m\n",
       "\u001b[32m│\u001b[0m  potential penalties regarding antitrust issues, which could affect its operations and profitability.           \u001b[32m│\u001b[0m\n",
       "\u001b[32m│\u001b[0m  - **Market Competition**: Intense competition from firms like Meta (Facebook), Amazon, and Microsoft in both   \u001b[32m│\u001b[0m\n",
       "\u001b[32m│\u001b[0m  advertising and cloud services could impact growth.                                                            \u001b[32m│\u001b[0m\n",
       "\u001b[32m│\u001b[0m  - **Dependence on Advertising Revenue**: Although diversifying, a significant portion of revenue still comes   \u001b[32m│\u001b[0m\n",
       "\u001b[32m│\u001b[0m  from advertising, making it susceptible to economic downturns that affect ad spending.                         \u001b[32m│\u001b[0m\n",
       "\u001b[32m│\u001b[0m                                                                                                                 \u001b[32m│\u001b[0m\n",
       "\u001b[32m│\u001b[0m  #### 3. Investment Recommendation                                                                              \u001b[32m│\u001b[0m\n",
       "\u001b[32m│\u001b[0m  Given the analysis of GOOG's strengths and inherent risks, the recommendation is a **Buy**. With a strong      \u001b[32m│\u001b[0m\n",
       "\u001b[32m│\u001b[0m  market position, significant growth opportunities, and resilience in a digital-centric world, the company's    \u001b[32m│\u001b[0m\n",
       "\u001b[32m│\u001b[0m  prospects are optimistic. Investors should also monitor the regulatory environment closely, as any             \u001b[32m│\u001b[0m\n",
       "\u001b[32m│\u001b[0m  significant changes could impact the share price.                                                              \u001b[32m│\u001b[0m\n",
       "\u001b[32m│\u001b[0m                                                                                                                 \u001b[32m│\u001b[0m\n",
       "\u001b[32m│\u001b[0m  #### 4. Price Target or Action Items                                                                           \u001b[32m│\u001b[0m\n",
       "\u001b[32m│\u001b[0m  Based on current valuations and growth potential, a price target for GOOG could reasonably be set between      \u001b[32m│\u001b[0m\n",
       "\u001b[32m│\u001b[0m  **$1500 to $1800** over the next 12 months, indicating substantial upside from current levels.                 \u001b[32m│\u001b[0m\n",
       "\u001b[32m│\u001b[0m                                                                                                                 \u001b[32m│\u001b[0m\n",
       "\u001b[32m│\u001b[0m  **Action Items:**                                                                                              \u001b[32m│\u001b[0m\n",
       "\u001b[32m│\u001b[0m  - **Acquire Shares**: Consider initiating a position if not currently held, due to its growth prospects and    \u001b[32m│\u001b[0m\n",
       "\u001b[32m│\u001b[0m  market leadership.                                                                                             \u001b[32m│\u001b[0m\n",
       "\u001b[32m│\u001b[0m  - **Monitor Trends**: Keep an eye on the digital advertising market and cloud computing trends which can       \u001b[32m│\u001b[0m\n",
       "\u001b[32m│\u001b[0m  provide insights into quarterly earnings potential.                                                            \u001b[32m│\u001b[0m\n",
       "\u001b[32m│\u001b[0m  - **Watch Regulatory News**: Stay updated on antitrust news and regulatory changes that could affect           \u001b[32m│\u001b[0m\n",
       "\u001b[32m│\u001b[0m  operational capabilities.                                                                                      \u001b[32m│\u001b[0m\n",
       "\u001b[32m│\u001b[0m                                                                                                                 \u001b[32m│\u001b[0m\n",
       "\u001b[32m│\u001b[0m  This investment analysis is meant to deliver actionable insights to guide your investment decisions            \u001b[32m│\u001b[0m\n",
       "\u001b[32m│\u001b[0m  concerning GOOG. Always consider your financial situation and consult with a financial advisor for             \u001b[32m│\u001b[0m\n",
       "\u001b[32m│\u001b[0m  personalized investment advice.                                                                                \u001b[32m│\u001b[0m\n",
       "\u001b[32m│\u001b[0m                                                                                                                 \u001b[32m│\u001b[0m\n",
       "\u001b[32m╰─────────────────────────────────────────────────────────────────────────────────────────────────────────────────╯\u001b[0m\n"
      ]
     },
     "metadata": {},
     "output_type": "display_data"
    },
    {
     "data": {
      "text/html": [
       "<pre style=\"white-space:pre;overflow-x:auto;line-height:normal;font-family:Menlo,'DejaVu Sans Mono',consolas,'Courier New',monospace\">\n",
       "<span style=\"color: #008000; text-decoration-color: #008000\">✓ Analysis saved to:</span> <span style=\"color: #008080; text-decoration-color: #008080\">recommendations/GOOG_20251018_085639.md</span>\n",
       "</pre>\n"
      ],
      "text/plain": [
       "\n",
       "\u001b[32m✓ Analysis saved to:\u001b[0m \u001b[36mrecommendations/GOOG_20251018_085639.md\u001b[0m\n"
      ]
     },
     "metadata": {},
     "output_type": "display_data"
    },
    {
     "data": {
      "text/html": [
       "<pre style=\"white-space:pre;overflow-x:auto;line-height:normal;font-family:Menlo,'DejaVu Sans Mono',consolas,'Courier New',monospace\">\n",
       "------------------------------------------------------------\n",
       "</pre>\n"
      ],
      "text/plain": [
       "\n",
       "------------------------------------------------------------\n"
      ]
     },
     "metadata": {},
     "output_type": "display_data"
    },
    {
     "data": {
      "text/html": [
       "<pre style=\"white-space:pre;overflow-x:auto;line-height:normal;font-family:Menlo,'DejaVu Sans Mono',consolas,'Courier New',monospace\">\n",
       "------------------------------------------------------------\n",
       "</pre>\n"
      ],
      "text/plain": [
       "\n",
       "------------------------------------------------------------\n"
      ]
     },
     "metadata": {},
     "output_type": "display_data"
    },
    {
     "data": {
      "text/html": [
       "<pre style=\"white-space:pre;overflow-x:auto;line-height:normal;font-family:Menlo,'DejaVu Sans Mono',consolas,'Courier New',monospace\"><span style=\"font-weight: bold\">Example Query:</span>\n",
       "</pre>\n"
      ],
      "text/plain": [
       "\u001b[1mExample Query:\u001b[0m\n"
      ]
     },
     "metadata": {},
     "output_type": "display_data"
    },
    {
     "data": {
      "text/html": [
       "<pre style=\"white-space:pre;overflow-x:auto;line-height:normal;font-family:Menlo,'DejaVu Sans Mono',consolas,'Courier New',monospace\"><span style=\"color: #008080; text-decoration-color: #008080\">What's the technical analysis for AAPL?</span>\n",
       "</pre>\n"
      ],
      "text/plain": [
       "\u001b[36mWhat's the technical analysis for AAPL?\u001b[0m\n"
      ]
     },
     "metadata": {},
     "output_type": "display_data"
    },
    {
     "data": {
      "text/html": [
       "<pre style=\"white-space:pre;overflow-x:auto;line-height:normal;font-family:Menlo,'DejaVu Sans Mono',consolas,'Courier New',monospace\">\n",
       "------------------------------------------------------------\n",
       "</pre>\n"
      ],
      "text/plain": [
       "\n",
       "------------------------------------------------------------\n"
      ]
     },
     "metadata": {},
     "output_type": "display_data"
    },
    {
     "data": {
      "text/html": [
       "<pre style=\"white-space:pre;overflow-x:auto;line-height:normal;font-family:Menlo,'DejaVu Sans Mono',consolas,'Courier New',monospace\"><span style=\"color: #008080; text-decoration-color: #008080\">Extracting stock symbol from query...</span>\n",
       "</pre>\n"
      ],
      "text/plain": [
       "\u001b[36mExtracting stock symbol from query\u001b[0m\u001b[36m...\u001b[0m\n"
      ]
     },
     "metadata": {},
     "output_type": "display_data"
    },
    {
     "data": {
      "text/html": [
       "<pre style=\"white-space:pre;overflow-x:auto;line-height:normal;font-family:Menlo,'DejaVu Sans Mono',consolas,'Courier New',monospace\"><span style=\"color: #7f7f7f; text-decoration-color: #7f7f7f\">→ Checking most recent stock symbol from query history</span><span style=\"color: #bfbf7f; text-decoration-color: #bfbf7f\">...</span>\n",
       "</pre>\n"
      ],
      "text/plain": [
       "\u001b[2m→ Checking most recent stock symbol from query history\u001b[0m\u001b[2;33m...\u001b[0m\n"
      ]
     },
     "metadata": {},
     "output_type": "display_data"
    },
    {
     "data": {
      "text/html": [
       "<pre style=\"white-space:pre;overflow-x:auto;line-height:normal;font-family:Menlo,'DejaVu Sans Mono',consolas,'Courier New',monospace\"><span style=\"color: #008000; text-decoration-color: #008000\">✓ Found most recent stock symbol from history: GOOG</span>\n",
       "</pre>\n"
      ],
      "text/plain": [
       "\u001b[32m✓ Found most recent stock symbol from history: GOOG\u001b[0m\n"
      ]
     },
     "metadata": {},
     "output_type": "display_data"
    },
    {
     "data": {
      "text/html": [
       "<pre style=\"white-space:pre;overflow-x:auto;line-height:normal;font-family:Menlo,'DejaVu Sans Mono',consolas,'Courier New',monospace\"><span style=\"color: #7f7f7f; text-decoration-color: #7f7f7f\">  From: </span><span style=\"color: #7fbfbf; text-decoration-color: #7fbfbf; font-weight: bold\">2025</span><span style=\"color: #7f7f7f; text-decoration-color: #7f7f7f\">-</span><span style=\"color: #7fbfbf; text-decoration-color: #7fbfbf; font-weight: bold\">10</span><span style=\"color: #7f7f7f; text-decoration-color: #7f7f7f\">-18T</span><span style=\"color: #7fff7f; text-decoration-color: #7fff7f; font-weight: bold\">08:56:39</span><span style=\"color: #7f7f7f; text-decoration-color: #7f7f7f\">.</span><span style=\"color: #7fbfbf; text-decoration-color: #7fbfbf; font-weight: bold\">424680</span>\n",
       "</pre>\n"
      ],
      "text/plain": [
       "\u001b[2m  From: \u001b[0m\u001b[1;2;36m2025\u001b[0m\u001b[2m-\u001b[0m\u001b[1;2;36m10\u001b[0m\u001b[2m-18T\u001b[0m\u001b[1;2;92m08:56:39\u001b[0m\u001b[2m.\u001b[0m\u001b[1;2;36m424680\u001b[0m\n"
      ]
     },
     "metadata": {},
     "output_type": "display_data"
    },
    {
     "data": {
      "text/html": [
       "<pre style=\"white-space:pre;overflow-x:auto;line-height:normal;font-family:Menlo,'DejaVu Sans Mono',consolas,'Courier New',monospace\"><span style=\"color: #7f7f7f; text-decoration-color: #7f7f7f\">  Memory: Query: Is Apple a good buy right now?</span><span style=\"color: #bfbf7f; text-decoration-color: #bfbf7f\">...</span><span style=\"color: #7f7f7f; text-decoration-color: #7f7f7f\"> Result: ### Investment Analysis for Alphabet Inc. </span><span style=\"color: #7f7f7f; text-decoration-color: #7f7f7f; font-weight: bold\">(</span><span style=\"color: #7f7f7f; text-decoration-color: #7f7f7f\">GOOG</span><span style=\"color: #7f7f7f; text-decoration-color: #7f7f7f; font-weight: bold\">)</span>\n",
       "\n",
       "<span style=\"color: #7f7f7f; text-decoration-color: #7f7f7f\">#</span><span style=\"color: #bfbf7f; text-decoration-color: #bfbf7f\">...</span>\n",
       "</pre>\n"
      ],
      "text/plain": [
       "\u001b[2m  Memory: Query: Is Apple a good buy right now?\u001b[0m\u001b[2;33m...\u001b[0m\u001b[2m Result: ### Investment Analysis for Alphabet Inc. \u001b[0m\u001b[1;2m(\u001b[0m\u001b[2mGOOG\u001b[0m\u001b[1;2m)\u001b[0m\n",
       "\n",
       "\u001b[2m#\u001b[0m\u001b[2;33m...\u001b[0m\n"
      ]
     },
     "metadata": {},
     "output_type": "display_data"
    },
    {
     "data": {
      "text/html": [
       "<pre style=\"white-space:pre;overflow-x:auto;line-height:normal;font-family:Menlo,'DejaVu Sans Mono',consolas,'Courier New',monospace\">\n",
       "<span style=\"color: #008000; text-decoration-color: #008000; font-weight: bold\">✓ Identified Stock: GOOG</span>\n",
       "</pre>\n"
      ],
      "text/plain": [
       "\n",
       "\u001b[1;32m✓ Identified Stock: GOOG\u001b[0m\n"
      ]
     },
     "metadata": {},
     "output_type": "display_data"
    },
    {
     "data": {
      "text/html": [
       "<pre style=\"white-space:pre;overflow-x:auto;line-height:normal;font-family:Menlo,'DejaVu Sans Mono',consolas,'Courier New',monospace\"><span style=\"color: #7f7f7f; text-decoration-color: #7f7f7f\">Confidence: high | Method: recent_history</span>\n",
       "</pre>\n"
      ],
      "text/plain": [
       "\u001b[2mConfidence: high | Method: recent_history\u001b[0m\n"
      ]
     },
     "metadata": {},
     "output_type": "display_data"
    },
    {
     "data": {
      "text/html": [
       "<pre style=\"white-space:pre;overflow-x:auto;line-height:normal;font-family:Menlo,'DejaVu Sans Mono',consolas,'Courier New',monospace\">\n",
       "<span style=\"color: #008080; text-decoration-color: #008080; font-weight: bold\">Proceeding with GOOG...</span>\n",
       "</pre>\n"
      ],
      "text/plain": [
       "\n",
       "\u001b[1;36mProceeding with GOOG\u001b[0m\u001b[1;36m...\u001b[0m\n"
      ]
     },
     "metadata": {},
     "output_type": "display_data"
    },
    {
     "data": {
      "text/html": [
       "<pre style=\"white-space:pre;overflow-x:auto;line-height:normal;font-family:Menlo,'DejaVu Sans Mono',consolas,'Courier New',monospace\">\n",
       "------------------------------------------------------------\n",
       "</pre>\n"
      ],
      "text/plain": [
       "\n",
       "------------------------------------------------------------\n"
      ]
     },
     "metadata": {},
     "output_type": "display_data"
    },
    {
     "data": {
      "text/html": [
       "<pre style=\"white-space:pre;overflow-x:auto;line-height:normal;font-family:Menlo,'DejaVu Sans Mono',consolas,'Courier New',monospace\"><span style=\"color: #008080; text-decoration-color: #008080\">╭────────────────────────────────────────────────╮</span>\n",
       "<span style=\"color: #008080; text-decoration-color: #008080\">│</span> <span style=\"color: #008080; text-decoration-color: #008080; font-weight: bold\">Processing Query</span>                               <span style=\"color: #008080; text-decoration-color: #008080\">│</span>\n",
       "<span style=\"color: #008080; text-decoration-color: #008080\">│</span> Stock: <span style=\"color: #808000; text-decoration-color: #808000\">GOOG</span>                                    <span style=\"color: #008080; text-decoration-color: #008080\">│</span>\n",
       "<span style=\"color: #008080; text-decoration-color: #008080\">│</span> Query: <span style=\"color: #c0c0c0; text-decoration-color: #c0c0c0\">What's the technical analysis for AAPL?</span> <span style=\"color: #008080; text-decoration-color: #008080\">│</span>\n",
       "<span style=\"color: #008080; text-decoration-color: #008080\">╰────────────────────────────────────────────────╯</span>\n",
       "</pre>\n"
      ],
      "text/plain": [
       "\u001b[36m╭────────────────────────────────────────────────╮\u001b[0m\n",
       "\u001b[36m│\u001b[0m \u001b[1;36mProcessing Query\u001b[0m                               \u001b[36m│\u001b[0m\n",
       "\u001b[36m│\u001b[0m Stock: \u001b[33mGOOG\u001b[0m                                    \u001b[36m│\u001b[0m\n",
       "\u001b[36m│\u001b[0m Query: \u001b[37mWhat's the technical analysis for AAPL?\u001b[0m \u001b[36m│\u001b[0m\n",
       "\u001b[36m╰────────────────────────────────────────────────╯\u001b[0m\n"
      ]
     },
     "metadata": {},
     "output_type": "display_data"
    },
    {
     "data": {
      "text/html": [
       "<pre style=\"white-space:pre;overflow-x:auto;line-height:normal;font-family:Menlo,'DejaVu Sans Mono',consolas,'Courier New',monospace\">\n",
       "<span style=\"font-weight: bold\">Step </span><span style=\"color: #008080; text-decoration-color: #008080; font-weight: bold\">1</span><span style=\"font-weight: bold\">: Gathering Data</span>\n",
       "</pre>\n"
      ],
      "text/plain": [
       "\n",
       "\u001b[1mStep \u001b[0m\u001b[1;36m1\u001b[0m\u001b[1m: Gathering Data\u001b[0m\n"
      ]
     },
     "metadata": {},
     "output_type": "display_data"
    },
    {
     "data": {
      "text/html": [
       "<pre style=\"white-space:pre;overflow-x:auto;line-height:normal;font-family:Menlo,'DejaVu Sans Mono',consolas,'Courier New',monospace\"><span style=\"color: #800080; text-decoration-color: #800080; font-weight: bold\"> Randomly selected primary source: Alpha Vantage</span>\n",
       "</pre>\n"
      ],
      "text/plain": [
       "\u001b[1;35m Randomly selected primary source: Alpha Vantage\u001b[0m\n"
      ]
     },
     "metadata": {},
     "output_type": "display_data"
    },
    {
     "data": {
      "text/html": [
       "<pre style=\"white-space:pre;overflow-x:auto;line-height:normal;font-family:Menlo,'DejaVu Sans Mono',consolas,'Courier New',monospace\">/Users/pankajshukla/Documents/Projects/usd-git/investment-research-agent/venv_agentic/lib/python3.12/site-packages/\n",
       "rich/live.py:256: UserWarning: install \"ipywidgets\" for Jupyter support\n",
       "  warnings.warn('install \"ipywidgets\" for Jupyter support')\n",
       "</pre>\n"
      ],
      "text/plain": [
       "/Users/pankajshukla/Documents/Projects/usd-git/investment-research-agent/venv_agentic/lib/python3.12/site-packages/\n",
       "rich/live.py:256: UserWarning: install \"ipywidgets\" for Jupyter support\n",
       "  warnings.warn('install \"ipywidgets\" for Jupyter support')\n"
      ]
     },
     "metadata": {},
     "output_type": "display_data"
    },
    {
     "data": {
      "text/html": [
       "<pre style=\"white-space:pre;overflow-x:auto;line-height:normal;font-family:Menlo,'DejaVu Sans Mono',consolas,'Courier New',monospace\"></pre>\n"
      ],
      "text/plain": []
     },
     "metadata": {},
     "output_type": "display_data"
    },
    {
     "data": {
      "text/html": [
       "<pre style=\"white-space:pre;overflow-x:auto;line-height:normal;font-family:Menlo,'DejaVu Sans Mono',consolas,'Courier New',monospace\"></pre>\n"
      ],
      "text/plain": []
     },
     "metadata": {},
     "output_type": "display_data"
    },
    {
     "data": {
      "text/html": [
       "<pre style=\"white-space:pre;overflow-x:auto;line-height:normal;font-family:Menlo,'DejaVu Sans Mono',consolas,'Courier New',monospace\"></pre>\n"
      ],
      "text/plain": []
     },
     "metadata": {},
     "output_type": "display_data"
    },
    {
     "data": {
      "text/html": [
       "<pre style=\"white-space:pre;overflow-x:auto;line-height:normal;font-family:Menlo,'DejaVu Sans Mono',consolas,'Courier New',monospace\">\n",
       "<span style=\"font-weight: bold\">Step </span><span style=\"color: #008080; text-decoration-color: #008080; font-weight: bold\">2</span><span style=\"font-weight: bold\">: Determining Workflow Strategy</span>\n",
       "</pre>\n"
      ],
      "text/plain": [
       "\n",
       "\u001b[1mStep \u001b[0m\u001b[1;36m2\u001b[0m\u001b[1m: Determining Workflow Strategy\u001b[0m\n"
      ]
     },
     "metadata": {},
     "output_type": "display_data"
    },
    {
     "name": "stderr",
     "output_type": "stream",
     "text": [
      "2025-10-18 08:56:42,183 - INFO - HTTP Request: POST https://api.openai.com/v1/chat/completions \"HTTP/1.1 200 OK\"\n"
     ]
    },
    {
     "data": {
      "text/html": [
       "<pre style=\"white-space:pre;overflow-x:auto;line-height:normal;font-family:Menlo,'DejaVu Sans Mono',consolas,'Courier New',monospace\"><span style=\"color: #808000; text-decoration-color: #808000\">→ Selected Strategy: routing</span>\n",
       "</pre>\n"
      ],
      "text/plain": [
       "\u001b[33m→ Selected Strategy: routing\u001b[0m\n"
      ]
     },
     "metadata": {},
     "output_type": "display_data"
    },
    {
     "data": {
      "text/html": [
       "<pre style=\"white-space:pre;overflow-x:auto;line-height:normal;font-family:Menlo,'DejaVu Sans Mono',consolas,'Courier New',monospace\">\n",
       "<span style=\"font-weight: bold\">Step </span><span style=\"color: #008080; text-decoration-color: #008080; font-weight: bold\">3</span><span style=\"font-weight: bold\">: Executing Workflow</span>\n",
       "</pre>\n"
      ],
      "text/plain": [
       "\n",
       "\u001b[1mStep \u001b[0m\u001b[1;36m3\u001b[0m\u001b[1m: Executing Workflow\u001b[0m\n"
      ]
     },
     "metadata": {},
     "output_type": "display_data"
    },
    {
     "data": {
      "text/html": [
       "<pre style=\"white-space:pre;overflow-x:auto;line-height:normal;font-family:Menlo,'DejaVu Sans Mono',consolas,'Courier New',monospace\"><span style=\"color: #008080; text-decoration-color: #008080\">Starting Routing Workflow for GOOG</span>\n",
       "</pre>\n"
      ],
      "text/plain": [
       "\u001b[36mStarting Routing Workflow for GOOG\u001b[0m\n"
      ]
     },
     "metadata": {},
     "output_type": "display_data"
    },
    {
     "name": "stderr",
     "output_type": "stream",
     "text": [
      "2025-10-18 08:56:42,757 - INFO - HTTP Request: POST https://api.openai.com/v1/chat/completions \"HTTP/1.1 200 OK\"\n"
     ]
    },
    {
     "data": {
      "text/html": [
       "<pre style=\"white-space:pre;overflow-x:auto;line-height:normal;font-family:Menlo,'DejaVu Sans Mono',consolas,'Courier New',monospace\"><span style=\"color: #808000; text-decoration-color: #808000\">→ Routing to: technical specialist</span>\n",
       "</pre>\n"
      ],
      "text/plain": [
       "\u001b[33m→ Routing to: technical specialist\u001b[0m\n"
      ]
     },
     "metadata": {},
     "output_type": "display_data"
    },
    {
     "data": {
      "text/html": [
       "<pre style=\"white-space:pre;overflow-x:auto;line-height:normal;font-family:Menlo,'DejaVu Sans Mono',consolas,'Courier New',monospace\"><span style=\"color: #7f7f7f; text-decoration-color: #7f7f7f\">→ Technical specialist analyzing</span><span style=\"color: #bfbf7f; text-decoration-color: #bfbf7f\">...</span>\n",
       "</pre>\n"
      ],
      "text/plain": [
       "\u001b[2m→ Technical specialist analyzing\u001b[0m\u001b[2;33m...\u001b[0m\n"
      ]
     },
     "metadata": {},
     "output_type": "display_data"
    },
    {
     "name": "stderr",
     "output_type": "stream",
     "text": [
      "2025-10-18 08:56:53,550 - INFO - HTTP Request: POST https://api.openai.com/v1/chat/completions \"HTTP/1.1 200 OK\"\n"
     ]
    },
    {
     "data": {
      "text/html": [
       "<pre style=\"white-space:pre;overflow-x:auto;line-height:normal;font-family:Menlo,'DejaVu Sans Mono',consolas,'Courier New',monospace\">\n",
       "<span style=\"font-weight: bold\">Step </span><span style=\"color: #008080; text-decoration-color: #008080; font-weight: bold\">4</span><span style=\"font-weight: bold\">: Optimizing Analysis</span>\n",
       "</pre>\n"
      ],
      "text/plain": [
       "\n",
       "\u001b[1mStep \u001b[0m\u001b[1;36m4\u001b[0m\u001b[1m: Optimizing Analysis\u001b[0m\n"
      ]
     },
     "metadata": {},
     "output_type": "display_data"
    },
    {
     "data": {
      "text/html": [
       "<pre style=\"white-space:pre;overflow-x:auto;line-height:normal;font-family:Menlo,'DejaVu Sans Mono',consolas,'Courier New',monospace\"><span style=\"color: #008080; text-decoration-color: #008080\">Starting Evaluator-Optimizer Workflow for GOOG</span>\n",
       "</pre>\n"
      ],
      "text/plain": [
       "\u001b[36mStarting Evaluator-Optimizer Workflow for GOOG\u001b[0m\n"
      ]
     },
     "metadata": {},
     "output_type": "display_data"
    },
    {
     "data": {
      "text/html": [
       "<pre style=\"white-space:pre;overflow-x:auto;line-height:normal;font-family:Menlo,'DejaVu Sans Mono',consolas,'Courier New',monospace\"><span style=\"color: #808000; text-decoration-color: #808000\">→ Iteration </span><span style=\"color: #808000; text-decoration-color: #808000; font-weight: bold\">1</span><span style=\"color: #808000; text-decoration-color: #808000\">/</span><span style=\"color: #808000; text-decoration-color: #808000; font-weight: bold\">2</span>\n",
       "</pre>\n"
      ],
      "text/plain": [
       "\u001b[33m→ Iteration \u001b[0m\u001b[1;33m1\u001b[0m\u001b[33m/\u001b[0m\u001b[1;33m2\u001b[0m\n"
      ]
     },
     "metadata": {},
     "output_type": "display_data"
    },
    {
     "data": {
      "text/html": [
       "<pre style=\"white-space:pre;overflow-x:auto;line-height:normal;font-family:Menlo,'DejaVu Sans Mono',consolas,'Courier New',monospace\"><span style=\"color: #7f7f7f; text-decoration-color: #7f7f7f\">→ Evaluating analysis quality</span><span style=\"color: #bfbf7f; text-decoration-color: #bfbf7f\">...</span>\n",
       "</pre>\n"
      ],
      "text/plain": [
       "\u001b[2m→ Evaluating analysis quality\u001b[0m\u001b[2;33m...\u001b[0m\n"
      ]
     },
     "metadata": {},
     "output_type": "display_data"
    },
    {
     "name": "stderr",
     "output_type": "stream",
     "text": [
      "2025-10-18 08:56:59,489 - INFO - HTTP Request: POST https://api.openai.com/v1/chat/completions \"HTTP/1.1 200 OK\"\n"
     ]
    },
    {
     "data": {
      "text/html": [
       "<pre style=\"white-space:pre;overflow-x:auto;line-height:normal;font-family:Menlo,'DejaVu Sans Mono',consolas,'Courier New',monospace\"><span style=\"color: #7f7f7f; text-decoration-color: #7f7f7f\">Quality Score: </span><span style=\"color: #7fbfbf; text-decoration-color: #7fbfbf; font-weight: bold\">7.50</span><span style=\"color: #7f7f7f; text-decoration-color: #7f7f7f\">/</span><span style=\"color: #7fbfbf; text-decoration-color: #7fbfbf; font-weight: bold\">10</span>\n",
       "</pre>\n"
      ],
      "text/plain": [
       "\u001b[2mQuality Score: \u001b[0m\u001b[1;2;36m7.50\u001b[0m\u001b[2m/\u001b[0m\u001b[1;2;36m10\u001b[0m\n"
      ]
     },
     "metadata": {},
     "output_type": "display_data"
    },
    {
     "data": {
      "text/html": [
       "<pre style=\"white-space:pre;overflow-x:auto;line-height:normal;font-family:Menlo,'DejaVu Sans Mono',consolas,'Courier New',monospace\"><span style=\"color: #7f7f7f; text-decoration-color: #7f7f7f\">→ Optimizing analysis</span><span style=\"color: #bfbf7f; text-decoration-color: #bfbf7f\">...</span>\n",
       "</pre>\n"
      ],
      "text/plain": [
       "\u001b[2m→ Optimizing analysis\u001b[0m\u001b[2;33m...\u001b[0m\n"
      ]
     },
     "metadata": {},
     "output_type": "display_data"
    },
    {
     "name": "stderr",
     "output_type": "stream",
     "text": [
      "2025-10-18 08:57:15,363 - INFO - HTTP Request: POST https://api.openai.com/v1/chat/completions \"HTTP/1.1 200 OK\"\n"
     ]
    },
    {
     "data": {
      "text/html": [
       "<pre style=\"white-space:pre;overflow-x:auto;line-height:normal;font-family:Menlo,'DejaVu Sans Mono',consolas,'Courier New',monospace\"><span style=\"color: #008000; text-decoration-color: #008000\">✓ Analysis optimized</span>\n",
       "</pre>\n"
      ],
      "text/plain": [
       "\u001b[32m✓ Analysis optimized\u001b[0m\n"
      ]
     },
     "metadata": {},
     "output_type": "display_data"
    },
    {
     "data": {
      "text/html": [
       "<pre style=\"white-space:pre;overflow-x:auto;line-height:normal;font-family:Menlo,'DejaVu Sans Mono',consolas,'Courier New',monospace\"><span style=\"color: #808000; text-decoration-color: #808000\">→ Iteration </span><span style=\"color: #808000; text-decoration-color: #808000; font-weight: bold\">2</span><span style=\"color: #808000; text-decoration-color: #808000\">/</span><span style=\"color: #808000; text-decoration-color: #808000; font-weight: bold\">2</span>\n",
       "</pre>\n"
      ],
      "text/plain": [
       "\u001b[33m→ Iteration \u001b[0m\u001b[1;33m2\u001b[0m\u001b[33m/\u001b[0m\u001b[1;33m2\u001b[0m\n"
      ]
     },
     "metadata": {},
     "output_type": "display_data"
    },
    {
     "data": {
      "text/html": [
       "<pre style=\"white-space:pre;overflow-x:auto;line-height:normal;font-family:Menlo,'DejaVu Sans Mono',consolas,'Courier New',monospace\"><span style=\"color: #7f7f7f; text-decoration-color: #7f7f7f\">→ Evaluating analysis quality</span><span style=\"color: #bfbf7f; text-decoration-color: #bfbf7f\">...</span>\n",
       "</pre>\n"
      ],
      "text/plain": [
       "\u001b[2m→ Evaluating analysis quality\u001b[0m\u001b[2;33m...\u001b[0m\n"
      ]
     },
     "metadata": {},
     "output_type": "display_data"
    },
    {
     "name": "stderr",
     "output_type": "stream",
     "text": [
      "2025-10-18 08:57:19,048 - INFO - HTTP Request: POST https://api.openai.com/v1/chat/completions \"HTTP/1.1 200 OK\"\n"
     ]
    },
    {
     "data": {
      "text/html": [
       "<pre style=\"white-space:pre;overflow-x:auto;line-height:normal;font-family:Menlo,'DejaVu Sans Mono',consolas,'Courier New',monospace\"><span style=\"color: #7f7f7f; text-decoration-color: #7f7f7f\">Quality Score: </span><span style=\"color: #7fbfbf; text-decoration-color: #7fbfbf; font-weight: bold\">8.50</span><span style=\"color: #7f7f7f; text-decoration-color: #7f7f7f\">/</span><span style=\"color: #7fbfbf; text-decoration-color: #7fbfbf; font-weight: bold\">10</span>\n",
       "</pre>\n"
      ],
      "text/plain": [
       "\u001b[2mQuality Score: \u001b[0m\u001b[1;2;36m8.50\u001b[0m\u001b[2m/\u001b[0m\u001b[1;2;36m10\u001b[0m\n"
      ]
     },
     "metadata": {},
     "output_type": "display_data"
    },
    {
     "data": {
      "text/html": [
       "<pre style=\"white-space:pre;overflow-x:auto;line-height:normal;font-family:Menlo,'DejaVu Sans Mono',consolas,'Courier New',monospace\"><span style=\"color: #008000; text-decoration-color: #008000\">✓ Quality threshold met</span>\n",
       "</pre>\n"
      ],
      "text/plain": [
       "\u001b[32m✓ Quality threshold met\u001b[0m\n"
      ]
     },
     "metadata": {},
     "output_type": "display_data"
    },
    {
     "data": {
      "text/html": [
       "<pre style=\"white-space:pre;overflow-x:auto;line-height:normal;font-family:Menlo,'DejaVu Sans Mono',consolas,'Courier New',monospace\"><span style=\"color: #008000; text-decoration-color: #008000\">Saved </span><span style=\"color: #008000; text-decoration-color: #008000; font-weight: bold\">30</span><span style=\"color: #008000; text-decoration-color: #008000\"> memories to file</span>\n",
       "</pre>\n"
      ],
      "text/plain": [
       "\u001b[32mSaved \u001b[0m\u001b[1;32m30\u001b[0m\u001b[32m memories to file\u001b[0m\n"
      ]
     },
     "metadata": {},
     "output_type": "display_data"
    },
    {
     "data": {
      "text/html": [
       "<pre style=\"white-space:pre;overflow-x:auto;line-height:normal;font-family:Menlo,'DejaVu Sans Mono',consolas,'Courier New',monospace\"><span style=\"color: #008000; text-decoration-color: #008000\">Added memory for GOOG: query_analysis</span>\n",
       "</pre>\n"
      ],
      "text/plain": [
       "\u001b[32mAdded memory for GOOG: query_analysis\u001b[0m\n"
      ]
     },
     "metadata": {},
     "output_type": "display_data"
    },
    {
     "data": {
      "text/html": [
       "<pre style=\"white-space:pre;overflow-x:auto;line-height:normal;font-family:Menlo,'DejaVu Sans Mono',consolas,'Courier New',monospace\">\n",
       "<span style=\"color: #008000; text-decoration-color: #008000; font-weight: bold\">✓ Query Processing Completed</span>\n",
       "</pre>\n"
      ],
      "text/plain": [
       "\n",
       "\u001b[1;32m✓ Query Processing Completed\u001b[0m\n"
      ]
     },
     "metadata": {},
     "output_type": "display_data"
    },
    {
     "data": {
      "text/html": [
       "<pre style=\"white-space:pre;overflow-x:auto;line-height:normal;font-family:Menlo,'DejaVu Sans Mono',consolas,'Courier New',monospace\">\n",
       "------------------------------------------------------------\n",
       "</pre>\n"
      ],
      "text/plain": [
       "\n",
       "------------------------------------------------------------\n"
      ]
     },
     "metadata": {},
     "output_type": "display_data"
    },
    {
     "data": {
      "text/html": [
       "<pre style=\"white-space:pre;overflow-x:auto;line-height:normal;font-family:Menlo,'DejaVu Sans Mono',consolas,'Courier New',monospace\"><span style=\"color: #008000; text-decoration-color: #008000\">╭───────────────────╮</span>\n",
       "<span style=\"color: #008000; text-decoration-color: #008000\">│</span> <span style=\"color: #008000; text-decoration-color: #008000; font-weight: bold\">Analysis Complete</span> <span style=\"color: #008000; text-decoration-color: #008000\">│</span>\n",
       "<span style=\"color: #008000; text-decoration-color: #008000\">╰───────────────────╯</span>\n",
       "</pre>\n"
      ],
      "text/plain": [
       "\u001b[32m╭───────────────────╮\u001b[0m\n",
       "\u001b[32m│\u001b[0m \u001b[1;32mAnalysis Complete\u001b[0m \u001b[32m│\u001b[0m\n",
       "\u001b[32m╰───────────────────╯\u001b[0m\n"
      ]
     },
     "metadata": {},
     "output_type": "display_data"
    },
    {
     "data": {
      "text/html": [
       "<pre style=\"white-space:pre;overflow-x:auto;line-height:normal;font-family:Menlo,'DejaVu Sans Mono',consolas,'Courier New',monospace\">\n",
       "<span style=\"font-weight: bold\">Workflow Used:</span> <span style=\"color: #808000; text-decoration-color: #808000\">routing</span>\n",
       "</pre>\n"
      ],
      "text/plain": [
       "\n",
       "\u001b[1mWorkflow Used:\u001b[0m \u001b[33mrouting\u001b[0m\n"
      ]
     },
     "metadata": {},
     "output_type": "display_data"
    },
    {
     "data": {
      "text/html": [
       "<pre style=\"white-space:pre;overflow-x:auto;line-height:normal;font-family:Menlo,'DejaVu Sans Mono',consolas,'Courier New',monospace\"><span style=\"font-weight: bold\">Optimization:</span> <span style=\"color: #008080; text-decoration-color: #008080; font-weight: bold\">2</span> iterations, Quality Score: <span style=\"color: #008080; text-decoration-color: #008080; font-weight: bold\">8.5</span>/<span style=\"color: #008080; text-decoration-color: #008080; font-weight: bold\">10</span>\n",
       "</pre>\n"
      ],
      "text/plain": [
       "\u001b[1mOptimization:\u001b[0m \u001b[1;36m2\u001b[0m iterations, Quality Score: \u001b[1;36m8.5\u001b[0m/\u001b[1;36m10\u001b[0m\n"
      ]
     },
     "metadata": {},
     "output_type": "display_data"
    },
    {
     "data": {
      "text/html": [
       "<pre style=\"white-space:pre;overflow-x:auto;line-height:normal;font-family:Menlo,'DejaVu Sans Mono',consolas,'Courier New',monospace\">\n",
       "<span style=\"font-weight: bold\">Data Summary:</span>\n",
       "</pre>\n"
      ],
      "text/plain": [
       "\n",
       "\u001b[1mData Summary:\u001b[0m\n"
      ]
     },
     "metadata": {},
     "output_type": "display_data"
    },
    {
     "data": {
      "text/html": [
       "<pre style=\"white-space:pre;overflow-x:auto;line-height:normal;font-family:Menlo,'DejaVu Sans Mono',consolas,'Courier New',monospace\"><span style=\"color: #008080; text-decoration-color: #008080\"> Current Price </span><span style=\"color: #c0c0c0; text-decoration-color: #c0c0c0\"> $253.79 </span>\n",
       "<span style=\"color: #008080; text-decoration-color: #008080\"> P/E Ratio     </span><span style=\"color: #c0c0c0; text-decoration-color: #c0c0c0\"> 26.88   </span>\n",
       "<span style=\"color: #008080; text-decoration-color: #008080\"> News Articles </span><span style=\"color: #c0c0c0; text-decoration-color: #c0c0c0\"> 50      </span>\n",
       "</pre>\n"
      ],
      "text/plain": [
       "\u001b[36m \u001b[0m\u001b[36mCurrent Price\u001b[0m\u001b[36m \u001b[0m\u001b[37m \u001b[0m\u001b[37m$253.79\u001b[0m\u001b[37m \u001b[0m\n",
       "\u001b[36m \u001b[0m\u001b[36mP/E Ratio    \u001b[0m\u001b[36m \u001b[0m\u001b[37m \u001b[0m\u001b[37m26.88  \u001b[0m\u001b[37m \u001b[0m\n",
       "\u001b[36m \u001b[0m\u001b[36mNews Articles\u001b[0m\u001b[36m \u001b[0m\u001b[37m \u001b[0m\u001b[37m50     \u001b[0m\u001b[37m \u001b[0m\n"
      ]
     },
     "metadata": {},
     "output_type": "display_data"
    },
    {
     "data": {
      "text/html": [
       "<pre style=\"white-space:pre;overflow-x:auto;line-height:normal;font-family:Menlo,'DejaVu Sans Mono',consolas,'Courier New',monospace\">\n",
       "<span style=\"font-weight: bold\">Analysis:</span>\n",
       "</pre>\n"
      ],
      "text/plain": [
       "\n",
       "\u001b[1mAnalysis:\u001b[0m\n"
      ]
     },
     "metadata": {},
     "output_type": "display_data"
    },
    {
     "data": {
      "text/html": [
       "<pre style=\"white-space:pre;overflow-x:auto;line-height:normal;font-family:Menlo,'DejaVu Sans Mono',consolas,'Courier New',monospace\"><span style=\"color: #008000; text-decoration-color: #008000\">╭─────────────────────────────────────────────────────────────────────────────────────────────────────────────────╮</span>\n",
       "<span style=\"color: #008000; text-decoration-color: #008000\">│</span>                                                                                                                 <span style=\"color: #008000; text-decoration-color: #008000\">│</span>\n",
       "<span style=\"color: #008000; text-decoration-color: #008000\">│</span>  ### Enhanced Investment Analysis for Alphabet Inc. (GOOG)                                                      <span style=\"color: #008000; text-decoration-color: #008000\">│</span>\n",
       "<span style=\"color: #008000; text-decoration-color: #008000\">│</span>                                                                                                                 <span style=\"color: #008000; text-decoration-color: #008000\">│</span>\n",
       "<span style=\"color: #008000; text-decoration-color: #008000\">│</span>  To analyze the price action for Alphabet Inc. (GOOG), we will explore key technical sections: trend direction  <span style=\"color: #008000; text-decoration-color: #008000\">│</span>\n",
       "<span style=\"color: #008000; text-decoration-color: #008000\">│</span>  and strength, support/resistance levels, potential technical indicators, and actionable entry/exit points.     <span style=\"color: #008000; text-decoration-color: #008000\">│</span>\n",
       "<span style=\"color: #008000; text-decoration-color: #008000\">│</span>  Additionally, we’ll incorporate fundamental analysis to provide a comprehensive perspective.                   <span style=\"color: #008000; text-decoration-color: #008000\">│</span>\n",
       "<span style=\"color: #008000; text-decoration-color: #008000\">│</span>                                                                                                                 <span style=\"color: #008000; text-decoration-color: #008000\">│</span>\n",
       "<span style=\"color: #008000; text-decoration-color: #008000\">│</span>  ### Fundamental Analysis                                                                                       <span style=\"color: #008000; text-decoration-color: #008000\">│</span>\n",
       "<span style=\"color: #008000; text-decoration-color: #008000\">│</span>  1. **Economic Context:**                                                                                       <span style=\"color: #008000; text-decoration-color: #008000\">│</span>\n",
       "<span style=\"color: #008000; text-decoration-color: #008000\">│</span>     - Consider macroeconomic indicators such as interest rates and inflation which influence stock prices. For  <span style=\"color: #008000; text-decoration-color: #008000\">│</span>\n",
       "<span style=\"color: #008000; text-decoration-color: #008000\">│</span>  instance, if the Federal Reserve signals rate hikes, growth stocks like GOOG may face downward pressure.       <span style=\"color: #008000; text-decoration-color: #008000\">│</span>\n",
       "<span style=\"color: #008000; text-decoration-color: #008000\">│</span>     - Monitor the advertising market trends, which significantly affect Alphabet's revenue. A rebound in        <span style=\"color: #008000; text-decoration-color: #008000\">│</span>\n",
       "<span style=\"color: #008000; text-decoration-color: #008000\">│</span>  digital ad spending can positively impact GOOG’s stock performance.                                            <span style=\"color: #008000; text-decoration-color: #008000\">│</span>\n",
       "<span style=\"color: #008000; text-decoration-color: #008000\">│</span>                                                                                                                 <span style=\"color: #008000; text-decoration-color: #008000\">│</span>\n",
       "<span style=\"color: #008000; text-decoration-color: #008000\">│</span>  2. **Company Performance:**                                                                                    <span style=\"color: #008000; text-decoration-color: #008000\">│</span>\n",
       "<span style=\"color: #008000; text-decoration-color: #008000\">│</span>     - Keep an eye on recent earnings reports and guidance. For instance, if GOOG recently reported a revenue    <span style=\"color: #008000; text-decoration-color: #008000\">│</span>\n",
       "<span style=\"color: #008000; text-decoration-color: #008000\">│</span>  growth of 20% year-over-year, this could signal strong fundamentals, bolstering investor confidence.           <span style=\"color: #008000; text-decoration-color: #008000\">│</span>\n",
       "<span style=\"color: #008000; text-decoration-color: #008000\">│</span>     - Watch for partnership announcements, regulatory updates, and innovations, such as developments in AI,     <span style=\"color: #008000; text-decoration-color: #008000\">│</span>\n",
       "<span style=\"color: #008000; text-decoration-color: #008000\">│</span>  which could impact future growth.                                                                              <span style=\"color: #008000; text-decoration-color: #008000\">│</span>\n",
       "<span style=\"color: #008000; text-decoration-color: #008000\">│</span>                                                                                                                 <span style=\"color: #008000; text-decoration-color: #008000\">│</span>\n",
       "<span style=\"color: #008000; text-decoration-color: #008000\">│</span>  ### Trend Direction and Strength                                                                               <span style=\"color: #008000; text-decoration-color: #008000\">│</span>\n",
       "<span style=\"color: #008000; text-decoration-color: #008000\">│</span>  1. **Current Price Observation:**                                                                              <span style=\"color: #008000; text-decoration-color: #008000\">│</span>\n",
       "<span style=\"color: #008000; text-decoration-color: #008000\">│</span>     - The latest price for GOOG is $253.79.                                                                     <span style=\"color: #008000; text-decoration-color: #008000\">│</span>\n",
       "<span style=\"color: #008000; text-decoration-color: #008000\">│</span>                                                                                                                 <span style=\"color: #008000; text-decoration-color: #008000\">│</span>\n",
       "<span style=\"color: #008000; text-decoration-color: #008000\">│</span>  2. **Trend Analysis:**                                                                                         <span style=\"color: #008000; text-decoration-color: #008000\">│</span>\n",
       "<span style=\"color: #008000; text-decoration-color: #008000\">│</span>     - Check the 50-day, 100-day, and 200-day moving averages. For example, if the 50-day MA is at $240, the     <span style=\"color: #008000; text-decoration-color: #008000\">│</span>\n",
       "<span style=\"color: #008000; text-decoration-color: #008000\">│</span>  100-day MA at $230, and the 200-day MA at $220, with the current price above all these levels, it indicates a  <span style=\"color: #008000; text-decoration-color: #008000\">│</span>\n",
       "<span style=\"color: #008000; text-decoration-color: #008000\">│</span>  bullish trend.                                                                                                 <span style=\"color: #008000; text-decoration-color: #008000\">│</span>\n",
       "<span style=\"color: #008000; text-decoration-color: #008000\">│</span>     - Examine the price action over the last six months to establish a pattern of higher highs (e.g., $260,     <span style=\"color: #008000; text-decoration-color: #008000\">│</span>\n",
       "<span style=\"color: #008000; text-decoration-color: #008000\">│</span>  $255) and higher lows (e.g., $240, $245). The presence of these patterns suggests a strong upward trend.       <span style=\"color: #008000; text-decoration-color: #008000\">│</span>\n",
       "<span style=\"color: #008000; text-decoration-color: #008000\">│</span>                                                                                                                 <span style=\"color: #008000; text-decoration-color: #008000\">│</span>\n",
       "<span style=\"color: #008000; text-decoration-color: #008000\">│</span>  3. **Strength of the Trend:**                                                                                  <span style=\"color: #008000; text-decoration-color: #008000\">│</span>\n",
       "<span style=\"color: #008000; text-decoration-color: #008000\">│</span>     - A precise ADX value of above 25 can indicate strong trends. For example, if the ADX is at 30, it signals  <span style=\"color: #008000; text-decoration-color: #008000\">│</span>\n",
       "<span style=\"color: #008000; text-decoration-color: #008000\">│</span>  a strongly trending market. Regularly monitor the stock’s momentum and volume for confirmation of trend        <span style=\"color: #008000; text-decoration-color: #008000\">│</span>\n",
       "<span style=\"color: #008000; text-decoration-color: #008000\">│</span>  strength.                                                                                                      <span style=\"color: #008000; text-decoration-color: #008000\">│</span>\n",
       "<span style=\"color: #008000; text-decoration-color: #008000\">│</span>                                                                                                                 <span style=\"color: #008000; text-decoration-color: #008000\">│</span>\n",
       "<span style=\"color: #008000; text-decoration-color: #008000\">│</span>  ### Support/Resistance Levels                                                                                  <span style=\"color: #008000; text-decoration-color: #008000\">│</span>\n",
       "<span style=\"color: #008000; text-decoration-color: #008000\">│</span>  1. **Identifying Key Levels:**                                                                                 <span style=\"color: #008000; text-decoration-color: #008000\">│</span>\n",
       "<span style=\"color: #008000; text-decoration-color: #008000\">│</span>     - **Support Levels:** Recent historical lows of approximately $240 and $230 are significant. If the         <span style=\"color: #008000; text-decoration-color: #008000\">│</span>\n",
       "<span style=\"color: #008000; text-decoration-color: #008000\">│</span>  current price tests $240, observe for a bounce, indicating solid support.                                      <span style=\"color: #008000; text-decoration-color: #008000\">│</span>\n",
       "<span style=\"color: #008000; text-decoration-color: #008000\">│</span>     - **Resistance Levels:** Identify historical highs around $260, $275, and psychological resistance at       <span style=\"color: #008000; text-decoration-color: #008000\">│</span>\n",
       "<span style=\"color: #008000; text-decoration-color: #008000\">│</span>  $300. Flattening price behavior at these levels can signal strong resistance.                                  <span style=\"color: #008000; text-decoration-color: #008000\">│</span>\n",
       "<span style=\"color: #008000; text-decoration-color: #008000\">│</span>                                                                                                                 <span style=\"color: #008000; text-decoration-color: #008000\">│</span>\n",
       "<span style=\"color: #008000; text-decoration-color: #008000\">│</span>  2. **Breakout/Breakdown Points:**                                                                              <span style=\"color: #008000; text-decoration-color: #008000\">│</span>\n",
       "<span style=\"color: #008000; text-decoration-color: #008000\">│</span>     - A sustained move above $260, especially with a volume increase of 1.5 times the average daily volume,     <span style=\"color: #008000; text-decoration-color: #008000\">│</span>\n",
       "<span style=\"color: #008000; text-decoration-color: #008000\">│</span>  may imply a breakout. Conversely, a drop below $240 on volume could signal a breakdown. Track these closely    <span style=\"color: #008000; text-decoration-color: #008000\">│</span>\n",
       "<span style=\"color: #008000; text-decoration-color: #008000\">│</span>  for timely trade decisions.                                                                                    <span style=\"color: #008000; text-decoration-color: #008000\">│</span>\n",
       "<span style=\"color: #008000; text-decoration-color: #008000\">│</span>                                                                                                                 <span style=\"color: #008000; text-decoration-color: #008000\">│</span>\n",
       "<span style=\"color: #008000; text-decoration-color: #008000\">│</span>  ### Technical Indicators Signals                                                                               <span style=\"color: #008000; text-decoration-color: #008000\">│</span>\n",
       "<span style=\"color: #008000; text-decoration-color: #008000\">│</span>  1. **Key Technical Indicators:**                                                                               <span style=\"color: #008000; text-decoration-color: #008000\">│</span>\n",
       "<span style=\"color: #008000; text-decoration-color: #008000\">│</span>     - **Relative Strength Index (RSI):** Current RSI reading (e.g., 72) indicates overbought conditions. If it  <span style=\"color: #008000; text-decoration-color: #008000\">│</span>\n",
       "<span style=\"color: #008000; text-decoration-color: #008000\">│</span>  rises above 70, monitor for potential pullbacks. Below 30 indicates possible oversold territory, yet requires  <span style=\"color: #008000; text-decoration-color: #008000\">│</span>\n",
       "<span style=\"color: #008000; text-decoration-color: #008000\">│</span>  further entry analysis.                                                                                        <span style=\"color: #008000; text-decoration-color: #008000\">│</span>\n",
       "<span style=\"color: #008000; text-decoration-color: #008000\">│</span>     - **Moving Averages Convergence Divergence (MACD):** If the MACD crosses above its signal line, a bullish   <span style=\"color: #008000; text-decoration-color: #008000\">│</span>\n",
       "<span style=\"color: #008000; text-decoration-color: #008000\">│</span>  signal is indicated. An example MACD value crossing from below 0 to above 0 could suggest a buying             <span style=\"color: #008000; text-decoration-color: #008000\">│</span>\n",
       "<span style=\"color: #008000; text-decoration-color: #008000\">│</span>  opportunity.                                                                                                   <span style=\"color: #008000; text-decoration-color: #008000\">│</span>\n",
       "<span style=\"color: #008000; text-decoration-color: #008000\">│</span>     - **Bollinger Bands:** If GOOG hovers near the upper band, it may signify overbought conditions. Should it  <span style=\"color: #008000; text-decoration-color: #008000\">│</span>\n",
       "<span style=\"color: #008000; text-decoration-color: #008000\">│</span>  retract towards the middle band, it can reveal potential entries.                                              <span style=\"color: #008000; text-decoration-color: #008000\">│</span>\n",
       "<span style=\"color: #008000; text-decoration-color: #008000\">│</span>                                                                                                                 <span style=\"color: #008000; text-decoration-color: #008000\">│</span>\n",
       "<span style=\"color: #008000; text-decoration-color: #008000\">│</span>  2. **Candlestick Patterns:**                                                                                   <span style=\"color: #008000; text-decoration-color: #008000\">│</span>\n",
       "<span style=\"color: #008000; text-decoration-color: #008000\">│</span>     - Look for bullish candlestick patterns (like Bullish Engulfing) near support levels, which may suggest     <span style=\"color: #008000; text-decoration-color: #008000\">│</span>\n",
       "<span style=\"color: #008000; text-decoration-color: #008000\">│</span>  reversal. A bearish pattern at resistance levels (like Shooting Star) could hint at a possible sell-off.       <span style=\"color: #008000; text-decoration-color: #008000\">│</span>\n",
       "<span style=\"color: #008000; text-decoration-color: #008000\">│</span>                                                                                                                 <span style=\"color: #008000; text-decoration-color: #008000\">│</span>\n",
       "<span style=\"color: #008000; text-decoration-color: #008000\">│</span>  ### Entry/Exit Points                                                                                          <span style=\"color: #008000; text-decoration-color: #008000\">│</span>\n",
       "<span style=\"color: #008000; text-decoration-color: #008000\">│</span>  1. **Entry Points:**                                                                                           <span style=\"color: #008000; text-decoration-color: #008000\">│</span>\n",
       "<span style=\"color: #008000; text-decoration-color: #008000\">│</span>     - Consider entering long positions above $260 if volume exceeds 1.5x the average daily traded volume.       <span style=\"color: #008000; text-decoration-color: #008000\">│</span>\n",
       "<span style=\"color: #008000; text-decoration-color: #008000\">│</span>  Alternatively, look for a retracement towards $240 showing bullish signals (like a Bullish Engulfing candle).  <span style=\"color: #008000; text-decoration-color: #008000\">│</span>\n",
       "<span style=\"color: #008000; text-decoration-color: #008000\">│</span>     - For short positions, analyze if price approaches $260 without volume support. Additionally, confirmation  <span style=\"color: #008000; text-decoration-color: #008000\">│</span>\n",
       "<span style=\"color: #008000; text-decoration-color: #008000\">│</span>  through bearish divergences on the RSI or MACD can reinforce short opportunities.                              <span style=\"color: #008000; text-decoration-color: #008000\">│</span>\n",
       "<span style=\"color: #008000; text-decoration-color: #008000\">│</span>                                                                                                                 <span style=\"color: #008000; text-decoration-color: #008000\">│</span>\n",
       "<span style=\"color: #008000; text-decoration-color: #008000\">│</span>  2. **Exit Points:**                                                                                            <span style=\"color: #008000; text-decoration-color: #008000\">│</span>\n",
       "<span style=\"color: #008000; text-decoration-color: #008000\">│</span>     - For long positions, set take profit levels near $260 or $265, just below significant resistance. For      <span style=\"color: #008000; text-decoration-color: #008000\">│</span>\n",
       "<span style=\"color: #008000; text-decoration-color: #008000\">│</span>  short positions, aim for $240 or $235 with a stop-loss just above key resistance levels (e.g., $260).          <span style=\"color: #008000; text-decoration-color: #008000\">│</span>\n",
       "<span style=\"color: #008000; text-decoration-color: #008000\">│</span>     - Utilize trailing stops to capture upside profit without risking substantial losses, especially in         <span style=\"color: #008000; text-decoration-color: #008000\">│</span>\n",
       "<span style=\"color: #008000; text-decoration-color: #008000\">│</span>  volatile trading situations.                                                                                   <span style=\"color: #008000; text-decoration-color: #008000\">│</span>\n",
       "<span style=\"color: #008000; text-decoration-color: #008000\">│</span>                                                                                                                 <span style=\"color: #008000; text-decoration-color: #008000\">│</span>\n",
       "<span style=\"color: #008000; text-decoration-color: #008000\">│</span>  ### Conclusion                                                                                                 <span style=\"color: #008000; text-decoration-color: #008000\">│</span>\n",
       "<span style=\"color: #008000; text-decoration-color: #008000\">│</span>  - **Current Outlook for GOOG:** With an examination of both technical and fundamental perspectives, if the     <span style=\"color: #008000; text-decoration-color: #008000\">│</span>\n",
       "<span style=\"color: #008000; text-decoration-color: #008000\">│</span>  bullish trend persists with strong volume, long positions near support ($240) with protective stop-loss        <span style=\"color: #008000; text-decoration-color: #008000\">│</span>\n",
       "<span style=\"color: #008000; text-decoration-color: #008000\">│</span>  orders could be favorable. Conversely, should bearish patterns form near resistance, short positions could     <span style=\"color: #008000; text-decoration-color: #008000\">│</span>\n",
       "<span style=\"color: #008000; text-decoration-color: #008000\">│</span>  become viable.                                                                                                 <span style=\"color: #008000; text-decoration-color: #008000\">│</span>\n",
       "<span style=\"color: #008000; text-decoration-color: #008000\">│</span>                                                                                                                 <span style=\"color: #008000; text-decoration-color: #008000\">│</span>\n",
       "<span style=\"color: #008000; text-decoration-color: #008000\">│</span>  - **Recommendation:** Continuously monitor economic indicators affecting tech stocks, earnings reports, and    <span style=\"color: #008000; text-decoration-color: #008000\">│</span>\n",
       "<span style=\"color: #008000; text-decoration-color: #008000\">│</span>  key resistance/support levels at $240 and $260. Watch for volume confirmations during breakout or breakdown    <span style=\"color: #008000; text-decoration-color: #008000\">│</span>\n",
       "<span style=\"color: #008000; text-decoration-color: #008000\">│</span>  scenarios and ensure clear risk management through stop orders at all times.                                   <span style=\"color: #008000; text-decoration-color: #008000\">│</span>\n",
       "<span style=\"color: #008000; text-decoration-color: #008000\">│</span>                                                                                                                 <span style=\"color: #008000; text-decoration-color: #008000\">│</span>\n",
       "<span style=\"color: #008000; text-decoration-color: #008000\">│</span>  By integrating this enhanced analysis with specific metrics and a foundational understanding across both       <span style=\"color: #008000; text-decoration-color: #008000\">│</span>\n",
       "<span style=\"color: #008000; text-decoration-color: #008000\">│</span>  technical and fundamental layers, investors can make more informed trading decisions regarding GOOG.           <span style=\"color: #008000; text-decoration-color: #008000\">│</span>\n",
       "<span style=\"color: #008000; text-decoration-color: #008000\">│</span>                                                                                                                 <span style=\"color: #008000; text-decoration-color: #008000\">│</span>\n",
       "<span style=\"color: #008000; text-decoration-color: #008000\">╰─────────────────────────────────────────────────────────────────────────────────────────────────────────────────╯</span>\n",
       "</pre>\n"
      ],
      "text/plain": [
       "\u001b[32m╭─────────────────────────────────────────────────────────────────────────────────────────────────────────────────╮\u001b[0m\n",
       "\u001b[32m│\u001b[0m                                                                                                                 \u001b[32m│\u001b[0m\n",
       "\u001b[32m│\u001b[0m  ### Enhanced Investment Analysis for Alphabet Inc. (GOOG)                                                      \u001b[32m│\u001b[0m\n",
       "\u001b[32m│\u001b[0m                                                                                                                 \u001b[32m│\u001b[0m\n",
       "\u001b[32m│\u001b[0m  To analyze the price action for Alphabet Inc. (GOOG), we will explore key technical sections: trend direction  \u001b[32m│\u001b[0m\n",
       "\u001b[32m│\u001b[0m  and strength, support/resistance levels, potential technical indicators, and actionable entry/exit points.     \u001b[32m│\u001b[0m\n",
       "\u001b[32m│\u001b[0m  Additionally, we’ll incorporate fundamental analysis to provide a comprehensive perspective.                   \u001b[32m│\u001b[0m\n",
       "\u001b[32m│\u001b[0m                                                                                                                 \u001b[32m│\u001b[0m\n",
       "\u001b[32m│\u001b[0m  ### Fundamental Analysis                                                                                       \u001b[32m│\u001b[0m\n",
       "\u001b[32m│\u001b[0m  1. **Economic Context:**                                                                                       \u001b[32m│\u001b[0m\n",
       "\u001b[32m│\u001b[0m     - Consider macroeconomic indicators such as interest rates and inflation which influence stock prices. For  \u001b[32m│\u001b[0m\n",
       "\u001b[32m│\u001b[0m  instance, if the Federal Reserve signals rate hikes, growth stocks like GOOG may face downward pressure.       \u001b[32m│\u001b[0m\n",
       "\u001b[32m│\u001b[0m     - Monitor the advertising market trends, which significantly affect Alphabet's revenue. A rebound in        \u001b[32m│\u001b[0m\n",
       "\u001b[32m│\u001b[0m  digital ad spending can positively impact GOOG’s stock performance.                                            \u001b[32m│\u001b[0m\n",
       "\u001b[32m│\u001b[0m                                                                                                                 \u001b[32m│\u001b[0m\n",
       "\u001b[32m│\u001b[0m  2. **Company Performance:**                                                                                    \u001b[32m│\u001b[0m\n",
       "\u001b[32m│\u001b[0m     - Keep an eye on recent earnings reports and guidance. For instance, if GOOG recently reported a revenue    \u001b[32m│\u001b[0m\n",
       "\u001b[32m│\u001b[0m  growth of 20% year-over-year, this could signal strong fundamentals, bolstering investor confidence.           \u001b[32m│\u001b[0m\n",
       "\u001b[32m│\u001b[0m     - Watch for partnership announcements, regulatory updates, and innovations, such as developments in AI,     \u001b[32m│\u001b[0m\n",
       "\u001b[32m│\u001b[0m  which could impact future growth.                                                                              \u001b[32m│\u001b[0m\n",
       "\u001b[32m│\u001b[0m                                                                                                                 \u001b[32m│\u001b[0m\n",
       "\u001b[32m│\u001b[0m  ### Trend Direction and Strength                                                                               \u001b[32m│\u001b[0m\n",
       "\u001b[32m│\u001b[0m  1. **Current Price Observation:**                                                                              \u001b[32m│\u001b[0m\n",
       "\u001b[32m│\u001b[0m     - The latest price for GOOG is $253.79.                                                                     \u001b[32m│\u001b[0m\n",
       "\u001b[32m│\u001b[0m                                                                                                                 \u001b[32m│\u001b[0m\n",
       "\u001b[32m│\u001b[0m  2. **Trend Analysis:**                                                                                         \u001b[32m│\u001b[0m\n",
       "\u001b[32m│\u001b[0m     - Check the 50-day, 100-day, and 200-day moving averages. For example, if the 50-day MA is at $240, the     \u001b[32m│\u001b[0m\n",
       "\u001b[32m│\u001b[0m  100-day MA at $230, and the 200-day MA at $220, with the current price above all these levels, it indicates a  \u001b[32m│\u001b[0m\n",
       "\u001b[32m│\u001b[0m  bullish trend.                                                                                                 \u001b[32m│\u001b[0m\n",
       "\u001b[32m│\u001b[0m     - Examine the price action over the last six months to establish a pattern of higher highs (e.g., $260,     \u001b[32m│\u001b[0m\n",
       "\u001b[32m│\u001b[0m  $255) and higher lows (e.g., $240, $245). The presence of these patterns suggests a strong upward trend.       \u001b[32m│\u001b[0m\n",
       "\u001b[32m│\u001b[0m                                                                                                                 \u001b[32m│\u001b[0m\n",
       "\u001b[32m│\u001b[0m  3. **Strength of the Trend:**                                                                                  \u001b[32m│\u001b[0m\n",
       "\u001b[32m│\u001b[0m     - A precise ADX value of above 25 can indicate strong trends. For example, if the ADX is at 30, it signals  \u001b[32m│\u001b[0m\n",
       "\u001b[32m│\u001b[0m  a strongly trending market. Regularly monitor the stock’s momentum and volume for confirmation of trend        \u001b[32m│\u001b[0m\n",
       "\u001b[32m│\u001b[0m  strength.                                                                                                      \u001b[32m│\u001b[0m\n",
       "\u001b[32m│\u001b[0m                                                                                                                 \u001b[32m│\u001b[0m\n",
       "\u001b[32m│\u001b[0m  ### Support/Resistance Levels                                                                                  \u001b[32m│\u001b[0m\n",
       "\u001b[32m│\u001b[0m  1. **Identifying Key Levels:**                                                                                 \u001b[32m│\u001b[0m\n",
       "\u001b[32m│\u001b[0m     - **Support Levels:** Recent historical lows of approximately $240 and $230 are significant. If the         \u001b[32m│\u001b[0m\n",
       "\u001b[32m│\u001b[0m  current price tests $240, observe for a bounce, indicating solid support.                                      \u001b[32m│\u001b[0m\n",
       "\u001b[32m│\u001b[0m     - **Resistance Levels:** Identify historical highs around $260, $275, and psychological resistance at       \u001b[32m│\u001b[0m\n",
       "\u001b[32m│\u001b[0m  $300. Flattening price behavior at these levels can signal strong resistance.                                  \u001b[32m│\u001b[0m\n",
       "\u001b[32m│\u001b[0m                                                                                                                 \u001b[32m│\u001b[0m\n",
       "\u001b[32m│\u001b[0m  2. **Breakout/Breakdown Points:**                                                                              \u001b[32m│\u001b[0m\n",
       "\u001b[32m│\u001b[0m     - A sustained move above $260, especially with a volume increase of 1.5 times the average daily volume,     \u001b[32m│\u001b[0m\n",
       "\u001b[32m│\u001b[0m  may imply a breakout. Conversely, a drop below $240 on volume could signal a breakdown. Track these closely    \u001b[32m│\u001b[0m\n",
       "\u001b[32m│\u001b[0m  for timely trade decisions.                                                                                    \u001b[32m│\u001b[0m\n",
       "\u001b[32m│\u001b[0m                                                                                                                 \u001b[32m│\u001b[0m\n",
       "\u001b[32m│\u001b[0m  ### Technical Indicators Signals                                                                               \u001b[32m│\u001b[0m\n",
       "\u001b[32m│\u001b[0m  1. **Key Technical Indicators:**                                                                               \u001b[32m│\u001b[0m\n",
       "\u001b[32m│\u001b[0m     - **Relative Strength Index (RSI):** Current RSI reading (e.g., 72) indicates overbought conditions. If it  \u001b[32m│\u001b[0m\n",
       "\u001b[32m│\u001b[0m  rises above 70, monitor for potential pullbacks. Below 30 indicates possible oversold territory, yet requires  \u001b[32m│\u001b[0m\n",
       "\u001b[32m│\u001b[0m  further entry analysis.                                                                                        \u001b[32m│\u001b[0m\n",
       "\u001b[32m│\u001b[0m     - **Moving Averages Convergence Divergence (MACD):** If the MACD crosses above its signal line, a bullish   \u001b[32m│\u001b[0m\n",
       "\u001b[32m│\u001b[0m  signal is indicated. An example MACD value crossing from below 0 to above 0 could suggest a buying             \u001b[32m│\u001b[0m\n",
       "\u001b[32m│\u001b[0m  opportunity.                                                                                                   \u001b[32m│\u001b[0m\n",
       "\u001b[32m│\u001b[0m     - **Bollinger Bands:** If GOOG hovers near the upper band, it may signify overbought conditions. Should it  \u001b[32m│\u001b[0m\n",
       "\u001b[32m│\u001b[0m  retract towards the middle band, it can reveal potential entries.                                              \u001b[32m│\u001b[0m\n",
       "\u001b[32m│\u001b[0m                                                                                                                 \u001b[32m│\u001b[0m\n",
       "\u001b[32m│\u001b[0m  2. **Candlestick Patterns:**                                                                                   \u001b[32m│\u001b[0m\n",
       "\u001b[32m│\u001b[0m     - Look for bullish candlestick patterns (like Bullish Engulfing) near support levels, which may suggest     \u001b[32m│\u001b[0m\n",
       "\u001b[32m│\u001b[0m  reversal. A bearish pattern at resistance levels (like Shooting Star) could hint at a possible sell-off.       \u001b[32m│\u001b[0m\n",
       "\u001b[32m│\u001b[0m                                                                                                                 \u001b[32m│\u001b[0m\n",
       "\u001b[32m│\u001b[0m  ### Entry/Exit Points                                                                                          \u001b[32m│\u001b[0m\n",
       "\u001b[32m│\u001b[0m  1. **Entry Points:**                                                                                           \u001b[32m│\u001b[0m\n",
       "\u001b[32m│\u001b[0m     - Consider entering long positions above $260 if volume exceeds 1.5x the average daily traded volume.       \u001b[32m│\u001b[0m\n",
       "\u001b[32m│\u001b[0m  Alternatively, look for a retracement towards $240 showing bullish signals (like a Bullish Engulfing candle).  \u001b[32m│\u001b[0m\n",
       "\u001b[32m│\u001b[0m     - For short positions, analyze if price approaches $260 without volume support. Additionally, confirmation  \u001b[32m│\u001b[0m\n",
       "\u001b[32m│\u001b[0m  through bearish divergences on the RSI or MACD can reinforce short opportunities.                              \u001b[32m│\u001b[0m\n",
       "\u001b[32m│\u001b[0m                                                                                                                 \u001b[32m│\u001b[0m\n",
       "\u001b[32m│\u001b[0m  2. **Exit Points:**                                                                                            \u001b[32m│\u001b[0m\n",
       "\u001b[32m│\u001b[0m     - For long positions, set take profit levels near $260 or $265, just below significant resistance. For      \u001b[32m│\u001b[0m\n",
       "\u001b[32m│\u001b[0m  short positions, aim for $240 or $235 with a stop-loss just above key resistance levels (e.g., $260).          \u001b[32m│\u001b[0m\n",
       "\u001b[32m│\u001b[0m     - Utilize trailing stops to capture upside profit without risking substantial losses, especially in         \u001b[32m│\u001b[0m\n",
       "\u001b[32m│\u001b[0m  volatile trading situations.                                                                                   \u001b[32m│\u001b[0m\n",
       "\u001b[32m│\u001b[0m                                                                                                                 \u001b[32m│\u001b[0m\n",
       "\u001b[32m│\u001b[0m  ### Conclusion                                                                                                 \u001b[32m│\u001b[0m\n",
       "\u001b[32m│\u001b[0m  - **Current Outlook for GOOG:** With an examination of both technical and fundamental perspectives, if the     \u001b[32m│\u001b[0m\n",
       "\u001b[32m│\u001b[0m  bullish trend persists with strong volume, long positions near support ($240) with protective stop-loss        \u001b[32m│\u001b[0m\n",
       "\u001b[32m│\u001b[0m  orders could be favorable. Conversely, should bearish patterns form near resistance, short positions could     \u001b[32m│\u001b[0m\n",
       "\u001b[32m│\u001b[0m  become viable.                                                                                                 \u001b[32m│\u001b[0m\n",
       "\u001b[32m│\u001b[0m                                                                                                                 \u001b[32m│\u001b[0m\n",
       "\u001b[32m│\u001b[0m  - **Recommendation:** Continuously monitor economic indicators affecting tech stocks, earnings reports, and    \u001b[32m│\u001b[0m\n",
       "\u001b[32m│\u001b[0m  key resistance/support levels at $240 and $260. Watch for volume confirmations during breakout or breakdown    \u001b[32m│\u001b[0m\n",
       "\u001b[32m│\u001b[0m  scenarios and ensure clear risk management through stop orders at all times.                                   \u001b[32m│\u001b[0m\n",
       "\u001b[32m│\u001b[0m                                                                                                                 \u001b[32m│\u001b[0m\n",
       "\u001b[32m│\u001b[0m  By integrating this enhanced analysis with specific metrics and a foundational understanding across both       \u001b[32m│\u001b[0m\n",
       "\u001b[32m│\u001b[0m  technical and fundamental layers, investors can make more informed trading decisions regarding GOOG.           \u001b[32m│\u001b[0m\n",
       "\u001b[32m│\u001b[0m                                                                                                                 \u001b[32m│\u001b[0m\n",
       "\u001b[32m╰─────────────────────────────────────────────────────────────────────────────────────────────────────────────────╯\u001b[0m\n"
      ]
     },
     "metadata": {},
     "output_type": "display_data"
    },
    {
     "data": {
      "text/html": [
       "<pre style=\"white-space:pre;overflow-x:auto;line-height:normal;font-family:Menlo,'DejaVu Sans Mono',consolas,'Courier New',monospace\">\n",
       "<span style=\"color: #008000; text-decoration-color: #008000\">✓ Analysis saved to:</span> <span style=\"color: #008080; text-decoration-color: #008080\">recommendations/GOOG_20251018_085719.md</span>\n",
       "</pre>\n"
      ],
      "text/plain": [
       "\n",
       "\u001b[32m✓ Analysis saved to:\u001b[0m \u001b[36mrecommendations/GOOG_20251018_085719.md\u001b[0m\n"
      ]
     },
     "metadata": {},
     "output_type": "display_data"
    },
    {
     "data": {
      "text/html": [
       "<pre style=\"white-space:pre;overflow-x:auto;line-height:normal;font-family:Menlo,'DejaVu Sans Mono',consolas,'Courier New',monospace\">\n",
       "------------------------------------------------------------\n",
       "</pre>\n"
      ],
      "text/plain": [
       "\n",
       "------------------------------------------------------------\n"
      ]
     },
     "metadata": {},
     "output_type": "display_data"
    },
    {
     "data": {
      "text/html": [
       "<pre style=\"white-space:pre;overflow-x:auto;line-height:normal;font-family:Menlo,'DejaVu Sans Mono',consolas,'Courier New',monospace\">\n",
       "<span style=\"color: #008080; text-decoration-color: #008080; font-weight: bold\">Example queries completed!</span>\n",
       "\n",
       "</pre>\n"
      ],
      "text/plain": [
       "\n",
       "\u001b[1;36mExample queries completed!\u001b[0m\n",
       "\n"
      ]
     },
     "metadata": {},
     "output_type": "display_data"
    }
   ],
   "source": [
    "\n",
    "if __name__ == \"__main__\":\n",
    "    main()\n"
   ]
  }
 ],
 "metadata": {
  "kernelspec": {
   "display_name": "venv_agentic",
   "language": "python",
   "name": "python3"
  },
  "language_info": {
   "codemirror_mode": {
    "name": "ipython",
    "version": 3
   },
   "file_extension": ".py",
   "mimetype": "text/x-python",
   "name": "python",
   "nbconvert_exporter": "python",
   "pygments_lexer": "ipython3",
   "version": "3.12.2"
  }
 },
 "nbformat": 4,
 "nbformat_minor": 5
}
